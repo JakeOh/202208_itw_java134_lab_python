{
  "nbformat": 4,
  "nbformat_minor": 0,
  "metadata": {
    "colab": {
      "provenance": [],
      "authorship_tag": "ABX9TyMZPwgXsGzYstCqqVPvB447",
      "include_colab_link": true
    },
    "kernelspec": {
      "name": "python3",
      "display_name": "Python 3"
    },
    "language_info": {
      "name": "python"
    }
  },
  "cells": [
    {
      "cell_type": "markdown",
      "metadata": {
        "id": "view-in-github",
        "colab_type": "text"
      },
      "source": [
        "<a href=\"https://colab.research.google.com/github/JakeOh/202208_itw_java134_lab_python/blob/main/py12_inheritance.ipynb\" target=\"_parent\"><img src=\"https://colab.research.google.com/assets/colab-badge.svg\" alt=\"Open In Colab\"/></a>"
      ]
    },
    {
      "cell_type": "markdown",
      "source": [
        "# 상속(Inheritance)\n",
        "\n",
        "* super class(상위 클래스), parent class(부모 클래스), base class(기본 클래스)\n",
        "* sub class(하위 클래스), child class(자식 클래스), derived class(유도 클래스)\n",
        "* 상속: 상위 클래스의 속성(데이터)들과 기능(메서드)들을 하위 클래스에서 재사용하는 것.\n",
        "* 일반적으로 **IS-A** 관계가 성립하는 객체들을 상속을 사용해서 구현함.\n",
        "    * 학생은 사람이다. Student IS A person.\n",
        "        * Person - super class\n",
        "        * Student - sub class\n",
        "* **HAS-A** 관계가 성립하는 객체들은 일반적으로 상속이 아니라 클래스의 속성(멤버 변수)로 구현함.\n",
        "    * 학생은 성적을 가지고 있다. Student HAS A score.\n"
      ],
      "metadata": {
        "id": "MWm58D9Xlb6S"
      }
    },
    {
      "cell_type": "markdown",
      "source": [
        "파이썬에서 상속을 구현:\n",
        "\n",
        "```\n",
        "class SubClass(SuperClass):\n",
        "    구현 코드\n",
        "```\n"
      ],
      "metadata": {
        "id": "vAiNrzocnINq"
      }
    },
    {
      "cell_type": "code",
      "execution_count": 8,
      "metadata": {
        "id": "VZ13PjkvlTRj"
      },
      "outputs": [],
      "source": [
        "class Person:\n",
        "    def __init__(self, name, age):\n",
        "        self.name = name\n",
        "        self.__age = age  # Python에서 private 인스턴스 변수 선언\n",
        "\n",
        "    def hello(self):\n",
        "        print(f'안녕하세요, 저는 {self.name}입니다.')\n",
        "\n",
        "    def get_age(self):\n",
        "        return self.__age  # private 변수는 class 내부에서만 접근 가능."
      ]
    },
    {
      "cell_type": "code",
      "source": [
        "oh_ssam = Person('오쌤', 16)\n",
        "oh_ssam.hello()"
      ],
      "metadata": {
        "colab": {
          "base_uri": "https://localhost:8080/"
        },
        "id": "Gy1nb1FDoKKK",
        "outputId": "3dd1688c-77f7-405d-d525-2dee447bce71"
      },
      "execution_count": 9,
      "outputs": [
        {
          "output_type": "stream",
          "name": "stdout",
          "text": [
            "안녕하세요, 저는 오쌤입니다.\n"
          ]
        }
      ]
    },
    {
      "cell_type": "code",
      "source": [
        "# print(oh_ssam.__age)  #-> 에러 발생: private 변수는 직접 접근이 안됨.\n",
        "oh_ssam.get_age()"
      ],
      "metadata": {
        "colab": {
          "base_uri": "https://localhost:8080/"
        },
        "id": "BhEog5_3oS24",
        "outputId": "f2e0b811-6b96-47d0-d0c9-31636cccb1ba"
      },
      "execution_count": 10,
      "outputs": [
        {
          "output_type": "execute_result",
          "data": {
            "text/plain": [
              "16"
            ]
          },
          "metadata": {},
          "execution_count": 10
        }
      ]
    },
    {
      "cell_type": "code",
      "source": [
        "class Student(Person):\n",
        "    pass"
      ],
      "metadata": {
        "id": "cN1dBA3wqA8I"
      },
      "execution_count": 11,
      "outputs": []
    },
    {
      "cell_type": "code",
      "source": [
        "student1 = Student('홍길동', 16)"
      ],
      "metadata": {
        "id": "8Z-mtFFDqKbp"
      },
      "execution_count": 12,
      "outputs": []
    },
    {
      "cell_type": "code",
      "source": [
        "student1.hello()"
      ],
      "metadata": {
        "colab": {
          "base_uri": "https://localhost:8080/"
        },
        "id": "pvIN2qjdqk1I",
        "outputId": "af8ab646-a79c-4c8e-a16e-48ce954f4ea3"
      },
      "execution_count": 13,
      "outputs": [
        {
          "output_type": "stream",
          "name": "stdout",
          "text": [
            "안녕하세요, 저는 홍길동입니다.\n"
          ]
        }
      ]
    },
    {
      "cell_type": "markdown",
      "source": [
        "# Method Override\n",
        "\n",
        "* 상위 클래스의 메서드를 하위 클래스에서 재정의하는 것.\n",
        "    * 파이썬에서는 메서드의 이름만 같으면 (파라미터 타입/개수와 상관 없이) 메서드가 재정의됨.\n",
        "        * 파이썬은 같은 이름으로 2개 이상의 메서드(함수)를 가질 수 없음 - overloading은 제공하지 않음.\n",
        "    * 자바에서는 메서드 이름, 파라미터 타입/개수/순서가 모두 동일한 경우에 메서드가 재정의됨.\n",
        "        * 파라미터가 다르면 같은 이름의 메서드가 2개 이상 있을 수 있음 - overloading\n",
        "* 하위 클래스에서 재정의(overrid)된 상위 클래스의 메서드를 명시적으로 호출하기 위해서는 `super().method_name(...)`의 형식으로 호출함.\n"
      ],
      "metadata": {
        "id": "oYjIj9a1q9KI"
      }
    }
  ]
}