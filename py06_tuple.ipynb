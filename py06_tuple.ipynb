{
  "nbformat": 4,
  "nbformat_minor": 0,
  "metadata": {
    "colab": {
      "provenance": [],
      "authorship_tag": "ABX9TyM6UYM8F05zTCCpZwiKjrcx",
      "include_colab_link": true
    },
    "kernelspec": {
      "name": "python3",
      "display_name": "Python 3"
    },
    "language_info": {
      "name": "python"
    }
  },
  "cells": [
    {
      "cell_type": "markdown",
      "metadata": {
        "id": "view-in-github",
        "colab_type": "text"
      },
      "source": [
        "<a href=\"https://colab.research.google.com/github/JakeOh/202208_itw_java134_lab_python/blob/main/py06_tuple.ipynb\" target=\"_parent\"><img src=\"https://colab.research.google.com/assets/colab-badge.svg\" alt=\"Open In Colab\"/></a>"
      ]
    },
    {
      "cell_type": "markdown",
      "source": [
        "# tuple(튜플)\n",
        "\n",
        "* 저장된 원소들을 변경할 수 없는 리스트\n",
        "* indexing, slicing\n",
        "* `append()`, `remove()` 와 같은 원소를 변경하는 메서드(기능)는 제공되지 않음.\n"
      ],
      "metadata": {
        "id": "yw25HfaxIFZR"
      }
    },
    {
      "cell_type": "code",
      "execution_count": 1,
      "metadata": {
        "colab": {
          "base_uri": "https://localhost:8080/"
        },
        "id": "1eyoSzhuIAQv",
        "outputId": "fd962a23-39c1-4c7b-812a-3b116e55a52e"
      },
      "outputs": [
        {
          "output_type": "execute_result",
          "data": {
            "text/plain": [
              "(1, 2, 3, 10, 20, 30)"
            ]
          },
          "metadata": {},
          "execution_count": 1
        }
      ],
      "source": [
        "numbers = (1, 2, 3, 10, 20, 30)\n",
        "numbers"
      ]
    },
    {
      "cell_type": "code",
      "source": [
        "type(numbers)"
      ],
      "metadata": {
        "colab": {
          "base_uri": "https://localhost:8080/"
        },
        "id": "9AyzHcFGIzeK",
        "outputId": "1fd27857-62d3-4e9d-9ef0-c95ba750e56f"
      },
      "execution_count": 2,
      "outputs": [
        {
          "output_type": "execute_result",
          "data": {
            "text/plain": [
              "tuple"
            ]
          },
          "metadata": {},
          "execution_count": 2
        }
      ]
    },
    {
      "cell_type": "markdown",
      "source": [
        "# indexing\n",
        "\n",
        "인덱스를 사용해서 원소 1개를 참조하는 방법\n"
      ],
      "metadata": {
        "id": "UsicmJFwJXoQ"
      }
    },
    {
      "cell_type": "code",
      "source": [
        "numbers[0]  # 튜플의 첫번째 원소"
      ],
      "metadata": {
        "colab": {
          "base_uri": "https://localhost:8080/"
        },
        "id": "Mz2rxbICJVLZ",
        "outputId": "bed2e968-0504-40af-e8b7-b53de22e73fb"
      },
      "execution_count": 3,
      "outputs": [
        {
          "output_type": "execute_result",
          "data": {
            "text/plain": [
              "1"
            ]
          },
          "metadata": {},
          "execution_count": 3
        }
      ]
    },
    {
      "cell_type": "code",
      "source": [
        "numbers[-1]  # 튜플의 마지막 원소"
      ],
      "metadata": {
        "colab": {
          "base_uri": "https://localhost:8080/"
        },
        "id": "Xo5wAzFHJjxA",
        "outputId": "cce01073-790b-4110-8ad2-f413eae3dc20"
      },
      "execution_count": 4,
      "outputs": [
        {
          "output_type": "execute_result",
          "data": {
            "text/plain": [
              "30"
            ]
          },
          "metadata": {},
          "execution_count": 4
        }
      ]
    },
    {
      "cell_type": "markdown",
      "source": [
        "# slicing"
      ],
      "metadata": {
        "id": "4_-PzZS4Kjf5"
      }
    },
    {
      "cell_type": "code",
      "source": [
        "# 튜플에서 첫 2개 원소를 잘라내기\n",
        "numbers[:2]"
      ],
      "metadata": {
        "colab": {
          "base_uri": "https://localhost:8080/"
        },
        "id": "6JKAkIqOJppg",
        "outputId": "1f501d6e-7aaf-4a7b-9851-a8b18f9c1945"
      },
      "execution_count": 5,
      "outputs": [
        {
          "output_type": "execute_result",
          "data": {
            "text/plain": [
              "(1, 2)"
            ]
          },
          "metadata": {},
          "execution_count": 5
        }
      ]
    },
    {
      "cell_type": "code",
      "source": [
        "# 튜플에서 마지막 2개 원소를 잘라내기\n",
        "numbers[-2:]"
      ],
      "metadata": {
        "colab": {
          "base_uri": "https://localhost:8080/"
        },
        "id": "lAhbm2QkKrm4",
        "outputId": "c87ee154-409f-4f86-d235-cb84e8b9e096"
      },
      "execution_count": 6,
      "outputs": [
        {
          "output_type": "execute_result",
          "data": {
            "text/plain": [
              "(20, 30)"
            ]
          },
          "metadata": {},
          "execution_count": 6
        }
      ]
    },
    {
      "cell_type": "markdown",
      "source": [
        "# decomposition(분해)"
      ],
      "metadata": {
        "id": "WPd29VI_K0f8"
      }
    },
    {
      "cell_type": "code",
      "source": [
        "x, y, z = (1, 2, 3)\n",
        "print(f'x = {x}')\n",
        "print(f'y = {y}')\n",
        "print(f'z = {z}')"
      ],
      "metadata": {
        "colab": {
          "base_uri": "https://localhost:8080/"
        },
        "id": "NkhfaX8zKxLA",
        "outputId": "51bb150d-dc21-4ae0-ab97-de012d2aa907"
      },
      "execution_count": 7,
      "outputs": [
        {
          "output_type": "stream",
          "name": "stdout",
          "text": [
            "x = 1\n",
            "y = 2\n",
            "z = 3\n"
          ]
        }
      ]
    },
    {
      "cell_type": "markdown",
      "source": [
        "# tuple과 for 반복문"
      ],
      "metadata": {
        "id": "HRkdiaKuQL7Y"
      }
    },
    {
      "cell_type": "code",
      "source": [
        "numbers = (1, 3, 5, 7, 9)\n",
        "for x in numbers:\n",
        "    print(x, end=', ')"
      ],
      "metadata": {
        "colab": {
          "base_uri": "https://localhost:8080/"
        },
        "id": "cuLBGWaNQPxQ",
        "outputId": "b9ec7192-e978-40de-e5b6-b3bb879991b3"
      },
      "execution_count": 8,
      "outputs": [
        {
          "output_type": "stream",
          "name": "stdout",
          "text": [
            "1, 3, 5, 7, 9, "
          ]
        }
      ]
    },
    {
      "cell_type": "markdown",
      "source": [
        "# 2차원 리스트, 튜플"
      ],
      "metadata": {
        "id": "Y4PmJxXCRBM_"
      }
    },
    {
      "cell_type": "code",
      "source": [
        "numbers = [\n",
        "    [1, 2, 3],\n",
        "    [4, 5, 6]\n",
        "]\n",
        "numbers"
      ],
      "metadata": {
        "colab": {
          "base_uri": "https://localhost:8080/"
        },
        "id": "xi5QobPqRIKv",
        "outputId": "dfbe8f3c-f6c3-4712-b337-e88301439dce"
      },
      "execution_count": 11,
      "outputs": [
        {
          "output_type": "execute_result",
          "data": {
            "text/plain": [
              "[[1, 2, 3], [4, 5, 6]]"
            ]
          },
          "metadata": {},
          "execution_count": 11
        }
      ]
    },
    {
      "cell_type": "code",
      "source": [
        "len(numbers)"
      ],
      "metadata": {
        "colab": {
          "base_uri": "https://localhost:8080/"
        },
        "id": "bwDYa0P6SBrQ",
        "outputId": "5fd02db2-965b-4893-bb2d-83c0d459c6c8"
      },
      "execution_count": 12,
      "outputs": [
        {
          "output_type": "execute_result",
          "data": {
            "text/plain": [
              "2"
            ]
          },
          "metadata": {},
          "execution_count": 12
        }
      ]
    },
    {
      "cell_type": "code",
      "source": [
        "numbers[0]"
      ],
      "metadata": {
        "colab": {
          "base_uri": "https://localhost:8080/"
        },
        "id": "Px9ROEWPSRef",
        "outputId": "dc465605-6b7c-4116-cefe-a7f533f3c80b"
      },
      "execution_count": 13,
      "outputs": [
        {
          "output_type": "execute_result",
          "data": {
            "text/plain": [
              "[1, 2, 3]"
            ]
          },
          "metadata": {},
          "execution_count": 13
        }
      ]
    },
    {
      "cell_type": "code",
      "source": [
        "numbers[0][0]"
      ],
      "metadata": {
        "colab": {
          "base_uri": "https://localhost:8080/"
        },
        "id": "pgb898w8Si9v",
        "outputId": "9eabad51-9133-4423-f127-20151f7f2304"
      },
      "execution_count": 14,
      "outputs": [
        {
          "output_type": "execute_result",
          "data": {
            "text/plain": [
              "1"
            ]
          },
          "metadata": {},
          "execution_count": 14
        }
      ]
    },
    {
      "cell_type": "code",
      "source": [
        "numbers[1][1]"
      ],
      "metadata": {
        "colab": {
          "base_uri": "https://localhost:8080/"
        },
        "id": "Ezz8lqL_S3A_",
        "outputId": "bc6a671f-83af-4509-9690-c4db4eb59c0f"
      },
      "execution_count": 15,
      "outputs": [
        {
          "output_type": "execute_result",
          "data": {
            "text/plain": [
              "5"
            ]
          },
          "metadata": {},
          "execution_count": 15
        }
      ]
    },
    {
      "cell_type": "code",
      "source": [
        "for row in numbers:\n",
        "    for x in row:\n",
        "        print(x, end=' ')\n",
        "    print()"
      ],
      "metadata": {
        "colab": {
          "base_uri": "https://localhost:8080/"
        },
        "id": "Oq-fKePAS9p_",
        "outputId": "72345e97-78d4-4f2c-dfac-9b20a21b3072"
      },
      "execution_count": 17,
      "outputs": [
        {
          "output_type": "stream",
          "name": "stdout",
          "text": [
            "1 2 3 \n",
            "4 5 6 \n"
          ]
        }
      ]
    },
    {
      "cell_type": "markdown",
      "source": [
        "## Exercise\n",
        "\n",
        "1. 2x2 모양의 난수를 저장하는 2차원 리스트 array1을 만듦.\n",
        "1. 2x2 모양의 난수를 저장하는 2차원 리스트 array2을 만듦.\n",
        "1. array1과 array2의 같은 인덱스의 원소들끼리 덧셈 결과를 갖는 2차원 리스트를 만듦.\n"
      ],
      "metadata": {
        "id": "9Jy68_TPTdxg"
      }
    },
    {
      "cell_type": "code",
      "source": [],
      "metadata": {
        "id": "j5QK4QjzUED3"
      },
      "execution_count": null,
      "outputs": []
    }
  ]
}