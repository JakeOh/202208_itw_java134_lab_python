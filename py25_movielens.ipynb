{
  "nbformat": 4,
  "nbformat_minor": 0,
  "metadata": {
    "colab": {
      "provenance": [],
      "authorship_tag": "ABX9TyO+2sMyO9nPsg+lGDqf4QS/",
      "include_colab_link": true
    },
    "kernelspec": {
      "name": "python3",
      "display_name": "Python 3"
    },
    "language_info": {
      "name": "python"
    }
  },
  "cells": [
    {
      "cell_type": "markdown",
      "metadata": {
        "id": "view-in-github",
        "colab_type": "text"
      },
      "source": [
        "<a href=\"https://colab.research.google.com/github/JakeOh/202208_itw_java134_lab_python/blob/main/py25_movielens.ipynb\" target=\"_parent\"><img src=\"https://colab.research.google.com/assets/colab-badge.svg\" alt=\"Open In Colab\"/></a>"
      ]
    },
    {
      "cell_type": "markdown",
      "source": [
        "# Imports"
      ],
      "metadata": {
        "id": "pIpDB9uXizcJ"
      }
    },
    {
      "cell_type": "code",
      "execution_count": 1,
      "metadata": {
        "id": "NVigoRnEiobQ"
      },
      "outputs": [],
      "source": [
        "import numpy as np\n",
        "import pandas as pd\n",
        "import matplotlib.pyplot as plt\n",
        "import seaborn as sns"
      ]
    },
    {
      "cell_type": "markdown",
      "source": [
        "# Movielens 데이터 셋\n",
        "\n",
        "* https://github.com/wesm/pydata-book/tree/3rd-edition/datasets/movielens\n",
        "* movies.dat: \"MovieID::Title::Genres\"을 컬럼으로 하는 데이터 셋. 영화 정보.\n",
        "* ratings.dat: \"UserID::MovieID::Rating::Timestamp\"을 컬럼으로 하는 데이터 셋. 영화 별점.\n",
        "* users.dat: \"UserID::Gender::Age::Occupation::Zip-code\"을 컬럼으로 하는 데이터 셋. 사용자 정보.\n"
      ],
      "metadata": {
        "id": "xrkDw4GYi-WB"
      }
    },
    {
      "cell_type": "markdown",
      "source": [
        "\n",
        "* movies.dat 파일을 읽고 DataFrame 생성 - `pd.read_csv()`\n",
        "* DataFrame 탐색 - `head, tail, info, ...`\n",
        "* 장르가 'Animation'인 영화는 몇 개? - genres(장르들) 컬럼의 문자열이 'Animation'을 포함.\n",
        "* 장르가 로맨틱 코미디인 영화는 몇 개? - genres 컬럼의 문자열이 'Comedy'와 'Romance'를 포함.\n",
        "* 어떤 장르의 영화가 가장 많은가? - genres의 문자열을 '|'를 구분자로 분리(split)\n",
        "* 연도별 영화 수 - title(제목) 컬럼에 영화 개봉 연도가 포함.\n"
      ],
      "metadata": {
        "id": "9EFQbdEHqLHk"
      }
    },
    {
      "cell_type": "code",
      "source": [
        "# movies.dat 파일이 저장된 경로\n",
        "movies_file = 'https://github.com/wesm/pydata-book/raw/3rd-edition/datasets/movielens/movies.dat'"
      ],
      "metadata": {
        "id": "XDdaUvx-i7jo"
      },
      "execution_count": 2,
      "outputs": []
    },
    {
      "cell_type": "code",
      "source": [
        "# movies 데이터프레임의 컬럼 이름\n",
        "movies_colnames = ['movie_id', 'title', 'genres']"
      ],
      "metadata": {
        "id": "XZrxcxY92LgX"
      },
      "execution_count": 3,
      "outputs": []
    },
    {
      "cell_type": "code",
      "source": [
        "movies = pd.read_csv(movies_file, sep='::', names=movies_colnames, engine='python')"
      ],
      "metadata": {
        "id": "3enHtC2419D7"
      },
      "execution_count": 5,
      "outputs": []
    },
    {
      "cell_type": "code",
      "source": [
        "movies.head()"
      ],
      "metadata": {
        "id": "gic4PWT62cq_"
      },
      "execution_count": null,
      "outputs": []
    },
    {
      "cell_type": "code",
      "source": [
        "movies.tail()"
      ],
      "metadata": {
        "id": "fOq8SChk3Apl"
      },
      "execution_count": null,
      "outputs": []
    },
    {
      "cell_type": "code",
      "source": [
        "movies.info()"
      ],
      "metadata": {
        "id": "T619Fqhr3KYc"
      },
      "execution_count": null,
      "outputs": []
    },
    {
      "cell_type": "markdown",
      "source": [
        "## 장르 분석 - 애니메이션 찾기"
      ],
      "metadata": {
        "id": "u56yG23h5hR0"
      }
    },
    {
      "cell_type": "code",
      "source": [
        "animations = movies[movies.genres.str.contains('Animation')]  # boolean indexing"
      ],
      "metadata": {
        "id": "EvY0G5LJ3X2U"
      },
      "execution_count": 13,
      "outputs": []
    },
    {
      "cell_type": "code",
      "source": [
        "animations.head()"
      ],
      "metadata": {
        "id": "gDMCxe3K43OD"
      },
      "execution_count": null,
      "outputs": []
    },
    {
      "cell_type": "code",
      "source": [
        "len(animations)"
      ],
      "metadata": {
        "id": "FpwHK19S5Vn1"
      },
      "execution_count": null,
      "outputs": []
    },
    {
      "cell_type": "code",
      "source": [
        "animations.info()"
      ],
      "metadata": {
        "id": "HG80H2Wm5Xsh"
      },
      "execution_count": null,
      "outputs": []
    },
    {
      "cell_type": "markdown",
      "source": [
        "## 장르 분석 - 로맨틱 코미디 찾기"
      ],
      "metadata": {
        "id": "BAxwLBW95mZd"
      }
    },
    {
      "cell_type": "code",
      "source": [
        "romantic_comedies = movies[movies.genres.str.contains('Romance') &\n",
        "                           movies.genres.str.contains('Comedy')]"
      ],
      "metadata": {
        "id": "VXErydQp5pPa"
      },
      "execution_count": 17,
      "outputs": []
    },
    {
      "cell_type": "code",
      "source": [
        "romantic_comedies.head()"
      ],
      "metadata": {
        "id": "fx3UXhy76A_I"
      },
      "execution_count": null,
      "outputs": []
    },
    {
      "cell_type": "code",
      "source": [
        "len(romantic_comedies)"
      ],
      "metadata": {
        "id": "pAGZeQnD6DIy"
      },
      "execution_count": null,
      "outputs": []
    },
    {
      "cell_type": "markdown",
      "source": [
        "## 장르 분석 - 가장 빈번한 장르"
      ],
      "metadata": {
        "id": "sKPofy1b6bBG"
      }
    },
    {
      "cell_type": "code",
      "source": [
        "genres = []  # 개별 영화의 장르를 저장할 리스트\n",
        "for s in movies.genres:\n",
        "    genres.extend(s.split(sep='|'))  # 1차원 리스트를 만들기 위해서."
      ],
      "metadata": {
        "id": "RDADQEd36RRs"
      },
      "execution_count": 27,
      "outputs": []
    },
    {
      "cell_type": "code",
      "source": [
        "print(genres)"
      ],
      "metadata": {
        "id": "FGkUQQ5o7sZL"
      },
      "execution_count": null,
      "outputs": []
    },
    {
      "cell_type": "code",
      "source": [
        "genre_counts = pd.value_counts(genres)  # values의 내림차순 정렬.\n",
        "genre_counts"
      ],
      "metadata": {
        "id": "VbxI-5Ss7uNS"
      },
      "execution_count": null,
      "outputs": []
    },
    {
      "cell_type": "code",
      "source": [
        "genre_counts.index[0]  # 가장 빈도수가 많은 영화 장르"
      ],
      "metadata": {
        "id": "TPKy8ItW8WBb"
      },
      "execution_count": null,
      "outputs": []
    },
    {
      "cell_type": "markdown",
      "source": [
        "빈도수 상위 7개의 장르를 시각화"
      ],
      "metadata": {
        "id": "OELBshGU9kBu"
      }
    },
    {
      "cell_type": "code",
      "source": [
        "genre_top7 = genre_counts.head(n=7)  # iloc[:7]\n",
        "genre_top7"
      ],
      "metadata": {
        "id": "R0xRgDql9q1B"
      },
      "execution_count": null,
      "outputs": []
    },
    {
      "cell_type": "code",
      "source": [
        "sns.barplot(y=genre_top7.index, x=genre_top7.values)\n",
        "plt.show()"
      ],
      "metadata": {
        "id": "80ApXDyK-62a"
      },
      "execution_count": null,
      "outputs": []
    },
    {
      "cell_type": "markdown",
      "source": [
        "장르 빈도수 시각화"
      ],
      "metadata": {
        "id": "JCRGRJsf-MC2"
      }
    },
    {
      "cell_type": "code",
      "source": [
        "sns.barplot(y=genre_counts.index, x=genre_counts.values)\n",
        "plt.show()"
      ],
      "metadata": {
        "id": "bVMqZDJE-PJd"
      },
      "execution_count": null,
      "outputs": []
    },
    {
      "cell_type": "markdown",
      "source": [
        "## 연도별 영화 개수 분석"
      ],
      "metadata": {
        "id": "1pB_Jswh_stt"
      }
    },
    {
      "cell_type": "code",
      "source": [
        "movies.head()"
      ],
      "metadata": {
        "id": "lHnlItiK_aO3"
      },
      "execution_count": null,
      "outputs": []
    },
    {
      "cell_type": "code",
      "source": [
        "# 데이터프레임에 파생변수(새로운 컬럼)을 추가\n",
        "movies['year'] = movies.title.str[-5:-1].astype('int')"
      ],
      "metadata": {
        "id": "no_Ox4Wq_x7q"
      },
      "execution_count": 44,
      "outputs": []
    },
    {
      "cell_type": "code",
      "source": [
        "movies.head()"
      ],
      "metadata": {
        "id": "WEgUlHSyBDm-"
      },
      "execution_count": null,
      "outputs": []
    },
    {
      "cell_type": "code",
      "source": [
        "year_counts = movies.year.value_counts()\n",
        "year_counts"
      ],
      "metadata": {
        "colab": {
          "base_uri": "https://localhost:8080/"
        },
        "id": "q9M8GpVyBJfe",
        "outputId": "f9d1eb3e-6ec9-4775-dfdd-4ae2e88e2bd8"
      },
      "execution_count": 47,
      "outputs": [
        {
          "output_type": "execute_result",
          "data": {
            "text/plain": [
              "1996    345\n",
              "1995    342\n",
              "1998    337\n",
              "1997    315\n",
              "1999    283\n",
              "       ... \n",
              "1923      3\n",
              "1919      3\n",
              "1922      2\n",
              "1920      2\n",
              "1921      1\n",
              "Name: year, Length: 81, dtype: int64"
            ]
          },
          "metadata": {},
          "execution_count": 47
        }
      ]
    },
    {
      "cell_type": "code",
      "source": [
        "# sns.barplot(x=year_counts.index, y=year_counts.values)\n",
        "plt.bar(x=year_counts.index, height=year_counts.values)\n",
        "# plt.xticks(array-like)\n",
        "plt.show()"
      ],
      "metadata": {
        "id": "2xtyvPUHBrOP"
      },
      "execution_count": null,
      "outputs": []
    },
    {
      "cell_type": "code",
      "source": [
        "sns.lineplot(x=year_counts.index, y=year_counts.values)\n",
        "plt.xlabel('Year')\n",
        "plt.ylabel('# of movies')\n",
        "plt.show()"
      ],
      "metadata": {
        "id": "HulwgsBWC4cS"
      },
      "execution_count": null,
      "outputs": []
    },
    {
      "cell_type": "code",
      "source": [
        "plt.plot(year_counts.index, year_counts.values)\n",
        "plt.show()"
      ],
      "metadata": {
        "id": "VyuHwqSfE3QQ"
      },
      "execution_count": null,
      "outputs": []
    },
    {
      "cell_type": "code",
      "source": [
        "year_counts2 = year_counts.sort_index()\n",
        "# print(year_counts2)\n",
        "plt.plot(year_counts2.index, year_counts2.values)\n",
        "plt.show()"
      ],
      "metadata": {
        "id": "pcfrId02FF7N"
      },
      "execution_count": null,
      "outputs": []
    }
  ]
}