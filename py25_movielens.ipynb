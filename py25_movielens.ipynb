{
  "nbformat": 4,
  "nbformat_minor": 0,
  "metadata": {
    "colab": {
      "provenance": [],
      "authorship_tag": "ABX9TyMM2IfAr0xg8EBCWgNyIFIo",
      "include_colab_link": true
    },
    "kernelspec": {
      "name": "python3",
      "display_name": "Python 3"
    },
    "language_info": {
      "name": "python"
    }
  },
  "cells": [
    {
      "cell_type": "markdown",
      "metadata": {
        "id": "view-in-github",
        "colab_type": "text"
      },
      "source": [
        "<a href=\"https://colab.research.google.com/github/JakeOh/202208_itw_java134_lab_python/blob/main/py25_movielens.ipynb\" target=\"_parent\"><img src=\"https://colab.research.google.com/assets/colab-badge.svg\" alt=\"Open In Colab\"/></a>"
      ]
    },
    {
      "cell_type": "markdown",
      "source": [
        "# Imports"
      ],
      "metadata": {
        "id": "pIpDB9uXizcJ"
      }
    },
    {
      "cell_type": "code",
      "execution_count": 1,
      "metadata": {
        "id": "NVigoRnEiobQ"
      },
      "outputs": [],
      "source": [
        "import numpy as np\n",
        "import pandas as pd\n",
        "import matplotlib.pyplot as plt\n",
        "import seaborn as sns"
      ]
    },
    {
      "cell_type": "markdown",
      "source": [
        "# Movielens 데이터 셋\n",
        "\n",
        "* https://github.com/wesm/pydata-book/tree/3rd-edition/datasets/movielens\n",
        "* movies.dat: \"MovieID::Title::Genres\"을 컬럼으로 하는 데이터 셋. 영화 정보.\n",
        "* ratings.dat: \"UserID::MovieID::Rating::Timestamp\"을 컬럼으로 하는 데이터 셋. 영화 별점.\n",
        "* users.dat: \"UserID::Gender::Age::Occupation::Zip-code\"을 컬럼으로 하는 데이터 셋. 사용자 정보.\n"
      ],
      "metadata": {
        "id": "xrkDw4GYi-WB"
      }
    },
    {
      "cell_type": "markdown",
      "source": [
        "\n",
        "* movies.dat 파일을 읽고 DataFrame 생성 - `pd.read_csv()`\n",
        "* DataFrame 탐색 - `head, tail, info, ...`\n",
        "* 장르가 'Animation'인 영화는 몇 개? - genres(장르들) 컬럼의 문자열이 'Animation'을 포함.\n",
        "* 장르가 로맨틱 코미디인 영화는 몇 개? - genres 컬럼의 문자열이 'Comedy'와 'Romance'를 포함.\n",
        "* 어떤 장르의 영화가 가장 많은가? - genres의 문자열을 '|'를 구분자로 분리(split)\n",
        "* 연도별 영화 수 - title(제목) 컬럼에 영화 개봉 연도가 포함.\n"
      ],
      "metadata": {
        "id": "9EFQbdEHqLHk"
      }
    },
    {
      "cell_type": "code",
      "source": [
        "# movies.dat 파일이 저장된 경로\n",
        "movies_file = 'https://github.com/wesm/pydata-book/raw/3rd-edition/datasets/movielens/movies.dat'"
      ],
      "metadata": {
        "id": "XDdaUvx-i7jo"
      },
      "execution_count": 2,
      "outputs": []
    },
    {
      "cell_type": "code",
      "source": [
        "# movies 데이터프레임의 컬럼 이름\n",
        "movies_colnames = ['movie_id', 'title', 'genres']"
      ],
      "metadata": {
        "id": "XZrxcxY92LgX"
      },
      "execution_count": 3,
      "outputs": []
    },
    {
      "cell_type": "code",
      "source": [
        "movies = pd.read_csv(movies_file, sep='::', names=movies_colnames, engine='python')"
      ],
      "metadata": {
        "id": "3enHtC2419D7"
      },
      "execution_count": 5,
      "outputs": []
    },
    {
      "cell_type": "code",
      "source": [
        "movies.head()"
      ],
      "metadata": {
        "colab": {
          "base_uri": "https://localhost:8080/",
          "height": 206
        },
        "id": "gic4PWT62cq_",
        "outputId": "995ae62b-520a-4c2a-8a90-33d178170443"
      },
      "execution_count": 6,
      "outputs": [
        {
          "output_type": "execute_result",
          "data": {
            "text/plain": [
              "   movie_id                               title                        genres\n",
              "0         1                    Toy Story (1995)   Animation|Children's|Comedy\n",
              "1         2                      Jumanji (1995)  Adventure|Children's|Fantasy\n",
              "2         3             Grumpier Old Men (1995)                Comedy|Romance\n",
              "3         4            Waiting to Exhale (1995)                  Comedy|Drama\n",
              "4         5  Father of the Bride Part II (1995)                        Comedy"
            ],
            "text/html": [
              "\n",
              "  <div id=\"df-71d382f6-b751-4e16-aac9-0ded64821f39\">\n",
              "    <div class=\"colab-df-container\">\n",
              "      <div>\n",
              "<style scoped>\n",
              "    .dataframe tbody tr th:only-of-type {\n",
              "        vertical-align: middle;\n",
              "    }\n",
              "\n",
              "    .dataframe tbody tr th {\n",
              "        vertical-align: top;\n",
              "    }\n",
              "\n",
              "    .dataframe thead th {\n",
              "        text-align: right;\n",
              "    }\n",
              "</style>\n",
              "<table border=\"1\" class=\"dataframe\">\n",
              "  <thead>\n",
              "    <tr style=\"text-align: right;\">\n",
              "      <th></th>\n",
              "      <th>movie_id</th>\n",
              "      <th>title</th>\n",
              "      <th>genres</th>\n",
              "    </tr>\n",
              "  </thead>\n",
              "  <tbody>\n",
              "    <tr>\n",
              "      <th>0</th>\n",
              "      <td>1</td>\n",
              "      <td>Toy Story (1995)</td>\n",
              "      <td>Animation|Children's|Comedy</td>\n",
              "    </tr>\n",
              "    <tr>\n",
              "      <th>1</th>\n",
              "      <td>2</td>\n",
              "      <td>Jumanji (1995)</td>\n",
              "      <td>Adventure|Children's|Fantasy</td>\n",
              "    </tr>\n",
              "    <tr>\n",
              "      <th>2</th>\n",
              "      <td>3</td>\n",
              "      <td>Grumpier Old Men (1995)</td>\n",
              "      <td>Comedy|Romance</td>\n",
              "    </tr>\n",
              "    <tr>\n",
              "      <th>3</th>\n",
              "      <td>4</td>\n",
              "      <td>Waiting to Exhale (1995)</td>\n",
              "      <td>Comedy|Drama</td>\n",
              "    </tr>\n",
              "    <tr>\n",
              "      <th>4</th>\n",
              "      <td>5</td>\n",
              "      <td>Father of the Bride Part II (1995)</td>\n",
              "      <td>Comedy</td>\n",
              "    </tr>\n",
              "  </tbody>\n",
              "</table>\n",
              "</div>\n",
              "      <button class=\"colab-df-convert\" onclick=\"convertToInteractive('df-71d382f6-b751-4e16-aac9-0ded64821f39')\"\n",
              "              title=\"Convert this dataframe to an interactive table.\"\n",
              "              style=\"display:none;\">\n",
              "        \n",
              "  <svg xmlns=\"http://www.w3.org/2000/svg\" height=\"24px\"viewBox=\"0 0 24 24\"\n",
              "       width=\"24px\">\n",
              "    <path d=\"M0 0h24v24H0V0z\" fill=\"none\"/>\n",
              "    <path d=\"M18.56 5.44l.94 2.06.94-2.06 2.06-.94-2.06-.94-.94-2.06-.94 2.06-2.06.94zm-11 1L8.5 8.5l.94-2.06 2.06-.94-2.06-.94L8.5 2.5l-.94 2.06-2.06.94zm10 10l.94 2.06.94-2.06 2.06-.94-2.06-.94-.94-2.06-.94 2.06-2.06.94z\"/><path d=\"M17.41 7.96l-1.37-1.37c-.4-.4-.92-.59-1.43-.59-.52 0-1.04.2-1.43.59L10.3 9.45l-7.72 7.72c-.78.78-.78 2.05 0 2.83L4 21.41c.39.39.9.59 1.41.59.51 0 1.02-.2 1.41-.59l7.78-7.78 2.81-2.81c.8-.78.8-2.07 0-2.86zM5.41 20L4 18.59l7.72-7.72 1.47 1.35L5.41 20z\"/>\n",
              "  </svg>\n",
              "      </button>\n",
              "      \n",
              "  <style>\n",
              "    .colab-df-container {\n",
              "      display:flex;\n",
              "      flex-wrap:wrap;\n",
              "      gap: 12px;\n",
              "    }\n",
              "\n",
              "    .colab-df-convert {\n",
              "      background-color: #E8F0FE;\n",
              "      border: none;\n",
              "      border-radius: 50%;\n",
              "      cursor: pointer;\n",
              "      display: none;\n",
              "      fill: #1967D2;\n",
              "      height: 32px;\n",
              "      padding: 0 0 0 0;\n",
              "      width: 32px;\n",
              "    }\n",
              "\n",
              "    .colab-df-convert:hover {\n",
              "      background-color: #E2EBFA;\n",
              "      box-shadow: 0px 1px 2px rgba(60, 64, 67, 0.3), 0px 1px 3px 1px rgba(60, 64, 67, 0.15);\n",
              "      fill: #174EA6;\n",
              "    }\n",
              "\n",
              "    [theme=dark] .colab-df-convert {\n",
              "      background-color: #3B4455;\n",
              "      fill: #D2E3FC;\n",
              "    }\n",
              "\n",
              "    [theme=dark] .colab-df-convert:hover {\n",
              "      background-color: #434B5C;\n",
              "      box-shadow: 0px 1px 3px 1px rgba(0, 0, 0, 0.15);\n",
              "      filter: drop-shadow(0px 1px 2px rgba(0, 0, 0, 0.3));\n",
              "      fill: #FFFFFF;\n",
              "    }\n",
              "  </style>\n",
              "\n",
              "      <script>\n",
              "        const buttonEl =\n",
              "          document.querySelector('#df-71d382f6-b751-4e16-aac9-0ded64821f39 button.colab-df-convert');\n",
              "        buttonEl.style.display =\n",
              "          google.colab.kernel.accessAllowed ? 'block' : 'none';\n",
              "\n",
              "        async function convertToInteractive(key) {\n",
              "          const element = document.querySelector('#df-71d382f6-b751-4e16-aac9-0ded64821f39');\n",
              "          const dataTable =\n",
              "            await google.colab.kernel.invokeFunction('convertToInteractive',\n",
              "                                                     [key], {});\n",
              "          if (!dataTable) return;\n",
              "\n",
              "          const docLinkHtml = 'Like what you see? Visit the ' +\n",
              "            '<a target=\"_blank\" href=https://colab.research.google.com/notebooks/data_table.ipynb>data table notebook</a>'\n",
              "            + ' to learn more about interactive tables.';\n",
              "          element.innerHTML = '';\n",
              "          dataTable['output_type'] = 'display_data';\n",
              "          await google.colab.output.renderOutput(dataTable, element);\n",
              "          const docLink = document.createElement('div');\n",
              "          docLink.innerHTML = docLinkHtml;\n",
              "          element.appendChild(docLink);\n",
              "        }\n",
              "      </script>\n",
              "    </div>\n",
              "  </div>\n",
              "  "
            ]
          },
          "metadata": {},
          "execution_count": 6
        }
      ]
    },
    {
      "cell_type": "code",
      "source": [
        "movies.tail()"
      ],
      "metadata": {
        "colab": {
          "base_uri": "https://localhost:8080/",
          "height": 206
        },
        "id": "fOq8SChk3Apl",
        "outputId": "8f9087b9-8428-40e2-d849-9ea494ffcb08"
      },
      "execution_count": 7,
      "outputs": [
        {
          "output_type": "execute_result",
          "data": {
            "text/plain": [
              "      movie_id                       title          genres\n",
              "3878      3948     Meet the Parents (2000)          Comedy\n",
              "3879      3949  Requiem for a Dream (2000)           Drama\n",
              "3880      3950            Tigerland (2000)           Drama\n",
              "3881      3951     Two Family House (2000)           Drama\n",
              "3882      3952       Contender, The (2000)  Drama|Thriller"
            ],
            "text/html": [
              "\n",
              "  <div id=\"df-d06b01fa-fb6b-4a65-819a-6acb7100f6ea\">\n",
              "    <div class=\"colab-df-container\">\n",
              "      <div>\n",
              "<style scoped>\n",
              "    .dataframe tbody tr th:only-of-type {\n",
              "        vertical-align: middle;\n",
              "    }\n",
              "\n",
              "    .dataframe tbody tr th {\n",
              "        vertical-align: top;\n",
              "    }\n",
              "\n",
              "    .dataframe thead th {\n",
              "        text-align: right;\n",
              "    }\n",
              "</style>\n",
              "<table border=\"1\" class=\"dataframe\">\n",
              "  <thead>\n",
              "    <tr style=\"text-align: right;\">\n",
              "      <th></th>\n",
              "      <th>movie_id</th>\n",
              "      <th>title</th>\n",
              "      <th>genres</th>\n",
              "    </tr>\n",
              "  </thead>\n",
              "  <tbody>\n",
              "    <tr>\n",
              "      <th>3878</th>\n",
              "      <td>3948</td>\n",
              "      <td>Meet the Parents (2000)</td>\n",
              "      <td>Comedy</td>\n",
              "    </tr>\n",
              "    <tr>\n",
              "      <th>3879</th>\n",
              "      <td>3949</td>\n",
              "      <td>Requiem for a Dream (2000)</td>\n",
              "      <td>Drama</td>\n",
              "    </tr>\n",
              "    <tr>\n",
              "      <th>3880</th>\n",
              "      <td>3950</td>\n",
              "      <td>Tigerland (2000)</td>\n",
              "      <td>Drama</td>\n",
              "    </tr>\n",
              "    <tr>\n",
              "      <th>3881</th>\n",
              "      <td>3951</td>\n",
              "      <td>Two Family House (2000)</td>\n",
              "      <td>Drama</td>\n",
              "    </tr>\n",
              "    <tr>\n",
              "      <th>3882</th>\n",
              "      <td>3952</td>\n",
              "      <td>Contender, The (2000)</td>\n",
              "      <td>Drama|Thriller</td>\n",
              "    </tr>\n",
              "  </tbody>\n",
              "</table>\n",
              "</div>\n",
              "      <button class=\"colab-df-convert\" onclick=\"convertToInteractive('df-d06b01fa-fb6b-4a65-819a-6acb7100f6ea')\"\n",
              "              title=\"Convert this dataframe to an interactive table.\"\n",
              "              style=\"display:none;\">\n",
              "        \n",
              "  <svg xmlns=\"http://www.w3.org/2000/svg\" height=\"24px\"viewBox=\"0 0 24 24\"\n",
              "       width=\"24px\">\n",
              "    <path d=\"M0 0h24v24H0V0z\" fill=\"none\"/>\n",
              "    <path d=\"M18.56 5.44l.94 2.06.94-2.06 2.06-.94-2.06-.94-.94-2.06-.94 2.06-2.06.94zm-11 1L8.5 8.5l.94-2.06 2.06-.94-2.06-.94L8.5 2.5l-.94 2.06-2.06.94zm10 10l.94 2.06.94-2.06 2.06-.94-2.06-.94-.94-2.06-.94 2.06-2.06.94z\"/><path d=\"M17.41 7.96l-1.37-1.37c-.4-.4-.92-.59-1.43-.59-.52 0-1.04.2-1.43.59L10.3 9.45l-7.72 7.72c-.78.78-.78 2.05 0 2.83L4 21.41c.39.39.9.59 1.41.59.51 0 1.02-.2 1.41-.59l7.78-7.78 2.81-2.81c.8-.78.8-2.07 0-2.86zM5.41 20L4 18.59l7.72-7.72 1.47 1.35L5.41 20z\"/>\n",
              "  </svg>\n",
              "      </button>\n",
              "      \n",
              "  <style>\n",
              "    .colab-df-container {\n",
              "      display:flex;\n",
              "      flex-wrap:wrap;\n",
              "      gap: 12px;\n",
              "    }\n",
              "\n",
              "    .colab-df-convert {\n",
              "      background-color: #E8F0FE;\n",
              "      border: none;\n",
              "      border-radius: 50%;\n",
              "      cursor: pointer;\n",
              "      display: none;\n",
              "      fill: #1967D2;\n",
              "      height: 32px;\n",
              "      padding: 0 0 0 0;\n",
              "      width: 32px;\n",
              "    }\n",
              "\n",
              "    .colab-df-convert:hover {\n",
              "      background-color: #E2EBFA;\n",
              "      box-shadow: 0px 1px 2px rgba(60, 64, 67, 0.3), 0px 1px 3px 1px rgba(60, 64, 67, 0.15);\n",
              "      fill: #174EA6;\n",
              "    }\n",
              "\n",
              "    [theme=dark] .colab-df-convert {\n",
              "      background-color: #3B4455;\n",
              "      fill: #D2E3FC;\n",
              "    }\n",
              "\n",
              "    [theme=dark] .colab-df-convert:hover {\n",
              "      background-color: #434B5C;\n",
              "      box-shadow: 0px 1px 3px 1px rgba(0, 0, 0, 0.15);\n",
              "      filter: drop-shadow(0px 1px 2px rgba(0, 0, 0, 0.3));\n",
              "      fill: #FFFFFF;\n",
              "    }\n",
              "  </style>\n",
              "\n",
              "      <script>\n",
              "        const buttonEl =\n",
              "          document.querySelector('#df-d06b01fa-fb6b-4a65-819a-6acb7100f6ea button.colab-df-convert');\n",
              "        buttonEl.style.display =\n",
              "          google.colab.kernel.accessAllowed ? 'block' : 'none';\n",
              "\n",
              "        async function convertToInteractive(key) {\n",
              "          const element = document.querySelector('#df-d06b01fa-fb6b-4a65-819a-6acb7100f6ea');\n",
              "          const dataTable =\n",
              "            await google.colab.kernel.invokeFunction('convertToInteractive',\n",
              "                                                     [key], {});\n",
              "          if (!dataTable) return;\n",
              "\n",
              "          const docLinkHtml = 'Like what you see? Visit the ' +\n",
              "            '<a target=\"_blank\" href=https://colab.research.google.com/notebooks/data_table.ipynb>data table notebook</a>'\n",
              "            + ' to learn more about interactive tables.';\n",
              "          element.innerHTML = '';\n",
              "          dataTable['output_type'] = 'display_data';\n",
              "          await google.colab.output.renderOutput(dataTable, element);\n",
              "          const docLink = document.createElement('div');\n",
              "          docLink.innerHTML = docLinkHtml;\n",
              "          element.appendChild(docLink);\n",
              "        }\n",
              "      </script>\n",
              "    </div>\n",
              "  </div>\n",
              "  "
            ]
          },
          "metadata": {},
          "execution_count": 7
        }
      ]
    },
    {
      "cell_type": "code",
      "source": [
        "movies.info()"
      ],
      "metadata": {
        "colab": {
          "base_uri": "https://localhost:8080/"
        },
        "id": "T619Fqhr3KYc",
        "outputId": "b399a2de-013a-4b7a-c2ec-79b36288543f"
      },
      "execution_count": 8,
      "outputs": [
        {
          "output_type": "stream",
          "name": "stdout",
          "text": [
            "<class 'pandas.core.frame.DataFrame'>\n",
            "RangeIndex: 3883 entries, 0 to 3882\n",
            "Data columns (total 3 columns):\n",
            " #   Column    Non-Null Count  Dtype \n",
            "---  ------    --------------  ----- \n",
            " 0   movie_id  3883 non-null   int64 \n",
            " 1   title     3883 non-null   object\n",
            " 2   genres    3883 non-null   object\n",
            "dtypes: int64(1), object(2)\n",
            "memory usage: 91.1+ KB\n"
          ]
        }
      ]
    },
    {
      "cell_type": "markdown",
      "source": [
        "## 장르 분석 - 애니메이션 찾기"
      ],
      "metadata": {
        "id": "u56yG23h5hR0"
      }
    },
    {
      "cell_type": "code",
      "source": [
        "animations = movies[movies.genres.str.contains('Animation')]  # boolean indexing"
      ],
      "metadata": {
        "id": "EvY0G5LJ3X2U"
      },
      "execution_count": 13,
      "outputs": []
    },
    {
      "cell_type": "code",
      "source": [
        "animations.head()"
      ],
      "metadata": {
        "colab": {
          "base_uri": "https://localhost:8080/",
          "height": 206
        },
        "id": "gDMCxe3K43OD",
        "outputId": "76ed8925-259b-4515-a5ef-e183802cd03f"
      },
      "execution_count": 14,
      "outputs": [
        {
          "output_type": "execute_result",
          "data": {
            "text/plain": [
              "     movie_id                    title                                genres\n",
              "0           1         Toy Story (1995)           Animation|Children's|Comedy\n",
              "12         13             Balto (1995)                  Animation|Children's\n",
              "47         48        Pocahontas (1995)  Animation|Children's|Musical|Romance\n",
              "236       239    Goofy Movie, A (1995)   Animation|Children's|Comedy|Romance\n",
              "241       244  Gumby: The Movie (1995)                  Animation|Children's"
            ],
            "text/html": [
              "\n",
              "  <div id=\"df-07904fa5-03b0-4c54-a6c1-c44dc0ad14f8\">\n",
              "    <div class=\"colab-df-container\">\n",
              "      <div>\n",
              "<style scoped>\n",
              "    .dataframe tbody tr th:only-of-type {\n",
              "        vertical-align: middle;\n",
              "    }\n",
              "\n",
              "    .dataframe tbody tr th {\n",
              "        vertical-align: top;\n",
              "    }\n",
              "\n",
              "    .dataframe thead th {\n",
              "        text-align: right;\n",
              "    }\n",
              "</style>\n",
              "<table border=\"1\" class=\"dataframe\">\n",
              "  <thead>\n",
              "    <tr style=\"text-align: right;\">\n",
              "      <th></th>\n",
              "      <th>movie_id</th>\n",
              "      <th>title</th>\n",
              "      <th>genres</th>\n",
              "    </tr>\n",
              "  </thead>\n",
              "  <tbody>\n",
              "    <tr>\n",
              "      <th>0</th>\n",
              "      <td>1</td>\n",
              "      <td>Toy Story (1995)</td>\n",
              "      <td>Animation|Children's|Comedy</td>\n",
              "    </tr>\n",
              "    <tr>\n",
              "      <th>12</th>\n",
              "      <td>13</td>\n",
              "      <td>Balto (1995)</td>\n",
              "      <td>Animation|Children's</td>\n",
              "    </tr>\n",
              "    <tr>\n",
              "      <th>47</th>\n",
              "      <td>48</td>\n",
              "      <td>Pocahontas (1995)</td>\n",
              "      <td>Animation|Children's|Musical|Romance</td>\n",
              "    </tr>\n",
              "    <tr>\n",
              "      <th>236</th>\n",
              "      <td>239</td>\n",
              "      <td>Goofy Movie, A (1995)</td>\n",
              "      <td>Animation|Children's|Comedy|Romance</td>\n",
              "    </tr>\n",
              "    <tr>\n",
              "      <th>241</th>\n",
              "      <td>244</td>\n",
              "      <td>Gumby: The Movie (1995)</td>\n",
              "      <td>Animation|Children's</td>\n",
              "    </tr>\n",
              "  </tbody>\n",
              "</table>\n",
              "</div>\n",
              "      <button class=\"colab-df-convert\" onclick=\"convertToInteractive('df-07904fa5-03b0-4c54-a6c1-c44dc0ad14f8')\"\n",
              "              title=\"Convert this dataframe to an interactive table.\"\n",
              "              style=\"display:none;\">\n",
              "        \n",
              "  <svg xmlns=\"http://www.w3.org/2000/svg\" height=\"24px\"viewBox=\"0 0 24 24\"\n",
              "       width=\"24px\">\n",
              "    <path d=\"M0 0h24v24H0V0z\" fill=\"none\"/>\n",
              "    <path d=\"M18.56 5.44l.94 2.06.94-2.06 2.06-.94-2.06-.94-.94-2.06-.94 2.06-2.06.94zm-11 1L8.5 8.5l.94-2.06 2.06-.94-2.06-.94L8.5 2.5l-.94 2.06-2.06.94zm10 10l.94 2.06.94-2.06 2.06-.94-2.06-.94-.94-2.06-.94 2.06-2.06.94z\"/><path d=\"M17.41 7.96l-1.37-1.37c-.4-.4-.92-.59-1.43-.59-.52 0-1.04.2-1.43.59L10.3 9.45l-7.72 7.72c-.78.78-.78 2.05 0 2.83L4 21.41c.39.39.9.59 1.41.59.51 0 1.02-.2 1.41-.59l7.78-7.78 2.81-2.81c.8-.78.8-2.07 0-2.86zM5.41 20L4 18.59l7.72-7.72 1.47 1.35L5.41 20z\"/>\n",
              "  </svg>\n",
              "      </button>\n",
              "      \n",
              "  <style>\n",
              "    .colab-df-container {\n",
              "      display:flex;\n",
              "      flex-wrap:wrap;\n",
              "      gap: 12px;\n",
              "    }\n",
              "\n",
              "    .colab-df-convert {\n",
              "      background-color: #E8F0FE;\n",
              "      border: none;\n",
              "      border-radius: 50%;\n",
              "      cursor: pointer;\n",
              "      display: none;\n",
              "      fill: #1967D2;\n",
              "      height: 32px;\n",
              "      padding: 0 0 0 0;\n",
              "      width: 32px;\n",
              "    }\n",
              "\n",
              "    .colab-df-convert:hover {\n",
              "      background-color: #E2EBFA;\n",
              "      box-shadow: 0px 1px 2px rgba(60, 64, 67, 0.3), 0px 1px 3px 1px rgba(60, 64, 67, 0.15);\n",
              "      fill: #174EA6;\n",
              "    }\n",
              "\n",
              "    [theme=dark] .colab-df-convert {\n",
              "      background-color: #3B4455;\n",
              "      fill: #D2E3FC;\n",
              "    }\n",
              "\n",
              "    [theme=dark] .colab-df-convert:hover {\n",
              "      background-color: #434B5C;\n",
              "      box-shadow: 0px 1px 3px 1px rgba(0, 0, 0, 0.15);\n",
              "      filter: drop-shadow(0px 1px 2px rgba(0, 0, 0, 0.3));\n",
              "      fill: #FFFFFF;\n",
              "    }\n",
              "  </style>\n",
              "\n",
              "      <script>\n",
              "        const buttonEl =\n",
              "          document.querySelector('#df-07904fa5-03b0-4c54-a6c1-c44dc0ad14f8 button.colab-df-convert');\n",
              "        buttonEl.style.display =\n",
              "          google.colab.kernel.accessAllowed ? 'block' : 'none';\n",
              "\n",
              "        async function convertToInteractive(key) {\n",
              "          const element = document.querySelector('#df-07904fa5-03b0-4c54-a6c1-c44dc0ad14f8');\n",
              "          const dataTable =\n",
              "            await google.colab.kernel.invokeFunction('convertToInteractive',\n",
              "                                                     [key], {});\n",
              "          if (!dataTable) return;\n",
              "\n",
              "          const docLinkHtml = 'Like what you see? Visit the ' +\n",
              "            '<a target=\"_blank\" href=https://colab.research.google.com/notebooks/data_table.ipynb>data table notebook</a>'\n",
              "            + ' to learn more about interactive tables.';\n",
              "          element.innerHTML = '';\n",
              "          dataTable['output_type'] = 'display_data';\n",
              "          await google.colab.output.renderOutput(dataTable, element);\n",
              "          const docLink = document.createElement('div');\n",
              "          docLink.innerHTML = docLinkHtml;\n",
              "          element.appendChild(docLink);\n",
              "        }\n",
              "      </script>\n",
              "    </div>\n",
              "  </div>\n",
              "  "
            ]
          },
          "metadata": {},
          "execution_count": 14
        }
      ]
    },
    {
      "cell_type": "code",
      "source": [
        "len(animations)"
      ],
      "metadata": {
        "colab": {
          "base_uri": "https://localhost:8080/"
        },
        "id": "FpwHK19S5Vn1",
        "outputId": "94eb808e-61d5-420f-b81e-1ccf2aac16e4"
      },
      "execution_count": 15,
      "outputs": [
        {
          "output_type": "execute_result",
          "data": {
            "text/plain": [
              "105"
            ]
          },
          "metadata": {},
          "execution_count": 15
        }
      ]
    },
    {
      "cell_type": "code",
      "source": [
        "animations.info()"
      ],
      "metadata": {
        "colab": {
          "base_uri": "https://localhost:8080/"
        },
        "id": "HG80H2Wm5Xsh",
        "outputId": "2bfc7d7d-b30d-406f-fba7-527792062ee3"
      },
      "execution_count": 16,
      "outputs": [
        {
          "output_type": "stream",
          "name": "stdout",
          "text": [
            "<class 'pandas.core.frame.DataFrame'>\n",
            "Int64Index: 105 entries, 0 to 3875\n",
            "Data columns (total 3 columns):\n",
            " #   Column    Non-Null Count  Dtype \n",
            "---  ------    --------------  ----- \n",
            " 0   movie_id  105 non-null    int64 \n",
            " 1   title     105 non-null    object\n",
            " 2   genres    105 non-null    object\n",
            "dtypes: int64(1), object(2)\n",
            "memory usage: 3.3+ KB\n"
          ]
        }
      ]
    },
    {
      "cell_type": "markdown",
      "source": [
        "## 장르 분석 - 로맨틱 코미디 찾기"
      ],
      "metadata": {
        "id": "BAxwLBW95mZd"
      }
    },
    {
      "cell_type": "code",
      "source": [
        "romantic_comedies = movies[movies.genres.str.contains('Romance') &\n",
        "                           movies.genres.str.contains('Comedy')]"
      ],
      "metadata": {
        "id": "VXErydQp5pPa"
      },
      "execution_count": 17,
      "outputs": []
    },
    {
      "cell_type": "code",
      "source": [
        "romantic_comedies.head()"
      ],
      "metadata": {
        "colab": {
          "base_uri": "https://localhost:8080/",
          "height": 206
        },
        "id": "fx3UXhy76A_I",
        "outputId": "37fe452c-4c95-4ee5-e20c-7b284ed3895c"
      },
      "execution_count": 18,
      "outputs": [
        {
          "output_type": "execute_result",
          "data": {
            "text/plain": [
              "    movie_id                           title                genres\n",
              "2          3         Grumpier Old Men (1995)        Comedy|Romance\n",
              "6          7                  Sabrina (1995)        Comedy|Romance\n",
              "10        11  American President, The (1995)  Comedy|Drama|Romance\n",
              "38        39                 Clueless (1995)        Comedy|Romance\n",
              "63        64            Two if by Sea (1996)        Comedy|Romance"
            ],
            "text/html": [
              "\n",
              "  <div id=\"df-f8e8ae94-eafe-47ab-a9cb-57ee68319e65\">\n",
              "    <div class=\"colab-df-container\">\n",
              "      <div>\n",
              "<style scoped>\n",
              "    .dataframe tbody tr th:only-of-type {\n",
              "        vertical-align: middle;\n",
              "    }\n",
              "\n",
              "    .dataframe tbody tr th {\n",
              "        vertical-align: top;\n",
              "    }\n",
              "\n",
              "    .dataframe thead th {\n",
              "        text-align: right;\n",
              "    }\n",
              "</style>\n",
              "<table border=\"1\" class=\"dataframe\">\n",
              "  <thead>\n",
              "    <tr style=\"text-align: right;\">\n",
              "      <th></th>\n",
              "      <th>movie_id</th>\n",
              "      <th>title</th>\n",
              "      <th>genres</th>\n",
              "    </tr>\n",
              "  </thead>\n",
              "  <tbody>\n",
              "    <tr>\n",
              "      <th>2</th>\n",
              "      <td>3</td>\n",
              "      <td>Grumpier Old Men (1995)</td>\n",
              "      <td>Comedy|Romance</td>\n",
              "    </tr>\n",
              "    <tr>\n",
              "      <th>6</th>\n",
              "      <td>7</td>\n",
              "      <td>Sabrina (1995)</td>\n",
              "      <td>Comedy|Romance</td>\n",
              "    </tr>\n",
              "    <tr>\n",
              "      <th>10</th>\n",
              "      <td>11</td>\n",
              "      <td>American President, The (1995)</td>\n",
              "      <td>Comedy|Drama|Romance</td>\n",
              "    </tr>\n",
              "    <tr>\n",
              "      <th>38</th>\n",
              "      <td>39</td>\n",
              "      <td>Clueless (1995)</td>\n",
              "      <td>Comedy|Romance</td>\n",
              "    </tr>\n",
              "    <tr>\n",
              "      <th>63</th>\n",
              "      <td>64</td>\n",
              "      <td>Two if by Sea (1996)</td>\n",
              "      <td>Comedy|Romance</td>\n",
              "    </tr>\n",
              "  </tbody>\n",
              "</table>\n",
              "</div>\n",
              "      <button class=\"colab-df-convert\" onclick=\"convertToInteractive('df-f8e8ae94-eafe-47ab-a9cb-57ee68319e65')\"\n",
              "              title=\"Convert this dataframe to an interactive table.\"\n",
              "              style=\"display:none;\">\n",
              "        \n",
              "  <svg xmlns=\"http://www.w3.org/2000/svg\" height=\"24px\"viewBox=\"0 0 24 24\"\n",
              "       width=\"24px\">\n",
              "    <path d=\"M0 0h24v24H0V0z\" fill=\"none\"/>\n",
              "    <path d=\"M18.56 5.44l.94 2.06.94-2.06 2.06-.94-2.06-.94-.94-2.06-.94 2.06-2.06.94zm-11 1L8.5 8.5l.94-2.06 2.06-.94-2.06-.94L8.5 2.5l-.94 2.06-2.06.94zm10 10l.94 2.06.94-2.06 2.06-.94-2.06-.94-.94-2.06-.94 2.06-2.06.94z\"/><path d=\"M17.41 7.96l-1.37-1.37c-.4-.4-.92-.59-1.43-.59-.52 0-1.04.2-1.43.59L10.3 9.45l-7.72 7.72c-.78.78-.78 2.05 0 2.83L4 21.41c.39.39.9.59 1.41.59.51 0 1.02-.2 1.41-.59l7.78-7.78 2.81-2.81c.8-.78.8-2.07 0-2.86zM5.41 20L4 18.59l7.72-7.72 1.47 1.35L5.41 20z\"/>\n",
              "  </svg>\n",
              "      </button>\n",
              "      \n",
              "  <style>\n",
              "    .colab-df-container {\n",
              "      display:flex;\n",
              "      flex-wrap:wrap;\n",
              "      gap: 12px;\n",
              "    }\n",
              "\n",
              "    .colab-df-convert {\n",
              "      background-color: #E8F0FE;\n",
              "      border: none;\n",
              "      border-radius: 50%;\n",
              "      cursor: pointer;\n",
              "      display: none;\n",
              "      fill: #1967D2;\n",
              "      height: 32px;\n",
              "      padding: 0 0 0 0;\n",
              "      width: 32px;\n",
              "    }\n",
              "\n",
              "    .colab-df-convert:hover {\n",
              "      background-color: #E2EBFA;\n",
              "      box-shadow: 0px 1px 2px rgba(60, 64, 67, 0.3), 0px 1px 3px 1px rgba(60, 64, 67, 0.15);\n",
              "      fill: #174EA6;\n",
              "    }\n",
              "\n",
              "    [theme=dark] .colab-df-convert {\n",
              "      background-color: #3B4455;\n",
              "      fill: #D2E3FC;\n",
              "    }\n",
              "\n",
              "    [theme=dark] .colab-df-convert:hover {\n",
              "      background-color: #434B5C;\n",
              "      box-shadow: 0px 1px 3px 1px rgba(0, 0, 0, 0.15);\n",
              "      filter: drop-shadow(0px 1px 2px rgba(0, 0, 0, 0.3));\n",
              "      fill: #FFFFFF;\n",
              "    }\n",
              "  </style>\n",
              "\n",
              "      <script>\n",
              "        const buttonEl =\n",
              "          document.querySelector('#df-f8e8ae94-eafe-47ab-a9cb-57ee68319e65 button.colab-df-convert');\n",
              "        buttonEl.style.display =\n",
              "          google.colab.kernel.accessAllowed ? 'block' : 'none';\n",
              "\n",
              "        async function convertToInteractive(key) {\n",
              "          const element = document.querySelector('#df-f8e8ae94-eafe-47ab-a9cb-57ee68319e65');\n",
              "          const dataTable =\n",
              "            await google.colab.kernel.invokeFunction('convertToInteractive',\n",
              "                                                     [key], {});\n",
              "          if (!dataTable) return;\n",
              "\n",
              "          const docLinkHtml = 'Like what you see? Visit the ' +\n",
              "            '<a target=\"_blank\" href=https://colab.research.google.com/notebooks/data_table.ipynb>data table notebook</a>'\n",
              "            + ' to learn more about interactive tables.';\n",
              "          element.innerHTML = '';\n",
              "          dataTable['output_type'] = 'display_data';\n",
              "          await google.colab.output.renderOutput(dataTable, element);\n",
              "          const docLink = document.createElement('div');\n",
              "          docLink.innerHTML = docLinkHtml;\n",
              "          element.appendChild(docLink);\n",
              "        }\n",
              "      </script>\n",
              "    </div>\n",
              "  </div>\n",
              "  "
            ]
          },
          "metadata": {},
          "execution_count": 18
        }
      ]
    },
    {
      "cell_type": "code",
      "source": [
        "len(romantic_comedies)"
      ],
      "metadata": {
        "colab": {
          "base_uri": "https://localhost:8080/"
        },
        "id": "pAGZeQnD6DIy",
        "outputId": "806c6f9b-1aed-4e93-86b2-be062904322a"
      },
      "execution_count": 19,
      "outputs": [
        {
          "output_type": "execute_result",
          "data": {
            "text/plain": [
              "204"
            ]
          },
          "metadata": {},
          "execution_count": 19
        }
      ]
    },
    {
      "cell_type": "markdown",
      "source": [
        "## 장르 분석 - 가장 빈번한 장르"
      ],
      "metadata": {
        "id": "sKPofy1b6bBG"
      }
    },
    {
      "cell_type": "code",
      "source": [
        "genres = []  # 개별 영화의 장르를 저장할 리스트\n",
        "for s in movies.genres:\n",
        "    genres.extend(s.split(sep='|'))  # 1차원 리스트를 만들기 위해서."
      ],
      "metadata": {
        "id": "RDADQEd36RRs"
      },
      "execution_count": 27,
      "outputs": []
    },
    {
      "cell_type": "code",
      "source": [
        "print(genres)"
      ],
      "metadata": {
        "colab": {
          "base_uri": "https://localhost:8080/"
        },
        "id": "FGkUQQ5o7sZL",
        "outputId": "1944466a-e98e-4593-c54b-49b1ef06b6de"
      },
      "execution_count": 28,
      "outputs": [
        {
          "output_type": "stream",
          "name": "stdout",
          "text": [
            "['Animation', \"Children's\", 'Comedy', 'Adventure', \"Children's\", 'Fantasy', 'Comedy', 'Romance', 'Comedy', 'Drama', 'Comedy', 'Action', 'Crime', 'Thriller', 'Comedy', 'Romance', 'Adventure', \"Children's\", 'Action', 'Action', 'Adventure', 'Thriller', 'Comedy', 'Drama', 'Romance', 'Comedy', 'Horror', 'Animation', \"Children's\", 'Drama', 'Action', 'Adventure', 'Romance', 'Drama', 'Thriller', 'Drama', 'Romance', 'Thriller', 'Comedy', 'Action', 'Action', 'Comedy', 'Drama', 'Crime', 'Drama', 'Thriller', 'Thriller', 'Drama', 'Sci-Fi', 'Drama', 'Romance', 'Drama', 'Drama', 'Romance', 'Adventure', 'Sci-Fi', 'Drama', 'Drama', 'Drama', 'Sci-Fi', 'Adventure', 'Romance', \"Children's\", 'Comedy', 'Drama', 'Drama', 'Romance', 'Drama', 'Documentary', 'Comedy', 'Comedy', 'Romance', 'Drama', 'Drama', 'War', 'Action', 'Crime', 'Drama', 'Drama', 'Action', 'Adventure', 'Comedy', 'Drama', 'Drama', 'Romance', 'Crime', 'Thriller', 'Animation', \"Children's\", 'Musical', 'Romance', 'Drama', 'Romance', 'Crime', 'Thriller', 'Action', 'Drama', 'Thriller', 'Comedy', 'Drama', \"Children's\", 'Comedy', 'Drama', 'Adventure', \"Children's\", 'Fantasy', 'Drama', 'Drama', 'Romance', 'Drama', 'Mystery', 'Adventure', \"Children's\", 'Fantasy', 'Drama', 'Thriller', 'Drama', 'Comedy', 'Comedy', 'Romance', 'Comedy', 'Sci-Fi', 'Thriller', 'Drama', 'Comedy', 'Romance', 'Comedy', 'Action', 'Comedy', 'Crime', 'Horror', 'Thriller', 'Action', 'Comedy', 'Drama', 'Drama', 'Musical', 'Drama', 'Romance', 'Comedy', 'Drama', 'Sci-Fi', 'Thriller', 'Documentary', 'Drama', 'Drama', 'Thriller', 'Drama', 'Crime', 'Drama', 'Romance', 'Drama', 'Drama', 'Comedy', 'Drama', 'Drama', 'Romance', 'Adventure', 'Drama', \"Children's\", 'Comedy', 'Comedy', 'Action', 'Thriller', 'Drama', 'Drama', 'Thriller', 'Comedy', 'Romance', 'Drama', 'Action', 'Thriller', 'Comedy', 'Drama', 'Action', 'Thriller', 'Documentary', 'Drama', 'Thriller', 'Comedy', 'Comedy', 'Thriller', 'Comedy', 'Drama', 'Romance', 'Comedy', 'Drama', 'Adventure', \"Children's\", 'Comedy', 'Musical', 'Documentary', 'Comedy', 'Action', 'Drama', 'War', 'Drama', 'Thriller', 'Action', 'Adventure', 'Crime', 'Drama', 'Mystery', 'Drama', 'Comedy', 'Documentary', 'Crime', 'Comedy', 'Romance', 'Comedy', 'Drama', 'Drama', 'Comedy', 'Romance', 'Drama', 'Mystery', 'Romance', 'Drama', 'Comedy', 'Adventure', \"Children's\", 'Fantasy', 'Drama', 'Documentary', 'Comedy', 'Romance', 'Drama', 'Drama', 'Romance', 'Thriller', 'Comedy', 'Drama', 'Documentary', 'Comedy', 'Documentary', 'Documentary', 'Drama', 'Action', 'Drama', 'Drama', 'Romance', 'Comedy', 'Drama', 'Drama', 'Comedy', 'Action', 'Adventure', \"Children's\", 'Drama', 'Drama', 'Crime', 'Drama', 'Thriller', 'Drama', 'Drama', 'Romance', 'War', 'Horror', 'Action', 'Adventure', 'Comedy', 'Crime', 'Drama', 'Drama', 'War', 'Comedy', 'Comedy', 'War', 'Adventure', \"Children's\", 'Drama', 'Action', 'Adventure', 'Mystery', 'Sci-Fi', 'Drama', 'Thriller', 'War', 'Documentary', 'Action', 'Romance', 'Thriller', 'Crime', 'Film-Noir', 'Mystery', 'Thriller', 'Action', 'Thriller', 'Comedy', 'Drama', 'Drama', 'Action', 'Adventure', 'Drama', 'Romance', 'Adventure', \"Children's\", 'Drama', 'Action', 'Crime', 'Thriller', 'Comedy', 'Action', 'Sci-Fi', 'Thriller', 'Action', 'Adventure', 'Sci-Fi', 'Comedy', 'Drama', 'Comedy', 'Horror', 'Comedy', 'Drama', 'Romance', 'Comedy', 'Action', \"Children's\", 'Drama', 'Romance', 'Thriller', 'Drama', 'Sci-Fi', 'Thriller', 'Comedy', 'Comedy', 'Horror', 'Comedy', 'Thriller', 'Drama', 'Documentary', 'Drama', 'Drama', 'Comedy', 'Drama', 'Romance', 'Horror', 'Sci-Fi', 'Drama', 'Action', 'Crime', 'Sci-Fi', 'Drama', 'Musical', 'Thriller', 'Drama', 'Drama', 'Romance', 'Comedy', 'Action', 'Comedy', 'Drama', 'Documentary', 'Drama', 'Romance', 'Action', 'Adventure', 'Drama', 'Western', 'Drama', 'Comedy', 'Drama', 'Drama', 'Drama', 'Romance', 'Comedy', 'Drama', 'Thriller', 'Comedy', 'Drama', 'Drama', 'Horror', 'Drama', 'Romance', 'Comedy', 'Comedy', 'Drama', 'Romance', 'Drama', 'Thriller', 'Thriller', 'Action', 'Comedy', 'Drama', 'Thriller', 'Drama', 'Thriller', 'Comedy', 'Comedy', 'Drama', 'Drama', 'Comedy', 'Comedy', 'Drama', 'Comedy', 'Romance', 'Comedy', 'Romance', 'Adventure', \"Children's\", 'Animation', \"Children's\", 'Comedy', 'Romance', 'Thriller', \"Children's\", 'Drama', 'Drama', 'Musical', 'Comedy', 'Animation', \"Children's\", 'Crime', 'Drama', 'Documentary', 'Drama', 'Fantasy', 'Romance', 'Thriller', 'Comedy', 'Drama', 'Romance', \"Children's\", 'Comedy', 'Action', 'Comedy', 'Romance', 'Drama', 'Horror', 'Drama', 'Comedy', 'Comedy', 'Sci-Fi', 'Mystery', 'Thriller', 'Adventure', \"Children's\", 'Comedy', 'Fantasy', 'Romance', 'Crime', 'Drama', 'Thriller', 'Action', 'Adventure', 'Fantasy', 'Sci-Fi', 'Drama', \"Children's\", 'Drama', 'Drama', 'Drama', 'Drama', 'Romance', 'Drama', 'Romance', 'War', 'Western', 'Comedy', 'Drama', 'Drama', 'Drama', 'Romance', 'Drama', 'Drama', 'Drama', 'Horror', 'Comedy', 'Comedy', 'Comedy', 'Romance', 'Drama', 'Comedy', 'Drama', 'Drama', 'Thriller', 'Drama', 'Drama', 'Crime', 'Drama', 'Action', 'Crime', 'Drama', 'Horror', 'Action', 'Sci-Fi', 'Thriller', 'Comedy', 'Romance', 'Action', 'Thriller', 'Comedy', 'Romance', 'Crime', 'Drama', 'Thriller', 'Action', 'Drama', 'Thriller', 'Crime', 'Drama', 'Romance', 'Thriller', 'Comedy', 'Romance', 'Comedy', 'Romance', 'Crime', 'Drama', 'Drama', 'Comedy', 'Drama', 'Drama', 'Drama', 'Romance', 'Drama', 'Romance', 'Action', 'Adventure', 'Western', 'Comedy', 'Drama', 'Comedy', 'Drama', 'Drama', 'Drama', 'Drama', 'Comedy', 'Horror', 'Thriller', 'Comedy', 'Animation', \"Children's\", 'Drama', 'Action', 'Action', 'Adventure', 'Sci-Fi', \"Children's\", 'Comedy', 'Fantasy', 'Drama', 'Thriller', 'Film-Noir', 'Thriller', 'Drama', 'Comedy', 'Drama', 'Comedy', 'Comedy', 'Drama', 'Action', 'Comedy', 'Musical', 'Sci-Fi', 'Horror', 'Action', 'Adventure', 'Sci-Fi', 'Comedy', 'Horror', 'Drama', 'Horror', 'Sci-Fi', 'Comedy', 'Drama', 'Mystery', 'Thriller', 'Drama', 'War', 'Drama', 'Sci-Fi', 'Thriller', 'Comedy', 'Romance', 'Adventure', 'Drama', 'Drama', 'Comedy', 'Romance', \"Children's\", 'Comedy', 'Comedy', 'Drama', 'Drama', 'Musical', 'Drama', 'Comedy', 'Action', 'Adventure', 'Thriller', 'Drama', 'Mystery', 'Thriller', 'Comedy', 'Drama', 'Romance', 'Comedy', 'Action', 'Romance', 'Thriller', 'Drama', \"Children's\", 'Comedy', 'Comedy', 'Romance', 'War', 'Comedy', 'Romance', 'Drama', 'Comedy', 'Drama', 'Romance', 'Action', 'Comedy', 'Drama', 'Romance', 'Adventure', \"Children's\", 'Romance', 'Documentary', 'Animation', \"Children's\", 'Musical', 'Drama', 'Horror', 'Comedy', 'Crime', 'Fantasy', 'Action', 'Comedy', 'Western', 'Drama', 'Comedy', 'Comedy', 'Drama', 'Comedy', 'Drama', 'Thriller', \"Children's\", 'Comedy', 'Drama', 'Action', 'Thriller', 'Action', 'Romance', 'Thriller', 'Comedy', 'Romance', 'Action', 'Sci-Fi', 'Action', 'Adventure', 'Comedy', 'Romance', 'Drama', 'Drama', 'Horror', 'Western', 'Action', 'Drama', 'Drama', 'Action', 'Comedy', 'Drama', 'Drama', 'Romance', 'War', 'Action', 'Comedy', 'Drama', 'Crime', 'Drama', 'Adventure', \"Children's\", 'Action', 'Action', 'Drama', 'Drama', 'Horror', 'Documentary', 'Drama', 'Drama', 'Action', 'Thriller', 'Comedy', 'Comedy', 'Crime', 'Drama', 'Documentary', 'Action', 'Sci-Fi', 'Drama', 'Horror', 'Thriller', 'Drama', 'Drama', 'Comedy', 'Comedy', 'Drama', 'Comedy', 'Comedy', 'Comedy', 'Thriller', 'Western', 'Comedy', 'Romance', 'Drama', 'Comedy', 'Action', 'Comedy', 'Adventure', \"Children's\", 'Thriller', 'Action', 'Thriller', 'Drama', 'Drama', 'Romance', 'Horror', 'Sci-Fi', 'Thriller', 'Mystery', 'Romance', 'Thriller', 'Drama', 'Comedy', 'Drama', 'Crime', 'Drama', 'Comedy', 'Western', 'Comedy', 'Action', 'Adventure', 'Crime', 'Comedy', 'Sci-Fi', 'Drama', 'Thriller', 'Comedy', 'Action', 'Comedy', 'Drama', 'Comedy', 'Romance', 'Comedy', 'Action', 'Sci-Fi', 'Documentary', 'Comedy', 'Romance', 'Comedy', 'Drama', 'Romance', 'Comedy', 'Romance', 'Drama', 'Comedy', 'Comedy', 'Drama', 'Drama', 'Mystery', 'Romance', 'Drama', 'Comedy', 'Drama', 'Thriller', 'Adventure', \"Children's\", 'Drama', 'Drama', 'Action', 'Thriller', 'Drama', 'Western', 'Action', 'Comedy', 'Drama', 'Romance', 'Action', 'Adventure', 'Crime', 'Drama', 'Thriller', 'Action', 'Adventure', 'Crime', 'Thriller', 'Action', 'Drama', 'War', 'Action', 'Comedy', 'War', 'Comedy', 'Comedy', 'Romance', 'Drama', 'Romance', 'Comedy', 'Comedy', 'Romance', 'Comedy', 'Drama', 'Comedy', 'War', 'Action', 'Thriller', 'Drama', 'Comedy', 'Drama', 'Drama', 'Comedy', 'Action', 'Action', 'Adventure', 'Sci-Fi', 'Drama', 'Thriller', 'Thriller', 'Drama', 'Adventure', \"Children's\", 'Action', 'Comedy', 'Comedy', 'Comedy', 'Western', 'Drama', 'Comedy', 'Thriller', 'Drama', 'Comedy', 'Mystery', 'Action', 'Crime', 'Drama', 'Action', 'Thriller', 'Drama', 'Comedy', 'Drama', 'Romance', 'Comedy', 'Romance', 'Drama', 'Romance', 'Comedy', 'Romance', 'Comedy', 'Drama', 'Action', \"Children's\", 'Drama', 'Action', 'Sci-Fi', 'Comedy', 'Drama', 'Action', 'Drama', 'Drama', 'Drama', 'Romance', 'Drama', 'Action', 'Drama', 'Horror', 'Sci-Fi', 'Comedy', 'Mystery', 'Romance', 'Comedy', 'Drama', 'Comedy', 'Drama', 'War', 'Action', 'Drama', 'Mystery', 'Comedy', 'Sci-Fi', 'Thriller', 'Comedy', 'Crime', 'Thriller', 'Action', 'Drama', 'Drama', 'Drama', 'Drama', 'Drama', 'Drama', 'War', 'Drama', 'Drama', 'Drama', \"Children's\", 'Drama', 'Comedy', 'Crime', 'Horror', 'Action', 'Drama', 'Romance', 'Drama', 'Drama', 'Comedy', 'Drama', 'Drama', 'Comedy', 'Romance', 'Thriller', 'Film-Noir', 'Sci-Fi', 'Comedy', 'Comedy', 'Romance', 'Thriller', 'Action', 'Drama', 'Action', 'Adventure', \"Children's\", 'Sci-Fi', 'Action', 'Adventure', 'Thriller', 'Action', 'Documentary', 'Comedy', 'Romance', \"Children's\", 'Comedy', 'Musical', 'Action', 'Adventure', 'Comedy', 'Western', 'Thriller', 'Action', 'Crime', 'Romance', 'Documentary', 'Drama', 'Action', 'Adventure', 'Animation', \"Children's\", 'Fantasy', 'Comedy', 'Drama', 'Thriller', 'Comedy', 'Drama', 'Drama', 'Comedy', 'Horror', 'Comedy', 'Romance', 'Drama', 'Comedy', 'Drama', \"Children's\", 'Comedy', 'Comedy', 'Drama', 'Drama', 'Drama', 'Drama', 'Comedy', 'Drama', \"Children's\", 'Comedy', 'Comedy', 'Adventure', \"Children's\", 'Drama', 'Mystery', 'Thriller', 'Drama', 'Documentary', 'Comedy', 'Comedy', 'Drama', 'Drama', 'Comedy', \"Children's\", 'Comedy', 'Comedy', 'Romance', 'Thriller', 'Animation', \"Children's\", 'Comedy', 'Musical', 'Action', 'Sci-Fi', 'Thriller', 'Adventure', 'Drama', 'Western', 'Action', 'Drama', 'Thriller', 'Action', 'Adventure', 'Crime', 'Drama', 'Drama', 'Thriller', 'Animation', \"Children's\", 'Musical', 'Animation', \"Children's\", 'Musical', 'Animation', \"Children's\", 'Comedy', 'Romance', 'Comedy', 'Western', 'Thriller', 'Drama', 'Documentary', 'Comedy', 'Documentary', 'Drama', 'Romance', 'Horror', 'Drama', 'Crime', 'Drama', 'Thriller', 'Adventure', \"Children's\", 'Action', 'Adventure', 'Animation', 'Horror', 'Sci-Fi', 'Action', 'Horror', 'Sci-Fi', 'Comedy', 'Drama', 'Romance', 'Drama', 'Thriller', 'Drama', 'Animation', \"Children's\", 'Drama', 'Comedy', 'Romance', 'Comedy', 'Drama', 'Drama', 'Romance', 'Action', 'Drama', 'Thriller', 'Drama', 'Comedy', 'Drama', 'Thriller', 'Drama', 'Thriller', 'Drama', 'Drama', 'Romance', 'Animation', \"Children's\", 'Musical', 'War', 'Comedy', 'Comedy', 'Comedy', 'Drama', 'Drama', 'Comedy', 'Romance', 'Comedy', 'Drama', 'Thriller', 'Comedy', 'Drama', 'Comedy', 'Comedy', 'Drama', 'Drama', 'War', 'Action', 'Adventure', 'Mystery', 'Comedy', 'Drama', 'Drama', 'Comedy', 'Mystery', 'Action', 'Adventure', 'Fantasy', 'Drama', 'Romance', 'Comedy', 'Comedy', 'Comedy', 'Drama', 'Drama', 'Crime', 'Thriller', 'Drama', 'Animation', \"Children's\", 'Musical', 'Thriller', 'Comedy', 'Comedy', 'War', 'Drama', 'Action', 'Drama', 'Drama', 'Drama', 'Comedy', 'Sci-Fi', 'Drama', 'Adventure', 'Animation', \"Children's\", 'Comedy', 'Fantasy', 'Adventure', 'Sci-Fi', 'Action', 'Drama', 'Thriller', 'Drama', 'Drama', 'Thriller', 'Drama', 'Sci-Fi', 'Crime', 'Documentary', 'Drama', 'Documentary', 'Drama', 'Drama', 'Drama', 'Romance', 'Action', 'Adventure', 'Comedy', 'War', 'Romance', 'Comedy', 'Romance', 'Action', 'Sci-Fi', 'Thriller', 'Drama', 'Action', 'Mystery', 'Thriller', 'Thriller', 'Drama', 'Romance', 'Drama', 'Drama', 'Comedy', 'Drama', 'Drama', 'Drama', 'Action', 'Adventure', 'Comedy', 'Drama', 'Crime', 'Film-Noir', 'Thriller', 'Comedy', 'Romance', 'Animation', \"Children's\", 'Comedy', 'Adventure', \"Children's\", 'Drama', 'Drama', 'Western', 'Drama', 'Crime', 'Comedy', 'Comedy', 'Sci-Fi', 'Comedy', 'Animation', 'Drama', 'Documentary', 'Drama', 'Drama', 'Horror', 'Comedy', 'Drama', 'Documentary', 'Comedy', 'Drama', 'Drama', 'Mystery', 'Thriller', 'Crime', 'Action', 'Adventure', 'Thriller', 'Comedy', 'Comedy', 'Horror', 'Action', 'Adventure', 'Romance', 'Thriller', 'Action', 'Sci-Fi', 'Drama', 'Comedy', 'Animation', 'Sci-Fi', 'Horror', 'Thriller', 'Comedy', 'Drama', 'Animation', 'Comedy', 'Thriller', 'Film-Noir', 'Comedy', 'Action', 'Sci-Fi', 'Thriller', 'Drama', 'Sci-Fi', 'War', 'Comedy', 'Comedy', 'Romance', 'Comedy', 'Drama', 'Adventure', \"Children's\", \"Children's\", 'Drama', 'Documentary', 'Drama', 'Drama', 'Documentary', 'War', 'Adventure', 'Comedy', 'Crime', 'Drama', 'Drama', 'Romance', 'Comedy', 'Drama', 'Drama', 'Drama', 'Drama', 'Documentary', 'Drama', 'Comedy', 'Drama', 'Comedy', 'Drama', 'Drama', 'Horror', 'Comedy', 'Drama', 'War', 'Drama', 'Drama', 'Romance', 'Action', 'Sci-Fi', 'War', 'Drama', 'Thriller', 'Animation', \"Children's\", 'Musical', 'Comedy', 'Comedy', 'Action', 'Thriller', 'Documentary', 'Comedy', 'Fantasy', 'Romance', 'Sci-Fi', 'Drama', 'Drama', 'Documentary', 'Fantasy', 'Drama', 'Comedy', 'Drama', 'Drama', 'Drama', 'Comedy', 'Action', 'Adventure', 'Thriller', 'Comedy', 'Horror', 'Drama', 'Mystery', \"Children's\", 'Comedy', 'Drama', 'Romance', 'Romance', 'Comedy', 'Romance', 'Drama', 'Drama', 'Comedy', 'Romance', 'Adventure', \"Children's\", 'Action', 'Adventure', \"Children's\", 'Comedy', 'Fantasy', 'Comedy', 'Drama', 'Comedy', 'Drama', 'Action', 'Mystery', 'Thriller', 'Drama', 'Comedy', 'Comedy', 'Drama', 'Drama', 'Romance', 'Drama', 'Drama', 'Drama', 'Comedy', 'Romance', 'Drama', 'Drama', 'Adventure', \"Children's\", 'Comedy', 'Musical', 'Comedy', 'Drama', 'Drama', 'Thriller', 'Comedy', 'Comedy', 'Drama', 'Action', 'Adventure', 'Thriller', \"Children's\", 'Comedy', 'Comedy', 'Drama', 'Romance', 'Action', 'Thriller', 'Comedy', 'Horror', 'Horror', 'Drama', 'Drama', 'Drama', 'Drama', 'Comedy', 'Drama', 'Drama', 'Action', 'Adventure', 'Sci-Fi', 'Thriller', 'Crime', 'Drama', 'Drama', 'Comedy', 'Romance', 'Drama', 'Drama', 'Drama', 'Comedy', 'Drama', 'Action', 'Crime', 'Drama', 'Documentary', 'Comedy', 'Action', 'Thriller', 'Drama', 'Comedy', 'Comedy', 'Drama', 'Drama', 'Crime', 'Drama', 'Romance', 'Thriller', 'Comedy', 'Crime', 'Comedy', 'Crime', 'Comedy', 'Comedy', 'Drama', 'Drama', 'Crime', 'Drama', 'Drama', 'Action', 'Drama', 'Drama', 'Horror', 'Sci-Fi', 'Thriller', \"Children's\", 'Comedy', 'Drama', 'Thriller', 'Drama', \"Children's\", 'Drama', 'Fantasy', 'Action', 'Drama', 'Animation', \"Children's\", 'Romance', 'Thriller', 'Horror', 'Thriller', 'Comedy', 'Drama', 'Romance', 'Drama', 'Romance', 'Drama', 'Drama', 'Adventure', 'War', 'Comedy', 'Romance', 'Musical', 'Romance', 'Musical', 'Romance', 'Comedy', 'Musical', 'Drama', 'Romance', 'Mystery', 'Thriller', 'Mystery', 'Thriller', 'Comedy', 'Mystery', 'Thriller', 'Comedy', 'Musical', 'Romance', 'Drama', 'Thriller', 'Comedy', 'Drama', 'Comedy', 'Crime', 'Comedy', 'Mystery', 'Romance', 'Thriller', 'Drama', 'Romance', 'War', 'Film-Noir', 'Mystery', 'Musical', 'Romance', 'Comedy', 'Romance', 'Comedy', 'Romance', \"Children's\", 'Drama', 'Musical', 'Adventure', \"Children's\", 'Drama', 'Musical', 'Drama', 'Romance', 'War', 'Comedy', 'Film-Noir', 'Drama', 'Drama', 'Mystery', 'Sci-Fi', 'Thriller', 'Adventure', 'Romance', 'Drama', 'Comedy', 'Romance', 'Thriller', 'Thriller', 'Film-Noir', 'Romance', 'Thriller', 'Mystery', 'Romance', 'Thriller', 'Romance', 'Comedy', 'Romance', 'Thriller', 'Comedy', 'Comedy', 'Musical', 'Comedy', 'Romance', 'Comedy', 'Romance', 'Musical', 'Comedy', 'Drama', 'Action', 'Adventure', 'Adventure', 'Crime', 'Film-Noir', 'Mystery', 'Drama', 'Romance', 'Drama', 'Comedy', 'Musical', 'Romance', 'Comedy', 'Drama', 'War', 'Comedy', 'Drama', 'Drama', 'Mystery', 'Comedy', 'Adventure', 'Comedy', 'Drama', 'Drama', 'Comedy', 'Drama', 'Romance', 'Drama', 'Comedy', 'Mystery', 'Drama', 'Crime', 'Drama', 'Drama', 'Crime', 'Drama', 'Musical', 'Western', 'Thriller', 'Drama', 'Western', 'Horror', 'Sci-Fi', 'Action', 'Adventure', 'Romance', 'War', 'Comedy', 'Drama', 'Drama', 'Drama', 'Drama', 'Drama', 'Romance', 'Comedy', 'Musical', 'Romance', 'War', 'Mystery', 'Drama', 'Drama', 'War', 'Action', 'Drama', 'Drama', 'Romance', 'Comedy', 'Drama', 'Documentary', 'Adventure', \"Children's\", 'Drama', 'Romance', 'Comedy', 'Drama', 'Drama', 'Action', 'Adventure', 'Thriller', 'Drama', 'War', 'Thriller', 'Drama', 'Drama', 'Action', 'Drama', 'Western', 'Drama', 'Thriller', 'Action', 'Crime', 'Crime', 'Crime', 'Comedy', 'Comedy', 'Drama', 'Thriller', 'Action', 'Thriller', \"Children's\", 'Comedy', 'Drama', \"Children's\", 'Comedy', 'Western', 'Western', 'Adventure', \"Children's\", 'Fantasy', \"Children's\", 'Comedy', 'Adventure', \"Children's\", 'Comedy', \"Children's\", 'Drama', \"Children's\", 'Drama', \"Children's\", 'Comedy', 'Drama', 'Adventure', \"Children's\", \"Children's\", 'Comedy', 'Adventure', \"Children's\", \"Children's\", 'Comedy', 'Mystery', 'Adventure', \"Children's\", 'Fantasy', 'Sci-Fi', 'Comedy', \"Children's\", 'Comedy', 'Animation', \"Children's\", 'Musical', 'Animation', \"Children's\", 'Animation', \"Children's\", 'Musical', 'Animation', \"Children's\", \"Children's\", 'Drama', 'Drama', \"Children's\", 'Comedy', 'Musical', 'Animation', \"Children's\", 'Musical', 'Adventure', 'Animation', \"Children's\", 'Musical', 'Adventure', \"Children's\", 'Musical', 'Animation', \"Children's\", 'Musical', 'Animation', \"Children's\", 'Crime', 'Musical', 'Action', 'Thriller', 'Action', 'Sci-Fi', 'Thriller', 'Drama', 'Documentary', 'Drama', 'Drama', 'Comedy', 'Drama', 'Romance', 'Drama', 'Comedy', 'Drama', 'Drama', 'Romance', 'Action', 'Thriller', 'Action', 'Adventure', 'Documentary', 'Drama', 'Drama', 'Drama', 'Crime', 'Drama', 'Drama', 'Thriller', 'Drama', 'Comedy', 'Musical', 'Romance', 'Drama', 'Drama', 'Romance', 'Comedy', 'Drama', 'Crime', 'Drama', 'Drama', 'Drama', 'Animation', \"Children's\", 'Comedy', 'Mystery', 'Comedy', 'Musical', 'Romance', 'Comedy', 'Musical', 'Romance', 'Crime', 'Film-Noir', 'Film-Noir', 'Thriller', 'Adventure', 'Romance', 'War', 'Adventure', \"Children's\", 'Comedy', 'Fantasy', 'Comedy', 'Thriller', 'Comedy', 'Sci-Fi', 'Comedy', 'War', 'Comedy', 'Comedy', 'Comedy', 'Musical', 'Drama', 'Comedy', 'Musical', 'Crime', 'Drama', 'Adventure', 'Drama', 'Mystery', 'Thriller', 'Musical', 'Musical', 'Romance', 'Crime', 'Thriller', 'Drama', 'War', 'Comedy', 'Mystery', 'Thriller', 'Drama', 'Musical', 'Drama', 'Romance', 'War', 'Drama', 'Drama', \"Children's\", 'Drama', 'Fantasy', 'Sci-Fi', 'Comedy', 'Drama', 'Action', 'Romance', 'Action', 'Romance', 'Action', 'Drama', 'Drama', 'Horror', 'Documentary', 'Comedy', 'Documentary', 'Drama', 'Action', 'Documentary', 'Action', 'Drama', 'Comedy', 'Drama', 'Comedy', 'Drama', 'Drama', 'Drama', 'Adventure', 'Western', 'Drama', 'Drama', 'Drama', 'Documentary', 'Documentary', 'Drama', 'Comedy', 'Comedy', 'Fantasy', 'Action', 'Adventure', 'Sci-Fi', 'Thriller', 'Horror', 'Action', 'Adventure', 'Sci-Fi', 'Thriller', 'Horror', 'Drama', 'Drama', 'Comedy', 'Drama', 'Action', 'Drama', 'Comedy', 'Comedy', 'Romance', 'Documentary', 'Drama', 'Drama', 'Drama', 'Drama', 'Comedy', 'Documentary', 'Documentary', 'Comedy', 'Drama', 'Documentary', 'Animation', 'Comedy', 'Documentary', 'Drama', 'Drama', 'Animation', 'Comedy', 'Thriller', 'Crime', 'Film-Noir', 'Thriller', 'Film-Noir', 'Film-Noir', 'Drama', 'Drama', 'Drama', 'Comedy', 'Romance', 'Comedy', 'Drama', 'Comedy', 'Drama', 'Drama', 'Drama', 'Thriller', 'Comedy', 'Comedy', 'Horror', 'Documentary', 'Action', 'Comedy', 'Comedy', 'Drama', 'Romance', 'Drama', 'Comedy', 'Comedy', 'Sci-Fi', 'Drama', 'Drama', 'Drama', 'War', 'Crime', 'Drama', 'Film-Noir', 'Comedy', 'Action', 'Drama', 'Romance', 'War', 'Comedy', 'War', 'Drama', 'Drama', 'Drama', 'Comedy', 'Romance', 'Documentary', 'Drama', 'Documentary', 'Documentary', 'Drama', 'Comedy', 'Action', 'Adventure', 'Drama', 'Sci-Fi', 'War', 'Action', 'Adventure', 'Comedy', 'Romance', 'Action', 'Adventure', 'Sci-Fi', 'Action', 'Sci-Fi', 'Thriller', 'War', 'Action', 'Western', 'Comedy', 'Drama', 'Adventure', 'War', 'Action', 'Animation', \"Children's\", 'Sci-Fi', 'Thriller', 'War', 'Sci-Fi', 'Drama', 'Drama', 'War', 'Western', 'Action', 'Adventure', 'Romance', 'Sci-Fi', 'War', 'Comedy', 'Drama', 'Romance', 'Mystery', 'Thriller', 'Crime', 'Drama', 'Action', 'Horror', 'Sci-Fi', 'Thriller', 'Action', 'Adventure', 'Comedy', 'Horror', 'Sci-Fi', 'Adventure', 'Romance', 'Drama', 'War', 'Action', 'Thriller', 'Horror', 'Thriller', 'Action', 'Comedy', 'Musical', 'Action', 'Crime', 'Drama', 'Action', 'Drama', 'War', 'Animation', 'Comedy', 'Drama', 'War', 'Drama', 'Comedy', 'Romance', 'Crime', 'Drama', 'Thriller', 'Drama', 'Comedy', 'Romance', 'Drama', 'Mystery', 'Sci-Fi', 'Action', 'Drama', 'War', 'Comedy', 'Crime', 'Comedy', 'Comedy', 'Drama', 'Drama', 'Comedy', 'Action', 'Sci-Fi', 'Thriller', 'Comedy', 'Horror', 'Action', 'Drama', 'War', 'Comedy', 'Drama', 'Comedy', 'Drama', 'Romance', 'Drama', 'Drama', 'Drama', 'Romance', 'Crime', 'Film-Noir', 'Thriller', 'Thriller', 'Drama', 'War', 'Drama', 'Film-Noir', 'Mystery', 'Thriller', 'Drama', 'Sci-Fi', 'Adventure', 'Comedy', 'Horror', 'Comedy', 'War', 'Comedy', 'Horror', 'Adventure', 'Comedy', 'Drama', 'Crime', 'Film-Noir', 'Thriller', 'Action', 'Adventure', 'Comedy', 'Horror', 'Adventure', 'War', 'Drama', 'War', 'Action', 'Drama', 'Mystery', 'Romance', 'Thriller', 'Comedy', 'Romance', 'Western', 'Film-Noir', 'Thriller', 'Drama', 'Comedy', 'Mystery', 'Thriller', 'Comedy', 'Sci-Fi', 'Drama', 'Drama', 'War', 'Comedy', 'Drama', 'Adventure', 'Animation', 'Sci-Fi', 'Thriller', 'Action', 'Adventure', 'Comedy', 'Drama', 'Action', 'Drama', 'Romance', 'Comedy', 'Horror', 'Comedy', 'Drama', 'Drama', 'Comedy', 'Animation', \"Children's\", 'Musical', 'Western', 'Film-Noir', 'Mystery', 'Comedy', 'Drama', 'Romance', 'Action', 'Adventure', 'Drama', 'Comedy', 'Drama', 'Musical', 'Documentary', 'War', 'Drama', 'Romance', 'Action', 'Adventure', 'Comedy', 'Drama', 'Comedy', 'War', 'Drama', 'Drama', 'Romance', 'Comedy', 'Drama', 'Musical', 'War', 'Drama', 'War', 'Drama', 'Sci-Fi', 'Drama', 'Adventure', 'Action', 'Comedy', 'Western', 'Drama', 'Drama', 'Sci-Fi', 'Comedy', 'Romance', 'Comedy', 'Drama', 'Romance', 'Documentary', 'Comedy', 'Drama', 'Crime', 'Romance', 'Documentary', 'Drama', 'Comedy', 'Comedy', 'Drama', 'Documentary', 'Action', 'Horror', 'Sci-Fi', 'Thriller', 'Horror', 'Horror', 'Horror', 'Horror', 'Horror', 'Horror', 'Horror', 'Horror', 'Horror', 'Comedy', 'Horror', 'Horror', 'Horror', 'Thriller', 'Horror', 'Horror', 'Sci-Fi', 'Action', 'Horror', 'Horror', 'Horror', 'Horror', 'Romance', 'Horror', 'Horror', 'Horror', 'Thriller', 'Film-Noir', 'Thriller', 'Horror', 'Horror', 'Horror', 'Horror', 'Horror', 'Horror', 'Drama', 'Crime', 'Thriller', 'Comedy', 'Romance', 'Drama', 'Horror', 'Thriller', 'Action', 'Adventure', 'Sci-Fi', 'Drama', 'Romance', 'Drama', 'Thriller', 'Adventure', \"Children's\", 'Comedy', 'Drama', 'Documentary', 'Drama', 'Drama', 'Action', 'Drama', 'Drama', \"Children's\", 'Comedy', 'Drama', 'Drama', 'Thriller', 'Action', 'Thriller', 'Action', 'Adventure', 'Sci-Fi', 'Action', 'Adventure', 'Sci-Fi', 'Action', 'Adventure', 'Sci-Fi', 'Action', 'Adventure', 'Sci-Fi', 'Action', 'Adventure', 'Sci-Fi', 'Action', 'Adventure', 'Sci-Fi', 'Action', 'Adventure', 'Comedy', 'Crime', 'Action', 'Comedy', 'Western', 'Action', 'Comedy', 'Western', 'Comedy', 'Musical', 'Romance', 'Comedy', 'Musical', 'Romance', 'Action', 'Drama', 'Action', 'Sci-Fi', 'Drama', 'Action', 'Western', 'Action', 'Horror', 'Action', 'Horror', 'Action', 'Horror', 'Comedy', 'Action', 'Comedy', 'Sci-Fi', 'War', 'Comedy', 'Drama', 'Drama', 'Romance', 'Comedy', 'Comedy', 'Drama', 'Crime', 'Drama', 'Sci-Fi', 'Drama', 'Romance', 'War', 'Drama', 'Drama', 'Drama', 'Crime', 'Drama', 'Animation', 'Comedy', 'Drama', 'Horror', 'Thriller', 'Action', 'Romance', 'War', 'Comedy', 'Romance', 'Comedy', 'Drama', 'Drama', 'Drama', 'Drama', 'Comedy', 'Crime', 'Drama', 'Romance', 'Drama', 'Musical', 'Drama', 'Drama', 'Documentary', 'Documentary', 'Mystery', 'Thriller', 'Drama', 'Action', 'Comedy', \"Children's\", 'Thriller', 'Drama', 'Action', 'Thriller', 'Action', 'Comedy', 'Action', 'Comedy', 'Horror', 'Action', 'Comedy', 'Drama', 'Action', 'Thriller', 'Comedy', 'Comedy', 'Comedy', 'Romance', 'Drama', 'Documentary', 'Comedy', 'Comedy', 'War', 'Comedy', 'Crime', 'Documentary', 'Comedy', 'War', 'Comedy', 'Romance', 'Comedy', 'Comedy', 'Romance', 'Comedy', 'Comedy', 'Romance', 'Romance', 'Mystery', 'Thriller', \"Children's\", 'Comedy', 'Mystery', 'Comedy', 'Documentary', 'Comedy', 'Romance', 'Mystery', 'Drama', 'Crime', 'Drama', 'Comedy', 'Drama', 'Comedy', 'Romance', 'Documentary', 'Drama', 'Crime', 'Thriller', 'Action', 'Comedy', 'Crime', 'Drama', \"Children's\", 'Comedy', 'Romance', 'Comedy', 'Drama', 'Romance', 'Action', 'Romance', 'Thriller', 'Action', 'Drama', 'Thriller', 'Comedy', 'Drama', 'Drama', 'Thriller', 'Mystery', 'Comedy', 'Drama', 'Drama', 'Musical', 'Action', 'Drama', 'Thriller', 'War', 'Animation', \"Children's\", 'Musical', 'Comedy', 'Romance', 'Comedy', 'Action', 'Adventure', \"Children's\", 'Drama', 'Romance', 'Action', 'Drama', 'Romance', 'Action', 'Adventure', 'Thriller', 'Comedy', 'Crime', 'Crime', 'Romance', 'Comedy', 'Drama', 'Drama', 'War', 'Drama', 'Drama', 'Drama', 'Comedy', 'Comedy', 'Romance', 'Drama', 'Thriller', 'Comedy', 'Comedy', 'Action', 'Thriller', 'Drama', 'Romance', 'Drama', 'Action', 'Crime', 'Romance', 'Drama', 'Action', 'Adventure', \"Children's\", 'Fantasy', 'Comedy', 'Action', 'Sci-Fi', 'Comedy', 'Drama', 'Drama', 'Comedy', 'Drama', 'Drama', 'Drama', 'Romance', 'Comedy', 'Adventure', \"Children's\", 'Comedy', 'Crime', 'Comedy', 'Romance', 'Comedy', 'Drama', 'Romance', 'Drama', 'Action', 'Adventure', 'Sci-Fi', 'Thriller', 'Drama', 'Comedy', \"Children's\", 'Drama', 'Drama', 'Drama', 'Romance', 'Comedy', 'Romance', 'Adventure', \"Children's\", 'Drama', 'Action', 'Adventure', 'Thriller', 'Comedy', 'Drama', 'Romance', 'Drama', 'Action', 'Romance', 'Thriller', 'Drama', 'Comedy', 'Drama', 'Comedy', 'Action', 'Adventure', 'Crime', 'Drama', 'Comedy', 'Romance', 'Comedy', 'Thriller', 'Adventure', 'Animation', \"Children's\", 'Comedy', 'Musical', 'Drama', 'Crime', 'Drama', 'Mystery', 'Comedy', 'Romance', 'Sci-Fi', 'Comedy', 'Romance', 'Drama', 'Action', 'Sci-Fi', 'Thriller', 'Romance', 'Drama', 'Drama', 'Crime', 'Drama', 'Action', 'Adventure', 'Comedy', 'Sci-Fi', 'Comedy', 'Adventure', \"Children's\", \"Children's\", 'Fantasy', 'Drama', 'Sci-Fi', 'Comedy', 'Action', 'Drama', 'War', 'Action', 'Adventure', \"Children's\", 'Comedy', 'Crime', 'Drama', 'Mystery', 'Action', 'Mystery', 'Sci-Fi', 'Thriller', 'Action', 'Adventure', 'Sci-Fi', 'Thriller', \"Children's\", 'Comedy', 'Comedy', 'Romance', 'Drama', 'Adventure', \"Children's\", 'Drama', 'Drama', 'Action', 'Mystery', 'Romance', 'Thriller', 'Crime', 'Drama', 'Thriller', 'Action', 'Drama', 'Romance', 'Crime', 'Drama', 'Film-Noir', 'Comedy', 'Sci-Fi', 'Thriller', 'Action', 'Comedy', 'Adventure', 'Romance', 'Action', 'Adventure', 'Action', 'Thriller', 'Drama', 'Action', 'Thriller', 'Drama', 'Comedy', 'Drama', 'Comedy', 'Adventure', 'Thriller', 'Action', 'Thriller', 'War', 'Crime', 'Film-Noir', 'Mystery', 'Thriller', 'Drama', 'War', 'Crime', 'Drama', 'Thriller', 'Drama', 'Comedy', 'Drama', 'Horror', 'Drama', 'Mystery', 'Thriller', 'Action', 'Drama', 'Thriller', 'Action', 'Crime', 'Mystery', 'Drama', 'Comedy', 'Romance', 'Comedy', 'Drama', 'Thriller', 'Comedy', 'Romance', 'Drama', 'Drama', 'Action', 'Thriller', 'Drama', 'Romance', 'Comedy', 'Comedy', 'Comedy', 'Drama', 'Drama', 'Romance', 'Horror', 'Mystery', 'Thriller', 'Crime', 'Horror', 'Mystery', 'Thriller', 'Comedy', 'Crime', 'Thriller', 'Comedy', 'Drama', 'Thriller', 'Documentary', 'Drama', 'Drama', 'Documentary', 'Drama', 'Sci-Fi', 'Thriller', \"Children's\", 'Drama', 'Fantasy', 'Horror', 'Romance', 'Documentary', 'Romance', 'Thriller', 'Drama', 'Drama', 'Thriller', 'Crime', 'Comedy', 'Drama', 'Comedy', 'Romance', 'Action', 'Drama', 'Drama', 'Romance', 'Drama', 'War', 'Crime', 'Drama', 'Drama', 'Drama', 'Romance', 'Thriller', 'Crime', 'Thriller', 'Action', 'Adventure', 'Sci-Fi', 'War', 'Comedy', 'Drama', 'Comedy', 'Drama', 'Romance', 'Action', 'Adventure', 'Drama', 'Drama', 'Romance', 'Thriller', 'Romance', 'Romance', 'Crime', 'Thriller', 'Action', 'Thriller', 'Animation', \"Children's\", 'Musical', 'Comedy', 'Mystery', 'Action', 'Horror', 'Sci-Fi', 'Horror', 'Sci-Fi', 'Drama', 'Drama', 'Drama', 'Drama', 'War', 'Crime', 'Comedy', 'Drama', 'Comedy', 'Drama', \"Children's\", 'Comedy', 'Fantasy', 'Comedy', 'Drama', 'Drama', 'Drama', \"Children's\", 'Comedy', 'Drama', 'Thriller', 'Drama', 'Comedy', 'Crime', 'Drama', 'Mystery', \"Children's\", 'Comedy', 'Romance', 'Thriller', 'Drama', 'Horror', 'Thriller', 'Thriller', 'Drama', 'Action', 'Adventure', 'Sci-Fi', 'Drama', 'Romance', 'Action', 'Romance', 'Thriller', 'Comedy', 'Drama', 'Drama', 'Drama', 'Drama', 'Drama', 'Drama', 'Crime', 'Drama', 'Drama', 'Comedy', 'Comedy', 'Crime', 'Mystery', 'Thriller', 'Drama', 'Romance', 'Comedy', 'Drama', 'Drama', 'Romance', 'Comedy', 'Action', \"Children's\", 'Action', 'Drama', 'Drama', 'Crime', 'Documentary', 'Action', 'Adventure', 'Thriller', 'Comedy', 'Comedy', 'Drama', 'Film-Noir', 'Sci-Fi', 'Thriller', 'Romance', 'Adventure', \"Children's\", 'Fantasy', 'Sci-Fi', 'Action', 'Thriller', 'Comedy', 'Action', 'Mystery', 'Thriller', 'Romance', 'Horror', 'Drama', 'Drama', 'Drama', 'Comedy', 'Musical', 'Action', 'Horror', 'Sci-Fi', 'Comedy', 'Thriller', 'Crime', 'Drama', 'Drama', 'Romance', 'Drama', 'Action', 'Thriller', 'Romance', 'Thriller', 'Horror', 'Action', 'Comedy', 'Musical', 'Action', 'Drama', 'Comedy', 'Drama', 'Drama', 'Comedy', 'Romance', 'Adventure', 'Sci-Fi', 'Thriller', 'Documentary', 'Drama', 'Comedy', 'Romance', 'Film-Noir', 'Mystery', 'Thriller', 'Comedy', 'Drama', 'Action', 'Crime', 'Documentary', 'Action', 'Drama', 'Drama', 'Crime', 'Drama', 'Action', 'Thriller', 'Comedy', 'Comedy', 'Drama', 'Drama', 'Action', 'Drama', 'Documentary', 'Thriller', 'Crime', 'Drama', 'Action', 'Drama', 'Romance', 'Crime', 'Drama', 'Crime', 'Drama', 'Mystery', 'Thriller', 'Adventure', \"Children's\", 'Comedy', 'Drama', 'Comedy', 'Crime', 'Drama', 'Drama', 'Drama', \"Children's\", 'Comedy', 'Drama', 'Drama', 'Drama', 'Comedy', 'Drama', 'Comedy', 'Drama', 'Romance', 'Drama', 'Drama', 'Comedy', 'Romance', \"Children's\", 'Comedy', 'Comedy', 'Thriller', 'Action', 'Drama', 'Adventure', \"Children's\", 'Comedy', 'Documentary', 'Drama', 'Romance', 'Comedy', 'Action', 'Sci-Fi', 'Thriller', 'Action', 'Drama', 'Action', 'Drama', 'Thriller', 'Drama', 'Thriller', 'Romance', 'Drama', 'Comedy', 'Comedy', 'Drama', 'Drama', 'Thriller', 'Crime', 'Drama', \"Children's\", 'Comedy', 'Drama', 'Comedy', 'Thriller', 'Drama', 'Drama', 'Thriller', 'Adventure', \"Children's\", 'Comedy', 'Fantasy', 'Adventure', 'Drama', 'Romance', 'Drama', 'Romance', 'Drama', 'Thriller', 'Comedy', 'Comedy', 'Romance', 'Comedy', 'Documentary', 'Musical', 'Comedy', 'Action', 'Comedy', 'Drama', 'Drama', 'Comedy', 'Thriller', 'Horror', 'Sci-Fi', 'Comedy', 'Comedy', 'Documentary', 'Action', 'Comedy', 'Action', 'Adventure', 'Drama', 'War', 'Action', 'Thriller', 'Comedy', 'Drama', 'Comedy', 'Drama', 'Drama', 'Drama', 'Comedy', 'Romance', 'Comedy', 'Action', 'Drama', 'Sci-Fi', 'Thriller', 'Drama', 'Comedy', 'Romance', 'Drama', 'Drama', 'Adventure', 'Animation', \"Children's\", 'Fantasy', 'Action', 'Sci-Fi', 'Comedy', 'Comedy', 'Drama', 'Comedy', 'Drama', 'Comedy', 'Adventure', 'Comedy', 'Comedy', 'Drama', 'Romance', 'Thriller', 'Drama', 'Horror', 'Thriller', 'Mystery', 'Thriller', 'Drama', 'Adventure', 'Comedy', 'Romance', 'Comedy', 'Drama', 'Romance', 'Comedy', 'Drama', 'Romance', 'Drama', 'War', 'Adventure', 'Drama', 'Drama', 'Documentary', 'Drama', 'Romance', 'Comedy', 'Comedy', 'Drama', 'Drama', 'Comedy', 'Romance', 'Animation', \"Children's\", 'Drama', 'Thriller', 'Mystery', 'Sci-Fi', 'Thriller', 'Action', 'Comedy', 'Crime', 'Comedy', 'Action', 'Crime', 'Romance', 'Drama', 'Mystery', 'Comedy', 'Drama', 'Drama', 'Action', 'Comedy', 'Drama', 'Action', 'Adventure', 'Sci-Fi', 'Thriller', 'Action', 'Comedy', 'Crime', 'Drama', \"Children's\", 'Comedy', 'Animation', \"Children's\", 'Fantasy', 'War', 'Sci-Fi', 'Thriller', 'Drama', 'Comedy', 'Horror', 'Sci-Fi', 'Drama', 'Romance', 'War', 'Musical', 'War', 'Western', 'Drama', 'Drama', 'Adventure', 'Musical', 'Drama', 'Comedy', 'Drama', 'Drama', 'War', 'Comedy', 'Drama', 'Drama', 'War', 'Drama', 'Drama', 'Drama', 'Drama', 'Drama', 'Romance', 'War', 'Crime', 'Drama', 'Drama', 'Romance', 'Musical', 'Romance', 'Comedy', 'Drama', 'Drama', 'Mystery', 'Musical', 'Drama', 'Action', 'Crime', 'Drama', 'Thriller', 'Action', 'Drama', 'Drama', 'Drama', 'Drama', 'Comedy', 'Drama', 'Drama', 'Romance', 'Drama', 'War', 'Drama', 'Drama', 'Comedy', 'Drama', 'Mystery', 'Comedy', 'Sci-Fi', 'Comedy', 'Adventure', \"Children's\", 'Fantasy', 'Comedy', 'Drama', 'Horror', 'Horror', 'Horror', 'Horror', 'Horror', 'Horror', 'Horror', 'Horror', 'Horror', 'Horror', 'Horror', 'Horror', 'Horror', 'Horror', 'Horror', 'Horror', 'Horror', 'Horror', 'Horror', 'Horror', 'Horror', 'Horror', 'Horror', 'Horror', 'Horror', 'Horror', 'Thriller', 'Horror', 'Thriller', 'Horror', 'Thriller', 'Horror', 'Horror', 'Horror', 'Action', 'Comedy', 'Crime', 'Drama', 'Action', 'Comedy', 'Crime', 'Drama', 'Action', 'Comedy', 'Crime', 'Drama', 'Comedy', 'Horror', 'Comedy', 'Horror', 'Adventure', \"Children's\", 'Fantasy', 'Action', 'Adventure', 'Romance', 'Comedy', 'Crime', 'Drama', 'Film-Noir', 'Sci-Fi', 'Thriller', 'Sci-Fi', 'Comedy', 'Sci-Fi', 'Comedy', 'Sci-Fi', 'Western', 'Action', 'Adventure', \"Children's\", 'Comedy', \"Children's\", 'Comedy', 'Fantasy', \"Children's\", 'Comedy', 'Western', \"Children's\", 'Fantasy', 'Musical', 'Animation', \"Children's\", 'Action', 'Drama', 'Drama', 'Romance', 'Fantasy', 'Sci-Fi', 'Drama', 'Action', 'Crime', 'Drama', 'Drama', 'Mystery', 'Drama', 'Romance', 'Horror', 'Thriller', 'Comedy', 'Crime', 'Action', 'Drama', 'War', 'Comedy', 'Romance', 'Drama', \"Children's\", 'Comedy', \"Children's\", 'Comedy', 'Animation', \"Children's\", 'Sci-Fi', \"Children's\", 'Comedy', \"Children's\", 'Comedy', 'Adventure', \"Children's\", 'Comedy', \"Children's\", 'Comedy', 'Sci-Fi', 'Adventure', \"Children's\", \"Children's\", 'Comedy', 'Action', 'Adventure', \"Children's\", 'Comedy', \"Children's\", 'Comedy', 'Adventure', \"Children's\", 'Fantasy', 'Comedy', 'Adventure', \"Children's\", 'Drama', 'Romance', 'Adventure', \"Children's\", 'Sci-Fi', \"Children's\", 'Animation', \"Children's\", 'Comedy', 'Musical', 'Adventure', \"Children's\", 'Comedy', 'Adventure', \"Children's\", 'Comedy', \"Children's\", 'Comedy', \"Children's\", 'Comedy', 'Sci-Fi', 'Adventure', \"Children's\", 'Comedy', 'Fantasy', 'Sci-Fi', 'Comedy', 'Western', 'Adventure', \"Children's\", 'Adventure', \"Children's\", 'Action', 'Thriller', \"Children's\", 'Drama', 'Comedy', 'Documentary', 'Drama', 'Romance', 'Drama', 'Romance', 'Comedy', 'Documentary', 'Comedy', 'Drama', 'Romance', 'Film-Noir', 'Drama', 'Romance', 'War', 'Drama', 'Drama', 'Drama', 'Drama', 'Comedy', 'Comedy', 'Drama', 'Drama', 'War', 'Drama', 'Mystery', 'Adventure', \"Children's\", 'Animation', \"Children's\", 'Comedy', 'Musical', \"Children's\", 'Drama', 'Animation', \"Children's\", 'Comedy', 'Musical', 'Romance', 'Animation', \"Children's\", 'Comedy', 'Musical', 'Romance', \"Children's\", 'Comedy', \"Children's\", 'Musical', \"Children's\", 'Musical', 'Animation', \"Children's\", 'Drama', 'Fantasy', 'Animation', \"Children's\", 'Fantasy', 'Musical', 'Adventure', 'Comedy', 'Musical', 'Animation', \"Children's\", 'Animation', \"Children's\", \"Children's\", 'Sci-Fi', 'Animation', \"Children's\", 'Musical', 'Adventure', \"Children's\", 'Fantasy', 'Sci-Fi', 'Action', 'Adventure', 'Sci-Fi', \"Children's\", 'Comedy', 'Animation', \"Children's\", 'Musical', \"Children's\", 'Horror', \"Children's\", 'Comedy', 'Adventure', 'Animation', \"Children's\", 'Musical', 'Comedy', 'Fantasy', 'Romance', 'Adventure', 'Drama', 'Animation', \"Children's\", 'Comedy', 'Musical', 'Adventure', \"Children's\", 'Drama', 'Action', 'Adventure', 'Fantasy', 'Sci-Fi', 'Drama', 'War', 'Horror', 'Thriller', 'Comedy', 'Romance', 'Comedy', 'Comedy', 'Crime', 'Thriller', 'Comedy', 'Crime', 'Drama', 'Horror', 'Thriller', 'Drama', 'Action', 'Adventure', 'Adventure', 'Animation', \"Children's\", 'Sci-Fi', 'Drama', 'Sci-Fi', 'Horror', 'Thriller', 'Horror', 'Drama', 'Horror', 'Horror', 'Thriller', 'Horror', 'Thriller', 'Animation', \"Children's\", 'Comedy', 'Drama', 'Romance', 'Action', 'Crime', 'Mystery', 'Thriller', 'Drama', 'Romance', 'Comedy', 'Documentary', 'Crime', 'Drama', 'Romance', 'Drama', 'Drama', 'Adventure', 'Comedy', 'Comedy', 'Adventure', 'Musical', 'Comedy', 'Animation', \"Children's\", 'Animation', \"Children's\", 'Drama', 'Fantasy', 'Animation', \"Children's\", \"Children's\", 'Fantasy', 'Sci-Fi', 'Animation', \"Children's\", 'Comedy', 'Animation', \"Children's\", 'Comedy', 'Adventure', 'Fantasy', 'Romance', 'Comedy', 'Comedy', 'Drama', 'Romance', 'Drama', 'Romance', 'Drama', 'Comedy', 'Horror', 'Comedy', 'Horror', 'Comedy', 'Comedy', \"Children's\", 'Comedy', 'Action', 'Adventure', 'Drama', 'Romance', 'Comedy', 'Comedy', 'Drama', 'Romance', 'Crime', 'Horror', 'Crime', 'Horror', 'Horror', 'Thriller', 'Adventure', \"Children's\", 'Fantasy', 'Adventure', \"Children's\", 'Fantasy', 'Comedy', 'Horror', 'Drama', 'Drama', 'Drama', 'Romance', 'Action', 'Adventure', 'Horror', 'Drama', 'Romance', 'Comedy', 'Action', 'Comedy', 'Comedy', 'Drama', 'Romance', 'Comedy', 'Adventure', 'Fantasy', 'Sci-Fi', 'Comedy', 'Fantasy', 'Drama', 'Romance', 'Thriller', 'Comedy', 'Thriller', 'Thriller', 'Thriller', 'Thriller', 'Thriller', 'Drama', 'Film-Noir', 'Thriller', 'Thriller', 'Mystery', 'Thriller', 'Thriller', 'Film-Noir', 'Thriller', 'Mystery', 'Thriller', 'Drama', 'Animation', 'Drama', 'Comedy', 'Drama', 'Action', 'Adventure', 'Fantasy', 'Action', 'Crime', 'Drama', 'Comedy', 'Action', 'Drama', 'Documentary', 'Crime', 'Drama', 'Drama', 'Drama', 'Drama', 'Thriller', 'War', 'Film-Noir', 'Thriller', 'Thriller', 'Comedy', 'Mystery', 'Thriller', 'Drama', 'Comedy', 'Mystery', 'Romance', 'Thriller', 'Crime', 'Thriller', 'Thriller', 'Thriller', 'Thriller', 'Comedy', 'Musical', 'Thriller', 'Comedy', 'Romance', 'Drama', 'Comedy', 'Musical', 'Drama', 'Mystery', 'Thriller', 'Drama', 'Thriller', 'Comedy', 'Comedy', 'Drama', 'Drama', 'Drama', 'Thriller', 'Drama', 'Drama', 'Comedy', 'Crime', 'Drama', 'Sci-Fi', 'Thriller', 'Drama', 'Drama', 'Drama', 'War', 'Drama', 'Drama', 'Comedy', 'Drama', 'Comedy', 'Drama', 'Drama', 'Comedy', 'Drama', 'Comedy', 'Drama', 'Romance', 'Comedy', 'Romance', 'Comedy', 'Drama', 'Comedy', 'Comedy', 'Comedy', 'Drama', 'Romance', 'Comedy', 'Drama', 'Comedy', 'Comedy', 'Drama', 'Action', 'Comedy', 'Fantasy', 'Drama', 'Comedy', 'Horror', 'Sci-Fi', 'Comedy', 'Romance', 'Action', 'Comedy', 'Romance', 'Action', 'Crime', 'Comedy', 'Comedy', 'Drama', 'Romance', 'Thriller', 'Drama', 'Adventure', 'Comedy', 'Comedy', 'Romance', 'Mystery', 'Thriller', 'Crime', 'Drama', 'Drama', 'Documentary', 'Drama', 'Drama', 'Action', 'Thriller', 'Drama', 'Action', 'Adventure', 'Sci-Fi', 'Drama', 'Drama', 'Action', 'Crime', 'Thriller', 'Horror', 'Thriller', 'Crime', 'Crime', 'Comedy', 'Drama', 'Drama', 'Drama', 'Drama', 'Comedy', 'Sci-Fi', 'Thriller', 'War', 'Action', 'Horror', 'Sci-Fi', 'Thriller', 'Comedy', 'Drama', 'Comedy', 'Drama', 'Drama', 'Romance', 'Romance', 'Drama', 'Animation', \"Children's\", 'Comedy', 'Comedy', 'Drama', 'Romance', 'Thriller', 'Comedy', 'Comedy', 'Musical', 'Comedy', 'Comedy', 'Drama', 'Musical', 'Drama', 'Drama', 'Comedy', 'Action', 'Drama', 'Action', 'Crime', 'Drama', 'Drama', 'Mystery', 'Sci-Fi', 'Drama', 'Drama', 'Drama', 'Horror', 'Thriller', 'Drama', 'Romance', 'Comedy', 'Comedy', 'Comedy', 'Drama', 'Thriller', 'Comedy', 'Action', 'Adventure', 'Sci-Fi', 'Thriller', 'War', 'Documentary', 'Comedy', 'Drama', 'Comedy', 'Drama', 'Thriller', 'Horror', 'Horror', 'Drama', 'Documentary', 'Comedy', 'Romance', 'Crime', 'Drama', 'Drama', 'Action', 'Thriller', 'Comedy', 'Drama', 'Drama', 'Horror', 'Mystery', 'Thriller', 'Comedy', 'Romance', 'Romance', 'Drama', 'Comedy', 'Drama', 'Action', 'Adventure', 'Drama', 'Thriller', 'Drama', 'Sci-Fi', 'Thriller', 'Action', 'Drama', 'Comedy', 'Thriller', 'Comedy', 'Drama', 'Comedy', 'Drama', 'Action', 'Thriller', 'Animation', \"Children's\", 'Comedy', 'Animation', \"Children's\", 'Comedy', 'Comedy', 'Drama', 'Drama', 'Comedy', 'Drama', 'Comedy', 'Drama', 'Action', 'Sci-Fi', 'Action', 'Sci-Fi', 'Action', 'Sci-Fi', 'Action', 'Adventure', 'Horror', 'Action', 'Adventure', 'Horror', 'Action', 'Adventure', 'Horror', 'Comedy', 'Romance', 'Action', 'Adventure', 'Drama', 'Comedy', 'Comedy', 'Action', 'Adventure', 'Comedy', 'Drama', 'Comedy', 'Action', 'Horror', 'Sci-Fi', 'Comedy', 'Comedy', 'Comedy', 'Comedy', 'Comedy', 'Comedy', \"Children's\", 'Comedy', 'Comedy', 'Romance', 'Drama', 'Comedy', 'Crime', 'Drama', 'Romance', 'Crime', 'Horror', 'Thriller', 'Comedy', 'Crime', 'Thriller', 'Comedy', 'Drama', 'Action', 'Sci-Fi', 'Animation', 'Musical', 'Comedy', 'Comedy', 'Romance', 'Drama', 'Drama', 'Adventure', \"Children's\", 'Fantasy', \"Children's\", 'Drama', 'Western', 'Action', 'War', 'Action', 'Action', 'War', 'Action', 'Adventure', 'Comedy', 'Romance', 'Action', 'Adventure', 'Comedy', 'Romance', 'Comedy', 'Sci-Fi', 'Comedy', 'Sci-Fi', 'Action', 'Drama', 'Action', 'Drama', 'Action', 'Drama', 'Action', 'Drama', 'Comedy', 'Mystery', 'Action', 'Adventure', 'Mystery', 'Drama', 'Romance', 'Comedy', 'Comedy', 'Drama', 'Comedy', 'Drama', 'Thriller', 'Drama', 'Action', 'Adventure', 'Drama', 'Action', 'Adventure', 'Drama', 'Comedy', 'Comedy', 'Romance', 'Crime', 'Comedy', 'Drama', 'Romance', 'Action', 'Drama', 'War', 'Horror', 'Sci-Fi', 'Adventure', \"Children's\", 'Drama', 'Adventure', \"Children's\", 'Drama', 'Comedy', 'Drama', 'Drama', 'Drama', 'Drama', 'Drama', 'Comedy', 'Drama', 'Drama', 'Thriller', 'Drama', 'Drama', 'Drama', 'Western', 'Drama', 'Drama', 'Romance', 'Comedy', 'Drama', 'Drama', 'Thriller', 'Comedy', 'Drama', 'Horror', 'Sci-Fi', 'Adventure', \"Children's\", 'Adventure', \"Children's\", 'Sci-Fi', 'Horror', 'Horror', 'Drama', 'Fantasy', 'Horror', 'Sci-Fi', 'Horror', 'Sci-Fi', 'Horror', 'Sci-Fi', 'Action', 'Comedy', 'Comedy', 'Crime', 'Horror', 'Horror', 'Horror', 'Horror', 'Comedy', 'Horror', 'Horror', 'Drama', 'Mystery', 'Action', 'Comedy', 'Romance', 'Thriller', 'Comedy', 'Romance', 'Adventure', 'Comedy', 'Adventure', 'Comedy', 'Comedy', 'Comedy', 'Drama', 'Action', 'Mystery', 'Thriller', 'Action', 'War', 'Adventure', 'Comedy', 'Western', 'Drama', 'Thriller', 'Drama', 'Drama', 'Romance', 'Comedy', 'Romance', 'Comedy', 'Horror', 'Thriller', 'Comedy', 'Comedy', 'Romance', 'Drama', 'Action', 'Comedy', 'Drama', 'Horror', 'Thriller', 'Drama', 'Action', 'Thriller', 'Comedy', 'Romance', 'Comedy', 'Drama', 'Documentary', 'Animation', 'Sci-Fi', 'Comedy', 'Romance', 'Romance', 'Comedy', 'Sci-Fi', 'Comedy', 'Comedy', 'Drama', 'Comedy', 'Romance', 'Drama', 'Comedy', 'Drama', 'Thriller', 'Comedy', 'Drama', 'Romance', 'Comedy', 'Drama', 'Comedy', 'Comedy', 'Romance', 'Crime', 'Drama', 'Horror', 'Horror', 'Horror', 'Horror', 'Horror', 'Comedy', 'Horror', 'Drama', 'Drama', 'Drama', 'Drama', 'Thriller', 'Action', 'Drama', 'Action', 'Horror', 'Sci-Fi', 'Sci-Fi', 'Action', 'Sci-Fi', 'Thriller', 'Western', 'Action', 'Adventure', 'Sci-Fi', 'Action', 'Sci-Fi', 'Action', 'Sci-Fi', 'Action', 'Sci-Fi', 'Action', 'Sci-Fi', 'Action', 'Sci-Fi', 'Action', 'Action', 'Drama', 'Adventure', 'Documentary', 'Comedy', 'Action', 'Crime', 'Drama', 'Thriller', 'Drama', 'Comedy', 'Crime', 'Thriller', 'Comedy', 'Drama', 'Comedy', 'Drama', 'Drama', 'Horror', 'Action', 'Sci-Fi', 'Horror', 'Thriller', 'Drama', 'Thriller', 'Comedy', 'Horror', 'Sci-Fi', 'Thriller', 'Horror', 'Sci-Fi', 'Thriller', 'Comedy', 'Comedy', 'Drama', 'Romance', 'Drama', 'Comedy', 'Romance', 'Animation', \"Children's\", 'Drama', 'Horror', 'Crime', 'Thriller', 'Drama', 'Drama', 'Drama', 'Musical', 'Animation', \"Children's\", 'Comedy', 'Action', 'Crime', 'Drama', 'Romance', 'Drama', 'Romance', 'Action', 'Sci-Fi', 'Thriller', 'Comedy', 'Romance', 'Drama', 'Comedy', 'Drama', 'Drama', 'Comedy', 'Drama', 'Sci-Fi', 'Drama', 'Crime', 'Comedy', 'Romance', 'Action', 'Comedy', 'Mystery', 'Comedy', 'Drama', 'Romance', 'Comedy', 'Crime', 'Thriller', 'Comedy', 'Drama', 'Comedy', 'Drama', 'Romance', 'Drama', 'Comedy', 'Romance', 'Drama', 'Comedy', 'Drama', 'Romance', 'Sci-Fi', 'Documentary', 'Comedy', 'Drama', 'Comedy', 'Romance', 'Comedy', 'Comedy', 'Action', 'Sci-Fi', 'Thriller', 'Comedy', 'Adventure', 'Sci-Fi', 'Drama', 'Documentary', 'Crime', 'Thriller', 'Comedy', 'Horror', 'Drama', 'Thriller', 'Drama', 'Drama', 'Drama', 'Drama', 'Action', 'Horror', 'Sci-Fi', 'Action', 'Horror', 'Sci-Fi', 'Adventure', 'Sci-Fi', 'Action', 'Crime', 'Action', 'Adventure', 'Horror', 'Thriller', 'Comedy', 'Drama', 'Drama', 'Romance', 'Drama', 'Romance', 'Comedy', 'Fantasy', 'Comedy', 'Drama', 'Action', 'Comedy', 'Drama', 'Romance', 'Documentary', 'Drama', 'Action', 'Adventure', 'Fantasy', 'Sci-Fi', 'Comedy', 'Romance', 'Drama', 'Comedy', 'Film-Noir', 'Thriller', 'Drama', 'Horror', 'Romance', 'Horror', 'Horror', 'Horror', 'Horror', 'Horror', 'Drama', 'Action', 'Adventure', 'Sci-Fi', 'Action', 'Adventure', 'Sci-Fi', 'Action', 'Adventure', 'Sci-Fi', 'Action', 'Adventure', 'Sci-Fi', 'Horror', 'Horror', 'Horror', 'Horror', 'Horror', 'Horror', 'Horror', 'Horror', 'Horror', 'Horror', 'Horror', 'Horror', 'Horror', 'Sci-Fi', 'Comedy', 'Horror', 'Musical', 'Sci-Fi', 'Sci-Fi', 'Comedy', 'Documentary', 'Sci-Fi', 'Sci-Fi', 'Action', 'Sci-Fi', 'War', 'Sci-Fi', 'Horror', 'Sci-Fi', 'Sci-Fi', 'Sci-Fi', 'Sci-Fi', 'Horror', 'Sci-Fi', 'War', 'War', 'Comedy', 'Romance', 'Drama', 'Sci-Fi', 'Thriller', 'Drama', 'Drama', 'Comedy', 'Drama', 'Romance', 'Drama', 'Thriller', 'Documentary', 'Drama', 'Drama', 'Romance', 'Drama', 'Comedy', 'Romance', 'Sci-Fi', 'Drama', 'Comedy', 'Comedy', 'Drama', 'Comedy', 'Drama', 'Drama', 'Mystery', 'Animation', \"Children's\", 'Drama', 'Thriller', 'Documentary', 'Comedy', 'Drama', 'Action', 'Crime', 'Romance', 'Documentary', 'Comedy', 'Drama', 'Comedy', 'Comedy', 'Drama', 'Romance', 'Sci-Fi', 'Action', 'Comedy', 'Sci-Fi', 'Thriller', 'Animation', 'Comedy', 'Action', 'Sci-Fi', 'Western', 'Drama', 'Drama', 'Drama', 'Romance', 'Drama', 'Comedy', 'Thriller', 'Romance', \"Children's\", 'Comedy', 'Horror', 'Drama', 'Drama', 'Horror', 'Thriller', 'Drama', 'Comedy', 'Romance', 'Comedy', 'Horror', 'Comedy', 'Horror', 'Comedy', 'Horror', 'Thriller', 'Action', 'Adventure', \"Children's\", 'Comedy', 'Romance', 'Action', 'Sci-Fi', 'Thriller', 'Action', 'Adventure', 'Comedy', 'Comedy', 'Romance', 'Drama', 'Crime', 'Film-Noir', 'Film-Noir', 'Drama', 'Drama', 'Drama', 'Drama', 'Drama', 'Adventure', 'Comedy', 'Drama', 'Action', 'Adventure', 'Comedy', 'Comedy', 'Action', 'Comedy', 'Drama', 'Drama', 'Horror', 'Action', 'Thriller', 'Comedy', 'Drama', 'Drama', 'Drama', 'Drama', 'Comedy', 'Horror', 'Musical', 'Comedy', 'Horror', 'Action', 'Adventure', 'Drama', 'Mystery', 'Comedy', 'Drama', 'Comedy', 'Comedy', 'Mystery', 'Thriller', 'Horror', 'Drama', 'Action', 'Drama', 'Drama', 'Comedy', 'Drama', 'Animation', \"Children's\", 'Thriller', 'Action', 'Thriller', 'Crime', 'Drama', 'Thriller', 'Comedy', 'Drama', 'Comedy', 'Drama', 'Comedy', 'Comedy', 'Crime', 'Mystery', 'Comedy', 'Drama', 'Comedy', 'Drama', 'Comedy', 'Romance', 'Drama', 'Documentary', 'Drama', 'Thriller', 'Comedy', 'Comedy', 'Horror', 'Horror', 'Horror', 'Horror', 'Horror', 'Horror', 'Comedy', 'Horror', 'Comedy', 'Horror', 'Horror', 'Comedy', 'Comedy', 'Comedy', 'Horror', 'Comedy', 'Comedy', 'Comedy', 'Comedy', 'Fantasy', 'Comedy', 'Comedy', 'Animation', \"Children's\", 'Drama', 'Romance', 'Action', 'Romance', 'Thriller', 'Thriller', 'Comedy', 'Drama', 'Comedy', 'Romance', 'Comedy', 'Thriller', 'Action', 'Sci-Fi', 'Action', 'Sci-Fi', 'Comedy', 'Animation', 'Mystery', 'Comedy', 'Action', 'Thriller', 'Documentary', 'Horror', 'Action', 'War', 'Action', 'War', 'Action', 'War', 'Action', 'War', 'Thriller', 'Drama', 'Adventure', 'Drama', 'Adventure', 'Romance', 'Action', 'Drama', 'Documentary', 'Drama', 'Action', 'Horror', 'Thriller', 'Sci-Fi', 'Thriller', \"Children's\", 'Comedy', 'Comedy', 'Drama', 'Drama', 'Drama', 'Drama', 'Romance', 'War', 'Comedy', 'Romance', 'Action', 'Thriller', 'Comedy', 'Comedy', 'Romance', 'Comedy', 'Drama', 'Thriller', 'Thriller', 'Crime', 'Drama', 'Comedy', 'Romance', 'Drama', 'Mystery', 'Drama', \"Children's\", 'Drama', 'Drama', 'Comedy', 'Drama', 'Drama', 'Thriller', 'Adventure', 'Sci-Fi', 'Thriller', 'Drama', 'Horror', 'Horror', 'Horror', 'Thriller', 'Animation', 'Musical', 'Comedy', 'Drama', 'Documentary', 'Comedy', 'Comedy', 'Drama', 'Drama', 'Comedy', 'Musical', 'Comedy', 'Comedy', 'Drama', 'Comedy', 'Horror', 'Horror', 'Drama', 'Comedy', 'Adventure', 'Thriller', 'Action', 'Drama', 'Fantasy', 'Romance', 'Drama', 'Mystery', 'Romance', 'Comedy', 'Drama', 'Mystery', 'Romance', 'Animation', \"Children's\", 'Drama', 'Musical', 'Horror', 'Action', 'Adventure', 'Comedy', 'Action', 'Adventure', 'Comedy', 'Action', 'Thriller', 'Drama', 'Comedy', 'Comedy', 'Romance', 'Drama', 'Romance', \"Children's\", 'Comedy', 'Drama', 'Comedy', 'Romance', 'Comedy', 'Drama', 'War', 'Comedy', 'Action', 'Drama', 'Action', 'Drama', 'Drama', 'Romance', 'Adventure', 'Western', 'Comedy', 'War', 'Horror', 'Mystery', 'Adventure', 'Animation', \"Children's\", 'Horror', 'Sci-Fi', 'Horror', 'Sci-Fi', 'Horror', 'Thriller', 'Horror', 'Thriller', 'Drama', 'Action', 'Adventure', 'Drama', 'Romance', 'Comedy', 'Drama', 'Documentary', 'Drama', 'Romance', 'Drama', 'Action', 'Crime', 'Drama', 'Comedy', 'Comedy', 'Drama', 'Comedy', 'Action', 'Adventure', 'Sci-Fi', 'Thriller', 'Crime', 'Thriller', 'Comedy', 'Drama', 'Romance', 'Drama', 'Romance', 'Western', 'Western', 'Comedy', 'Action', 'Comedy', 'Drama', 'Comedy', 'Drama', 'Drama', 'Romance', 'Drama', 'Drama', 'Documentary', 'Drama', 'Drama', 'Drama', 'Musical', 'Comedy', 'Romance', 'Comedy', 'Comedy', 'Drama', 'Drama', 'Thriller', 'Film-Noir', 'Musical', 'Romance', 'War', 'Drama', 'Romance', 'Drama', 'Romance', 'Action', 'War', 'Mystery', 'Comedy', 'Musical', 'Action', 'Action', 'Action', 'Adventure', 'Drama', 'Romance', 'Action', 'Western', 'Crime', 'Thriller', \"Children's\", 'Comedy', 'Drama', 'Drama', 'Action', 'Crime', 'Thriller', 'Drama', 'Drama', 'Drama', 'Drama', 'Comedy', 'Drama', 'Comedy', 'Romance', 'Crime', 'Drama', 'Drama', 'Action', 'Drama', 'Drama', 'Thriller', 'Adventure', 'Fantasy', 'Sci-Fi', 'Drama', 'Romance', 'Adventure', 'Drama', 'Musical', 'Drama', 'War', 'Comedy', 'Horror', 'Thriller', 'Drama', 'Drama', 'Horror', 'Comedy', 'Drama', 'Comedy', 'Romance', 'Drama', 'Drama', 'Documentary', 'Horror', 'Thriller', 'Thriller', 'Documentary', 'Action', 'Crime', 'Sci-Fi', 'Action', 'Crime', 'Sci-Fi', 'Adventure', 'Animation', 'Film-Noir', 'Drama', 'Action', 'Action', 'Action', 'Horror', 'Thriller', 'Action', 'Drama', 'Horror', 'Drama', 'Comedy', 'Romance', 'Comedy', 'Action', 'Adventure', 'Animation', 'Drama', 'Documentary', 'Comedy', 'Drama', 'Comedy', 'Romance', 'Thriller', 'Drama', 'Documentary', 'Thriller', 'Drama', 'Drama', 'Drama', 'Comedy', 'Comedy', 'Horror', 'Comedy', 'Thriller', 'Horror', 'Horror', 'Horror', 'Crime', 'Drama', 'Action', 'Drama', 'Horror', 'Comedy', 'Comedy', 'Romance', 'Horror', 'Sci-Fi', 'Western', 'Horror', 'Horror', 'Comedy', 'Action', 'Drama', 'Comedy', 'Drama', 'Western', 'Comedy', 'Sci-Fi', 'Comedy', 'Sci-Fi', 'Animation', \"Children's\", 'Comedy', 'Drama', 'War', 'Adventure', 'Comedy', 'Drama', 'Western', 'Drama', 'Comedy', 'Comedy', 'Comedy', 'Comedy', 'Comedy', 'Mystery', 'Romance', 'Thriller', 'Comedy', 'Drama', 'Comedy', 'Romance', 'Drama', 'Comedy', 'Comedy', 'War', 'Drama', 'Drama', 'Comedy', 'Drama', 'War', 'Animation', \"Children's\", 'Thriller', 'Thriller', 'Comedy', 'Horror', 'Sci-Fi', 'Drama', 'Comedy', 'Drama', 'Comedy', 'Musical', 'Action', 'Drama', 'War', 'Thriller', 'Thriller', 'Drama', 'War', 'Comedy', 'Drama', 'Drama', 'Drama', 'Adventure', 'Comedy', 'Sci-Fi', 'Drama', 'Comedy', 'Drama', 'Romance', 'Western', 'Thriller', 'Comedy', 'Documentary', 'Drama', 'Drama', 'Drama', 'Sci-Fi', 'Horror', 'Romance', 'Action', 'Thriller', 'Comedy', 'Drama', 'Documentary', 'Horror', 'Comedy', 'Comedy', 'Comedy', 'Drama', 'Drama', 'Drama', 'War', 'Drama', 'Drama', 'Western', 'Drama', 'Romance', 'Drama', 'Comedy', 'Comedy', 'Romance', 'Drama', 'Comedy', 'Romance', 'Drama', 'Thriller', 'Thriller', 'Drama', 'Romance', 'Action', 'Adventure', 'Comedy', 'Crime', 'Drama', 'Drama', 'Romance', 'Action', 'Drama', 'Comedy', 'Drama', 'Romance', 'Drama', 'Drama', 'Drama', 'Drama', 'Action', 'Thriller', 'Animation', \"Children's\", 'Comedy', 'Drama', 'Drama', 'Drama', 'Romance', 'War', 'Drama', 'Horror', 'Comedy', 'Film-Noir', 'Drama', 'Romance', 'Western', 'Comedy', 'Comedy', 'Drama', 'Drama', 'Drama', 'Drama', 'Drama', 'Comedy', 'Drama', 'Comedy', 'Comedy', 'Comedy', 'Comedy', 'Drama', 'War', 'Drama', 'Documentary', 'Action', 'War', 'Drama', 'Action', 'Adventure', 'Comedy', 'Drama', 'Documentary', 'Musical', 'Drama', 'War', 'Comedy', 'Romance', 'Drama', 'Comedy', 'Drama', 'Thriller', 'Drama', 'Mystery', 'Drama', 'Crime', 'Drama', 'Mystery', 'Drama', 'Action', 'Adventure', 'Fantasy', 'Drama', 'War', 'Drama', 'Romance', 'Comedy', 'Drama', 'Sci-Fi', \"Children's\", 'Comedy', 'Drama', 'Animation', \"Children's\", 'Musical', 'Drama', 'Drama', 'Comedy', 'Drama', 'Drama', 'Drama', 'Action', 'Drama', 'Adventure', 'Drama', 'Adventure', 'Drama', 'Drama', 'Western', 'Drama', 'Adventure', 'Drama', 'Comedy', 'Drama', 'Adventure', 'Comedy', 'Sci-Fi', 'Drama', 'Mystery', 'Thriller', 'Comedy', 'Drama', 'Drama', 'Comedy', 'Drama', 'Drama', 'Documentary', 'Drama', 'Action', 'Comedy', 'Crime', 'Drama', 'Drama', 'Drama', 'Drama', 'Documentary', 'Comedy', 'Adventure', 'Sci-Fi', 'Drama', 'Drama', 'Documentary', 'Drama', 'Drama', 'Drama', 'War', 'Action', 'Drama', 'Comedy', 'Musical', 'Romance', 'Comedy', 'Drama', 'Drama', 'Drama', 'Thriller', 'Thriller', 'Horror', 'Romance', 'Adventure', 'Action', 'Comedy', 'Drama', 'Comedy', 'Drama', 'Drama', 'Animation', \"Children's\", 'Drama', 'Drama', 'Horror', 'Drama', 'Drama', 'Thriller', 'Drama', 'Drama', 'Drama', 'Drama', 'Drama', 'Comedy', 'Romance', 'Documentary', 'Comedy', 'Drama', 'Thriller', 'Comedy', 'Crime', 'Drama', 'Thriller', 'Comedy', 'Comedy', 'Comedy', 'Comedy', 'Comedy', 'Western', 'Documentary', 'Thriller', 'Comedy', 'Comedy', 'Comedy', 'Comedy', 'Comedy', 'Comedy', 'Romance', 'Drama', 'Drama', 'Comedy', 'Crime', 'Comedy', 'Thriller', 'Drama', 'Drama', 'Mystery', 'Drama', 'Comedy', 'Comedy', 'Comedy', 'Drama', 'Action', 'Thriller', 'Action', 'Drama', 'Romance', 'Thriller', 'Comedy', 'Drama', 'Romance', 'Drama', 'Comedy', 'Drama', 'Romance', 'Drama', 'Mystery', 'Comedy', 'Comedy', 'Horror', 'Action', 'Crime', 'Action', 'Comedy', 'Crime', 'Drama', 'Action', 'Thriller', 'Action', 'Comedy', 'Adventure', 'Romance', 'Sci-Fi', 'Drama', 'Drama', 'Crime', 'Drama', 'Horror', 'Mystery', 'Thriller', 'Action', 'Action', 'Comedy', 'Comedy', 'Drama', 'Documentary', 'Action', 'Adventure', 'Horror', 'Documentary', 'Comedy', 'Action', 'Comedy', 'Romance', 'Adventure', 'Drama', 'Comedy', 'Animation', \"Children's\", 'Drama', 'Drama', 'Comedy', 'Thriller', 'Film-Noir', 'Drama', 'Sci-Fi', 'Horror', 'Drama', 'Drama', 'Documentary', 'Drama', 'Comedy', 'Drama', 'Action', 'Sci-Fi', 'Comedy', 'Crime', 'Comedy', 'Documentary', 'Crime', 'Drama', 'Film-Noir', 'Horror', 'Comedy', 'Comedy', 'Drama', 'Romance', 'Comedy', 'Drama', 'Comedy', 'Action', 'Western', 'Drama', 'Comedy', 'Action', 'Drama', 'Musical', 'Action', 'Thriller', 'Comedy', 'Drama', 'Thriller', 'Drama', 'Comedy', 'Romance', 'Comedy', 'Comedy', 'Comedy', 'Crime', 'Comedy', 'Comedy', 'Drama', 'Comedy', 'Sci-Fi', 'Documentary', 'Crime', 'Drama', 'Drama', 'Drama', 'Drama', 'Adventure', \"Children's\", 'Drama', 'Crime', 'Drama', 'Film-Noir', 'Thriller', 'Crime', 'Drama', 'Drama', 'Comedy', 'Drama', 'Documentary', 'War', 'Horror', 'Sci-Fi', 'Comedy', 'Drama', 'War', 'Comedy', 'Drama', 'Romance', 'Horror', 'Adventure', \"Children's\", 'Horror', 'Drama', 'Crime', 'Thriller', 'Comedy', 'Drama', 'Horror', 'Drama', 'Comedy', 'Romance', 'Sci-Fi', 'Thriller', 'Documentary', 'Drama', 'Romance', 'Comedy', 'Romance', 'Drama', 'Drama', 'Comedy', 'Comedy', 'Crime', 'Drama', 'Comedy', 'Drama', 'Crime', 'Film-Noir', 'Western', 'Action', 'Adventure', 'War', 'War', 'Romance', 'Western', 'Crime', 'Drama', 'Thriller', 'Drama', 'Action', 'War', 'Western', 'Drama', 'Sci-Fi', 'Romance', 'Drama', 'War', 'Drama', 'Drama', 'Film-Noir', 'Comedy', 'Drama', 'Drama', 'Drama', 'Musical', 'Action', 'Comedy', 'Drama', 'Mystery', 'Comedy', 'Comedy', 'Action', 'Adventure', 'Adventure', 'Comedy', 'Comedy', 'Comedy', 'Fantasy', 'Comedy', 'Romance', 'Comedy', \"Children's\", 'Comedy', \"Children's\", 'Comedy', \"Children's\", 'Comedy', \"Children's\", 'Comedy', 'Animation', \"Children's\", 'Adventure', 'Sci-Fi', 'Drama', 'Drama', 'Thriller', 'Action', 'Drama', 'Action', 'Drama', 'Action', 'Adventure', 'War', 'Comedy', 'Drama', 'Drama', 'Drama', 'Thriller', 'Comedy', 'Drama', 'Drama', 'Adventure', 'Crime', 'Drama', 'Romance', 'Drama', 'Drama', 'Adventure', 'Comedy', 'Sci-Fi', 'Action', 'Drama', 'Comedy', 'Crime', 'Drama', 'Thriller', 'Comedy', 'Comedy', 'Romance', 'Drama', 'Comedy', 'Drama', 'Drama', 'Drama', 'Romance', 'Crime', 'Drama', 'Animation', 'Comedy', 'Action', 'Drama', 'Action', 'Drama', 'Action', 'Drama', 'Action', 'Drama', 'Action', 'Drama', 'Crime', 'Film-Noir', 'Drama', 'Romance', 'Drama', 'Action', \"Children's\", 'Fantasy', 'Action', \"Children's\", 'Fantasy', 'Action', \"Children's\", 'Fantasy', 'Action', 'War', 'Action', 'Action', 'Drama', 'Thriller', 'Action', 'Mystery', 'Thriller', 'Comedy', 'Drama', 'Comedy', 'Drama', 'War', 'Drama', 'Comedy', 'Comedy', 'Drama', 'Action', 'Romance', 'Drama', 'Romance', 'Comedy', 'Romance', 'Drama', 'Thriller', 'Drama', 'Drama', 'Drama', 'Romance', 'Drama', 'Horror', 'Comedy', 'Adventure', 'Drama', 'Thriller', 'Comedy', 'Comedy', 'Sci-Fi', 'Thriller', 'Drama', 'Comedy', 'Fantasy', 'Drama', 'Western', 'Drama', 'Drama', 'Adventure', 'Drama', 'Drama', 'Sci-Fi', 'Horror', 'Comedy', 'Sci-Fi', 'Thriller', 'Drama', 'Romance', 'Horror', 'Mystery', 'Thriller', 'Comedy', 'Drama', 'Drama', 'Adventure', 'Fantasy', 'Romance', 'Drama', 'Comedy', 'Drama', 'Animation', \"Children's\", 'Thriller', 'Horror', 'Sci-Fi', 'Western', 'Horror', 'Sci-Fi', 'Adventure', 'Fantasy', 'Horror', 'Comedy', 'Adventure', 'Horror', 'Adventure', 'Western', 'Comedy', 'Drama', 'Drama', 'Comedy', 'Drama', 'Horror', 'Comedy', 'Drama', 'Comedy', 'Romance', 'Drama', 'Drama', 'Sci-Fi', 'Comedy', 'Drama', 'Thriller', 'Comedy', 'Drama', 'Comedy', 'Western', 'Drama', 'Drama', 'Thriller', 'Comedy', 'Drama', 'Romance', 'Drama', 'Thriller', 'Drama', 'Comedy', 'Comedy', 'Romance', 'Crime', 'Drama', 'Drama', 'Thriller', 'Action', 'War', 'Comedy', 'Comedy', 'Crime', 'Drama', 'Drama', 'Action', 'Thriller', 'Comedy', 'Romance', 'Comedy', 'Comedy', 'Drama', 'Action', 'Sci-Fi', 'Thriller', 'Drama', 'Romance', 'Crime', 'Thriller', 'Comedy', 'Comedy', 'Drama', 'Romance', 'Comedy', 'Drama', 'Comedy', 'Comedy', 'Horror', 'Thriller', 'Comedy', 'Romance', 'Comedy', 'Drama', 'Comedy', 'Documentary', 'Romance', 'Thriller', 'Action', 'Drama', 'Comedy', 'Drama', 'Comedy', 'Musical', 'War', 'Drama', 'Thriller', 'Drama', 'Comedy', 'Drama', 'Musical', 'Horror', 'Thriller', 'Comedy', 'Drama', 'Thriller', 'Drama', 'Romance', 'Action', 'Thriller', 'Comedy', 'Drama', 'Thriller', 'Drama', 'Drama', 'Drama', 'Drama', 'Comedy', 'Drama', 'Action', 'Horror', \"Children's\", 'Comedy', 'Comedy', 'Drama', 'Comedy', 'Drama', 'Comedy', 'Drama', 'Comedy', 'Drama', 'Drama', 'Drama', 'Horror', 'Sci-Fi', 'Horror', 'Sci-Fi', 'Horror', 'Sci-Fi', 'Drama', 'Action', 'Horror', 'Sci-Fi', 'Drama', 'Action', 'Drama', 'Drama', 'Drama', 'Drama', 'Drama', 'Drama', 'Action', 'Drama', 'Romance', 'Thriller', 'Adventure', 'War', 'Drama', 'Horror', 'Crime', 'Drama', 'Horror', 'Comedy', 'Comedy', 'Drama', 'Animation', 'Sci-Fi', 'Action', 'Sci-Fi', 'Drama', 'Comedy', 'Comedy', 'Comedy', 'Drama', 'Comedy', 'Musical', 'Comedy', 'Musical', 'Comedy', 'Western', 'Musical', 'Comedy', 'Musical', 'Drama', 'Musical', 'Musical', 'Comedy', 'Drama', 'Western', 'Comedy', 'Documentary', 'Musical', 'Animation', \"Children's\", 'Comedy', 'Adventure', 'Musical', 'Romance', 'Comedy', 'Comedy', 'Romance', 'Animation', \"Children's\", 'Comedy', 'Romance', 'Comedy', 'Comedy', 'Comedy', 'Comedy', 'Drama', 'Drama', 'Horror', 'Comedy', 'Action', 'Thriller', 'Action', 'Documentary', 'Comedy', 'Horror', 'Thriller', 'Action', 'Drama', 'War', 'Comedy', 'Horror', 'Comedy', 'Comedy', 'Action', 'Thriller', 'Action', 'Drama', 'Drama', 'Action', 'Romance', 'Sci-Fi', 'Action', 'Comedy', 'Drama', 'Drama', 'Western', 'Action', 'Drama', 'War', 'Western', 'Drama', 'Comedy', 'Drama', 'Horror', 'Sci-Fi', 'Drama', 'Horror', 'Horror', 'Horror', 'Documentary', 'Action', 'Drama', 'War', 'Drama', 'Crime', 'Drama', 'Sci-Fi', 'Sci-Fi', 'Thriller', 'Horror', 'Sci-Fi', 'Thriller', 'Horror', 'Sci-Fi', 'Thriller', 'Horror', 'Sci-Fi', 'Thriller', 'Horror', 'Sci-Fi', 'Thriller', 'Horror', 'Sci-Fi', 'Thriller', 'Horror', 'Sci-Fi', 'Thriller', 'Horror', 'Sci-Fi', 'Thriller', 'Action', 'Comedy', 'Drama', 'Romance', 'Comedy', 'War', 'Comedy', 'Western', 'Adventure', \"Children's\", 'Adventure', \"Children's\", 'Adventure', \"Children's\", 'Musical', 'Drama', 'Horror', 'Documentary', 'Drama', 'Documentary', 'Documentary', 'Western', 'Western', 'Drama', 'Film-Noir', 'Drama', 'Romance', 'Comedy', 'Drama', 'Romance', 'Thriller', 'Sci-Fi', 'Comedy', 'Comedy', 'Comedy', 'Comedy', 'Comedy', 'Horror', 'Comedy', 'Horror', 'Comedy', 'Horror', 'Comedy', 'Horror', 'Comedy', 'Horror', 'Sci-Fi', 'Action', 'Sci-Fi', 'Thriller', 'Action', 'Adventure', 'Sci-Fi', 'Adventure', 'Drama', 'Romance', 'Sci-Fi', 'Drama', 'Sci-Fi', 'Crime', 'Drama', 'Sci-Fi', 'Action', 'Sci-Fi', 'Action', 'Sci-Fi', 'Action', 'Sci-Fi', 'Action', 'Adventure', 'Romance', 'Thriller', 'Film-Noir', 'Mystery', 'Thriller', 'Drama', 'Horror', 'Thriller', 'Horror', 'Action', 'Comedy', 'Drama', 'Comedy', 'Drama', 'Drama', 'Comedy', 'Action', 'Crime', 'Action', 'Crime', 'Documentary', 'Comedy', 'Romance', 'Drama', 'Comedy', 'Comedy', 'Drama', 'Drama', 'War', 'Animation', 'Musical', 'Action', 'Thriller', 'Comedy', 'Horror', 'Thriller', 'Action', 'Crime', 'Drama', 'Mystery', 'Drama', 'Thriller', 'Horror', 'Drama', 'Drama', 'Crime', 'Drama', 'Drama', 'Drama', 'Western', 'Drama', 'Comedy', 'Romance', 'Action', 'Comedy', 'Crime', 'Drama', 'Drama', 'War', 'Comedy', 'Romance', 'Action', 'Crime', 'Adventure', 'Animation', 'Sci-Fi', 'Drama', 'War', 'Drama', 'Comedy', 'Romance', 'Drama', 'Drama', 'Animation', \"Children's\", 'Comedy', 'Comedy', 'Action', 'Drama', 'War', 'Animation', \"Children's\", 'Comedy', 'Action', 'Adventure', 'Thriller', 'Drama', 'Horror', 'Drama', 'Sci-Fi', 'Thriller', 'Animation', \"Children's\", 'Musical', 'Comedy', 'Crime', 'Drama', 'Horror', 'Action', 'Crime', 'Thriller', 'Action', 'Crime', 'Thriller', 'Drama', 'Romance', 'Action', 'War', 'Action', 'War', 'Action', 'War', 'Action', 'Adventure', 'Crime', 'Sci-Fi', 'Thriller', 'Action', 'Adventure', 'Horror', 'Comedy', 'Comedy', 'Animation', \"Children's\", 'Musical', 'Animation', \"Children's\", 'Musical', 'Comedy', 'Horror', 'Comedy', 'Drama', 'Sci-Fi', 'Sci-Fi', 'Action', 'Crime', 'Action', 'Crime', 'Crime', 'Drama', 'Comedy', 'Comedy', 'Horror', 'Comedy', 'Comedy', 'Drama', 'Mystery', 'Drama', 'Drama', 'Drama', 'Western', 'Action', 'Sci-Fi', 'Comedy', 'Drama', 'Drama', 'Romance', 'Thriller', 'Thriller', 'Thriller', 'Animation', \"Children's\", 'Drama', 'Romance', 'Drama', 'Mystery', 'Action', 'Sci-Fi', 'Drama', 'Comedy', 'Action', 'Adventure', 'Drama', 'Western', 'Action', 'Adventure', 'Drama', 'War', 'Comedy', 'Drama', 'Thriller', 'Drama', 'War', 'Comedy', 'Drama', 'Comedy', 'Drama', 'Comedy', 'Drama', 'Comedy', 'Musical', 'Comedy', \"Children's\", 'Comedy', 'Drama', 'Romance', 'Drama', 'Drama', 'Romance', 'Drama', 'Horror', 'Sci-Fi', 'Thriller', 'Action', 'Sci-Fi', 'Comedy', 'Comedy', 'Romance', 'Comedy', 'Horror', 'Thriller', 'Comedy', 'Horror', 'Horror', 'Sci-Fi', 'Adventure', 'Drama', 'Romance', 'Thriller', 'Action', 'Comedy', 'War', 'Horror', 'Horror', 'Horror', 'Horror', 'Action', 'Comedy', 'Horror', 'Horror', 'Drama', 'Drama', 'Comedy', 'Horror', 'Drama', 'Thriller', 'Thriller', 'Crime', 'Thriller', 'Comedy', 'Comedy', 'Drama', 'Drama', 'Romance', 'Drama', 'Romance', 'Drama', 'Thriller', 'Comedy', 'Documentary', 'Crime', 'Comedy', 'Comedy', 'Sci-Fi', 'Thriller', 'Action', 'Adventure', 'Sci-Fi', 'Comedy', 'Documentary', 'Comedy', 'Drama', 'Comedy', 'Comedy', 'Drama', 'Drama', 'Western', 'Drama', 'Comedy', 'Western', 'Comedy', 'Romance', 'Horror', 'Drama', 'Action', 'Adventure', 'Fantasy', 'Sci-Fi', 'Action', 'Documentary', 'Documentary', 'Comedy', 'Comedy', 'Drama', 'Comedy', 'Comedy', 'Romance', 'Drama', 'Drama', 'Drama', 'Romance', 'Action', 'Adventure', 'Fantasy', 'Documentary', 'Crime', 'Drama', 'Horror', 'Comedy', 'Thriller', 'Drama', 'Crime', 'Thriller', 'Crime', 'Thriller', 'Comedy', 'Drama', 'Action', 'Comedy', 'Comedy', 'Comedy', 'Drama', 'Comedy', 'Drama', 'Drama', 'Drama', 'Drama', 'Comedy', 'Crime', 'Drama', 'Horror', 'Comedy', 'Romance', 'Drama', 'Musical', 'Comedy', 'Comedy', 'Drama', 'Documentary', 'Drama', 'Drama', 'Drama', 'Horror', 'Horror', 'Horror', 'Drama', 'Fantasy', 'Comedy', 'Comedy', 'Horror', 'Sci-Fi', 'Comedy', 'Comedy', 'Adventure', 'Sci-Fi', 'Adventure', 'Sci-Fi', 'Comedy', 'Horror', 'Comedy', 'Horror', 'Horror', 'Sci-Fi', 'Horror', 'Sci-Fi', 'Horror', 'Sci-Fi', 'Sci-Fi', 'Horror', 'Drama', 'Thriller', 'Sci-Fi', 'Thriller', 'Horror', 'Horror', 'Horror', 'Horror', 'Horror', 'Comedy', 'Comedy', 'Drama', 'Adventure', 'Animation', \"Children's\", 'Action', 'Drama', 'Thriller', 'Thriller', 'Comedy', 'Drama', 'Drama', 'Drama', 'Drama', 'Thriller']\n"
          ]
        }
      ]
    },
    {
      "cell_type": "code",
      "source": [
        "genre_counts = pd.value_counts(genres)  # values의 내림차순 정렬.\n",
        "genre_counts"
      ],
      "metadata": {
        "colab": {
          "base_uri": "https://localhost:8080/"
        },
        "id": "VbxI-5Ss7uNS",
        "outputId": "ddd90679-3084-4eea-eedd-735a13717411"
      },
      "execution_count": 29,
      "outputs": [
        {
          "output_type": "execute_result",
          "data": {
            "text/plain": [
              "Drama          1603\n",
              "Comedy         1200\n",
              "Action          503\n",
              "Thriller        492\n",
              "Romance         471\n",
              "Horror          343\n",
              "Adventure       283\n",
              "Sci-Fi          276\n",
              "Children's      251\n",
              "Crime           211\n",
              "War             143\n",
              "Documentary     127\n",
              "Musical         114\n",
              "Mystery         106\n",
              "Animation       105\n",
              "Fantasy          68\n",
              "Western          68\n",
              "Film-Noir        44\n",
              "dtype: int64"
            ]
          },
          "metadata": {},
          "execution_count": 29
        }
      ]
    },
    {
      "cell_type": "code",
      "source": [
        "genre_counts.index[0]  # 가장 빈도수가 많은 영화 장르"
      ],
      "metadata": {
        "colab": {
          "base_uri": "https://localhost:8080/",
          "height": 36
        },
        "id": "TPKy8ItW8WBb",
        "outputId": "3d698933-10f7-4d68-e57a-b137a8888518"
      },
      "execution_count": 31,
      "outputs": [
        {
          "output_type": "execute_result",
          "data": {
            "text/plain": [
              "'Drama'"
            ],
            "application/vnd.google.colaboratory.intrinsic+json": {
              "type": "string"
            }
          },
          "metadata": {},
          "execution_count": 31
        }
      ]
    },
    {
      "cell_type": "markdown",
      "source": [
        "빈도수 상위 7개의 장르를 시각화"
      ],
      "metadata": {
        "id": "OELBshGU9kBu"
      }
    },
    {
      "cell_type": "code",
      "source": [
        "genre_top7 = genre_counts.head(n=7)  # iloc[:7]\n",
        "genre_top7"
      ],
      "metadata": {
        "colab": {
          "base_uri": "https://localhost:8080/"
        },
        "id": "R0xRgDql9q1B",
        "outputId": "10705c10-2180-45f5-adb2-9e090d9fbb37"
      },
      "execution_count": 36,
      "outputs": [
        {
          "output_type": "execute_result",
          "data": {
            "text/plain": [
              "Drama        1603\n",
              "Comedy       1200\n",
              "Action        503\n",
              "Thriller      492\n",
              "Romance       471\n",
              "Horror        343\n",
              "Adventure     283\n",
              "dtype: int64"
            ]
          },
          "metadata": {},
          "execution_count": 36
        }
      ]
    },
    {
      "cell_type": "code",
      "source": [
        "sns.barplot(y=genre_top7.index, x=genre_top7.values)\n",
        "plt.show()"
      ],
      "metadata": {
        "colab": {
          "base_uri": "https://localhost:8080/",
          "height": 265
        },
        "id": "80ApXDyK-62a",
        "outputId": "243cba71-ad62-4628-dd09-707d23521562"
      },
      "execution_count": 37,
      "outputs": [
        {
          "output_type": "display_data",
          "data": {
            "text/plain": [
              "<Figure size 432x288 with 1 Axes>"
            ],
            "image/png": "[encoded data removed]"
          },
          "metadata": {
            "needs_background": "light"
          }
        }
      ]
    },
    {
      "cell_type": "markdown",
      "source": [
        "장르 빈도수 시각화"
      ],
      "metadata": {
        "id": "JCRGRJsf-MC2"
      }
    },
    {
      "cell_type": "code",
      "source": [
        "sns.barplot(y=genre_counts.index, x=genre_counts.values)\n",
        "plt.show()"
      ],
      "metadata": {
        "colab": {
          "base_uri": "https://localhost:8080/",
          "height": 265
        },
        "id": "bVMqZDJE-PJd",
        "outputId": "b08074eb-c05b-460f-8758-c0721262d7ff"
      },
      "execution_count": 38,
      "outputs": [
        {
          "output_type": "display_data",
          "data": {
            "text/plain": [
              "<Figure size 432x288 with 1 Axes>"
            ],
            "image/png": "[encoded data removed]"
          },
          "metadata": {
            "needs_background": "light"
          }
        }
      ]
    },
    {
      "cell_type": "markdown",
      "source": [
        "## 연도별 영화 개수 분석"
      ],
      "metadata": {
        "id": "1pB_Jswh_stt"
      }
    },
    {
      "cell_type": "code",
      "source": [
        "movies.head()"
      ],
      "metadata": {
        "colab": {
          "base_uri": "https://localhost:8080/",
          "height": 206
        },
        "id": "lHnlItiK_aO3",
        "outputId": "c7103766-170e-42b7-9a60-357d33e18275"
      },
      "execution_count": 39,
      "outputs": [
        {
          "output_type": "execute_result",
          "data": {
            "text/plain": [
              "   movie_id                               title                        genres\n",
              "0         1                    Toy Story (1995)   Animation|Children's|Comedy\n",
              "1         2                      Jumanji (1995)  Adventure|Children's|Fantasy\n",
              "2         3             Grumpier Old Men (1995)                Comedy|Romance\n",
              "3         4            Waiting to Exhale (1995)                  Comedy|Drama\n",
              "4         5  Father of the Bride Part II (1995)                        Comedy"
            ],
            "text/html": [
              "\n",
              "  <div id=\"df-b2b0a652-b56b-4200-9710-e29b62a51110\">\n",
              "    <div class=\"colab-df-container\">\n",
              "      <div>\n",
              "<style scoped>\n",
              "    .dataframe tbody tr th:only-of-type {\n",
              "        vertical-align: middle;\n",
              "    }\n",
              "\n",
              "    .dataframe tbody tr th {\n",
              "        vertical-align: top;\n",
              "    }\n",
              "\n",
              "    .dataframe thead th {\n",
              "        text-align: right;\n",
              "    }\n",
              "</style>\n",
              "<table border=\"1\" class=\"dataframe\">\n",
              "  <thead>\n",
              "    <tr style=\"text-align: right;\">\n",
              "      <th></th>\n",
              "      <th>movie_id</th>\n",
              "      <th>title</th>\n",
              "      <th>genres</th>\n",
              "    </tr>\n",
              "  </thead>\n",
              "  <tbody>\n",
              "    <tr>\n",
              "      <th>0</th>\n",
              "      <td>1</td>\n",
              "      <td>Toy Story (1995)</td>\n",
              "      <td>Animation|Children's|Comedy</td>\n",
              "    </tr>\n",
              "    <tr>\n",
              "      <th>1</th>\n",
              "      <td>2</td>\n",
              "      <td>Jumanji (1995)</td>\n",
              "      <td>Adventure|Children's|Fantasy</td>\n",
              "    </tr>\n",
              "    <tr>\n",
              "      <th>2</th>\n",
              "      <td>3</td>\n",
              "      <td>Grumpier Old Men (1995)</td>\n",
              "      <td>Comedy|Romance</td>\n",
              "    </tr>\n",
              "    <tr>\n",
              "      <th>3</th>\n",
              "      <td>4</td>\n",
              "      <td>Waiting to Exhale (1995)</td>\n",
              "      <td>Comedy|Drama</td>\n",
              "    </tr>\n",
              "    <tr>\n",
              "      <th>4</th>\n",
              "      <td>5</td>\n",
              "      <td>Father of the Bride Part II (1995)</td>\n",
              "      <td>Comedy</td>\n",
              "    </tr>\n",
              "  </tbody>\n",
              "</table>\n",
              "</div>\n",
              "      <button class=\"colab-df-convert\" onclick=\"convertToInteractive('df-b2b0a652-b56b-4200-9710-e29b62a51110')\"\n",
              "              title=\"Convert this dataframe to an interactive table.\"\n",
              "              style=\"display:none;\">\n",
              "        \n",
              "  <svg xmlns=\"http://www.w3.org/2000/svg\" height=\"24px\"viewBox=\"0 0 24 24\"\n",
              "       width=\"24px\">\n",
              "    <path d=\"M0 0h24v24H0V0z\" fill=\"none\"/>\n",
              "    <path d=\"M18.56 5.44l.94 2.06.94-2.06 2.06-.94-2.06-.94-.94-2.06-.94 2.06-2.06.94zm-11 1L8.5 8.5l.94-2.06 2.06-.94-2.06-.94L8.5 2.5l-.94 2.06-2.06.94zm10 10l.94 2.06.94-2.06 2.06-.94-2.06-.94-.94-2.06-.94 2.06-2.06.94z\"/><path d=\"M17.41 7.96l-1.37-1.37c-.4-.4-.92-.59-1.43-.59-.52 0-1.04.2-1.43.59L10.3 9.45l-7.72 7.72c-.78.78-.78 2.05 0 2.83L4 21.41c.39.39.9.59 1.41.59.51 0 1.02-.2 1.41-.59l7.78-7.78 2.81-2.81c.8-.78.8-2.07 0-2.86zM5.41 20L4 18.59l7.72-7.72 1.47 1.35L5.41 20z\"/>\n",
              "  </svg>\n",
              "      </button>\n",
              "      \n",
              "  <style>\n",
              "    .colab-df-container {\n",
              "      display:flex;\n",
              "      flex-wrap:wrap;\n",
              "      gap: 12px;\n",
              "    }\n",
              "\n",
              "    .colab-df-convert {\n",
              "      background-color: #E8F0FE;\n",
              "      border: none;\n",
              "      border-radius: 50%;\n",
              "      cursor: pointer;\n",
              "      display: none;\n",
              "      fill: #1967D2;\n",
              "      height: 32px;\n",
              "      padding: 0 0 0 0;\n",
              "      width: 32px;\n",
              "    }\n",
              "\n",
              "    .colab-df-convert:hover {\n",
              "      background-color: #E2EBFA;\n",
              "      box-shadow: 0px 1px 2px rgba(60, 64, 67, 0.3), 0px 1px 3px 1px rgba(60, 64, 67, 0.15);\n",
              "      fill: #174EA6;\n",
              "    }\n",
              "\n",
              "    [theme=dark] .colab-df-convert {\n",
              "      background-color: #3B4455;\n",
              "      fill: #D2E3FC;\n",
              "    }\n",
              "\n",
              "    [theme=dark] .colab-df-convert:hover {\n",
              "      background-color: #434B5C;\n",
              "      box-shadow: 0px 1px 3px 1px rgba(0, 0, 0, 0.15);\n",
              "      filter: drop-shadow(0px 1px 2px rgba(0, 0, 0, 0.3));\n",
              "      fill: #FFFFFF;\n",
              "    }\n",
              "  </style>\n",
              "\n",
              "      <script>\n",
              "        const buttonEl =\n",
              "          document.querySelector('#df-b2b0a652-b56b-4200-9710-e29b62a51110 button.colab-df-convert');\n",
              "        buttonEl.style.display =\n",
              "          google.colab.kernel.accessAllowed ? 'block' : 'none';\n",
              "\n",
              "        async function convertToInteractive(key) {\n",
              "          const element = document.querySelector('#df-b2b0a652-b56b-4200-9710-e29b62a51110');\n",
              "          const dataTable =\n",
              "            await google.colab.kernel.invokeFunction('convertToInteractive',\n",
              "                                                     [key], {});\n",
              "          if (!dataTable) return;\n",
              "\n",
              "          const docLinkHtml = 'Like what you see? Visit the ' +\n",
              "            '<a target=\"_blank\" href=https://colab.research.google.com/notebooks/data_table.ipynb>data table notebook</a>'\n",
              "            + ' to learn more about interactive tables.';\n",
              "          element.innerHTML = '';\n",
              "          dataTable['output_type'] = 'display_data';\n",
              "          await google.colab.output.renderOutput(dataTable, element);\n",
              "          const docLink = document.createElement('div');\n",
              "          docLink.innerHTML = docLinkHtml;\n",
              "          element.appendChild(docLink);\n",
              "        }\n",
              "      </script>\n",
              "    </div>\n",
              "  </div>\n",
              "  "
            ]
          },
          "metadata": {},
          "execution_count": 39
        }
      ]
    },
    {
      "cell_type": "code",
      "source": [
        "# 데이터프레임에 파생변수(새로운 컬럼)을 추가\n",
        "movies['year'] = movies.title.str[-5:-1].astype('int')"
      ],
      "metadata": {
        "id": "no_Ox4Wq_x7q"
      },
      "execution_count": 44,
      "outputs": []
    },
    {
      "cell_type": "code",
      "source": [
        "movies.head()"
      ],
      "metadata": {
        "colab": {
          "base_uri": "https://localhost:8080/",
          "height": 206
        },
        "id": "WEgUlHSyBDm-",
        "outputId": "35c0236e-36c9-46a5-8996-a98948dcedd1"
      },
      "execution_count": 45,
      "outputs": [
        {
          "output_type": "execute_result",
          "data": {
            "text/plain": [
              "   movie_id                               title                        genres  \\\n",
              "0         1                    Toy Story (1995)   Animation|Children's|Comedy   \n",
              "1         2                      Jumanji (1995)  Adventure|Children's|Fantasy   \n",
              "2         3             Grumpier Old Men (1995)                Comedy|Romance   \n",
              "3         4            Waiting to Exhale (1995)                  Comedy|Drama   \n",
              "4         5  Father of the Bride Part II (1995)                        Comedy   \n",
              "\n",
              "   year  \n",
              "0  1995  \n",
              "1  1995  \n",
              "2  1995  \n",
              "3  1995  \n",
              "4  1995  "
            ],
            "text/html": [
              "\n",
              "  <div id=\"df-a9178f13-6eb2-4823-90cc-7aa532a5223a\">\n",
              "    <div class=\"colab-df-container\">\n",
              "      <div>\n",
              "<style scoped>\n",
              "    .dataframe tbody tr th:only-of-type {\n",
              "        vertical-align: middle;\n",
              "    }\n",
              "\n",
              "    .dataframe tbody tr th {\n",
              "        vertical-align: top;\n",
              "    }\n",
              "\n",
              "    .dataframe thead th {\n",
              "        text-align: right;\n",
              "    }\n",
              "</style>\n",
              "<table border=\"1\" class=\"dataframe\">\n",
              "  <thead>\n",
              "    <tr style=\"text-align: right;\">\n",
              "      <th></th>\n",
              "      <th>movie_id</th>\n",
              "      <th>title</th>\n",
              "      <th>genres</th>\n",
              "      <th>year</th>\n",
              "    </tr>\n",
              "  </thead>\n",
              "  <tbody>\n",
              "    <tr>\n",
              "      <th>0</th>\n",
              "      <td>1</td>\n",
              "      <td>Toy Story (1995)</td>\n",
              "      <td>Animation|Children's|Comedy</td>\n",
              "      <td>1995</td>\n",
              "    </tr>\n",
              "    <tr>\n",
              "      <th>1</th>\n",
              "      <td>2</td>\n",
              "      <td>Jumanji (1995)</td>\n",
              "      <td>Adventure|Children's|Fantasy</td>\n",
              "      <td>1995</td>\n",
              "    </tr>\n",
              "    <tr>\n",
              "      <th>2</th>\n",
              "      <td>3</td>\n",
              "      <td>Grumpier Old Men (1995)</td>\n",
              "      <td>Comedy|Romance</td>\n",
              "      <td>1995</td>\n",
              "    </tr>\n",
              "    <tr>\n",
              "      <th>3</th>\n",
              "      <td>4</td>\n",
              "      <td>Waiting to Exhale (1995)</td>\n",
              "      <td>Comedy|Drama</td>\n",
              "      <td>1995</td>\n",
              "    </tr>\n",
              "    <tr>\n",
              "      <th>4</th>\n",
              "      <td>5</td>\n",
              "      <td>Father of the Bride Part II (1995)</td>\n",
              "      <td>Comedy</td>\n",
              "      <td>1995</td>\n",
              "    </tr>\n",
              "  </tbody>\n",
              "</table>\n",
              "</div>\n",
              "      <button class=\"colab-df-convert\" onclick=\"convertToInteractive('df-a9178f13-6eb2-4823-90cc-7aa532a5223a')\"\n",
              "              title=\"Convert this dataframe to an interactive table.\"\n",
              "              style=\"display:none;\">\n",
              "        \n",
              "  <svg xmlns=\"http://www.w3.org/2000/svg\" height=\"24px\"viewBox=\"0 0 24 24\"\n",
              "       width=\"24px\">\n",
              "    <path d=\"M0 0h24v24H0V0z\" fill=\"none\"/>\n",
              "    <path d=\"M18.56 5.44l.94 2.06.94-2.06 2.06-.94-2.06-.94-.94-2.06-.94 2.06-2.06.94zm-11 1L8.5 8.5l.94-2.06 2.06-.94-2.06-.94L8.5 2.5l-.94 2.06-2.06.94zm10 10l.94 2.06.94-2.06 2.06-.94-2.06-.94-.94-2.06-.94 2.06-2.06.94z\"/><path d=\"M17.41 7.96l-1.37-1.37c-.4-.4-.92-.59-1.43-.59-.52 0-1.04.2-1.43.59L10.3 9.45l-7.72 7.72c-.78.78-.78 2.05 0 2.83L4 21.41c.39.39.9.59 1.41.59.51 0 1.02-.2 1.41-.59l7.78-7.78 2.81-2.81c.8-.78.8-2.07 0-2.86zM5.41 20L4 18.59l7.72-7.72 1.47 1.35L5.41 20z\"/>\n",
              "  </svg>\n",
              "      </button>\n",
              "      \n",
              "  <style>\n",
              "    .colab-df-container {\n",
              "      display:flex;\n",
              "      flex-wrap:wrap;\n",
              "      gap: 12px;\n",
              "    }\n",
              "\n",
              "    .colab-df-convert {\n",
              "      background-color: #E8F0FE;\n",
              "      border: none;\n",
              "      border-radius: 50%;\n",
              "      cursor: pointer;\n",
              "      display: none;\n",
              "      fill: #1967D2;\n",
              "      height: 32px;\n",
              "      padding: 0 0 0 0;\n",
              "      width: 32px;\n",
              "    }\n",
              "\n",
              "    .colab-df-convert:hover {\n",
              "      background-color: #E2EBFA;\n",
              "      box-shadow: 0px 1px 2px rgba(60, 64, 67, 0.3), 0px 1px 3px 1px rgba(60, 64, 67, 0.15);\n",
              "      fill: #174EA6;\n",
              "    }\n",
              "\n",
              "    [theme=dark] .colab-df-convert {\n",
              "      background-color: #3B4455;\n",
              "      fill: #D2E3FC;\n",
              "    }\n",
              "\n",
              "    [theme=dark] .colab-df-convert:hover {\n",
              "      background-color: #434B5C;\n",
              "      box-shadow: 0px 1px 3px 1px rgba(0, 0, 0, 0.15);\n",
              "      filter: drop-shadow(0px 1px 2px rgba(0, 0, 0, 0.3));\n",
              "      fill: #FFFFFF;\n",
              "    }\n",
              "  </style>\n",
              "\n",
              "      <script>\n",
              "        const buttonEl =\n",
              "          document.querySelector('#df-a9178f13-6eb2-4823-90cc-7aa532a5223a button.colab-df-convert');\n",
              "        buttonEl.style.display =\n",
              "          google.colab.kernel.accessAllowed ? 'block' : 'none';\n",
              "\n",
              "        async function convertToInteractive(key) {\n",
              "          const element = document.querySelector('#df-a9178f13-6eb2-4823-90cc-7aa532a5223a');\n",
              "          const dataTable =\n",
              "            await google.colab.kernel.invokeFunction('convertToInteractive',\n",
              "                                                     [key], {});\n",
              "          if (!dataTable) return;\n",
              "\n",
              "          const docLinkHtml = 'Like what you see? Visit the ' +\n",
              "            '<a target=\"_blank\" href=https://colab.research.google.com/notebooks/data_table.ipynb>data table notebook</a>'\n",
              "            + ' to learn more about interactive tables.';\n",
              "          element.innerHTML = '';\n",
              "          dataTable['output_type'] = 'display_data';\n",
              "          await google.colab.output.renderOutput(dataTable, element);\n",
              "          const docLink = document.createElement('div');\n",
              "          docLink.innerHTML = docLinkHtml;\n",
              "          element.appendChild(docLink);\n",
              "        }\n",
              "      </script>\n",
              "    </div>\n",
              "  </div>\n",
              "  "
            ]
          },
          "metadata": {},
          "execution_count": 45
        }
      ]
    },
    {
      "cell_type": "code",
      "source": [
        "year_counts = movies.year.value_counts()\n",
        "year_counts"
      ],
      "metadata": {
        "colab": {
          "base_uri": "https://localhost:8080/"
        },
        "id": "q9M8GpVyBJfe",
        "outputId": "f9d1eb3e-6ec9-4775-dfdd-4ae2e88e2bd8"
      },
      "execution_count": 47,
      "outputs": [
        {
          "output_type": "execute_result",
          "data": {
            "text/plain": [
              "1996    345\n",
              "1995    342\n",
              "1998    337\n",
              "1997    315\n",
              "1999    283\n",
              "       ... \n",
              "1923      3\n",
              "1919      3\n",
              "1922      2\n",
              "1920      2\n",
              "1921      1\n",
              "Name: year, Length: 81, dtype: int64"
            ]
          },
          "metadata": {},
          "execution_count": 47
        }
      ]
    },
    {
      "cell_type": "code",
      "source": [
        "# sns.barplot(x=year_counts.index, y=year_counts.values)\n",
        "plt.bar(x=year_counts.index, height=year_counts.values)\n",
        "plt.show()"
      ],
      "metadata": {
        "colab": {
          "base_uri": "https://localhost:8080/",
          "height": 265
        },
        "id": "2xtyvPUHBrOP",
        "outputId": "2078bae3-46e6-4054-ccb7-151890640c16"
      },
      "execution_count": 51,
      "outputs": [
        {
          "output_type": "display_data",
          "data": {
            "text/plain": [
              "<Figure size 432x288 with 1 Axes>"
            ],
            "image/png": "[encoded data removed]"
          },
          "metadata": {
            "needs_background": "light"
          }
        }
      ]
    },
    {
      "cell_type": "code",
      "source": [
        "sns.lineplot(x=year_counts.index, y=year_counts.values)\n",
        "plt.xlabel('Year')\n",
        "plt.ylabel('# of movies')\n",
        "plt.show()"
      ],
      "metadata": {
        "colab": {
          "base_uri": "https://localhost:8080/",
          "height": 279
        },
        "id": "HulwgsBWC4cS",
        "outputId": "64caa433-8c50-4663-ccd3-8f71fbfe0e4e"
      },
      "execution_count": 53,
      "outputs": [
        {
          "output_type": "display_data",
          "data": {
            "text/plain": [
              "<Figure size 432x288 with 1 Axes>"
            ],
            "image/png": "[encoded data removed]"
          },
          "metadata": {
            "needs_background": "light"
          }
        }
      ]
    }
  ]
}