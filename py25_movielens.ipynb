{
  "nbformat": 4,
  "nbformat_minor": 0,
  "metadata": {
    "colab": {
      "provenance": [],
      "authorship_tag": "ABX9TyNEiaUo+lOoJMnvGxHKjOYj",
      "include_colab_link": true
    },
    "kernelspec": {
      "name": "python3",
      "display_name": "Python 3"
    },
    "language_info": {
      "name": "python"
    }
  },
  "cells": [
    {
      "cell_type": "markdown",
      "metadata": {
        "id": "view-in-github",
        "colab_type": "text"
      },
      "source": [
        "<a href=\"https://colab.research.google.com/github/JakeOh/202208_itw_java134_lab_python/blob/main/py25_movielens.ipynb\" target=\"_parent\"><img src=\"https://colab.research.google.com/assets/colab-badge.svg\" alt=\"Open In Colab\"/></a>"
      ]
    },
    {
      "cell_type": "markdown",
      "source": [
        "# Imports"
      ],
      "metadata": {
        "id": "pIpDB9uXizcJ"
      }
    },
    {
      "cell_type": "code",
      "execution_count": 1,
      "metadata": {
        "id": "NVigoRnEiobQ"
      },
      "outputs": [],
      "source": [
        "import numpy as np\n",
        "import pandas as pd\n",
        "import matplotlib.pyplot as plt\n",
        "import seaborn as sns"
      ]
    },
    {
      "cell_type": "markdown",
      "source": [
        "# Movielens 데이터 셋\n",
        "\n",
        "* https://github.com/wesm/pydata-book/tree/3rd-edition/datasets/movielens\n",
        "* movies.dat: \"MovieID::Title::Genres\"을 컬럼으로 하는 데이터 셋. 영화 정보.\n",
        "* ratings.dat: \"UserID::MovieID::Rating::Timestamp\"을 컬럼으로 하는 데이터 셋. 영화 별점.\n",
        "* users.dat: \"UserID::Gender::Age::Occupation::Zip-code\"을 컬럼으로 하는 데이터 셋. 사용자 정보.\n"
      ],
      "metadata": {
        "id": "xrkDw4GYi-WB"
      }
    },
    {
      "cell_type": "code",
      "source": [],
      "metadata": {
        "id": "XDdaUvx-i7jo"
      },
      "execution_count": null,
      "outputs": []
    }
  ]
}