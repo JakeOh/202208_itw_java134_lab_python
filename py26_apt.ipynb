{
  "nbformat": 4,
  "nbformat_minor": 0,
  "metadata": {
    "colab": {
      "provenance": [],
      "authorship_tag": "ABX9TyOIHw150piFQyFmHVhyCcpn",
      "include_colab_link": true
    },
    "kernelspec": {
      "name": "python3",
      "display_name": "Python 3"
    },
    "language_info": {
      "name": "python"
    }
  },
  "cells": [
    {
      "cell_type": "markdown",
      "metadata": {
        "id": "view-in-github",
        "colab_type": "text"
      },
      "source": [
        "<a href=\"https://colab.research.google.com/github/JakeOh/202208_itw_java134_lab_python/blob/main/py26_apt.ipynb\" target=\"_parent\"><img src=\"https://colab.research.google.com/assets/colab-badge.svg\" alt=\"Open In Colab\"/></a>"
      ]
    },
    {
      "cell_type": "markdown",
      "source": [
        "# Google Colab matplotlib 한글 폰트 사용"
      ],
      "metadata": {
        "id": "IkOfmRjmf-kV"
      }
    },
    {
      "cell_type": "markdown",
      "source": [
        "# 아파트 매매가격 분석"
      ],
      "metadata": {
        "id": "aJb3sYeQfhd7"
      }
    },
    {
      "cell_type": "markdown",
      "source": [
        "\n",
        "*   [apt_201910.csv](https://github.com/JakeOh/202208_itw_java134_lab_python/raw/main/apt_201910.csv) 파일을 읽고 DataFrame 생성\n",
        "    *   encoding 파라미터 설정\n",
        "    *   '가격' 컬럼에는 숫자 자릿수를 구분하는 comma가 사용되고 있음(예: 10,000)\n",
        "        *   '가격' 컬럼은 숫자 타입이어야 함!\n",
        "*   데이터 프레임 파악\n",
        "    *   info, head, tail, describe, dtypes, ...\n",
        "*   '시군구' 컬럼의 값을 이용해서, 'province' 파생 변수(도, 광역시 이름) 만듦.\n",
        "    *   '강원도 강릉시 견소동' -> '강원도'\n",
        "*   '계약년월' 컬럼의 값을 이용해서, 'year(계약년도)', 'month(계약월)' 파생 변수 만듦.\n",
        "    *   201910 -> 2019, 10\n",
        "*    서울특별시 아파트들의 동별 아파트 가격의 개수, 평균, 최솟값, 최댓값\n",
        "*    도/광역시별 아파트 가격 개수, 평균, 최솟값, 최댓값\n",
        "*    면적이  $84 m^2$  이상  $100 m^2$  미만의 서울특별시 아파트들 중에서, 동별 아파트 가격 개수, 평균, 최솟값, 최댓값\n",
        "*    면적이 $84 m^2$ 이상 $100 m^2$ 미만의 아파트들 중에서, 도/광역시별 아파트 가격 개수, 평균, 최솟값, 최댓값\n",
        "    *   결과를 평균의 내림차순으로 정렬해서 출력\n",
        "    *   결과를 최댓값의 내림차순으로 정렬해서 출력\n",
        "    *   결과를 최솟값의 오름차순으로 정렬해서 출력\n"
      ],
      "metadata": {
        "id": "WoKN0RXNfZD1"
      }
    },
    {
      "cell_type": "code",
      "execution_count": null,
      "metadata": {
        "id": "TIU8pwjteFGN"
      },
      "outputs": [],
      "source": []
    }
  ]
}