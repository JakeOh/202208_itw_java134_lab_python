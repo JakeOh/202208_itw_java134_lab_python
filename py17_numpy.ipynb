{
  "nbformat": 4,
  "nbformat_minor": 0,
  "metadata": {
    "colab": {
      "provenance": [],
      "authorship_tag": "ABX9TyMXWPFHExXbggGIP79u/NV2",
      "include_colab_link": true
    },
    "kernelspec": {
      "name": "python3",
      "display_name": "Python 3"
    },
    "language_info": {
      "name": "python"
    }
  },
  "cells": [
    {
      "cell_type": "markdown",
      "metadata": {
        "id": "view-in-github",
        "colab_type": "text"
      },
      "source": [
        "<a href=\"https://colab.research.google.com/github/JakeOh/202208_itw_java134_lab_python/blob/main/py17_numpy.ipynb\" target=\"_parent\"><img src=\"https://colab.research.google.com/assets/colab-badge.svg\" alt=\"Open In Colab\"/></a>"
      ]
    },
    {
      "cell_type": "markdown",
      "source": [
        "# 데이터 분석 패키지\n",
        "\n",
        "* NumPy: 다차원 배열(n-dimensional array)을 다루는 패키지. 머신 러닝에서 중요하게 사용됨.\n",
        "* pandas: 시리즈(Series)와 데이터프레임(DataFrame)을 다루는 패키지. 데이터 분석에서 기본으로 사용하는 패키지.\n",
        "* matplotlib: 데이터 시각화(그래프).\n",
        "* seaborn: 데이터 시각화.\n",
        "\n",
        "Google Colab에는 데이터 분석과 머신 러닝에 필요한 대부분의 패키지들이 이미 설치되어 있음."
      ],
      "metadata": {
        "id": "VlLD2FzN400r"
      }
    },
    {
      "cell_type": "code",
      "execution_count": 1,
      "metadata": {
        "id": "CRdGs9lY4r1E"
      },
      "outputs": [],
      "source": [
        "import numpy as np\n",
        "import pandas as pd\n",
        "import matplotlib\n",
        "import seaborn as sns"
      ]
    },
    {
      "cell_type": "code",
      "source": [
        "print('NumPy version:', np.__version__)\n",
        "print('pandas version:', pd.__version__)\n",
        "print('matplotlib version:', matplotlib.__version__)\n",
        "print('seaborn version:', sns.__version__)"
      ],
      "metadata": {
        "colab": {
          "base_uri": "https://localhost:8080/"
        },
        "id": "8B2szpPk7PQ8",
        "outputId": "f79f15ea-e5c5-4201-e4cd-c4f57b175ebc"
      },
      "execution_count": 3,
      "outputs": [
        {
          "output_type": "stream",
          "name": "stdout",
          "text": [
            "NumPy version: 1.21.6\n",
            "pandas version: 1.3.5\n",
            "matplotlib version: 3.2.2\n",
            "seaborn version: 0.11.2\n"
          ]
        }
      ]
    },
    {
      "cell_type": "markdown",
      "source": [
        "# Python `list` class\n",
        "\n",
        "* 여러개의 값들을 저장할 수 있는 데이터 타입\n",
        "* 인덱스를 기반으로 값들을 저장, 참조.\n",
        "    * indexing: 인덱스로 원하는 위치의 값을 참조, 변경.\n",
        "    * slicing: `[start:end)` 인덱스 범위의 값들로 이루어진 부분집합(리스트)를 잘라냄.\n",
        "* `list + list`: extend. 2개의 리스트를 이어붙여서 하나의 리스트로 만듦.\n",
        "* `list * int, int * list`: 리스트의 원소들을 정수만큼 반복해서 복제.\n"
      ],
      "metadata": {
        "id": "2rtLNAdh8Ig6"
      }
    },
    {
      "cell_type": "code",
      "source": [
        "list1 = [1, 2, 3, 4, 5]\n",
        "list2 = [10, 20, 30, 40, 50]"
      ],
      "metadata": {
        "id": "NxqyGKa37utk"
      },
      "execution_count": 4,
      "outputs": []
    },
    {
      "cell_type": "code",
      "source": [
        "# indexing\n",
        "print(list1[0])\n",
        "print(list1[-1], list1[4])"
      ],
      "metadata": {
        "colab": {
          "base_uri": "https://localhost:8080/"
        },
        "id": "UC5UOiPN9jyk",
        "outputId": "f3d5a0ad-9807-4b36-bfa9-391a52cd1c78"
      },
      "execution_count": 6,
      "outputs": [
        {
          "output_type": "stream",
          "name": "stdout",
          "text": [
            "1\n",
            "5 5\n"
          ]
        }
      ]
    },
    {
      "cell_type": "code",
      "source": [
        "# slicing\n",
        "print(list1[:3])  # list1[0:3]\n",
        "print(list1[-3:], list1[2:], list1[2:5])"
      ],
      "metadata": {
        "colab": {
          "base_uri": "https://localhost:8080/"
        },
        "id": "ZWJcCPVI9vtp",
        "outputId": "f615d8cc-1e19-4269-9ae2-d51c271043a5"
      },
      "execution_count": 7,
      "outputs": [
        {
          "output_type": "stream",
          "name": "stdout",
          "text": [
            "[1, 2, 3]\n",
            "[3, 4, 5] [3, 4, 5] [3, 4, 5]\n"
          ]
        }
      ]
    },
    {
      "cell_type": "code",
      "source": [
        "list1 + list2"
      ],
      "metadata": {
        "colab": {
          "base_uri": "https://localhost:8080/"
        },
        "id": "gTYXKAW5-Zxa",
        "outputId": "387531fc-6eb4-4dda-c2f6-5ce2475e0096"
      },
      "execution_count": 8,
      "outputs": [
        {
          "output_type": "execute_result",
          "data": {
            "text/plain": [
              "[1, 2, 3, 4, 5, 10, 20, 30, 40, 50]"
            ]
          },
          "metadata": {},
          "execution_count": 8
        }
      ]
    },
    {
      "cell_type": "code",
      "source": [
        "list1.extend(list2)"
      ],
      "metadata": {
        "id": "qIbbc29A-cK5"
      },
      "execution_count": 9,
      "outputs": []
    },
    {
      "cell_type": "code",
      "source": [
        "list1"
      ],
      "metadata": {
        "colab": {
          "base_uri": "https://localhost:8080/"
        },
        "id": "xADJUWNl-ie5",
        "outputId": "509d08ce-3a84-432f-bdbd-512f9d2c175a"
      },
      "execution_count": 10,
      "outputs": [
        {
          "output_type": "execute_result",
          "data": {
            "text/plain": [
              "[1, 2, 3, 4, 5, 10, 20, 30, 40, 50]"
            ]
          },
          "metadata": {},
          "execution_count": 10
        }
      ]
    },
    {
      "cell_type": "code",
      "source": [
        "list2 * 2"
      ],
      "metadata": {
        "colab": {
          "base_uri": "https://localhost:8080/"
        },
        "id": "PqGYPJou-4cq",
        "outputId": "0431dc83-8f79-4b0f-abf5-88d2bc58ef70"
      },
      "execution_count": 12,
      "outputs": [
        {
          "output_type": "execute_result",
          "data": {
            "text/plain": [
              "[10, 20, 30, 40, 50, 10, 20, 30, 40, 50]"
            ]
          },
          "metadata": {},
          "execution_count": 12
        }
      ]
    },
    {
      "cell_type": "code",
      "source": [
        "2 * list2"
      ],
      "metadata": {
        "colab": {
          "base_uri": "https://localhost:8080/"
        },
        "id": "JeJfUUXl-6vi",
        "outputId": "2a115a4d-56f0-4c9c-d261-a4393a7d63fb"
      },
      "execution_count": 13,
      "outputs": [
        {
          "output_type": "execute_result",
          "data": {
            "text/plain": [
              "[10, 20, 30, 40, 50, 10, 20, 30, 40, 50]"
            ]
          },
          "metadata": {},
          "execution_count": 13
        }
      ]
    },
    {
      "cell_type": "code",
      "source": [
        "list1 = [1, 2, 3]\n",
        "list2 = [4, 5, 7]\n",
        "\n",
        "# 같은 인덱스(위치)의 원소들끼리 덧셈\n",
        "[x + y for x, y in zip(list1, list2)]"
      ],
      "metadata": {
        "colab": {
          "base_uri": "https://localhost:8080/"
        },
        "id": "OTRRESvi_gda",
        "outputId": "898b2611-0291-435c-9825-e9a6e4c08fb0"
      },
      "execution_count": 14,
      "outputs": [
        {
          "output_type": "execute_result",
          "data": {
            "text/plain": [
              "[5, 7, 10]"
            ]
          },
          "metadata": {},
          "execution_count": 14
        }
      ]
    },
    {
      "cell_type": "markdown",
      "source": [
        "# NumPy\n",
        "\n",
        "* Numerical Python\n",
        "* 배열(`ndarray`)을 쉽고 빠르게 연산(`+, -, *, /, ...`)을 할 수 있는 라이브러리.\n",
        "* NumPy 패키지의 함수 또는 메서드들은 대부분 반복문의 기능을 가지고 있음.\n",
        "* `np.ndarray` 클래스: NumPy 패키지의 기본 타입 클래스. n차원 배열(n-dimensional array).\n",
        "    * `ndarray`는 같은 인덱스(위치)의 원소들끼리(element-wise) 연산을 수행.\n"
      ],
      "metadata": {
        "id": "8aYvEtakAG52"
      }
    },
    {
      "cell_type": "code",
      "source": [
        "array1 = np.array([1, 2, 3])"
      ],
      "metadata": {
        "id": "aPfrat_0_sLi"
      },
      "execution_count": 15,
      "outputs": []
    },
    {
      "cell_type": "code",
      "source": [
        "type(array1)"
      ],
      "metadata": {
        "colab": {
          "base_uri": "https://localhost:8080/"
        },
        "id": "o9_m8DvWBlHy",
        "outputId": "b966ab3e-78ff-4a31-80b6-cb7e28fad222"
      },
      "execution_count": 16,
      "outputs": [
        {
          "output_type": "execute_result",
          "data": {
            "text/plain": [
              "numpy.ndarray"
            ]
          },
          "metadata": {},
          "execution_count": 16
        }
      ]
    },
    {
      "cell_type": "code",
      "source": [
        "print(array1)  # print 함수는 __str__ 메서드 이용"
      ],
      "metadata": {
        "colab": {
          "base_uri": "https://localhost:8080/"
        },
        "id": "oUmqSp6rBmSK",
        "outputId": "225c9029-a843-4032-c914-7895bc61c3b0"
      },
      "execution_count": 17,
      "outputs": [
        {
          "output_type": "stream",
          "name": "stdout",
          "text": [
            "[1 2 3]\n"
          ]
        }
      ]
    },
    {
      "cell_type": "code",
      "source": [
        "array1  # expression 출력은 __repr__ 메서드 이용"
      ],
      "metadata": {
        "colab": {
          "base_uri": "https://localhost:8080/"
        },
        "id": "_ShSNEq2Bu0h",
        "outputId": "db8ed51a-8900-4410-eed9-be53e8cdc17c"
      },
      "execution_count": 18,
      "outputs": [
        {
          "output_type": "execute_result",
          "data": {
            "text/plain": [
              "array([1, 2, 3])"
            ]
          },
          "metadata": {},
          "execution_count": 18
        }
      ]
    },
    {
      "cell_type": "code",
      "source": [
        "array2 = np.array([10, 20, 30])"
      ],
      "metadata": {
        "id": "eTjvkatuCSO6"
      },
      "execution_count": 19,
      "outputs": []
    },
    {
      "cell_type": "code",
      "source": [
        "# ndarry의 사칙연산: element-wise 연산\n",
        "print(array1 + array2)\n",
        "print(array1 - array2)\n",
        "print(array1 * array2)\n",
        "print(array1 / array2)"
      ],
      "metadata": {
        "colab": {
          "base_uri": "https://localhost:8080/"
        },
        "id": "COJ5uNvwCWhr",
        "outputId": "a678ce6b-9e74-419e-bef2-84b6932a3943"
      },
      "execution_count": 20,
      "outputs": [
        {
          "output_type": "stream",
          "name": "stdout",
          "text": [
            "[11 22 33]\n",
            "[ -9 -18 -27]\n",
            "[10 40 90]\n",
            "[0.1 0.1 0.1]\n"
          ]
        }
      ]
    },
    {
      "cell_type": "markdown",
      "source": [
        "## `ndarray` 속성들"
      ],
      "metadata": {
        "id": "E1SQyNfAUeo_"
      }
    },
    {
      "cell_type": "code",
      "source": [
        "print(array1)  # ndarray\n",
        "print('ndim:', array1.ndim)  # 차원(dimension): 축(axis)의 개수.\n",
        "print('size:', array1.size)  # 크기(원소의 개수)\n",
        "print('shape:', array1.shape)  # 모양(각 차원에서의 원소 개수. 각 축을 따라서 있는 원소의 개수)\n",
        "print('dtype:', array1.dtype)  # 데이터 타입 - ndarray는 한가지 타입의 값들만 저장."
      ],
      "metadata": {
        "colab": {
          "base_uri": "https://localhost:8080/"
        },
        "id": "BcmcqeIfUjKY",
        "outputId": "eebbc38e-7d3a-4e10-f83e-9f1abf3393e2"
      },
      "execution_count": 26,
      "outputs": [
        {
          "output_type": "stream",
          "name": "stdout",
          "text": [
            "[1 2 3]\n",
            "ndim: 1\n",
            "size: 3\n",
            "shape: (3,)\n",
            "dtype: int64\n"
          ]
        }
      ]
    },
    {
      "cell_type": "markdown",
      "source": [
        "\n",
        "* Python 숫자 타입: 정수(int), 실수(float)\n",
        "* np 숫자 타입: \n",
        "    * 정수(int8, int16, int32, int64, ...)\n",
        "    * 실수(float16, float32, float64, ...)\n"
      ],
      "metadata": {
        "id": "mJJswsteXQGn"
      }
    },
    {
      "cell_type": "markdown",
      "source": [
        "## 2차원 `ndarray`"
      ],
      "metadata": {
        "id": "CxDiOlEvYE5H"
      }
    },
    {
      "cell_type": "code",
      "source": [
        "array_2d = np.array([\n",
        "    [1, 2, 3, 4], \n",
        "    [5, 6, 7, 8], \n",
        "    [9, 10, 11, 12]\n",
        "    ])"
      ],
      "metadata": {
        "id": "Ud8aB1KVYHKG"
      },
      "execution_count": 27,
      "outputs": []
    },
    {
      "cell_type": "code",
      "source": [
        "print(array_2d)"
      ],
      "metadata": {
        "colab": {
          "base_uri": "https://localhost:8080/"
        },
        "id": "ZTelY_lQYf0f",
        "outputId": "65b27b84-3005-4ee2-a03c-e22a41bf0347"
      },
      "execution_count": 28,
      "outputs": [
        {
          "output_type": "stream",
          "name": "stdout",
          "text": [
            "[[ 1  2  3  4]\n",
            " [ 5  6  7  8]\n",
            " [ 9 10 11 12]]\n"
          ]
        }
      ]
    },
    {
      "cell_type": "code",
      "source": [
        "print('ndim:', array_2d.ndim)  # 차원\n",
        "print('size:', array_2d.size)  # 크기\n",
        "print('shape:', array_2d.shape)  # 모양\n",
        "print('dtype:', array_2d.dtype)  # 데이터 타입"
      ],
      "metadata": {
        "colab": {
          "base_uri": "https://localhost:8080/"
        },
        "id": "WBoIMzrJYiHV",
        "outputId": "775f5ecf-c75b-4837-e7ae-03007918bdea"
      },
      "execution_count": 29,
      "outputs": [
        {
          "output_type": "stream",
          "name": "stdout",
          "text": [
            "ndim: 2\n",
            "size: 12\n",
            "shape: (3, 4)\n",
            "dtype: int64\n"
          ]
        }
      ]
    },
    {
      "cell_type": "markdown",
      "source": [
        "# `ndarray` 객체 생성 함수"
      ],
      "metadata": {
        "id": "SUa6ciYLbMe2"
      }
    },
    {
      "cell_type": "markdown",
      "source": [
        "`np.array(object, dtype=None, ...)`\n",
        "\n",
        "* object: 배열과 비슷한 객체들(list, tuple, set, dict, ndarray, ...). ndarry를 생성하기 위한 데이터.\n"
      ],
      "metadata": {
        "id": "7O2p-MesbZRN"
      }
    },
    {
      "cell_type": "code",
      "source": [
        "# 0 이상 10 이하(11 미만)의 짝수들로 이루어진 ndarray\n",
        "evens = np.array([2 * x for x in range(6)])  # list -> ndarray\n",
        "print(evens)"
      ],
      "metadata": {
        "colab": {
          "base_uri": "https://localhost:8080/"
        },
        "id": "nIa-wbldZSVu",
        "outputId": "00acbe2c-d4ab-4fbd-afe2-ba6eb8976a4e"
      },
      "execution_count": 31,
      "outputs": [
        {
          "output_type": "stream",
          "name": "stdout",
          "text": [
            "[ 0  2  4  6  8 10]\n"
          ]
        }
      ]
    },
    {
      "cell_type": "code",
      "source": [],
      "metadata": {
        "id": "EIaLJRFgeL3v"
      },
      "execution_count": null,
      "outputs": []
    }
  ]
}