{
  "nbformat": 4,
  "nbformat_minor": 0,
  "metadata": {
    "colab": {
      "provenance": [],
      "authorship_tag": "ABX9TyPxxDBRp10X7y8fdPcBhv4T",
      "include_colab_link": true
    },
    "kernelspec": {
      "name": "python3",
      "display_name": "Python 3"
    },
    "language_info": {
      "name": "python"
    }
  },
  "cells": [
    {
      "cell_type": "markdown",
      "metadata": {
        "id": "view-in-github",
        "colab_type": "text"
      },
      "source": [
        "<a href=\"https://colab.research.google.com/github/JakeOh/202208_itw_java134_lab_python/blob/main/py08_dict.ipynb\" target=\"_parent\"><img src=\"https://colab.research.google.com/assets/colab-badge.svg\" alt=\"Open In Colab\"/></a>"
      ]
    },
    {
      "cell_type": "markdown",
      "source": [
        "# dict\n",
        "\n",
        "* dictionary(사전) 형식의 데이터 타입.\n",
        "* 키(key)를 기반으로 값(value)를 저장하는 데이터 타입.\n",
        "    * list, tuple: 인덱스(index)를 기반으로 값을 저장하는 데이터 타입.\n",
        "    * dict에서 키(key)의 역할은 리스트나 튜플에서 인덱스와 비슷한 역할: dict의 원소 1개를 참조하기 위한 용도.\n"
      ],
      "metadata": {
        "id": "5wB398ewi2EN"
      }
    },
    {
      "cell_type": "code",
      "execution_count": 1,
      "metadata": {
        "colab": {
          "base_uri": "https://localhost:8080/"
        },
        "id": "CzdMqiWhiuzG",
        "outputId": "61007b2b-295f-4688-8b3c-0486ee41e359"
      },
      "outputs": [
        {
          "output_type": "execute_result",
          "data": {
            "text/plain": [
              "{1: '홍길동', 2: '김길동', 3: '오쌤'}"
            ]
          },
          "metadata": {},
          "execution_count": 1
        }
      ],
      "source": [
        "students = {1: '홍길동', 2: '김길동', 3: '오쌤'}\n",
        "students"
      ]
    },
    {
      "cell_type": "code",
      "source": [
        "type(students)"
      ],
      "metadata": {
        "colab": {
          "base_uri": "https://localhost:8080/"
        },
        "id": "avAgi0cSkEbU",
        "outputId": "8d2ecddf-bccc-4ffb-e7a7-00d3a03f5e8c"
      },
      "execution_count": 2,
      "outputs": [
        {
          "output_type": "execute_result",
          "data": {
            "text/plain": [
              "dict"
            ]
          },
          "metadata": {},
          "execution_count": 2
        }
      ]
    },
    {
      "cell_type": "markdown",
      "source": [
        "dict에서 키를 사용하는 방법은 리스트나 튜플과 마찬가지로 인덱스 연산자(`[]`)를 사용."
      ],
      "metadata": {
        "id": "28KQV_nOke2c"
      }
    },
    {
      "cell_type": "code",
      "source": [
        "students[1]"
      ],
      "metadata": {
        "colab": {
          "base_uri": "https://localhost:8080/",
          "height": 36
        },
        "id": "n8XWXKGGkYws",
        "outputId": "bce69be4-9c5b-4e2c-f81a-002d0354edb1"
      },
      "execution_count": 3,
      "outputs": [
        {
          "output_type": "execute_result",
          "data": {
            "text/plain": [
              "'홍길동'"
            ],
            "application/vnd.google.colaboratory.intrinsic+json": {
              "type": "string"
            }
          },
          "metadata": {},
          "execution_count": 3
        }
      ]
    },
    {
      "cell_type": "code",
      "source": [
        "students[10] = 'Scott'  # 원소 추가: dict[new_key] = new_value\n",
        "students"
      ],
      "metadata": {
        "colab": {
          "base_uri": "https://localhost:8080/"
        },
        "id": "j8rMStSMktX1",
        "outputId": "a3e3c067-6437-4735-95b6-cfc131c2a553"
      },
      "execution_count": 4,
      "outputs": [
        {
          "output_type": "execute_result",
          "data": {
            "text/plain": [
              "{1: '홍길동', 2: '김길동', 3: '오쌤', 10: 'Scott'}"
            ]
          },
          "metadata": {},
          "execution_count": 4
        }
      ]
    },
    {
      "cell_type": "code",
      "source": [
        "students[2] = '허균'  # 원소 변경: dict[old_key] = new_value\n",
        "students"
      ],
      "metadata": {
        "colab": {
          "base_uri": "https://localhost:8080/"
        },
        "id": "25A3h3Sfk6Zs",
        "outputId": "cc2fe29c-9d87-4d87-e5ba-f4545fb82456"
      },
      "execution_count": 5,
      "outputs": [
        {
          "output_type": "execute_result",
          "data": {
            "text/plain": [
              "{1: '홍길동', 2: '허균', 3: '오쌤', 10: 'Scott'}"
            ]
          },
          "metadata": {},
          "execution_count": 5
        }
      ]
    },
    {
      "cell_type": "code",
      "source": [
        "students.pop(3)  # 원소 삭제: dict.pop(key)\n",
        "students"
      ],
      "metadata": {
        "colab": {
          "base_uri": "https://localhost:8080/"
        },
        "id": "q-k9DphHlmlE",
        "outputId": "5ac8379b-048a-43b9-f903-a32d63286346"
      },
      "execution_count": 6,
      "outputs": [
        {
          "output_type": "execute_result",
          "data": {
            "text/plain": [
              "{1: '홍길동', 2: '허균', 10: 'Scott'}"
            ]
          },
          "metadata": {},
          "execution_count": 6
        }
      ]
    },
    {
      "cell_type": "markdown",
      "source": [
        "dict에서 key와 value는 다양한 타입의 자료들을 사용할 수 있음."
      ],
      "metadata": {
        "id": "3ECQwHDB2oqa"
      }
    },
    {
      "cell_type": "code",
      "source": [
        "contact = {\n",
        "    'no': 1,\n",
        "    'name': '오쌤',\n",
        "    'phone': ['010-0000-0000', '02-0000-0000'],\n",
        "    'email': {'company': 'jake@itwill.co.kr', 'personal': 'jake@gmail.com'}\n",
        "}\n",
        "contact"
      ],
      "metadata": {
        "colab": {
          "base_uri": "https://localhost:8080/"
        },
        "id": "Fn9EPvOL2kKy",
        "outputId": "af901646-6cc0-465b-8a5a-07305acf297a"
      },
      "execution_count": 7,
      "outputs": [
        {
          "output_type": "execute_result",
          "data": {
            "text/plain": [
              "{'no': 1,\n",
              " 'name': '오쌤',\n",
              " 'phone': ['010-0000-0000', '02-0000-0000'],\n",
              " 'email': {'company': 'jake@itwill.co.kr', 'personal': 'jake@gmail.com'}}"
            ]
          },
          "metadata": {},
          "execution_count": 7
        }
      ]
    },
    {
      "cell_type": "code",
      "source": [
        "contact['no']"
      ],
      "metadata": {
        "colab": {
          "base_uri": "https://localhost:8080/"
        },
        "id": "U_cf7bnh3NOK",
        "outputId": "74790bcd-d32f-455e-c98b-2d3d102dd99a"
      },
      "execution_count": 8,
      "outputs": [
        {
          "output_type": "execute_result",
          "data": {
            "text/plain": [
              "1"
            ]
          },
          "metadata": {},
          "execution_count": 8
        }
      ]
    },
    {
      "cell_type": "code",
      "source": [
        "contact['phone']"
      ],
      "metadata": {
        "colab": {
          "base_uri": "https://localhost:8080/"
        },
        "id": "whiXTwCf3r7x",
        "outputId": "529f13ff-e42a-47ae-bb07-33354fdfa654"
      },
      "execution_count": 9,
      "outputs": [
        {
          "output_type": "execute_result",
          "data": {
            "text/plain": [
              "['010-0000-0000', '02-0000-0000']"
            ]
          },
          "metadata": {},
          "execution_count": 9
        }
      ]
    },
    {
      "cell_type": "code",
      "source": [
        "contact['phone'][0]"
      ],
      "metadata": {
        "colab": {
          "base_uri": "https://localhost:8080/",
          "height": 36
        },
        "id": "XlwGU6Vv3wo5",
        "outputId": "c0664db0-1c56-4cdc-a9a0-a847fc9d08a6"
      },
      "execution_count": 10,
      "outputs": [
        {
          "output_type": "execute_result",
          "data": {
            "text/plain": [
              "'010-0000-0000'"
            ],
            "application/vnd.google.colaboratory.intrinsic+json": {
              "type": "string"
            }
          },
          "metadata": {},
          "execution_count": 10
        }
      ]
    },
    {
      "cell_type": "code",
      "source": [
        "contact['email']"
      ],
      "metadata": {
        "colab": {
          "base_uri": "https://localhost:8080/"
        },
        "id": "Rnfzew_I4AVB",
        "outputId": "faff8e77-1e6a-404a-def6-363f38af2680"
      },
      "execution_count": 11,
      "outputs": [
        {
          "output_type": "execute_result",
          "data": {
            "text/plain": [
              "{'company': 'jake@itwill.co.kr', 'personal': 'jake@gmail.com'}"
            ]
          },
          "metadata": {},
          "execution_count": 11
        }
      ]
    },
    {
      "cell_type": "code",
      "source": [
        "contact['email']['company']"
      ],
      "metadata": {
        "colab": {
          "base_uri": "https://localhost:8080/",
          "height": 36
        },
        "id": "8CyxNtjn4Grp",
        "outputId": "7c2e33b7-ce54-4c7c-bdf5-e1cafce8f675"
      },
      "execution_count": 13,
      "outputs": [
        {
          "output_type": "execute_result",
          "data": {
            "text/plain": [
              "'jake@itwill.co.kr'"
            ],
            "application/vnd.google.colaboratory.intrinsic+json": {
              "type": "string"
            }
          },
          "metadata": {},
          "execution_count": 13
        }
      ]
    },
    {
      "cell_type": "markdown",
      "source": [
        "# dict와 for 반복문"
      ],
      "metadata": {
        "id": "C1IZ30d14P7Y"
      }
    },
    {
      "cell_type": "markdown",
      "source": [
        "for-in 구문에서 dict 타입 객체를 사용하면 key에 대해서 반복(iteration)함."
      ],
      "metadata": {
        "id": "sUoE2ShD4cQ4"
      }
    },
    {
      "cell_type": "code",
      "source": [
        "for k in contact:\n",
        "    print(k)"
      ],
      "metadata": {
        "colab": {
          "base_uri": "https://localhost:8080/"
        },
        "id": "hcmYvGF54SSw",
        "outputId": "f85bbcb1-d456-47b8-dd91-f86be252c7dc"
      },
      "execution_count": 14,
      "outputs": [
        {
          "output_type": "stream",
          "name": "stdout",
          "text": [
            "no\n",
            "name\n",
            "phone\n",
            "email\n"
          ]
        }
      ]
    },
    {
      "cell_type": "code",
      "source": [
        "for k in contact:\n",
        "    print(k, ':', contact[k])"
      ],
      "metadata": {
        "colab": {
          "base_uri": "https://localhost:8080/"
        },
        "id": "G7uhaXW34Wjo",
        "outputId": "8b431a51-23d8-419d-ae90-18feb10903b5"
      },
      "execution_count": 16,
      "outputs": [
        {
          "output_type": "stream",
          "name": "stdout",
          "text": [
            "no : 1\n",
            "name : 오쌤\n",
            "phone : ['010-0000-0000', '02-0000-0000']\n",
            "email : {'company': 'jake@itwill.co.kr', 'personal': 'jake@gmail.com'}\n"
          ]
        }
      ]
    },
    {
      "cell_type": "code",
      "source": [
        "contact.items()  # (key, value) 튜플들의 리스트"
      ],
      "metadata": {
        "colab": {
          "base_uri": "https://localhost:8080/"
        },
        "id": "SyHn-ihq4rG5",
        "outputId": "8c34eb49-042c-4885-9f2b-d301070ed9d6"
      },
      "execution_count": 17,
      "outputs": [
        {
          "output_type": "execute_result",
          "data": {
            "text/plain": [
              "dict_items([('no', 1), ('name', '오쌤'), ('phone', ['010-0000-0000', '02-0000-0000']), ('email', {'company': 'jake@itwill.co.kr', 'personal': 'jake@gmail.com'})])"
            ]
          },
          "metadata": {},
          "execution_count": 17
        }
      ]
    },
    {
      "cell_type": "code",
      "source": [
        "for k, v in contact.items():\n",
        "    print(k, ':', v)"
      ],
      "metadata": {
        "colab": {
          "base_uri": "https://localhost:8080/"
        },
        "id": "akRyWUki5VEJ",
        "outputId": "755029af-d46c-458f-ec22-d3e91ea966c1"
      },
      "execution_count": 18,
      "outputs": [
        {
          "output_type": "stream",
          "name": "stdout",
          "text": [
            "no : 1\n",
            "name : 오쌤\n",
            "phone : ['010-0000-0000', '02-0000-0000']\n",
            "email : {'company': 'jake@itwill.co.kr', 'personal': 'jake@gmail.com'}\n"
          ]
        }
      ]
    },
    {
      "cell_type": "markdown",
      "source": [
        "# Dictionary Comprehension"
      ],
      "metadata": {
        "id": "a4s7szUQ51mR"
      }
    },
    {
      "cell_type": "code",
      "source": [
        "emp_no = [1000, 1001, 2000, 2001]\n",
        "emp_name = ['King', 'Scott', 'Allen', 'Tiger']"
      ],
      "metadata": {
        "id": "MsH1vSjZ530p"
      },
      "execution_count": 19,
      "outputs": []
    },
    {
      "cell_type": "code",
      "source": [
        "emp = {}  # emp_no를 키로 하고 emp_name을 값으로 하는 dict\n",
        "for no, name in zip(emp_no, emp_name):\n",
        "    emp[no] = name\n",
        "\n",
        "emp"
      ],
      "metadata": {
        "colab": {
          "base_uri": "https://localhost:8080/"
        },
        "id": "mu-d4qz_6N4q",
        "outputId": "7d22cc60-a94c-4c17-9837-107934bc0545"
      },
      "execution_count": 20,
      "outputs": [
        {
          "output_type": "execute_result",
          "data": {
            "text/plain": [
              "{1000: 'King', 1001: 'Scott', 2000: 'Allen', 2001: 'Tiger'}"
            ]
          },
          "metadata": {},
          "execution_count": 20
        }
      ]
    },
    {
      "cell_type": "code",
      "source": [
        "emp2 = {k:v for k, v in zip(emp_no, emp_name)}\n",
        "emp2"
      ],
      "metadata": {
        "colab": {
          "base_uri": "https://localhost:8080/"
        },
        "id": "MqkD-YM-7wEY",
        "outputId": "7cf9b52a-b889-44e6-9403-3d54124f6603"
      },
      "execution_count": 21,
      "outputs": [
        {
          "output_type": "execute_result",
          "data": {
            "text/plain": [
              "{1000: 'King', 1001: 'Scott', 2000: 'Allen', 2001: 'Tiger'}"
            ]
          },
          "metadata": {},
          "execution_count": 21
        }
      ]
    },
    {
      "cell_type": "code",
      "source": [
        "messages = ['Merry, Christmas!', 'Happy New Year!', '새해 복 많이 받으세요.']\n",
        "\n",
        "# messages의 문자열을 키로 하고, 그 문자열의 길이를 값으로 하는 dict\n",
        "message_lengths = {}\n",
        "for m in messages:\n",
        "    message_lengths[m] = len(m)\n",
        "\n",
        "message_lengths"
      ],
      "metadata": {
        "colab": {
          "base_uri": "https://localhost:8080/"
        },
        "id": "8Tsu5d1I8E_V",
        "outputId": "9643b08e-11d3-48f2-89d7-dd0ba6bba62f"
      },
      "execution_count": 22,
      "outputs": [
        {
          "output_type": "execute_result",
          "data": {
            "text/plain": [
              "{'Merry, Christmas!': 17, 'Happy New Year!': 15, '새해 복 많이 받으세요.': 13}"
            ]
          },
          "metadata": {},
          "execution_count": 22
        }
      ]
    },
    {
      "cell_type": "code",
      "source": [
        "{m:len(m) for m in messages}"
      ],
      "metadata": {
        "colab": {
          "base_uri": "https://localhost:8080/"
        },
        "id": "wzOJC5y39_Jh",
        "outputId": "ec8363c5-068c-4c07-e1dc-304c09be17d2"
      },
      "execution_count": 23,
      "outputs": [
        {
          "output_type": "execute_result",
          "data": {
            "text/plain": [
              "{'Merry, Christmas!': 17, 'Happy New Year!': 15, '새해 복 많이 받으세요.': 13}"
            ]
          },
          "metadata": {},
          "execution_count": 23
        }
      ]
    }
  ]
}