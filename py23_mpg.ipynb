{
  "nbformat": 4,
  "nbformat_minor": 0,
  "metadata": {
    "colab": {
      "provenance": [],
      "authorship_tag": "ABX9TyOJ0VuFnn6Pt+/riyTin0ts",
      "include_colab_link": true
    },
    "kernelspec": {
      "name": "python3",
      "display_name": "Python 3"
    },
    "language_info": {
      "name": "python"
    }
  },
  "cells": [
    {
      "cell_type": "markdown",
      "metadata": {
        "id": "view-in-github",
        "colab_type": "text"
      },
      "source": [
        "<a href=\"https://colab.research.google.com/github/JakeOh/202208_itw_java134_lab_python/blob/main/py23_mpg.ipynb\" target=\"_parent\"><img src=\"https://colab.research.google.com/assets/colab-badge.svg\" alt=\"Open In Colab\"/></a>"
      ]
    },
    {
      "cell_type": "markdown",
      "source": [
        "# mpg (Mile Per Gallon) 데이터 셋\n",
        "\n",
        "* mpg 데이터 셋을 로드하고 탐색.\n",
        "* mpg ~ displacement scatter plot\n",
        "* 2x2 subplot을 생성. scatter plot.\n",
        "    * mpg ~ cylinders\n",
        "    * mpg ~ horsepower\n",
        "    * mpg ~ weight\n",
        "    * mpg ~ acceleration\n",
        "* cylinders별 mpg 평균 막대 그래프\n",
        "* cylinders별 mpg box plot\n",
        "* origin별, cylinders별 mpg box plot\n",
        "* origin별, cylinders별 mpg 평균 막대 그래프"
      ],
      "metadata": {
        "id": "I4zh492A2QZ0"
      }
    },
    {
      "cell_type": "code",
      "execution_count": null,
      "metadata": {
        "id": "eWc1v-ex2Njz"
      },
      "outputs": [],
      "source": []
    }
  ]
}