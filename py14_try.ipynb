{
  "nbformat": 4,
  "nbformat_minor": 0,
  "metadata": {
    "colab": {
      "provenance": [],
      "authorship_tag": "ABX9TyORUNuWNIicGYYQbw+xarUM",
      "include_colab_link": true
    },
    "kernelspec": {
      "name": "python3",
      "display_name": "Python 3"
    },
    "language_info": {
      "name": "python"
    }
  },
  "cells": [
    {
      "cell_type": "markdown",
      "metadata": {
        "id": "view-in-github",
        "colab_type": "text"
      },
      "source": [
        "<a href=\"https://colab.research.google.com/github/JakeOh/202208_itw_java134_lab_python/blob/main/py14_try.ipynb\" target=\"_parent\"><img src=\"https://colab.research.google.com/assets/colab-badge.svg\" alt=\"Open In Colab\"/></a>"
      ]
    },
    {
      "cell_type": "markdown",
      "source": [
        "# 오류(Error) 처리 구문\n",
        "\n",
        "* 오류가 발생한 위치와 원인을 파악해서 오류가 발생하지 않도록 코드 수정.\n",
        "* 오류가 발생하더라도 프로그램이 비정상적으로 종료되지 않고 계속 실행될 수 있도록 처리 -> try 구문\n",
        "    * Java는 반드시 try-catch 구문을 사용해야만 하는 Exception 종류들이 있음.\n",
        "        * NullPointerException: try-catch가 불필요\n",
        "        * SQLException: try-catch가 반드시 필요\n",
        "    * Python은 모든 오류 처리에서 try-except는 필수는 아님.\n"
      ],
      "metadata": {
        "id": "JFqjWcDwaOyJ"
      }
    },
    {
      "cell_type": "markdown",
      "source": [
        "\n",
        "```\n",
        "try:\n",
        "    (1) 실행할 코드 블록\n",
        "except [에러 클래스 이름 [as 별명]]:\n",
        "    (2) 에러가 발생했을 때 실행할 코드 블록\n",
        "[else:\n",
        "    (3) 에러가 발생하지 않았을 때 실행할 코드 블록]\n",
        "[finally:\n",
        "    (4) try 블록을 실행 중에 에러 발생 여부와 상관 없이 항상 실행할 코드 블록]\n",
        "```\n",
        "\n",
        "* 에러가 발생하지 않는 경우: (1) -> (3) -> (4)\n",
        "* 에러가 발생하는 경우: (1) -> (2) -> (4)\n"
      ],
      "metadata": {
        "id": "2AVCid5UdADh"
      }
    },
    {
      "cell_type": "code",
      "execution_count": 3,
      "metadata": {
        "colab": {
          "base_uri": "https://localhost:8080/"
        },
        "id": "NvcGREABZ2wD",
        "outputId": "039caa8f-1570-4a23-84d3-1b90cba7121a"
      },
      "outputs": [
        {
          "output_type": "stream",
          "name": "stdout",
          "text": [
            "정수 입력>>> 123.0\n",
            "정수로 입력해야 함!\n"
          ]
        }
      ],
      "source": [
        "try:\n",
        "    x = int(input('정수 입력>>> '))\n",
        "    print(f'x = {x}')\n",
        "except:  # 모든 종류의 에러를 처리\n",
        "    print('정수로 입력해야 함!')"
      ]
    },
    {
      "cell_type": "code",
      "source": [
        "try:\n",
        "    x = int(input('정수 입력>>> '))  # 1.\n",
        "except ValueError as e:\n",
        "    print(e)  # 2.\n",
        "else:\n",
        "    print(f'x = {x}')  # 3.\n",
        "finally:\n",
        "    print('=== end ===')  # 4."
      ],
      "metadata": {
        "colab": {
          "base_uri": "https://localhost:8080/"
        },
        "id": "5SfPPmsSfeM4",
        "outputId": "645a83bd-0f4c-45b0-a496-cff785bdbd2c"
      },
      "execution_count": 6,
      "outputs": [
        {
          "output_type": "stream",
          "name": "stdout",
          "text": [
            "정수 입력>>> 100.\n",
            "invalid literal for int() with base 10: '100.'\n",
            "=== end ===\n"
          ]
        }
      ]
    },
    {
      "cell_type": "markdown",
      "source": [
        "# Ex 1.\n",
        "\n",
        "정수 1개를 입력받고, 입력받은 정수를 출력.\n",
        "\n",
        "정수로 변환할 수 없는 문자열이 입력된 경우에는 적절한 오류 메시지를 출력한 후 다시 입력을 받아야 함."
      ],
      "metadata": {
        "id": "SkKDQHd0hRJI"
      }
    },
    {
      "cell_type": "code",
      "source": [
        "while True:  # 무한 반복문\n",
        "    try:\n",
        "        n = int(input('정수 입력>>> '))\n",
        "        print(f'n = {n}')\n",
        "        break  # while 문 종료\n",
        "    except:\n",
        "        print('입력한 문자열은 정수가 아님.')"
      ],
      "metadata": {
        "colab": {
          "base_uri": "https://localhost:8080/"
        },
        "id": "hxXWX0fbfhkB",
        "outputId": "14d255fd-88d9-442d-f3f6-834c63ba5a73"
      },
      "execution_count": 8,
      "outputs": [
        {
          "output_type": "stream",
          "name": "stdout",
          "text": [
            "정수 입력>>> abc\n",
            "입력한 문자열은 정수가 아님.\n",
            "정수 입력>>> qre\n",
            "입력한 문자열은 정수가 아님.\n",
            "정수 입력>>> zxv\n",
            "입력한 문자열은 정수가 아님.\n",
            "정수 입력>>> 4124sdrfsdf\n",
            "입력한 문자열은 정수가 아님.\n",
            "정수 입력>>> 23423\n",
            "n = 23423\n"
          ]
        }
      ]
    },
    {
      "cell_type": "markdown",
      "source": [
        "# Ex 2. 단어 개수 세기\n",
        "\n",
        "리스트 words가 가지고 있는 단어들을 key로 하고, 그 단어가 리스트에 나오는 횟수를 값으로 하는 dict를 생성."
      ],
      "metadata": {
        "id": "tiC_Zhl4htK3"
      }
    },
    {
      "cell_type": "code",
      "source": [
        "words = ['java', 'python', 'java', 'javascript', 'python', 'kotlin', 'html', 'python']\n",
        "word_counts = {}  # {단어: 개수} 저장할 빈 dict\n",
        "for w in words:  # 리스트에서 단어를 차례로 꺼내면서 반복\n",
        "    if w in word_counts:  # 리스트에서 꺼낸 단어 w가 dict의 키로 존재하면\n",
        "        word_counts[w] += 1  # 단어가 나오는 횟수를 1 증가\n",
        "    else:  # dict의 키로 존재하지 않으면 -> 리스트에서 단어가 처음 나온 경우\n",
        "        word_counts[w] = 1  # 단어가 나오는 횟수는 1\n",
        "    print(word_counts)"
      ],
      "metadata": {
        "colab": {
          "base_uri": "https://localhost:8080/"
        },
        "id": "cTbk-5zZh_8A",
        "outputId": "1e49ab13-e342-42f4-d8cd-eb51e341fbfa"
      },
      "execution_count": 9,
      "outputs": [
        {
          "output_type": "stream",
          "name": "stdout",
          "text": [
            "{'java': 1}\n",
            "{'java': 1, 'python': 1}\n",
            "{'java': 2, 'python': 1}\n",
            "{'java': 2, 'python': 1, 'javascript': 1}\n",
            "{'java': 2, 'python': 2, 'javascript': 1}\n",
            "{'java': 2, 'python': 2, 'javascript': 1, 'kotlin': 1}\n",
            "{'java': 2, 'python': 2, 'javascript': 1, 'kotlin': 1, 'html': 1}\n",
            "{'java': 2, 'python': 3, 'javascript': 1, 'kotlin': 1, 'html': 1}\n"
          ]
        }
      ]
    },
    {
      "cell_type": "code",
      "source": [
        "word_counts2 = {}\n",
        "for w in words:\n",
        "    try:\n",
        "        word_counts2[w] += 1  # 단어 등장 횟수 + 1\n",
        "    except:\n",
        "        word_counts2[w] = 1  # 단어가 처음 등장\n",
        "\n",
        "print(word_counts2)"
      ],
      "metadata": {
        "colab": {
          "base_uri": "https://localhost:8080/"
        },
        "id": "ZanBndqWsWsx",
        "outputId": "d4b50ea1-2f1f-4675-d75c-8a4842c39235"
      },
      "execution_count": 11,
      "outputs": [
        {
          "output_type": "stream",
          "name": "stdout",
          "text": [
            "{'java': 2, 'python': 3, 'javascript': 1, 'kotlin': 1, 'html': 1}\n"
          ]
        }
      ]
    }
  ]
}