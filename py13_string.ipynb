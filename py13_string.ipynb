{
  "nbformat": 4,
  "nbformat_minor": 0,
  "metadata": {
    "colab": {
      "provenance": [],
      "authorship_tag": "ABX9TyMdpJ+RzDbZZlJnNYrdSLIz",
      "include_colab_link": true
    },
    "kernelspec": {
      "name": "python3",
      "display_name": "Python 3"
    },
    "language_info": {
      "name": "python"
    }
  },
  "cells": [
    {
      "cell_type": "markdown",
      "metadata": {
        "id": "view-in-github",
        "colab_type": "text"
      },
      "source": [
        "<a href=\"https://colab.research.google.com/github/JakeOh/202208_itw_java134_lab_python/blob/main/py13_string.ipynb\" target=\"_parent\"><img src=\"https://colab.research.google.com/assets/colab-badge.svg\" alt=\"Open In Colab\"/></a>"
      ]
    },
    {
      "cell_type": "markdown",
      "source": [
        "# `str` 클래스의 메서드\n",
        "\n",
        "* `str` 클래스의 메서드들은 원본 문자열을 변경하지 않음!\n",
        "* 원본 문자열을 변경한 새로운 문자열을 리턴함.\n"
      ],
      "metadata": {
        "id": "E7klW74VKDHc"
      }
    },
    {
      "cell_type": "code",
      "execution_count": 6,
      "metadata": {
        "id": "bE6Cs2w-J9Xd"
      },
      "outputs": [],
      "source": [
        "s = 'heLLo, pyTHON! 안녕하세요. 12345'"
      ]
    },
    {
      "cell_type": "code",
      "source": [
        "s.lower()"
      ],
      "metadata": {
        "colab": {
          "base_uri": "https://localhost:8080/",
          "height": 36
        },
        "id": "MDBguxhHK3ld",
        "outputId": "16784958-7ceb-4307-d097-91ea746ceed2"
      },
      "execution_count": 7,
      "outputs": [
        {
          "output_type": "execute_result",
          "data": {
            "text/plain": [
              "'hello, python! 안녕하세요. 12345'"
            ],
            "application/vnd.google.colaboratory.intrinsic+json": {
              "type": "string"
            }
          },
          "metadata": {},
          "execution_count": 7
        }
      ]
    },
    {
      "cell_type": "code",
      "source": [
        "s"
      ],
      "metadata": {
        "colab": {
          "base_uri": "https://localhost:8080/",
          "height": 36
        },
        "id": "BLvqkmX5LX37",
        "outputId": "219e0b74-c6ee-434e-ff1b-17b79871d3ef"
      },
      "execution_count": 8,
      "outputs": [
        {
          "output_type": "execute_result",
          "data": {
            "text/plain": [
              "'heLLo, pyTHON! 안녕하세요. 12345'"
            ],
            "application/vnd.google.colaboratory.intrinsic+json": {
              "type": "string"
            }
          },
          "metadata": {},
          "execution_count": 8
        }
      ]
    },
    {
      "cell_type": "code",
      "source": [
        "s.upper()"
      ],
      "metadata": {
        "colab": {
          "base_uri": "https://localhost:8080/",
          "height": 36
        },
        "id": "7mN0i-DcLg-b",
        "outputId": "a1012ecf-51c8-4256-d2c8-5f5643b0eb92"
      },
      "execution_count": 9,
      "outputs": [
        {
          "output_type": "execute_result",
          "data": {
            "text/plain": [
              "'HELLO, PYTHON! 안녕하세요. 12345'"
            ],
            "application/vnd.google.colaboratory.intrinsic+json": {
              "type": "string"
            }
          },
          "metadata": {},
          "execution_count": 9
        }
      ]
    },
    {
      "cell_type": "code",
      "source": [
        "s.capitalize()  # 문자열의 첫글자만 대문자로, 나머지는 소문자로 변경."
      ],
      "metadata": {
        "colab": {
          "base_uri": "https://localhost:8080/",
          "height": 36
        },
        "id": "1214YGYsLidr",
        "outputId": "3cce547c-bfac-4d0c-87d1-08415e350756"
      },
      "execution_count": 10,
      "outputs": [
        {
          "output_type": "execute_result",
          "data": {
            "text/plain": [
              "'Hello, python! 안녕하세요. 12345'"
            ],
            "application/vnd.google.colaboratory.intrinsic+json": {
              "type": "string"
            }
          },
          "metadata": {},
          "execution_count": 10
        }
      ]
    },
    {
      "cell_type": "code",
      "source": [
        "s.count('L')  # 문자열에서 substring이 등장하는 횟수를 리턴."
      ],
      "metadata": {
        "colab": {
          "base_uri": "https://localhost:8080/"
        },
        "id": "yCARfkd2MP-b",
        "outputId": "b1edd743-c1a6-45c9-c993-fb9d3b85d9e4"
      },
      "execution_count": 12,
      "outputs": [
        {
          "output_type": "execute_result",
          "data": {
            "text/plain": [
              "2"
            ]
          },
          "metadata": {},
          "execution_count": 12
        }
      ]
    },
    {
      "cell_type": "code",
      "source": [
        "url = 'https://www.google.com'"
      ],
      "metadata": {
        "id": "41cNLGWBMwEK"
      },
      "execution_count": 13,
      "outputs": []
    },
    {
      "cell_type": "code",
      "source": [
        "url.startswith('http')"
      ],
      "metadata": {
        "colab": {
          "base_uri": "https://localhost:8080/"
        },
        "id": "vpHOrjxJNI7c",
        "outputId": "4e1f6448-cdd1-4f2a-c9d6-6db4a56ee79f"
      },
      "execution_count": 14,
      "outputs": [
        {
          "output_type": "execute_result",
          "data": {
            "text/plain": [
              "True"
            ]
          },
          "metadata": {},
          "execution_count": 14
        }
      ]
    },
    {
      "cell_type": "code",
      "source": [
        "url.startswith('ftp')"
      ],
      "metadata": {
        "colab": {
          "base_uri": "https://localhost:8080/"
        },
        "id": "J8QtRI2vNYhC",
        "outputId": "258c9d68-9517-4073-9bd2-683cd759670a"
      },
      "execution_count": 15,
      "outputs": [
        {
          "output_type": "execute_result",
          "data": {
            "text/plain": [
              "False"
            ]
          },
          "metadata": {},
          "execution_count": 15
        }
      ]
    },
    {
      "cell_type": "code",
      "source": [
        "phone = '010-0000-0000'"
      ],
      "metadata": {
        "id": "zlQJHMB2NaH6"
      },
      "execution_count": 16,
      "outputs": []
    },
    {
      "cell_type": "code",
      "source": [
        "phone.split(sep='-')"
      ],
      "metadata": {
        "colab": {
          "base_uri": "https://localhost:8080/"
        },
        "id": "38m7neHKN0qT",
        "outputId": "8ac406b1-3727-4386-9a0a-c6820eef48e6"
      },
      "execution_count": 18,
      "outputs": [
        {
          "output_type": "execute_result",
          "data": {
            "text/plain": [
              "['010', '0000', '0000']"
            ]
          },
          "metadata": {},
          "execution_count": 18
        }
      ]
    },
    {
      "cell_type": "code",
      "source": [
        "sentence = 'hello python \\t 안녕하세요 \\n Java'\n",
        "print(sentence)"
      ],
      "metadata": {
        "colab": {
          "base_uri": "https://localhost:8080/"
        },
        "id": "v2ElksgROWKD",
        "outputId": "8ebce0c3-afab-437d-87bf-e2adf14b240a"
      },
      "execution_count": 20,
      "outputs": [
        {
          "output_type": "stream",
          "name": "stdout",
          "text": [
            "hello python \t 안녕하세요 \n",
            " Java\n"
          ]
        }
      ]
    },
    {
      "cell_type": "code",
      "source": [
        "sentence.split()\n",
        "# 파라미터 sep=None인 경우, 공백(whitespace: 스페이스, 탭, 줄바꿈)을 기준으로 자름."
      ],
      "metadata": {
        "colab": {
          "base_uri": "https://localhost:8080/"
        },
        "id": "yOe5ItBEOsWi",
        "outputId": "af525dea-1b63-44c8-8c9e-67fc6a78564e"
      },
      "execution_count": 21,
      "outputs": [
        {
          "output_type": "execute_result",
          "data": {
            "text/plain": [
              "['hello', 'python', '안녕하세요', 'Java']"
            ]
          },
          "metadata": {},
          "execution_count": 21
        }
      ]
    },
    {
      "cell_type": "code",
      "source": [
        "# CSV(comma-seperated values) 파일: 데이터들이 comma(,)로 구분된 형식의 파일.\n",
        "csv = '100,scott,200,scott@oracle.com,1234.56,IT,2022-12-29'\n",
        "csv.split(',')  # 문자열 -> 문자열 리스트"
      ],
      "metadata": {
        "colab": {
          "base_uri": "https://localhost:8080/"
        },
        "id": "wXPUKZjZO3La",
        "outputId": "69c900a9-43ec-4568-f3b0-22281ad1eb26"
      },
      "execution_count": 22,
      "outputs": [
        {
          "output_type": "execute_result",
          "data": {
            "text/plain": [
              "['100', 'scott', '200', 'scott@oracle.com', '1234.56', 'IT', '2022-12-29']"
            ]
          },
          "metadata": {},
          "execution_count": 22
        }
      ]
    },
    {
      "cell_type": "code",
      "source": [
        "'/'.join(['2022', '12', '29'])  # 문자열 리스트 -> 문자열"
      ],
      "metadata": {
        "colab": {
          "base_uri": "https://localhost:8080/",
          "height": 36
        },
        "id": "MSmRPZxwQjWr",
        "outputId": "04d21f4b-dd0f-4ec8-e10b-b1da3e7e13f4"
      },
      "execution_count": 23,
      "outputs": [
        {
          "output_type": "execute_result",
          "data": {
            "text/plain": [
              "'2022/12/29'"
            ],
            "application/vnd.google.colaboratory.intrinsic+json": {
              "type": "string"
            }
          },
          "metadata": {},
          "execution_count": 23
        }
      ]
    },
    {
      "cell_type": "code",
      "source": [
        "s = '            Hello python!            안녕하세요....           '\n",
        "print(s)\n",
        "print(s.lstrip())\n",
        "print(s.rstrip())\n",
        "print(s.strip())  # 문자열의 왼쪽/오른쪽 끝에 있는 공백들을 지움."
      ],
      "metadata": {
        "colab": {
          "base_uri": "https://localhost:8080/"
        },
        "id": "gE6tOTbpRXui",
        "outputId": "11830fc0-ee41-441d-8712-260ee26bacb9"
      },
      "execution_count": 24,
      "outputs": [
        {
          "output_type": "stream",
          "name": "stdout",
          "text": [
            "            Hello python!            안녕하세요....           \n",
            "Hello python!            안녕하세요....           \n",
            "            Hello python!            안녕하세요....\n",
            "Hello python!            안녕하세요....\n"
          ]
        }
      ]
    },
    {
      "cell_type": "code",
      "source": [
        "s = '100::scott::scott@test.com::IT::2022-12-29'\n",
        "s.replace('::', ',')"
      ],
      "metadata": {
        "colab": {
          "base_uri": "https://localhost:8080/",
          "height": 36
        },
        "id": "VRcGn_LnRpOq",
        "outputId": "7e7859cd-ff35-4290-f854-5e564efca80c"
      },
      "execution_count": 25,
      "outputs": [
        {
          "output_type": "execute_result",
          "data": {
            "text/plain": [
              "'100,scott,scott@test.com,IT,2022-12-29'"
            ],
            "application/vnd.google.colaboratory.intrinsic+json": {
              "type": "string"
            }
          },
          "metadata": {},
          "execution_count": 25
        }
      ]
    }
  ]
}