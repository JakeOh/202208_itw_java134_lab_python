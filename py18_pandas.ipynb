{
  "nbformat": 4,
  "nbformat_minor": 0,
  "metadata": {
    "colab": {
      "provenance": [],
      "authorship_tag": "ABX9TyNi808a323xTmLs0Fta2Q8v",
      "include_colab_link": true
    },
    "kernelspec": {
      "name": "python3",
      "display_name": "Python 3"
    },
    "language_info": {
      "name": "python"
    }
  },
  "cells": [
    {
      "cell_type": "markdown",
      "metadata": {
        "id": "view-in-github",
        "colab_type": "text"
      },
      "source": [
        "<a href=\"https://colab.research.google.com/github/JakeOh/202208_itw_java134_lab_python/blob/main/py18_pandas.ipynb\" target=\"_parent\"><img src=\"https://colab.research.google.com/assets/colab-badge.svg\" alt=\"Open In Colab\"/></a>"
      ]
    },
    {
      "cell_type": "code",
      "execution_count": 1,
      "metadata": {
        "id": "sPsmUNkn8Yq6"
      },
      "outputs": [],
      "source": [
        "import numpy as np\n",
        "import pandas as pd"
      ]
    },
    {
      "cell_type": "markdown",
      "source": [
        "# Series\n",
        "\n",
        "* 한가지 타입의 값들 여러개를 저장할 수 있는 1차원 모양의 데이터 타입(클래스)\n",
        "* 축(axis) 레이블을 가지고 있는 1차원 배열(ndarray)\n"
      ],
      "metadata": {
        "id": "oeJ6pJLp8xMX"
      }
    },
    {
      "cell_type": "code",
      "source": [
        "s = pd.Series(data=[1, 2, -3, -4, 5, -6])"
      ],
      "metadata": {
        "id": "NeDB-z8g8tQI"
      },
      "execution_count": 3,
      "outputs": []
    },
    {
      "cell_type": "code",
      "source": [
        "s  # expression 출력: __repr__()"
      ],
      "metadata": {
        "colab": {
          "base_uri": "https://localhost:8080/"
        },
        "id": "fqQMbQFw-amR",
        "outputId": "a3d7f9a8-3bed-40c7-d7bb-b18e0b218661"
      },
      "execution_count": 4,
      "outputs": [
        {
          "output_type": "execute_result",
          "data": {
            "text/plain": [
              "0    1\n",
              "1    2\n",
              "2   -3\n",
              "3   -4\n",
              "4    5\n",
              "5   -6\n",
              "dtype: int64"
            ]
          },
          "metadata": {},
          "execution_count": 4
        }
      ]
    },
    {
      "cell_type": "code",
      "source": [
        "print(s)  # print 함수 출력: __str__()"
      ],
      "metadata": {
        "colab": {
          "base_uri": "https://localhost:8080/"
        },
        "id": "rKvJGLXx-ghm",
        "outputId": "4111b428-4749-4c66-ee73-36b2fa330337"
      },
      "execution_count": 5,
      "outputs": [
        {
          "output_type": "stream",
          "name": "stdout",
          "text": [
            "0    1\n",
            "1    2\n",
            "2   -3\n",
            "3   -4\n",
            "4    5\n",
            "5   -6\n",
            "dtype: int64\n"
          ]
        }
      ]
    },
    {
      "cell_type": "markdown",
      "source": [
        "## `pd.Series` 속성들"
      ],
      "metadata": {
        "id": "EOcBkSeVABHX"
      }
    },
    {
      "cell_type": "code",
      "source": [
        "s.index  # Series 객체의 레이블"
      ],
      "metadata": {
        "colab": {
          "base_uri": "https://localhost:8080/"
        },
        "id": "0jsRpXYC_J4G",
        "outputId": "fb9c2eeb-63b7-405d-9084-80cf4541db73"
      },
      "execution_count": 6,
      "outputs": [
        {
          "output_type": "execute_result",
          "data": {
            "text/plain": [
              "RangeIndex(start=0, stop=6, step=1)"
            ]
          },
          "metadata": {},
          "execution_count": 6
        }
      ]
    },
    {
      "cell_type": "code",
      "source": [
        "s.values  # Series 객체의 값들로만 이루어진 numpy.ndarray"
      ],
      "metadata": {
        "colab": {
          "base_uri": "https://localhost:8080/"
        },
        "id": "ZRpNdq9h_uKo",
        "outputId": "b291d00b-ce26-4736-b169-9634b322bcb3"
      },
      "execution_count": 7,
      "outputs": [
        {
          "output_type": "execute_result",
          "data": {
            "text/plain": [
              "array([ 1,  2, -3, -4,  5, -6])"
            ]
          },
          "metadata": {},
          "execution_count": 7
        }
      ]
    },
    {
      "cell_type": "code",
      "source": [
        "s2 = pd.Series(data=[1, 3, 5, 7], index=['a', 'b', 'c', 'd'])\n",
        "s2"
      ],
      "metadata": {
        "colab": {
          "base_uri": "https://localhost:8080/"
        },
        "id": "Syf39zX5Aece",
        "outputId": "1453dab6-0f8d-4544-9458-4837c2fc3a5d"
      },
      "execution_count": 9,
      "outputs": [
        {
          "output_type": "execute_result",
          "data": {
            "text/plain": [
              "a    1\n",
              "b    3\n",
              "c    5\n",
              "d    7\n",
              "dtype: int64"
            ]
          },
          "metadata": {},
          "execution_count": 9
        }
      ]
    },
    {
      "cell_type": "code",
      "source": [
        "s2.index"
      ],
      "metadata": {
        "colab": {
          "base_uri": "https://localhost:8080/"
        },
        "id": "lf4JM1EVAqGa",
        "outputId": "4e9bf13a-21b3-415e-8205-54bd3916769b"
      },
      "execution_count": 10,
      "outputs": [
        {
          "output_type": "execute_result",
          "data": {
            "text/plain": [
              "Index(['a', 'b', 'c', 'd'], dtype='object')"
            ]
          },
          "metadata": {},
          "execution_count": 10
        }
      ]
    },
    {
      "cell_type": "code",
      "source": [
        "s2.values"
      ],
      "metadata": {
        "colab": {
          "base_uri": "https://localhost:8080/"
        },
        "id": "eTXoPHd1BADU",
        "outputId": "de76aef0-a571-4aa4-a8f9-92bf11a720f4"
      },
      "execution_count": 11,
      "outputs": [
        {
          "output_type": "execute_result",
          "data": {
            "text/plain": [
              "array([1, 3, 5, 7])"
            ]
          },
          "metadata": {},
          "execution_count": 11
        }
      ]
    },
    {
      "cell_type": "markdown",
      "source": [
        "## indexing, slicing - `iloc`, `loc` 속성\n",
        "\n",
        "* `iloc`: 정수 인덱스(`ndarray`의 기본 인덱스) 기반의 원소 참조(integer location).\n",
        "* `loc`: 레이블 기반의 원소 참조(location).\n"
      ],
      "metadata": {
        "id": "-qZX2L9sBqGf"
      }
    },
    {
      "cell_type": "code",
      "source": [
        "s"
      ],
      "metadata": {
        "colab": {
          "base_uri": "https://localhost:8080/"
        },
        "id": "HCZq__NBC243",
        "outputId": "1bb7a03e-5254-401d-a25e-e2d735ac9309"
      },
      "execution_count": 12,
      "outputs": [
        {
          "output_type": "execute_result",
          "data": {
            "text/plain": [
              "0    1\n",
              "1    2\n",
              "2   -3\n",
              "3   -4\n",
              "4    5\n",
              "5   -6\n",
              "dtype: int64"
            ]
          },
          "metadata": {},
          "execution_count": 12
        }
      ]
    },
    {
      "cell_type": "code",
      "source": [
        "s.iloc[0]  # indexing"
      ],
      "metadata": {
        "colab": {
          "base_uri": "https://localhost:8080/"
        },
        "id": "VkHWlGkUC5r_",
        "outputId": "4a8ea75a-84b2-4e24-e4e4-d3bc62ee07f7"
      },
      "execution_count": 13,
      "outputs": [
        {
          "output_type": "execute_result",
          "data": {
            "text/plain": [
              "1"
            ]
          },
          "metadata": {},
          "execution_count": 13
        }
      ]
    },
    {
      "cell_type": "code",
      "source": [
        "print(s.iloc[5])\n",
        "print(s.iloc[-1])"
      ],
      "metadata": {
        "colab": {
          "base_uri": "https://localhost:8080/"
        },
        "id": "EFCxk5bRC_4m",
        "outputId": "ca2f7b8b-6645-41f7-beae-42bc6bbaabe3"
      },
      "execution_count": 15,
      "outputs": [
        {
          "output_type": "stream",
          "name": "stdout",
          "text": [
            "-6\n",
            "-6\n"
          ]
        }
      ]
    },
    {
      "cell_type": "code",
      "source": [
        "s.iloc[:3]  # [0, 3) slicing - Series에서 첫 3개 원소 잘라냄."
      ],
      "metadata": {
        "colab": {
          "base_uri": "https://localhost:8080/"
        },
        "id": "fu2LYucHDMHG",
        "outputId": "3e85638c-870c-4d61-bd4c-fea69e8e0acc"
      },
      "execution_count": 16,
      "outputs": [
        {
          "output_type": "execute_result",
          "data": {
            "text/plain": [
              "0    1\n",
              "1    2\n",
              "2   -3\n",
              "dtype: int64"
            ]
          },
          "metadata": {},
          "execution_count": 16
        }
      ]
    },
    {
      "cell_type": "code",
      "source": [
        "s.iloc[-3:]  # Series에서 끝에 있는 3개 원소 잘라냄."
      ],
      "metadata": {
        "colab": {
          "base_uri": "https://localhost:8080/"
        },
        "id": "ePuhukZKDUye",
        "outputId": "ebe626ae-8c82-4a11-db92-365c6e9ecb62"
      },
      "execution_count": 17,
      "outputs": [
        {
          "output_type": "execute_result",
          "data": {
            "text/plain": [
              "3   -4\n",
              "4    5\n",
              "5   -6\n",
              "dtype: int64"
            ]
          },
          "metadata": {},
          "execution_count": 17
        }
      ]
    },
    {
      "cell_type": "code",
      "source": [
        "s"
      ],
      "metadata": {
        "colab": {
          "base_uri": "https://localhost:8080/"
        },
        "id": "9FYh9TWaDa9W",
        "outputId": "2d044628-058c-488c-f559-5caa5baa7eef"
      },
      "execution_count": 18,
      "outputs": [
        {
          "output_type": "execute_result",
          "data": {
            "text/plain": [
              "0    1\n",
              "1    2\n",
              "2   -3\n",
              "3   -4\n",
              "4    5\n",
              "5   -6\n",
              "dtype: int64"
            ]
          },
          "metadata": {},
          "execution_count": 18
        }
      ]
    },
    {
      "cell_type": "code",
      "source": [
        "s.loc[0]"
      ],
      "metadata": {
        "colab": {
          "base_uri": "https://localhost:8080/"
        },
        "id": "0H6SNqvHDnZO",
        "outputId": "cab80908-cb57-45ac-c5b0-f91d7b12696d"
      },
      "execution_count": 19,
      "outputs": [
        {
          "output_type": "execute_result",
          "data": {
            "text/plain": [
              "1"
            ]
          },
          "metadata": {},
          "execution_count": 19
        }
      ]
    },
    {
      "cell_type": "code",
      "source": [
        "s.loc[5]\n",
        "# s.loc[-1]  # 에러 발생!!!"
      ],
      "metadata": {
        "colab": {
          "base_uri": "https://localhost:8080/"
        },
        "id": "fE80TTjMDrA-",
        "outputId": "74abeae7-80b7-4277-f5e1-440ce306c5c0"
      },
      "execution_count": 22,
      "outputs": [
        {
          "output_type": "execute_result",
          "data": {
            "text/plain": [
              "-6"
            ]
          },
          "metadata": {},
          "execution_count": 22
        }
      ]
    },
    {
      "cell_type": "code",
      "source": [
        "s.loc[:3]  # [0, 3] 범위의 인덱스로 slicing"
      ],
      "metadata": {
        "colab": {
          "base_uri": "https://localhost:8080/"
        },
        "id": "8D1fKR7ADucW",
        "outputId": "375b6161-96cb-41bf-a0e4-0d7621ab32ca"
      },
      "execution_count": 23,
      "outputs": [
        {
          "output_type": "execute_result",
          "data": {
            "text/plain": [
              "0    1\n",
              "1    2\n",
              "2   -3\n",
              "3   -4\n",
              "dtype: int64"
            ]
          },
          "metadata": {},
          "execution_count": 23
        }
      ]
    },
    {
      "cell_type": "code",
      "source": [
        "s.loc[3:5]"
      ],
      "metadata": {
        "colab": {
          "base_uri": "https://localhost:8080/"
        },
        "id": "52WwR64UGAh3",
        "outputId": "3899e782-26a8-4646-d4e5-0ebbc356bf3a"
      },
      "execution_count": 26,
      "outputs": [
        {
          "output_type": "execute_result",
          "data": {
            "text/plain": [
              "3   -4\n",
              "4    5\n",
              "5   -6\n",
              "dtype: int64"
            ]
          },
          "metadata": {},
          "execution_count": 26
        }
      ]
    }
  ]
}