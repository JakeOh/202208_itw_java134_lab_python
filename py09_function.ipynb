{
  "nbformat": 4,
  "nbformat_minor": 0,
  "metadata": {
    "colab": {
      "provenance": [],
      "authorship_tag": "ABX9TyM65cRSRVMu8twHgOZSwRvl",
      "include_colab_link": true
    },
    "kernelspec": {
      "name": "python3",
      "display_name": "Python 3"
    },
    "language_info": {
      "name": "python"
    }
  },
  "cells": [
    {
      "cell_type": "markdown",
      "metadata": {
        "id": "view-in-github",
        "colab_type": "text"
      },
      "source": [
        "<a href=\"https://colab.research.google.com/github/JakeOh/202208_itw_java134_lab_python/blob/main/py09_function.ipynb\" target=\"_parent\"><img src=\"https://colab.research.google.com/assets/colab-badge.svg\" alt=\"Open In Colab\"/></a>"
      ]
    },
    {
      "cell_type": "markdown",
      "source": [
        "# 함수(function)\n",
        "\n",
        "* 함수(function): 기능을 수행하는 코드 블록.\n",
        "* 인수(argument): 함수를 호출할 때 함수에게 전달하는 값(들).\n",
        "* 매개변수(parameter): argument를 저장하기 위해서 함수를 정의할 때 선언하는 (지역) 변수.\n",
        "* 반환 값(return value): 함수가 기능의 수행 결과로 반환하는 값.\n",
        "    * 반환 값이 있는 함수\n",
        "    * 반환 값이 없는 함수\n"
      ],
      "metadata": {
        "id": "EsP2kbEw_Avo"
      }
    },
    {
      "cell_type": "markdown",
      "source": [
        "파이썬에서 함수 정의하는 방법:\n",
        "\n",
        "```\n",
        "def function_name([param, ...]):\n",
        "    [\"\"\"문서화 주석: 함수 설명, 파라미터 설명, 리턴 값 설명\"\"\"]\n",
        "    함수 기능 코드 블록\n",
        "    [return 값]\n",
        "```\n"
      ],
      "metadata": {
        "id": "n-y7bTEjAIqQ"
      }
    },
    {
      "cell_type": "code",
      "execution_count": 1,
      "metadata": {
        "id": "UfMRmA6n-32g"
      },
      "outputs": [],
      "source": [
        "def subtract(x, y):\n",
        "    \"\"\"숫자 x, y를 전달받아서, x-y를 리턴하는 함수.\n",
        "    \"\"\"\n",
        "    return x - y"
      ]
    },
    {
      "cell_type": "code",
      "source": [
        "result = subtract(1, 2)\n",
        "result"
      ],
      "metadata": {
        "colab": {
          "base_uri": "https://localhost:8080/"
        },
        "id": "BtpT838NBznZ",
        "outputId": "52ada5d8-4686-489e-f22b-0d578617ce79"
      },
      "execution_count": 2,
      "outputs": [
        {
          "output_type": "execute_result",
          "data": {
            "text/plain": [
              "-1"
            ]
          },
          "metadata": {},
          "execution_count": 2
        }
      ]
    },
    {
      "cell_type": "markdown",
      "source": [
        "파이썬의 함수는 2개 이상의 값을 반환할 수 있음. 튜플을 리턴하는 것."
      ],
      "metadata": {
        "id": "j7DfcR8RGWhH"
      }
    },
    {
      "cell_type": "code",
      "source": [
        "def plus_and_minus(x, y):\n",
        "    \"\"\"2개의 숫자 x, y를 전달받아서, x+y와 x-y를 리턴하는 함수\"\"\"\n",
        "    return x + y, x - y"
      ],
      "metadata": {
        "id": "d5B1ERe4CBpw"
      },
      "execution_count": 3,
      "outputs": []
    },
    {
      "cell_type": "code",
      "source": [
        "result = plus_and_minus(1, 2)\n",
        "result"
      ],
      "metadata": {
        "colab": {
          "base_uri": "https://localhost:8080/"
        },
        "id": "Vf2UtRikGzKA",
        "outputId": "02c92781-2f0b-4a86-b11b-db89432123bb"
      },
      "execution_count": 5,
      "outputs": [
        {
          "output_type": "execute_result",
          "data": {
            "text/plain": [
              "(3, -1)"
            ]
          },
          "metadata": {},
          "execution_count": 5
        }
      ]
    },
    {
      "cell_type": "code",
      "source": [
        "plus, minus = plus_and_minus(1, 2)\n",
        "print(plus)\n",
        "print(minus)"
      ],
      "metadata": {
        "colab": {
          "base_uri": "https://localhost:8080/"
        },
        "id": "ydQsL7_QHA3K",
        "outputId": "206cc05e-ec5b-4fde-e7bf-ca867a18f691"
      },
      "execution_count": 6,
      "outputs": [
        {
          "output_type": "stream",
          "name": "stdout",
          "text": [
            "3\n",
            "-1\n"
          ]
        }
      ]
    },
    {
      "cell_type": "markdown",
      "source": [
        "값을 반환하지 않는 함수."
      ],
      "metadata": {
        "id": "jfDMT78XHu5_"
      }
    },
    {
      "cell_type": "code",
      "source": [
        "def repeat_message(message, n):\n",
        "    \"\"\"문자열 message와 반복 횟수 n을 전달받아서, 문자열을 n번 출력하는 함수\"\"\"\n",
        "    for _ in range(n):\n",
        "        print(message)\n",
        "\n",
        "    return None  # 반환 값이 없음을 명시적으로 작성.\n",
        "    # 반환 값이 없는 경우에 return None 문장은 보통 생략함."
      ],
      "metadata": {
        "id": "XVfhC25-HWm-"
      },
      "execution_count": 10,
      "outputs": []
    },
    {
      "cell_type": "code",
      "source": [
        "result = repeat_message('안녕하세요', 3)\n",
        "print(f'result = {result}')"
      ],
      "metadata": {
        "colab": {
          "base_uri": "https://localhost:8080/"
        },
        "id": "zOZv0qK8IDeX",
        "outputId": "4743574f-9383-4916-9ccd-da4f997caa31"
      },
      "execution_count": 11,
      "outputs": [
        {
          "output_type": "stream",
          "name": "stdout",
          "text": [
            "안녕하세요\n",
            "안녕하세요\n",
            "안녕하세요\n",
            "result = None\n"
          ]
        }
      ]
    },
    {
      "cell_type": "markdown",
      "source": [
        "# 함수 작성 연습"
      ],
      "metadata": {
        "id": "pj2UaR84JaiO"
      }
    },
    {
      "cell_type": "code",
      "source": [
        "import random  # 난수 생성\n",
        "import math  # sqrt() 함수"
      ],
      "metadata": {
        "id": "3v8XccPFMJuG"
      },
      "execution_count": 12,
      "outputs": []
    },
    {
      "cell_type": "markdown",
      "source": [
        "## Ex 1.\n",
        "\n",
        "* 함수 이름: make_list\n",
        "* 기능: start 이상 end 미만의 정수 난수 n개를 갖는 리스트를 반환하는 함수.\n"
      ],
      "metadata": {
        "id": "0qbmkg-xJdLN"
      }
    },
    {
      "cell_type": "code",
      "source": [
        "def make_list(start, end, n):\n",
        "    return [random.randrange(start, end) for _ in range(n)]"
      ],
      "metadata": {
        "id": "6EFRzE-aVTbx"
      },
      "execution_count": 13,
      "outputs": []
    },
    {
      "cell_type": "code",
      "source": [
        "numbers = make_list(0, 10, 5)\n",
        "numbers"
      ],
      "metadata": {
        "colab": {
          "base_uri": "https://localhost:8080/"
        },
        "id": "Drnt-3gDVtCK",
        "outputId": "48114763-012b-42b3-f9fa-a7bfe54aa021"
      },
      "execution_count": 18,
      "outputs": [
        {
          "output_type": "execute_result",
          "data": {
            "text/plain": [
              "[7, 6, 6, 9, 4]"
            ]
          },
          "metadata": {},
          "execution_count": 18
        }
      ]
    },
    {
      "cell_type": "markdown",
      "source": [
        "## Ex 2.\n",
        "\n",
        "* 함수 이름: calc_sum\n",
        "* 기능: 숫자들의 리스트를 전달받아서, 리스트의 모든 원소들의 합을 리턴하는 함수.\n"
      ],
      "metadata": {
        "id": "ZzgaOYaVKD9N"
      }
    },
    {
      "cell_type": "code",
      "source": [
        "def calc_sum(num_list):\n",
        "    # return sum(num_list)\n",
        "    total = 0\n",
        "    for x in num_list:\n",
        "        total += x\n",
        "\n",
        "    return total"
      ],
      "metadata": {
        "id": "8MRajcejWDuh"
      },
      "execution_count": 19,
      "outputs": []
    },
    {
      "cell_type": "code",
      "source": [
        "calc_sum(numbers)"
      ],
      "metadata": {
        "colab": {
          "base_uri": "https://localhost:8080/"
        },
        "id": "TnYsajjqWiq1",
        "outputId": "b072b2bd-49de-455b-d963-ac59bc23dc14"
      },
      "execution_count": 20,
      "outputs": [
        {
          "output_type": "execute_result",
          "data": {
            "text/plain": [
              "32"
            ]
          },
          "metadata": {},
          "execution_count": 20
        }
      ]
    },
    {
      "cell_type": "markdown",
      "source": [
        "## Ex 3.\n",
        "\n",
        "* 함수 이름: calc_mean\n",
        "* 기능: 숫자들의 리스트를 전달받아서, 리스트의 원소들의 평균을 리턴하는 함수.\n"
      ],
      "metadata": {
        "id": "X_cOuOMwKTOF"
      }
    },
    {
      "cell_type": "code",
      "source": [
        "def calc_mean(num_list):\n",
        "    return calc_sum(num_list) / len(num_list)"
      ],
      "metadata": {
        "id": "GUZUtLT2W0a5"
      },
      "execution_count": 21,
      "outputs": []
    },
    {
      "cell_type": "code",
      "source": [
        "calc_mean(numbers)"
      ],
      "metadata": {
        "colab": {
          "base_uri": "https://localhost:8080/"
        },
        "id": "7SNJNk8-XENR",
        "outputId": "d8d61db4-081e-432a-e8b8-6d7037775aaf"
      },
      "execution_count": 22,
      "outputs": [
        {
          "output_type": "execute_result",
          "data": {
            "text/plain": [
              "6.4"
            ]
          },
          "metadata": {},
          "execution_count": 22
        }
      ]
    },
    {
      "cell_type": "markdown",
      "source": [
        "## Ex 4.\n",
        "\n",
        "* 함수 이름: calc_var\n",
        "* 기능: 숫자들의 리스트를 전달받아서, 리스트의 원소들의 분산(variance)을 리턴하는 함수.\n",
        "    * 분산 = (값 - 평균)**2 들의 평균\n"
      ],
      "metadata": {
        "id": "LuHABmC_KgIW"
      }
    },
    {
      "cell_type": "code",
      "source": [
        "def calc_var(num_list):\n",
        "    mean = calc_mean(num_list)  # 리스트의 원소들의 평균\n",
        "    squares = [(x - mean) ** 2 for x in num_list]\n",
        "    return calc_mean(squares)"
      ],
      "metadata": {
        "id": "Yk4LPBUcXOVp"
      },
      "execution_count": 23,
      "outputs": []
    },
    {
      "cell_type": "code",
      "source": [
        "calc_var(numbers)"
      ],
      "metadata": {
        "colab": {
          "base_uri": "https://localhost:8080/"
        },
        "id": "zCzco7XcX366",
        "outputId": "65e0db88-39f8-40d2-a9f2-a085bc20ad9f"
      },
      "execution_count": 24,
      "outputs": [
        {
          "output_type": "execute_result",
          "data": {
            "text/plain": [
              "2.6399999999999997"
            ]
          },
          "metadata": {},
          "execution_count": 24
        }
      ]
    },
    {
      "cell_type": "markdown",
      "source": [
        "## Ex 5.\n",
        "\n",
        "* 함수 이름: calc_stddev\n",
        "* 기능: 숫자들의 리스트를 전달받아서, 리스트의 원소들의 표준편차(standard deviation)를 리턴하는 함수.\n",
        "    * 표준 편차 = root(분산)\n"
      ],
      "metadata": {
        "id": "l9n5tpfrLs2G"
      }
    },
    {
      "cell_type": "code",
      "source": [
        "def calc_stddev(num_list):\n",
        "    return math.sqrt(calc_var(num_list))"
      ],
      "metadata": {
        "id": "w4xM7fA8Ynzp"
      },
      "execution_count": 25,
      "outputs": []
    },
    {
      "cell_type": "code",
      "source": [
        "calc_stddev(numbers)"
      ],
      "metadata": {
        "colab": {
          "base_uri": "https://localhost:8080/"
        },
        "id": "ebvwGopTY2hC",
        "outputId": "9783599e-1888-46c2-a3f7-9bfcdc378e27"
      },
      "execution_count": 26,
      "outputs": [
        {
          "output_type": "execute_result",
          "data": {
            "text/plain": [
              "1.624807680927192"
            ]
          },
          "metadata": {},
          "execution_count": 26
        }
      ]
    },
    {
      "cell_type": "markdown",
      "source": [
        "## Ex 6.\n",
        "\n",
        "* 함수 이름: find_max_and_min\n",
        "* 기능: 숫자들의 리스트에서 최댓값과 최솟값을 리턴하는 함수.\n"
      ],
      "metadata": {
        "id": "3U1zWCRbMpgO"
      }
    },
    {
      "cell_type": "code",
      "source": [
        "def find_max_and_min(num_list):\n",
        "    max = num_list[0]  # 리스트에서 첫번째 원소를 최댓값이라고 가정.\n",
        "    min = num_list[0]  # 리스트에서 첫번째 원소를 최솟값이라고 가정.\n",
        "    for x in num_list:  # 리스트의 원소들을 처음부터 끝까지 반복하면서\n",
        "        if x > max:  # 리스트에 있는 값이 max보다 크다면\n",
        "            max = x  # 최댓값을 변경\n",
        "        if x < min:  # 리스트에 있는 값이 min보다 작다면\n",
        "            min = x  # 최솟값을 변경\n",
        "\n",
        "    return max, min"
      ],
      "metadata": {
        "id": "h8OLQBc-Jb9w"
      },
      "execution_count": 27,
      "outputs": []
    },
    {
      "cell_type": "code",
      "source": [
        "find_max_and_min(numbers)"
      ],
      "metadata": {
        "colab": {
          "base_uri": "https://localhost:8080/"
        },
        "id": "3eMRk285ad6J",
        "outputId": "3bee8f56-480d-4cdc-a364-9d61c921ed3e"
      },
      "execution_count": 28,
      "outputs": [
        {
          "output_type": "execute_result",
          "data": {
            "text/plain": [
              "(9, 4)"
            ]
          },
          "metadata": {},
          "execution_count": 28
        }
      ]
    },
    {
      "cell_type": "markdown",
      "source": [
        "# Default argument(기본 인수)\n",
        "\n",
        "* 함수를 정의할 때 파라미터에 설정한 기본값.\n",
        "* 함수를 호출할 때 default argument가 있는 파라미터에 값을 전달하지 않으면, 기본값이 사용됨.\n",
        "* 함수를 호출할 때 default argument가 있는 파라미터에 값을 전달하면, 기본값은 무시되고 전달한 값을 사용함.\n",
        "* **(주의)** 함수를 정의할 때, default argument가 있는 파라미터들은 default argument가 없는 파라미터들 뒤에 선언해야 함!\n"
      ],
      "metadata": {
        "id": "o7UrXQDxayhI"
      }
    },
    {
      "cell_type": "code",
      "source": [
        "def repeat_message2(msg, n=1):\n",
        "    for _ in range(n):\n",
        "        print(msg)"
      ],
      "metadata": {
        "id": "b09FTlEdamn5"
      },
      "execution_count": 33,
      "outputs": []
    },
    {
      "cell_type": "code",
      "source": [
        "repeat_message2('Hello')"
      ],
      "metadata": {
        "colab": {
          "base_uri": "https://localhost:8080/"
        },
        "id": "L_4EdkGcbvAR",
        "outputId": "2198aaef-5ae0-4f8e-fe23-1dc71e5aeef1"
      },
      "execution_count": 30,
      "outputs": [
        {
          "output_type": "stream",
          "name": "stdout",
          "text": [
            "Hello\n"
          ]
        }
      ]
    },
    {
      "cell_type": "code",
      "source": [
        "repeat_message2('Hello', 3)"
      ],
      "metadata": {
        "colab": {
          "base_uri": "https://localhost:8080/"
        },
        "id": "nrit0tCqb_7A",
        "outputId": "be31488b-5ee6-4683-ad21-e8cf0bdfd3c0"
      },
      "execution_count": 31,
      "outputs": [
        {
          "output_type": "stream",
          "name": "stdout",
          "text": [
            "Hello\n",
            "Hello\n",
            "Hello\n"
          ]
        }
      ]
    },
    {
      "cell_type": "markdown",
      "source": [
        "# argument 전달 방법:\n",
        "\n",
        "* **positional argument**: 함수 정의에선 선언된 파라미터 순서대로 argument들을 전달하는 방법.\n",
        "* **keyword argument**: `param=value` 형식으로 argument들을 전달하는 방법.\n",
        "    * keyword argument 방식으로 argument들을 전달할 때는 파라미터 순서를 지키지 않아도 됨.\n",
        "* **(주의)**: 함수를 호출할 때 positional 방법과 keyword 방법을 함께 사용하는 경우에는 반드시 positional argument들이 먼저 전달되어야 하고, keyword argument들은 positional argument들 뒤에 전달되어야 함.\n"
      ],
      "metadata": {
        "id": "DCoiPlovhm6w"
      }
    },
    {
      "cell_type": "code",
      "source": [
        "def minus(x, y):\n",
        "    return x - y"
      ],
      "metadata": {
        "id": "9DxExVFshuWv"
      },
      "execution_count": 34,
      "outputs": []
    },
    {
      "cell_type": "code",
      "source": [
        "minus(1, 2)  # positional argument"
      ],
      "metadata": {
        "colab": {
          "base_uri": "https://localhost:8080/"
        },
        "id": "ikorJdIbkN5Y",
        "outputId": "f5e0a2b6-0e34-4573-afb2-ab9d1fd668fe"
      },
      "execution_count": 35,
      "outputs": [
        {
          "output_type": "execute_result",
          "data": {
            "text/plain": [
              "-1"
            ]
          },
          "metadata": {},
          "execution_count": 35
        }
      ]
    },
    {
      "cell_type": "code",
      "source": [
        "minus(x=1, y=2)  # keyword argument"
      ],
      "metadata": {
        "colab": {
          "base_uri": "https://localhost:8080/"
        },
        "id": "LTnGutk8kVdu",
        "outputId": "ed2f11cc-9b31-4d2d-c89b-ecae4fb7bee9"
      },
      "execution_count": 36,
      "outputs": [
        {
          "output_type": "execute_result",
          "data": {
            "text/plain": [
              "-1"
            ]
          },
          "metadata": {},
          "execution_count": 36
        }
      ]
    },
    {
      "cell_type": "code",
      "source": [
        "minus(y=2, x=1)  # keyword 방식에서는 파라미터 순서를 지키지 않아도 됨."
      ],
      "metadata": {
        "colab": {
          "base_uri": "https://localhost:8080/"
        },
        "id": "DoBAdkPKkpO-",
        "outputId": "e9c26810-42b7-49c5-e35a-9f6131ee44bb"
      },
      "execution_count": 39,
      "outputs": [
        {
          "output_type": "execute_result",
          "data": {
            "text/plain": [
              "-1"
            ]
          },
          "metadata": {},
          "execution_count": 39
        }
      ]
    },
    {
      "cell_type": "code",
      "source": [
        "minus(1, y=2)  # positional 방식과 keyword 방식을 함께 사용해도 됨."
      ],
      "metadata": {
        "colab": {
          "base_uri": "https://localhost:8080/"
        },
        "id": "JvYjbp7uk5K-",
        "outputId": "acb336f1-11fe-49dd-f6b8-3db9ca5db44f"
      },
      "execution_count": 40,
      "outputs": [
        {
          "output_type": "execute_result",
          "data": {
            "text/plain": [
              "-1"
            ]
          },
          "metadata": {},
          "execution_count": 40
        }
      ]
    },
    {
      "cell_type": "code",
      "source": [
        "# minus(x=2, 1)  # keyword 방식이 postional 방식보다 먼저 나오면 문법 오류"
      ],
      "metadata": {
        "id": "KUbVBaJllz6n"
      },
      "execution_count": 43,
      "outputs": []
    },
    {
      "cell_type": "markdown",
      "source": [
        "# 가변길이 인수(variable-length argument)\n",
        "\n",
        "* 함수를 호출할 때 전달하는 값(argument)의 개수가 임의로 변할 수 있는 것.\n",
        "    * argument를 전달하지 않아도 됨.\n",
        "* 함수를 정의할 때 파라미터 이름 앞에 `*`를 사용하면 가변길이 인수를 전달받을 수 있음.\n",
        "* 함수 내부에서 가변길이 인수는 tuple로 취급해서 코드를 작성.\n",
        "    * 인덱스 사용 가능.\n",
        "    * for-in 구문 사용 가능.\n",
        "* **(주의)** \n",
        "    * 가변길이 인수는 keyword 방식으로 전달할 수 없음!\n",
        "    * 함수에서 가변길이 인수를 갖는 파라미터는 오직 1개만 선언 가능!\n"
      ],
      "metadata": {
        "id": "D1bdSIZWmfpG"
      }
    },
    {
      "cell_type": "code",
      "source": [
        "print('abc')\n",
        "print()\n",
        "print('abc', 'def')"
      ],
      "metadata": {
        "colab": {
          "base_uri": "https://localhost:8080/"
        },
        "id": "rt1dMoQxmZcf",
        "outputId": "7d9b144b-093d-42ab-f627-ae50e1fc2d41"
      },
      "execution_count": 48,
      "outputs": [
        {
          "output_type": "stream",
          "name": "stdout",
          "text": [
            "abc\n",
            "\n",
            "abc def\n"
          ]
        }
      ]
    },
    {
      "cell_type": "code",
      "source": [
        "def add_all(*values1):\n",
        "    total = 0\n",
        "    for x in values:\n",
        "        total += x\n",
        "\n",
        "    return total"
      ],
      "metadata": {
        "id": "nl7pCrZkpH82"
      },
      "execution_count": 49,
      "outputs": []
    },
    {
      "cell_type": "code",
      "source": [
        "add_all()"
      ],
      "metadata": {
        "colab": {
          "base_uri": "https://localhost:8080/"
        },
        "id": "0DI3n6YmpSkV",
        "outputId": "809b8ed0-f888-4869-82a2-1fe993e60dd8"
      },
      "execution_count": 50,
      "outputs": [
        {
          "output_type": "execute_result",
          "data": {
            "text/plain": [
              "0"
            ]
          },
          "metadata": {},
          "execution_count": 50
        }
      ]
    },
    {
      "cell_type": "code",
      "source": [
        "add_all(1, 2, 3)"
      ],
      "metadata": {
        "colab": {
          "base_uri": "https://localhost:8080/"
        },
        "id": "kZtE8JkLpZzl",
        "outputId": "9ccf4068-5d8d-4f99-8fc9-6a79c668a3ea"
      },
      "execution_count": 51,
      "outputs": [
        {
          "output_type": "execute_result",
          "data": {
            "text/plain": [
              "6"
            ]
          },
          "metadata": {},
          "execution_count": 51
        }
      ]
    },
    {
      "cell_type": "code",
      "source": [
        "def test(*x, y):\n",
        "    print(x)\n",
        "    print(y)"
      ],
      "metadata": {
        "id": "3E-R-fEWpcSd"
      },
      "execution_count": 52,
      "outputs": []
    },
    {
      "cell_type": "code",
      "source": [
        "test(1, 2, y=3)"
      ],
      "metadata": {
        "colab": {
          "base_uri": "https://localhost:8080/"
        },
        "id": "-iXgwqa8qGdG",
        "outputId": "48f6205b-e0f6-44a3-970f-9426a5c4a44f"
      },
      "execution_count": 54,
      "outputs": [
        {
          "output_type": "stream",
          "name": "stdout",
          "text": [
            "(1, 2)\n",
            "3\n"
          ]
        }
      ]
    },
    {
      "cell_type": "code",
      "source": [
        "print(1, 2, 3, sep=',')"
      ],
      "metadata": {
        "colab": {
          "base_uri": "https://localhost:8080/"
        },
        "id": "Sn4c61FvqMN9",
        "outputId": "ac0e4195-b8e4-49c9-9a8f-168fc70e6dbf"
      },
      "execution_count": 55,
      "outputs": [
        {
          "output_type": "stream",
          "name": "stdout",
          "text": [
            "1,2,3\n"
          ]
        }
      ]
    }
  ]
}