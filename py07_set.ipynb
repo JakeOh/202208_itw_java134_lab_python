{
  "nbformat": 4,
  "nbformat_minor": 0,
  "metadata": {
    "colab": {
      "provenance": [],
      "authorship_tag": "ABX9TyOr/u29fMK5IUUhKQ3Qvz9a",
      "include_colab_link": true
    },
    "kernelspec": {
      "name": "python3",
      "display_name": "Python 3"
    },
    "language_info": {
      "name": "python"
    }
  },
  "cells": [
    {
      "cell_type": "markdown",
      "metadata": {
        "id": "view-in-github",
        "colab_type": "text"
      },
      "source": [
        "<a href=\"https://colab.research.google.com/github/JakeOh/202208_itw_java134_lab_python/blob/main/py07_set.ipynb\" target=\"_parent\"><img src=\"https://colab.research.google.com/assets/colab-badge.svg\" alt=\"Open In Colab\"/></a>"
      ]
    },
    {
      "cell_type": "markdown",
      "source": [
        "# set(집합)\n",
        "\n",
        "* 중복된 데이터를 허용하지 않음: `{1, 2, 2, 3, 3, 3} = {1, 2, 3}`\n",
        "* 데이터 저장 순서가 중요하지 않음: `{1, 2, 3} = {3, 1, 2}`\n",
        "    * 인덱스가 없음 -> indexing, slicing 기능을 제공하지 않음.\n"
      ],
      "metadata": {
        "id": "xhM00e2Ge4g2"
      }
    },
    {
      "cell_type": "code",
      "execution_count": 1,
      "metadata": {
        "colab": {
          "base_uri": "https://localhost:8080/"
        },
        "id": "VxPUrdeBeuvF",
        "outputId": "bb08dff9-5357-4971-d667-467563a85947"
      },
      "outputs": [
        {
          "output_type": "execute_result",
          "data": {
            "text/plain": [
              "{1, 2, 3}"
            ]
          },
          "metadata": {},
          "execution_count": 1
        }
      ],
      "source": [
        "s = {1, 2, 2, 3, 3, 3}\n",
        "s"
      ]
    },
    {
      "cell_type": "markdown",
      "source": [
        "set 객체는 list, tuple 객체와 같은 방법으로 for 반복문을 사용할 수 있음."
      ],
      "metadata": {
        "id": "uD9Js4t2gDoV"
      }
    },
    {
      "cell_type": "code",
      "source": [
        "for x in s:\n",
        "    print(x, end=', ')"
      ],
      "metadata": {
        "colab": {
          "base_uri": "https://localhost:8080/"
        },
        "id": "G1Y3Q-fyfjde",
        "outputId": "c39aabbe-17bf-47c8-c968-72786446ed5b"
      },
      "execution_count": 2,
      "outputs": [
        {
          "output_type": "stream",
          "name": "stdout",
          "text": [
            "1, 2, 3, "
          ]
        }
      ]
    },
    {
      "cell_type": "markdown",
      "source": [
        "# set의 기능(메서드)"
      ],
      "metadata": {
        "id": "q8ZEadJZgWBF"
      }
    },
    {
      "cell_type": "code",
      "source": [
        "s.add(10)  # set에 원소 추가\n",
        "s"
      ],
      "metadata": {
        "colab": {
          "base_uri": "https://localhost:8080/"
        },
        "id": "peOHEqaXgZOV",
        "outputId": "90ddda91-05f5-468d-d5d9-29fc5907b471"
      },
      "execution_count": 3,
      "outputs": [
        {
          "output_type": "execute_result",
          "data": {
            "text/plain": [
              "{1, 2, 3, 10}"
            ]
          },
          "metadata": {},
          "execution_count": 3
        }
      ]
    },
    {
      "cell_type": "code",
      "source": [
        "s.remove(3)  # set에서 원소 삭제\n",
        "s"
      ],
      "metadata": {
        "colab": {
          "base_uri": "https://localhost:8080/"
        },
        "id": "0E4UzJBMgs11",
        "outputId": "e9955579-56cc-413d-d815-a12c4829a1cb"
      },
      "execution_count": 4,
      "outputs": [
        {
          "output_type": "execute_result",
          "data": {
            "text/plain": [
              "{1, 2, 10}"
            ]
          },
          "metadata": {},
          "execution_count": 4
        }
      ]
    },
    {
      "cell_type": "code",
      "source": [
        "s1 = {1, 2, 3, 4}\n",
        "s2 = {2, 3, 5, 6}\n",
        "\n",
        "print(s1.union(s2))  # 합집합\n",
        "print(s1.intersection(s2))  # 교집합\n",
        "print(s1.difference(s2))  # 차집합"
      ],
      "metadata": {
        "colab": {
          "base_uri": "https://localhost:8080/"
        },
        "id": "gxaJMapDg5J9",
        "outputId": "9288e2dc-1e96-4c22-8497-e50cced33b1e"
      },
      "execution_count": 6,
      "outputs": [
        {
          "output_type": "stream",
          "name": "stdout",
          "text": [
            "{1, 2, 3, 4, 5, 6}\n",
            "{2, 3}\n",
            "{1, 4}\n"
          ]
        }
      ]
    },
    {
      "cell_type": "code",
      "source": [
        "print(s1 | s2)  # 합집합 연산자\n",
        "print(s1 & s2)  # 교집합 연산자\n",
        "print(s1 - s2)  # 차집합 연산자"
      ],
      "metadata": {
        "colab": {
          "base_uri": "https://localhost:8080/"
        },
        "id": "k7XdX7UniGh9",
        "outputId": "1b98e904-4e58-4803-8939-449d909a5cd7"
      },
      "execution_count": 9,
      "outputs": [
        {
          "output_type": "stream",
          "name": "stdout",
          "text": [
            "{1, 2, 3, 4, 5, 6}\n",
            "{2, 3}\n",
            "{1, 4}\n"
          ]
        }
      ]
    }
  ]
}