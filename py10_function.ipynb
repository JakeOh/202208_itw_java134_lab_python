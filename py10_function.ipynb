{
  "nbformat": 4,
  "nbformat_minor": 0,
  "metadata": {
    "colab": {
      "provenance": [],
      "authorship_tag": "ABX9TyM8wXIXGwvFh/V36qje9kXq",
      "include_colab_link": true
    },
    "kernelspec": {
      "name": "python3",
      "display_name": "Python 3"
    },
    "language_info": {
      "name": "python"
    }
  },
  "cells": [
    {
      "cell_type": "markdown",
      "metadata": {
        "id": "view-in-github",
        "colab_type": "text"
      },
      "source": [
        "<a href=\"https://colab.research.google.com/github/JakeOh/202208_itw_java134_lab_python/blob/main/py10_function.ipynb\" target=\"_parent\"><img src=\"https://colab.research.google.com/assets/colab-badge.svg\" alt=\"Open In Colab\"/></a>"
      ]
    },
    {
      "cell_type": "markdown",
      "source": [
        "# 1급 객체(first-class object)로서의 함수\n",
        "\n",
        "\n",
        "함수는 객체(object)다.\n",
        "\n",
        "* 함수는 변수에 할당할 수 있음.\n",
        "* 함수의 파라미터에 다른 함수를 전달할 수 있음.\n",
        "* 함수의 리턴 값이 함수가 될 수 있음.\n",
        "* 함수 내부에서 다른 함수를 정의할 수 있음.\n"
      ],
      "metadata": {
        "id": "bb62UsL-Ocpo"
      }
    },
    {
      "cell_type": "markdown",
      "source": [
        "## 함수를 변수에 할당"
      ],
      "metadata": {
        "id": "wO_1D07gPzNw"
      }
    },
    {
      "cell_type": "code",
      "execution_count": 1,
      "metadata": {
        "id": "V3Y3gCblOVsw"
      },
      "outputs": [],
      "source": [
        "def twice(x):\n",
        "    return 2 * x"
      ]
    },
    {
      "cell_type": "code",
      "source": [
        "result = twice(5)  # 함수 twice의 호출 결과(리턴 값)을 변수 result에 할당.\n",
        "result"
      ],
      "metadata": {
        "colab": {
          "base_uri": "https://localhost:8080/"
        },
        "id": "R7nMYPySP5k4",
        "outputId": "fe7390e6-42fe-4c98-fe41-15d0a47b383b"
      },
      "execution_count": 2,
      "outputs": [
        {
          "output_type": "execute_result",
          "data": {
            "text/plain": [
              "10"
            ]
          },
          "metadata": {},
          "execution_count": 2
        }
      ]
    },
    {
      "cell_type": "code",
      "source": [
        "double = twice  # 함수 twice 객체를 변수 double에 할당.\n",
        "double"
      ],
      "metadata": {
        "colab": {
          "base_uri": "https://localhost:8080/"
        },
        "id": "Bk-LySJSQMxO",
        "outputId": "b2c4842e-d802-445e-b409-636175784172"
      },
      "execution_count": 3,
      "outputs": [
        {
          "output_type": "execute_result",
          "data": {
            "text/plain": [
              "<function __main__.twice(x)>"
            ]
          },
          "metadata": {},
          "execution_count": 3
        }
      ]
    },
    {
      "cell_type": "code",
      "source": [
        "double(100)  # 함수 호출"
      ],
      "metadata": {
        "colab": {
          "base_uri": "https://localhost:8080/"
        },
        "id": "-jeffvblQduY",
        "outputId": "8b7427f7-2ac3-4d0d-e587-3a23e4e037d0"
      },
      "execution_count": 4,
      "outputs": [
        {
          "output_type": "execute_result",
          "data": {
            "text/plain": [
              "200"
            ]
          },
          "metadata": {},
          "execution_count": 4
        }
      ]
    },
    {
      "cell_type": "markdown",
      "source": [
        "## 파라미터에 함수를 전달"
      ],
      "metadata": {
        "id": "0pxIjOyiQz5_"
      }
    },
    {
      "cell_type": "code",
      "source": [
        "def calculator(x, y, fn):\n",
        "    \"\"\"\n",
        "    x, y: 숫자 타입(int, float).\n",
        "    fn: 숫자 2개를 argument로 전달받고, 숫자를 리턴하는 함수.\n",
        "    \"\"\"\n",
        "    result = fn(x, y)\n",
        "    return result"
      ],
      "metadata": {
        "id": "zZZmLSeJQmhO"
      },
      "execution_count": 5,
      "outputs": []
    },
    {
      "cell_type": "code",
      "source": [
        "def plus(x, y):\n",
        "    return x + y"
      ],
      "metadata": {
        "id": "JFSh1KoERa_f"
      },
      "execution_count": 6,
      "outputs": []
    },
    {
      "cell_type": "code",
      "source": [
        "calculator(1, 2, plus)"
      ],
      "metadata": {
        "colab": {
          "base_uri": "https://localhost:8080/"
        },
        "id": "alpeBHiPRhRO",
        "outputId": "c6f2a8a5-d809-4c05-c482-5d583ae6fec3"
      },
      "execution_count": 7,
      "outputs": [
        {
          "output_type": "execute_result",
          "data": {
            "text/plain": [
              "3"
            ]
          },
          "metadata": {},
          "execution_count": 7
        }
      ]
    },
    {
      "cell_type": "markdown",
      "source": [
        "## 내부 함수, 함수 리턴"
      ],
      "metadata": {
        "id": "scAVF9VlSROW"
      }
    },
    {
      "cell_type": "code",
      "source": [
        "def make_increments(n):\n",
        "    # 내부 함수(inner function). 지역 함수(local function).\n",
        "    def add_n(x):\n",
        "        # 내부 함수는 외부 함수의 지역 변수들을 사용할 수 있음.\n",
        "        return x + n\n",
        "\n",
        "    return add_n  # 함수 객체를 리턴."
      ],
      "metadata": {
        "id": "jHB1dqu6Rpy2"
      },
      "execution_count": 8,
      "outputs": []
    },
    {
      "cell_type": "code",
      "source": [
        "increase_by_2 = make_increments(2)"
      ],
      "metadata": {
        "id": "xbidv9xgTsp_"
      },
      "execution_count": 9,
      "outputs": []
    },
    {
      "cell_type": "code",
      "source": [
        "increase_by_2"
      ],
      "metadata": {
        "colab": {
          "base_uri": "https://localhost:8080/"
        },
        "id": "g7rYo268TycN",
        "outputId": "93a50517-7e8d-4806-c0eb-b202d8ea816c"
      },
      "execution_count": 10,
      "outputs": [
        {
          "output_type": "execute_result",
          "data": {
            "text/plain": [
              "<function __main__.make_increments.<locals>.add_n(x)>"
            ]
          },
          "metadata": {},
          "execution_count": 10
        }
      ]
    },
    {
      "cell_type": "code",
      "source": [
        "increase_by_2(100)"
      ],
      "metadata": {
        "colab": {
          "base_uri": "https://localhost:8080/"
        },
        "id": "qVYwoQr1UYgP",
        "outputId": "81c2ca22-495a-4284-aa36-c1dd1e8c2bd5"
      },
      "execution_count": 11,
      "outputs": [
        {
          "output_type": "execute_result",
          "data": {
            "text/plain": [
              "102"
            ]
          },
          "metadata": {},
          "execution_count": 11
        }
      ]
    },
    {
      "cell_type": "code",
      "source": [
        "increase_by_10 = make_increments(10)\n",
        "increase_by_10(100)"
      ],
      "metadata": {
        "colab": {
          "base_uri": "https://localhost:8080/"
        },
        "id": "rZ1dEzDtUbx2",
        "outputId": "d312a1eb-de9c-48b1-8041-b63997391950"
      },
      "execution_count": 12,
      "outputs": [
        {
          "output_type": "execute_result",
          "data": {
            "text/plain": [
              "110"
            ]
          },
          "metadata": {},
          "execution_count": 12
        }
      ]
    },
    {
      "cell_type": "markdown",
      "source": [
        "# 람다 표현식(Lambda expression)\n",
        "\n",
        "* 이름이 없는 함수 표기법.\n",
        "* 함수 이름 없이 함수의 파라미터 선언과 반환 값 또는 반환 식으로만 함수를 정의하는 방법.\n",
        "* 파이썬은 2줄 이상의 문장이 포함된 람다 표현식은 제공하지 않음.\n",
        "\n",
        "```\n",
        "lambda p1, p2, ...: expression\n",
        "```\n"
      ],
      "metadata": {
        "id": "DNOOVGxaad3u"
      }
    },
    {
      "cell_type": "code",
      "source": [
        "minus = lambda x, y: x - y"
      ],
      "metadata": {
        "id": "aqvlsF8XUmuH"
      },
      "execution_count": 13,
      "outputs": []
    },
    {
      "cell_type": "code",
      "source": [
        "minus"
      ],
      "metadata": {
        "colab": {
          "base_uri": "https://localhost:8080/"
        },
        "id": "lYItITy2bT8u",
        "outputId": "2cf0b2bc-1630-4be1-a693-1f6b5d2f8800"
      },
      "execution_count": 14,
      "outputs": [
        {
          "output_type": "execute_result",
          "data": {
            "text/plain": [
              "<function __main__.<lambda>(x, y)>"
            ]
          },
          "metadata": {},
          "execution_count": 14
        }
      ]
    },
    {
      "cell_type": "code",
      "source": [
        "minus(1, 2)"
      ],
      "metadata": {
        "colab": {
          "base_uri": "https://localhost:8080/"
        },
        "id": "_Xe8WGoobVBk",
        "outputId": "bd4b3648-3e2f-47ee-b37c-6a1956c176b1"
      },
      "execution_count": 15,
      "outputs": [
        {
          "output_type": "execute_result",
          "data": {
            "text/plain": [
              "-1"
            ]
          },
          "metadata": {},
          "execution_count": 15
        }
      ]
    },
    {
      "cell_type": "code",
      "source": [
        "calculator(1, 2, lambda x, y: x / y)"
      ],
      "metadata": {
        "colab": {
          "base_uri": "https://localhost:8080/"
        },
        "id": "te2cRLChbrhG",
        "outputId": "f8536525-0fff-480d-8d67-4ed904928d05"
      },
      "execution_count": 16,
      "outputs": [
        {
          "output_type": "execute_result",
          "data": {
            "text/plain": [
              "0.5"
            ]
          },
          "metadata": {},
          "execution_count": 16
        }
      ]
    },
    {
      "cell_type": "markdown",
      "source": [
        "calculator 함수에 더 큰 숫자를 리턴하는 람다 표현식을 argument로 전달."
      ],
      "metadata": {
        "id": "utEBqIedcOA9"
      }
    },
    {
      "cell_type": "code",
      "source": [
        "calculator(1, 2, lambda x, y: x if x > y else y)"
      ],
      "metadata": {
        "colab": {
          "base_uri": "https://localhost:8080/"
        },
        "id": "2yspOQFSb3xl",
        "outputId": "fe68b802-51dd-4253-fae2-1082a4ae9b8c"
      },
      "execution_count": 17,
      "outputs": [
        {
          "output_type": "execute_result",
          "data": {
            "text/plain": [
              "2"
            ]
          },
          "metadata": {},
          "execution_count": 17
        }
      ]
    },
    {
      "cell_type": "markdown",
      "source": [
        "calculator 함수에 첫번째 argument가 크면 True 그렇지 않으면 False를 리턴하는 람다 표현식을 argument로 전달."
      ],
      "metadata": {
        "id": "RUWJ0TDFcbxW"
      }
    },
    {
      "cell_type": "code",
      "source": [
        "calculator(1, 2, lambda x, y: x > y)"
      ],
      "metadata": {
        "colab": {
          "base_uri": "https://localhost:8080/"
        },
        "id": "ZCGRQ4uqcbVv",
        "outputId": "eb7b24b5-4887-4810-9d12-0927603f9ecc"
      },
      "execution_count": 18,
      "outputs": [
        {
          "output_type": "execute_result",
          "data": {
            "text/plain": [
              "False"
            ]
          },
          "metadata": {},
          "execution_count": 18
        }
      ]
    },
    {
      "cell_type": "markdown",
      "source": [
        "## filter 함수\n",
        "\n",
        "조건에 맞은 원소들만 선택."
      ],
      "metadata": {
        "id": "jc-xI6Kod9lt"
      }
    },
    {
      "cell_type": "code",
      "source": [
        "def my_filter(iterable, fn):\n",
        "    \"\"\"\n",
        "    리스트 iterable의 원소들 중에서 fn의 결과값이 True인 원소들로만 이루어진 리스트를 리턴.\n",
        "\n",
        "    iterable: 리스트.\n",
        "    fn: argument가 1개이고, 리턴 타입은 bool인 함수.\n",
        "    \"\"\"\n",
        "    pass"
      ],
      "metadata": {
        "id": "ebzAJ2xPd0jF"
      },
      "execution_count": 21,
      "outputs": []
    },
    {
      "cell_type": "code",
      "source": [],
      "metadata": {
        "id": "yeKuYBCeeqA2"
      },
      "execution_count": null,
      "outputs": []
    },
    {
      "cell_type": "markdown",
      "source": [
        "## map 함수\n",
        "\n",
        "원소들을 규칙에 따라서 다른 값으로 변환."
      ],
      "metadata": {
        "id": "jN-NBsrCfPcV"
      }
    },
    {
      "cell_type": "code",
      "source": [
        "def my_mapper(iterable, fn):\n",
        "    \"\"\"\n",
        "    리스트 iterable의 원소들을 함수 fn의 리턴 값으로 변환한 리스트를 리턴.\n",
        "\n",
        "    iterable: 리스트.\n",
        "    fn: argument가 1개이고 리턴 값이 있는 값.\n",
        "    \"\"\"\n",
        "    pass"
      ],
      "metadata": {
        "id": "FKYEOefxfTKl"
      },
      "execution_count": 22,
      "outputs": []
    },
    {
      "cell_type": "code",
      "source": [],
      "metadata": {
        "id": "8H3cYkvrgFnF"
      },
      "execution_count": null,
      "outputs": []
    }
  ]
}