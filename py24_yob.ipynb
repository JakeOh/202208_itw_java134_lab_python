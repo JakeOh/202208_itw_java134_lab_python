{
  "nbformat": 4,
  "nbformat_minor": 0,
  "metadata": {
    "colab": {
      "provenance": [],
      "authorship_tag": "ABX9TyO0FtiwlhngzFClfJ6Gat6y",
      "include_colab_link": true
    },
    "kernelspec": {
      "name": "python3",
      "display_name": "Python 3"
    },
    "language_info": {
      "name": "python"
    }
  },
  "cells": [
    {
      "cell_type": "markdown",
      "metadata": {
        "id": "view-in-github",
        "colab_type": "text"
      },
      "source": [
        "<a href=\"https://colab.research.google.com/github/JakeOh/202208_itw_java134_lab_python/blob/main/py24_yob.ipynb\" target=\"_parent\"><img src=\"https://colab.research.google.com/assets/colab-badge.svg\" alt=\"Open In Colab\"/></a>"
      ]
    },
    {
      "cell_type": "markdown",
      "source": [
        "# Imports"
      ],
      "metadata": {
        "id": "N1fvxvYCunbm"
      }
    },
    {
      "cell_type": "code",
      "source": [
        "import numpy as np\n",
        "import pandas as pd\n",
        "import matplotlib.pyplot as plt\n",
        "import seaborn as sns"
      ],
      "metadata": {
        "id": "m60MkdN_upF7"
      },
      "execution_count": 1,
      "outputs": []
    },
    {
      "cell_type": "markdown",
      "source": [
        "# 미국 신생아 이름 데이터 셋\n",
        "\n",
        "* https://github.com/wesm/pydata-book/tree/3rd-edition/datasets/babynames\n",
        "* 1880년 ~ 2010년 연도별로 txt 파일이 만들어져 있음.\n",
        "* 각 파일에는 '이름,성별,신생아수'가 comma(,)로 구분되어 있음.\n"
      ],
      "metadata": {
        "id": "gsJR93_-uzlu"
      }
    },
    {
      "cell_type": "code",
      "execution_count": null,
      "metadata": {
        "id": "Cd3KOU0VuTh5"
      },
      "outputs": [],
      "source": [
        "file_path = 'https://github.com/wesm/pydata-book/raw/3rd-edition/datasets/babynames/yob1880.txt'"
      ]
    }
  ]
}