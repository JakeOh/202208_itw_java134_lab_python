{
  "nbformat": 4,
  "nbformat_minor": 0,
  "metadata": {
    "colab": {
      "provenance": [],
      "authorship_tag": "ABX9TyNeTkcJtMZ0iLVnf9t0XnFU",
      "include_colab_link": true
    },
    "kernelspec": {
      "name": "python3",
      "display_name": "Python 3"
    },
    "language_info": {
      "name": "python"
    }
  },
  "cells": [
    {
      "cell_type": "markdown",
      "metadata": {
        "id": "view-in-github",
        "colab_type": "text"
      },
      "source": [
        "<a href=\"https://colab.research.google.com/github/JakeOh/202208_itw_java134_lab_python/blob/main/py11_oop.ipynb\" target=\"_parent\"><img src=\"https://colab.research.google.com/assets/colab-badge.svg\" alt=\"Open In Colab\"/></a>"
      ]
    },
    {
      "cell_type": "markdown",
      "source": [
        "# OOP(Object-Oriented Programming, 객체 지향 프로그래밍)"
      ],
      "metadata": {
        "id": "bpzsdbfUDGwv"
      }
    },
    {
      "cell_type": "markdown",
      "source": [
        "## list, dict 데이터 타입 사용 프로그래밍"
      ],
      "metadata": {
        "id": "x0wM3-zCDS0f"
      }
    },
    {
      "cell_type": "code",
      "execution_count": 7,
      "metadata": {
        "id": "GGZU8MYCCpK7"
      },
      "outputs": [],
      "source": [
        "students = [\n",
        "    {'name': 'aaa', 'java': 100, 'python': 90, 'javascript': 70},\n",
        "    {'name': 'bbb', 'java': 90, 'python': 80, 'javascript': 90},\n",
        "    {'name': 'ccc', 'java': 50, 'python': 100, 'javascript': 99}\n",
        "]"
      ]
    },
    {
      "cell_type": "code",
      "source": [
        "# 각 학생의 3과 총점과 평균 출력\n",
        "for s in students:\n",
        "    total = s['java'] + s['python'] + s['javascript']\n",
        "    mean = total / 3\n",
        "    print(f'이름: {s[\"name\"]}, 총점: {total}, 평균: {mean}')"
      ],
      "metadata": {
        "colab": {
          "base_uri": "https://localhost:8080/"
        },
        "id": "7FgmzuaDEU0w",
        "outputId": "eb8b4bf9-72dc-4e84-893e-283b7e2c5d14"
      },
      "execution_count": 8,
      "outputs": [
        {
          "output_type": "stream",
          "name": "stdout",
          "text": [
            "이름: aaa, 총점: 260, 평균: 86.66666666666667\n",
            "이름: bbb, 총점: 260, 평균: 86.66666666666667\n",
            "이름: ccc, 총점: 249, 평균: 83.0\n"
          ]
        }
      ]
    },
    {
      "cell_type": "markdown",
      "source": [
        "## 함수형 프로그래밍(Functional programming)"
      ],
      "metadata": {
        "id": "GVGC3JiOGipW"
      }
    },
    {
      "cell_type": "code",
      "source": [
        "def create_student(name, java, python, javascript):\n",
        "    student = {\n",
        "        'name': name,\n",
        "        'java': java,\n",
        "        'python': python,\n",
        "        'javascript': javascript\n",
        "    }\n",
        "    return student"
      ],
      "metadata": {
        "id": "pk1rv0hIGmgG"
      },
      "execution_count": 9,
      "outputs": []
    },
    {
      "cell_type": "code",
      "source": [
        "students = [\n",
        "    create_student('김길동', 100, 90, 90),\n",
        "    create_student('이길동', 50, 60, 70),\n",
        "    create_student('박길동', 100, 100, 99)\n",
        "]"
      ],
      "metadata": {
        "id": "byX-YeE-HEPu"
      },
      "execution_count": 10,
      "outputs": []
    },
    {
      "cell_type": "code",
      "source": [
        "def get_total(student):\n",
        "    return student['java'] + student['python'] + student['javascript']"
      ],
      "metadata": {
        "id": "j4h4wcuyHo0u"
      },
      "execution_count": 11,
      "outputs": []
    },
    {
      "cell_type": "code",
      "source": [
        "def get_mean(student):\n",
        "    return get_total(student) / 3"
      ],
      "metadata": {
        "id": "hYmCuDVuIF3Z"
      },
      "execution_count": 12,
      "outputs": []
    },
    {
      "cell_type": "code",
      "source": [
        "for s in students:\n",
        "    name = s['name']\n",
        "    total = get_total(s)\n",
        "    mean = get_mean(s)\n",
        "    print(f'이름: {name}, 총점: {total}, 평균: {mean}')"
      ],
      "metadata": {
        "colab": {
          "base_uri": "https://localhost:8080/"
        },
        "id": "kHukwAZbIMwF",
        "outputId": "17043b0d-96a8-4547-f9d5-a133c6bf98e0"
      },
      "execution_count": 13,
      "outputs": [
        {
          "output_type": "stream",
          "name": "stdout",
          "text": [
            "이름: 김길동, 총점: 280, 평균: 93.33333333333333\n",
            "이름: 이길동, 총점: 180, 평균: 60.0\n",
            "이름: 박길동, 총점: 299, 평균: 99.66666666666667\n"
          ]
        }
      ]
    },
    {
      "cell_type": "markdown",
      "source": [
        "## 객체 지향 프로그래밍(OOP)"
      ],
      "metadata": {
        "id": "tk6fgPtHJii2"
      }
    },
    {
      "cell_type": "code",
      "source": [
        "class Student:\n",
        "    # 생성자 함수: 생성자를 호출하면 파이썬 인터프리터에 의해서 자동으로 호출되는 메서드.\n",
        "    def __init__(self, name, java, python, javascript):\n",
        "        self.name = name\n",
        "        self.java = java\n",
        "        self.python = python\n",
        "        self.javascript = javascript\n",
        "\n",
        "    def get_total(self):\n",
        "        return self.java + self.python + self.javascript\n",
        "\n",
        "    def get_mean(self):\n",
        "        return self.get_total() / 3\n",
        "\n",
        "    def print_info(self):\n",
        "        print(f'이름: {self.name}, 총점: {self.get_total()}, 평균: {self.get_mean()}')"
      ],
      "metadata": {
        "id": "2nJNiFPhJmDG"
      },
      "execution_count": 14,
      "outputs": []
    },
    {
      "cell_type": "code",
      "source": [
        "student1 = Student('홍길동', 100, 100, 100)"
      ],
      "metadata": {
        "id": "9Sc4gzz-KlqA"
      },
      "execution_count": 15,
      "outputs": []
    },
    {
      "cell_type": "code",
      "source": [
        "student1.print_info()"
      ],
      "metadata": {
        "colab": {
          "base_uri": "https://localhost:8080/"
        },
        "id": "7Pd1-ENRKzF9",
        "outputId": "974f4ff3-e1e2-44eb-f34d-fe7a02a92bc3"
      },
      "execution_count": 16,
      "outputs": [
        {
          "output_type": "stream",
          "name": "stdout",
          "text": [
            "이름: 홍길동, 총점: 300, 평균: 100.0\n"
          ]
        }
      ]
    },
    {
      "cell_type": "markdown",
      "source": [
        "# 클래스 작성 연습"
      ],
      "metadata": {
        "id": "5kKgyjm1UORs"
      }
    },
    {
      "cell_type": "code",
      "source": [
        "import math  # sqrt() 함수 사용하기 위해서"
      ],
      "metadata": {
        "id": "WLSmEkyAURCs"
      },
      "execution_count": 17,
      "outputs": []
    },
    {
      "cell_type": "markdown",
      "source": [
        "\n",
        "* 2차원 평면의 점의 좌표(x, y)를 표현하는 클래스.\n",
        "* 메서드:\n",
        "    * 점의 좌표를 원래 위치에서 dx, dy만큼 이동시키는 메서드.\n",
        "    * 두 점 간의 거리를 리턴하는 메서드.\n"
      ],
      "metadata": {
        "id": "tF7lLGwrUWH8"
      }
    },
    {
      "cell_type": "code",
      "source": [
        "class Point:\n",
        "    def __init__(self, x=0, y=0):\n",
        "        # 인스턴스 변수(객체 속성) 선언과 초기화\n",
        "        self.x = x\n",
        "        self.y = y\n",
        "\n",
        "    def __str__(self):\n",
        "        return f'Point(x={self.x}, y={self.y})';\n",
        "\n",
        "    def move(self, dx, dy):\n",
        "        self.x += dx\n",
        "        self.y += dy\n",
        "        return self\n",
        "\n",
        "    def distance(self, pt):\n",
        "        return math.sqrt((self.x - pt.x) ** 2 + (self.y - pt.y) ** 2)"
      ],
      "metadata": {
        "id": "RJhzpRt3UVSG"
      },
      "execution_count": 34,
      "outputs": []
    },
    {
      "cell_type": "code",
      "source": [
        "# 좌표가 원점(0, 0)인 Point 타입 객체 생성\n",
        "point0 = Point(0, 0)\n",
        "print(point0)\n",
        "point0"
      ],
      "metadata": {
        "colab": {
          "base_uri": "https://localhost:8080/"
        },
        "id": "lqpPmq3_Xw0d",
        "outputId": "68443937-dc83-41bb-d31c-0e7a9400bcda"
      },
      "execution_count": 36,
      "outputs": [
        {
          "output_type": "stream",
          "name": "stdout",
          "text": [
            "Point(x=0, y=0)\n"
          ]
        },
        {
          "output_type": "execute_result",
          "data": {
            "text/plain": [
              "<__main__.Point at 0x7fcaa148b730>"
            ]
          },
          "metadata": {},
          "execution_count": 36
        }
      ]
    },
    {
      "cell_type": "code",
      "source": [
        "print(point0.x)  # point0 인스턴스의 속성(필드)\n",
        "print(point0.y)"
      ],
      "metadata": {
        "colab": {
          "base_uri": "https://localhost:8080/"
        },
        "id": "Tb7oVewPYdjc",
        "outputId": "6fe68a66-c0e0-4456-9a73-bb8aec07cc60"
      },
      "execution_count": 37,
      "outputs": [
        {
          "output_type": "stream",
          "name": "stdout",
          "text": [
            "0\n",
            "0\n"
          ]
        }
      ]
    },
    {
      "cell_type": "code",
      "source": [
        "point0.move(1, 2)"
      ],
      "metadata": {
        "colab": {
          "base_uri": "https://localhost:8080/"
        },
        "id": "3cPL5_DpZBsT",
        "outputId": "11df8644-bafd-4058-88db-931469a5af33"
      },
      "execution_count": 38,
      "outputs": [
        {
          "output_type": "execute_result",
          "data": {
            "text/plain": [
              "<__main__.Point at 0x7fcaa148b730>"
            ]
          },
          "metadata": {},
          "execution_count": 38
        }
      ]
    },
    {
      "cell_type": "code",
      "source": [
        "print(point0.x)\n",
        "print(point0.y)"
      ],
      "metadata": {
        "colab": {
          "base_uri": "https://localhost:8080/"
        },
        "id": "9gFxu0QZZejy",
        "outputId": "c04362b6-33c8-4bdf-b864-100f09cb94af"
      },
      "execution_count": 39,
      "outputs": [
        {
          "output_type": "stream",
          "name": "stdout",
          "text": [
            "1\n",
            "2\n"
          ]
        }
      ]
    },
    {
      "cell_type": "code",
      "source": [
        "point1 = Point(1, 0)\n",
        "point0.distance(point1)"
      ],
      "metadata": {
        "colab": {
          "base_uri": "https://localhost:8080/"
        },
        "id": "WqYflXr2Zmzr",
        "outputId": "4af0fdf4-0acf-40b2-b7bf-df7d5bf1b4f1"
      },
      "execution_count": 40,
      "outputs": [
        {
          "output_type": "execute_result",
          "data": {
            "text/plain": [
              "2.0"
            ]
          },
          "metadata": {},
          "execution_count": 40
        }
      ]
    },
    {
      "cell_type": "code",
      "source": [
        "pt1 = Point()\n",
        "print(pt1)"
      ],
      "metadata": {
        "colab": {
          "base_uri": "https://localhost:8080/"
        },
        "id": "jmS0TRaVZxck",
        "outputId": "74ccb20e-64e5-43fb-bc55-97c38cbe7fb0"
      },
      "execution_count": 41,
      "outputs": [
        {
          "output_type": "stream",
          "name": "stdout",
          "text": [
            "Point(x=0, y=0)\n"
          ]
        }
      ]
    },
    {
      "cell_type": "code",
      "source": [
        "pt2 = Point(1)  # positional argument -> x좌표. y좌표 - 기본 인수.\n",
        "print(pt2)"
      ],
      "metadata": {
        "colab": {
          "base_uri": "https://localhost:8080/"
        },
        "id": "wFQ7G9yMhGTp",
        "outputId": "2a5305b8-b8c3-42cb-9f3a-90b64e0d4320"
      },
      "execution_count": 42,
      "outputs": [
        {
          "output_type": "stream",
          "name": "stdout",
          "text": [
            "Point(x=1, y=0)\n"
          ]
        }
      ]
    },
    {
      "cell_type": "code",
      "source": [
        "pt3 = Point(y=1)  # keyword argument\n",
        "print(pt3)"
      ],
      "metadata": {
        "colab": {
          "base_uri": "https://localhost:8080/"
        },
        "id": "IDJlbqdxhX76",
        "outputId": "9cd941a6-50fe-446b-cb08-9ec7d84eb113"
      },
      "execution_count": 43,
      "outputs": [
        {
          "output_type": "stream",
          "name": "stdout",
          "text": [
            "Point(x=0, y=1)\n"
          ]
        }
      ]
    },
    {
      "cell_type": "code",
      "source": [
        "pt4 = Point(x=1)\n",
        "print(pt4)"
      ],
      "metadata": {
        "colab": {
          "base_uri": "https://localhost:8080/"
        },
        "id": "aPzSACp-hsZp",
        "outputId": "8995adee-e334-41e2-f797-46c2080f5522"
      },
      "execution_count": 44,
      "outputs": [
        {
          "output_type": "stream",
          "name": "stdout",
          "text": [
            "Point(x=1, y=0)\n"
          ]
        }
      ]
    },
    {
      "cell_type": "code",
      "source": [
        "pt5 = Point(x=1, y=2)\n",
        "print(pt5)"
      ],
      "metadata": {
        "colab": {
          "base_uri": "https://localhost:8080/"
        },
        "id": "O6cMr4bkh1Pp",
        "outputId": "1d618b2b-c05a-47d6-91c5-8823d1517b84"
      },
      "execution_count": 45,
      "outputs": [
        {
          "output_type": "stream",
          "name": "stdout",
          "text": [
            "Point(x=1, y=2)\n"
          ]
        }
      ]
    },
    {
      "cell_type": "markdown",
      "source": [
        "# magic method\n",
        "\n",
        "모든 클래스가 같은 이름으로 가지고 있는 메서드. 특별한 경우에 자동으로 호출되는 메서드.\n",
        "\n",
        "* `__init__(self)`: 생성자를 호출하면 자동으로 호출되는 메서드. 인스턴스 변수 선언 & 초기화.\n",
        "* `__str__(self)`: 문자열을 리턴하는 메서드. `print()` 함수 안에서 자동으로 호출됨.\n",
        "* `__repr__(self)`: representation. 문자열을 리턴하는 메서드. 식(expression)을 출력할 때 자동으로 호출되는 메서드.\n",
        "    * 클래스에서 `__str__` 메서드와 `__repr__` 메서드를 다르게 구현하면, print() 함수로 출력하는 내용과 식을 자동으로 출력하는 내용이 서로 다름.\n",
        "    * print() 함수는 `__str__` 메서드가 구현되어 있으면 `__str__` 메서드를 호출하고, `__str__` 메서드가 구현되어 있지 않으면 `__repr__` 메서드를 호출함.\n",
        "* `__eq__(self, o)`: 두 객체가 같은 지(True) 다른 지(False)를 리턴하는 메서드. `==` 연산자를 사용했을 때 자동으로 호출되는 메서드.\n",
        "* `__add__(self, o)`: `+` 연산자를 사용했을 때 자동으로 호출되는 메서드.\n",
        "* `__mul__(self, o)`; `*` 연산자를 사용했을 때 자동으로 호출되는 메서드.\n"
      ],
      "metadata": {
        "id": "SOIJAAHMidxK"
      }
    },
    {
      "cell_type": "code",
      "source": [
        "class T:\n",
        "    def __str__(self):\n",
        "        return 'class T instance'\n",
        "\n",
        "    def __repr__(self):\n",
        "        return 'T'\n",
        "\n",
        "t = T()\n",
        "print(t)  # print 함수를 사용한 출력\n",
        "t  # 셀의 가장 마지막 줄에 있는 표현식의 자동 출력"
      ],
      "metadata": {
        "colab": {
          "base_uri": "https://localhost:8080/"
        },
        "id": "NSfHVBU7jiOK",
        "outputId": "758be6ae-8c85-4177-c97c-43381d7cedfb"
      },
      "execution_count": 50,
      "outputs": [
        {
          "output_type": "stream",
          "name": "stdout",
          "text": [
            "class T instance\n"
          ]
        },
        {
          "output_type": "execute_result",
          "data": {
            "text/plain": [
              "T"
            ]
          },
          "metadata": {},
          "execution_count": 50
        }
      ]
    },
    {
      "cell_type": "code",
      "source": [
        "print(type(1))\n",
        "type(1)"
      ],
      "metadata": {
        "colab": {
          "base_uri": "https://localhost:8080/"
        },
        "id": "pLKadPmvjsOa",
        "outputId": "65613554-f82f-46d9-a439-b70e890ba99d"
      },
      "execution_count": 54,
      "outputs": [
        {
          "output_type": "stream",
          "name": "stdout",
          "text": [
            "<class 'int'>\n"
          ]
        },
        {
          "output_type": "execute_result",
          "data": {
            "text/plain": [
              "int"
            ]
          },
          "metadata": {},
          "execution_count": 54
        }
      ]
    },
    {
      "cell_type": "code",
      "source": [
        "list1 = [1, 2, 3]\n",
        "list2 = [1, 2, 3]"
      ],
      "metadata": {
        "id": "6Pr-PRmquJnR"
      },
      "execution_count": 56,
      "outputs": []
    },
    {
      "cell_type": "code",
      "source": [
        "list1 == list2  # list1.__eq__(list2)"
      ],
      "metadata": {
        "colab": {
          "base_uri": "https://localhost:8080/"
        },
        "id": "NI66aKe0uOlR",
        "outputId": "8a253f7a-211b-4fc4-ddf4-b940a5f4b6c1"
      },
      "execution_count": 57,
      "outputs": [
        {
          "output_type": "execute_result",
          "data": {
            "text/plain": [
              "True"
            ]
          },
          "metadata": {},
          "execution_count": 57
        }
      ]
    },
    {
      "cell_type": "code",
      "source": [
        "list1 + list2  # list1.__add__(list2)"
      ],
      "metadata": {
        "colab": {
          "base_uri": "https://localhost:8080/"
        },
        "id": "ph41Cv8Xumyw",
        "outputId": "70cd79fd-cb57-4fe2-e78e-acaf2c51a962"
      },
      "execution_count": 58,
      "outputs": [
        {
          "output_type": "execute_result",
          "data": {
            "text/plain": [
              "[1, 2, 3, 1, 2, 3]"
            ]
          },
          "metadata": {},
          "execution_count": 58
        }
      ]
    },
    {
      "cell_type": "code",
      "source": [
        "list1 * 3  # list1.__mul__(3)"
      ],
      "metadata": {
        "colab": {
          "base_uri": "https://localhost:8080/"
        },
        "id": "Z9yvnxEHu4iJ",
        "outputId": "348f3f6f-309c-44b5-8abf-164a651aa8ad"
      },
      "execution_count": 59,
      "outputs": [
        {
          "output_type": "execute_result",
          "data": {
            "text/plain": [
              "[1, 2, 3, 1, 2, 3, 1, 2, 3]"
            ]
          },
          "metadata": {},
          "execution_count": 59
        }
      ]
    },
    {
      "cell_type": "code",
      "source": [
        "class Number:\n",
        "    def __init__(self, x):\n",
        "        self.x = x\n",
        "\n",
        "    def __repr__(self):\n",
        "        return str(self.x)\n",
        "\n",
        "    def __eq__(self, other):\n",
        "        return self.x == other.x\n",
        "\n",
        "    def __add__(self, other):\n",
        "        return Number(self.x + other.x)"
      ],
      "metadata": {
        "id": "osU67V2MvPvg"
      },
      "execution_count": 80,
      "outputs": []
    },
    {
      "cell_type": "code",
      "source": [
        "n1 = Number(10)\n",
        "n2 = Number(20)\n",
        "n3 = Number(10)"
      ],
      "metadata": {
        "id": "r7tr1mDpvZ76"
      },
      "execution_count": 81,
      "outputs": []
    },
    {
      "cell_type": "code",
      "source": [
        "print(n1, n2, n3)"
      ],
      "metadata": {
        "colab": {
          "base_uri": "https://localhost:8080/"
        },
        "id": "O1MblgBkvgRg",
        "outputId": "f56b42db-c708-4cb2-c4c6-8775c7a5f85e"
      },
      "execution_count": 82,
      "outputs": [
        {
          "output_type": "stream",
          "name": "stdout",
          "text": [
            "10 20 10\n"
          ]
        }
      ]
    },
    {
      "cell_type": "code",
      "source": [
        "print(n1 == n2)\n",
        "print(n1 == n3)"
      ],
      "metadata": {
        "colab": {
          "base_uri": "https://localhost:8080/"
        },
        "id": "0UtMQPcSvj0o",
        "outputId": "e130cc72-3d92-4782-f9cd-eaa6323de4de"
      },
      "execution_count": 83,
      "outputs": [
        {
          "output_type": "stream",
          "name": "stdout",
          "text": [
            "False\n",
            "True\n"
          ]
        }
      ]
    },
    {
      "cell_type": "code",
      "source": [
        "n1 + n2  # + 연산 결과 => Number 객체 => __repr__ 호출"
      ],
      "metadata": {
        "colab": {
          "base_uri": "https://localhost:8080/"
        },
        "id": "JfLSKUe0xCBQ",
        "outputId": "f61143e7-3647-4a32-df74-7b01c3ebee6a"
      },
      "execution_count": 84,
      "outputs": [
        {
          "output_type": "execute_result",
          "data": {
            "text/plain": [
              "30"
            ]
          },
          "metadata": {},
          "execution_count": 84
        }
      ]
    },
    {
      "cell_type": "markdown",
      "source": [
        "# 클래스 작성 연습"
      ],
      "metadata": {
        "id": "KzggF2i8ykcB"
      }
    },
    {
      "cell_type": "markdown",
      "source": [
        "* class Score\n",
        "    * 속성: korean, english, math\n",
        "    * 메서드: `__init__`, 총점, 평균, `__repr__`, `__eq__`\n",
        "* class Student\n",
        "    * 속성: stu_no, stu_name, score(Score 객체 타입)\n",
        "    * 메서드: `__init__`, `__repr__`"
      ],
      "metadata": {
        "id": "e9QF-fuVyrOX"
      }
    },
    {
      "cell_type": "code",
      "source": [],
      "metadata": {
        "id": "zyAiNZvoynHw"
      },
      "execution_count": null,
      "outputs": []
    }
  ]
}