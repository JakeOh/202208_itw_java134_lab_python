{
  "nbformat": 4,
  "nbformat_minor": 0,
  "metadata": {
    "colab": {
      "provenance": [],
      "authorship_tag": "ABX9TyOcgaU06nMecwEj08M+eh43",
      "include_colab_link": true
    },
    "kernelspec": {
      "name": "python3",
      "display_name": "Python 3"
    },
    "language_info": {
      "name": "python"
    }
  },
  "cells": [
    {
      "cell_type": "markdown",
      "metadata": {
        "id": "view-in-github",
        "colab_type": "text"
      },
      "source": [
        "<a href=\"https://colab.research.google.com/github/JakeOh/202208_itw_java134_lab_python/blob/main/py11_oop.ipynb\" target=\"_parent\"><img src=\"https://colab.research.google.com/assets/colab-badge.svg\" alt=\"Open In Colab\"/></a>"
      ]
    },
    {
      "cell_type": "markdown",
      "source": [
        "# OOP(Object-Oriented Programming, 객체 지향 프로그래밍)"
      ],
      "metadata": {
        "id": "bpzsdbfUDGwv"
      }
    },
    {
      "cell_type": "markdown",
      "source": [
        "## list, dict 데이터 타입 사용 프로그래밍"
      ],
      "metadata": {
        "id": "x0wM3-zCDS0f"
      }
    },
    {
      "cell_type": "code",
      "execution_count": 7,
      "metadata": {
        "id": "GGZU8MYCCpK7"
      },
      "outputs": [],
      "source": [
        "students = [\n",
        "    {'name': 'aaa', 'java': 100, 'python': 90, 'javascript': 70},\n",
        "    {'name': 'bbb', 'java': 90, 'python': 80, 'javascript': 90},\n",
        "    {'name': 'ccc', 'java': 50, 'python': 100, 'javascript': 99}\n",
        "]"
      ]
    },
    {
      "cell_type": "code",
      "source": [
        "# 각 학생의 3과 총점과 평균 출력\n",
        "for s in students:\n",
        "    total = s['java'] + s['python'] + s['javascript']\n",
        "    mean = total / 3\n",
        "    print(f'이름: {s[\"name\"]}, 총점: {total}, 평균: {mean}')"
      ],
      "metadata": {
        "colab": {
          "base_uri": "https://localhost:8080/"
        },
        "id": "7FgmzuaDEU0w",
        "outputId": "eb8b4bf9-72dc-4e84-893e-283b7e2c5d14"
      },
      "execution_count": 8,
      "outputs": [
        {
          "output_type": "stream",
          "name": "stdout",
          "text": [
            "이름: aaa, 총점: 260, 평균: 86.66666666666667\n",
            "이름: bbb, 총점: 260, 평균: 86.66666666666667\n",
            "이름: ccc, 총점: 249, 평균: 83.0\n"
          ]
        }
      ]
    },
    {
      "cell_type": "markdown",
      "source": [
        "## 함수형 프로그래밍(Functional programming)"
      ],
      "metadata": {
        "id": "GVGC3JiOGipW"
      }
    },
    {
      "cell_type": "code",
      "source": [
        "def create_student(name, java, python, javascript):\n",
        "    student = {\n",
        "        'name': name,\n",
        "        'java': java,\n",
        "        'python': python,\n",
        "        'javascript': javascript\n",
        "    }\n",
        "    return student"
      ],
      "metadata": {
        "id": "pk1rv0hIGmgG"
      },
      "execution_count": 9,
      "outputs": []
    },
    {
      "cell_type": "code",
      "source": [
        "students = [\n",
        "    create_student('김길동', 100, 90, 90),\n",
        "    create_student('이길동', 50, 60, 70),\n",
        "    create_student('박길동', 100, 100, 99)\n",
        "]"
      ],
      "metadata": {
        "id": "byX-YeE-HEPu"
      },
      "execution_count": 10,
      "outputs": []
    },
    {
      "cell_type": "code",
      "source": [
        "def get_total(student):\n",
        "    return student['java'] + student['python'] + student['javascript']"
      ],
      "metadata": {
        "id": "j4h4wcuyHo0u"
      },
      "execution_count": 11,
      "outputs": []
    },
    {
      "cell_type": "code",
      "source": [
        "def get_mean(student):\n",
        "    return get_total(student) / 3"
      ],
      "metadata": {
        "id": "hYmCuDVuIF3Z"
      },
      "execution_count": 12,
      "outputs": []
    },
    {
      "cell_type": "code",
      "source": [
        "for s in students:\n",
        "    name = s['name']\n",
        "    total = get_total(s)\n",
        "    mean = get_mean(s)\n",
        "    print(f'이름: {name}, 총점: {total}, 평균: {mean}')"
      ],
      "metadata": {
        "colab": {
          "base_uri": "https://localhost:8080/"
        },
        "id": "kHukwAZbIMwF",
        "outputId": "17043b0d-96a8-4547-f9d5-a133c6bf98e0"
      },
      "execution_count": 13,
      "outputs": [
        {
          "output_type": "stream",
          "name": "stdout",
          "text": [
            "이름: 김길동, 총점: 280, 평균: 93.33333333333333\n",
            "이름: 이길동, 총점: 180, 평균: 60.0\n",
            "이름: 박길동, 총점: 299, 평균: 99.66666666666667\n"
          ]
        }
      ]
    },
    {
      "cell_type": "markdown",
      "source": [
        "## 객체 지향 프로그래밍(OOP)"
      ],
      "metadata": {
        "id": "tk6fgPtHJii2"
      }
    },
    {
      "cell_type": "code",
      "source": [
        "class Student:\n",
        "    # 생성자 함수: 생성자를 호출하면 파이썬 인터프리터에 의해서 자동으로 호출되는 메서드.\n",
        "    def __init__(self, name, java, python, javascript):\n",
        "        self.name = name\n",
        "        self.java = java\n",
        "        self.python = python\n",
        "        self.javascript = javascript\n",
        "\n",
        "    def get_total(self):\n",
        "        return self.java + self.python + self.javascript\n",
        "\n",
        "    def get_mean(self):\n",
        "        return self.get_total() / 3\n",
        "\n",
        "    def print_info(self):\n",
        "        print(f'이름: {self.name}, 총점: {self.get_total()}, 평균: {self.get_mean()}')"
      ],
      "metadata": {
        "id": "2nJNiFPhJmDG"
      },
      "execution_count": 14,
      "outputs": []
    },
    {
      "cell_type": "code",
      "source": [
        "student1 = Student('홍길동', 100, 100, 100)"
      ],
      "metadata": {
        "id": "9Sc4gzz-KlqA"
      },
      "execution_count": 15,
      "outputs": []
    },
    {
      "cell_type": "code",
      "source": [
        "student1.print_info()"
      ],
      "metadata": {
        "colab": {
          "base_uri": "https://localhost:8080/"
        },
        "id": "7Pd1-ENRKzF9",
        "outputId": "974f4ff3-e1e2-44eb-f34d-fe7a02a92bc3"
      },
      "execution_count": 16,
      "outputs": [
        {
          "output_type": "stream",
          "name": "stdout",
          "text": [
            "이름: 홍길동, 총점: 300, 평균: 100.0\n"
          ]
        }
      ]
    },
    {
      "cell_type": "markdown",
      "source": [
        "# 클래스 작성 연습"
      ],
      "metadata": {
        "id": "5kKgyjm1UORs"
      }
    },
    {
      "cell_type": "code",
      "source": [
        "import math  # sqrt() 함수 사용하기 위해서"
      ],
      "metadata": {
        "id": "WLSmEkyAURCs"
      },
      "execution_count": 17,
      "outputs": []
    },
    {
      "cell_type": "markdown",
      "source": [
        "\n",
        "* 2차원 평면의 점의 좌표(x, y)를 표현하는 클래스.\n",
        "* 메서드:\n",
        "    * 점의 좌표를 원래 위치에서 dx, dy만큼 이동시키는 메서드.\n",
        "    * 두 점 간의 거리를 리턴하는 메서드.\n"
      ],
      "metadata": {
        "id": "tF7lLGwrUWH8"
      }
    },
    {
      "cell_type": "code",
      "source": [
        "class Point:\n",
        "    def __init__(self, x, y):\n",
        "        self.x = x\n",
        "        self.y = y\n",
        "\n",
        "    def move(self, dx, dy):\n",
        "        self.x += dx\n",
        "        self.y += dy\n",
        "        return self\n",
        "\n",
        "    def distance(self, pt):\n",
        "        return math.sqrt((self.x - pt.x) ** 2 + (self.y - pt.y) ** 2)"
      ],
      "metadata": {
        "id": "RJhzpRt3UVSG"
      },
      "execution_count": 18,
      "outputs": []
    },
    {
      "cell_type": "code",
      "source": [
        "# 좌표가 원점(0, 0)인 Point 타입 객체 생성\n",
        "point0 = Point(0, 0)\n",
        "point0"
      ],
      "metadata": {
        "colab": {
          "base_uri": "https://localhost:8080/"
        },
        "id": "lqpPmq3_Xw0d",
        "outputId": "eee8faea-9c19-40d0-ad49-1bba4ccd4119"
      },
      "execution_count": 19,
      "outputs": [
        {
          "output_type": "execute_result",
          "data": {
            "text/plain": [
              "<__main__.Point at 0x7fcaa1613430>"
            ]
          },
          "metadata": {},
          "execution_count": 19
        }
      ]
    },
    {
      "cell_type": "code",
      "source": [
        "print(point0.x)  # point0 인스턴스의 속성(필드)\n",
        "print(point0.y)"
      ],
      "metadata": {
        "colab": {
          "base_uri": "https://localhost:8080/"
        },
        "id": "Tb7oVewPYdjc",
        "outputId": "fa7f3c3f-a010-4bbb-96e3-052d7f5ddeab"
      },
      "execution_count": 20,
      "outputs": [
        {
          "output_type": "stream",
          "name": "stdout",
          "text": [
            "0\n",
            "0\n"
          ]
        }
      ]
    },
    {
      "cell_type": "code",
      "source": [
        "point0.move(1, 2)"
      ],
      "metadata": {
        "colab": {
          "base_uri": "https://localhost:8080/"
        },
        "id": "3cPL5_DpZBsT",
        "outputId": "a2d6cd10-da84-49d5-be52-d3c892c386c9"
      },
      "execution_count": 21,
      "outputs": [
        {
          "output_type": "execute_result",
          "data": {
            "text/plain": [
              "<__main__.Point at 0x7fcaa1613430>"
            ]
          },
          "metadata": {},
          "execution_count": 21
        }
      ]
    },
    {
      "cell_type": "code",
      "source": [
        "print(point0.x)\n",
        "print(point0.y)"
      ],
      "metadata": {
        "colab": {
          "base_uri": "https://localhost:8080/"
        },
        "id": "9gFxu0QZZejy",
        "outputId": "22ad86bb-5ac2-4f8c-e133-265e402d3eeb"
      },
      "execution_count": 22,
      "outputs": [
        {
          "output_type": "stream",
          "name": "stdout",
          "text": [
            "1\n",
            "2\n"
          ]
        }
      ]
    },
    {
      "cell_type": "code",
      "source": [
        "point1 = Point(1, 0)\n",
        "point0.distance(point1)"
      ],
      "metadata": {
        "colab": {
          "base_uri": "https://localhost:8080/"
        },
        "id": "WqYflXr2Zmzr",
        "outputId": "2e1a2b18-9efa-43ec-b21c-5410f8bd4544"
      },
      "execution_count": 23,
      "outputs": [
        {
          "output_type": "execute_result",
          "data": {
            "text/plain": [
              "2.0"
            ]
          },
          "metadata": {},
          "execution_count": 23
        }
      ]
    },
    {
      "cell_type": "code",
      "source": [],
      "metadata": {
        "id": "jmS0TRaVZxck"
      },
      "execution_count": null,
      "outputs": []
    }
  ]
}