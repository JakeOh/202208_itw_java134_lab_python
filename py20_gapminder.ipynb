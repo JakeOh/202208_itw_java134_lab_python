{
  "nbformat": 4,
  "nbformat_minor": 0,
  "metadata": {
    "colab": {
      "provenance": [],
      "authorship_tag": "ABX9TyOOAHkJXzMEB2ernblqBt1y",
      "include_colab_link": true
    },
    "kernelspec": {
      "name": "python3",
      "display_name": "Python 3"
    },
    "language_info": {
      "name": "python"
    }
  },
  "cells": [
    {
      "cell_type": "markdown",
      "metadata": {
        "id": "view-in-github",
        "colab_type": "text"
      },
      "source": [
        "<a href=\"https://colab.research.google.com/github/JakeOh/202208_itw_java134_lab_python/blob/main/py20_gapminder.ipynb\" target=\"_parent\"><img src=\"https://colab.research.google.com/assets/colab-badge.svg\" alt=\"Open In Colab\"/></a>"
      ]
    },
    {
      "cell_type": "markdown",
      "source": [
        "\n",
        "* GitHub에 저장된 [gapminder.tsv](https://github.com/JakeOh/202208_itw_java134_lab_python/raw/main/gapminder.tsv) 파일을 읽고 DataFrame을 생성\n",
        "* 데이터 프레임 탐색\n",
        "* (중복되지 않는) 국가 이름의 개수?\n",
        "* (중복되지 않는) 대륙 이름?\n",
        "* (중복되지 않는) 연도의 개수?\n",
        "* 국가이름, 연도, 1인당 GDP 컬럼을 선택\n",
        "* 1인당 GDP의 최댓값, 최솟값을 찾고, 그 row를 출력\n",
        "* 기대수명(lifeExp)의 최솟값과 최댓값을 찾고, 그 행들을 출력\n",
        "* 연도별 기대수명의 평균을 출력\n",
        "* 연도별 1인당 GDP의 평균을 출력\n",
        "* 연도별 대륙별 전세계 인구를 출력\n"
      ],
      "metadata": {
        "id": "hHYqKMBsYqTa"
      }
    },
    {
      "cell_type": "code",
      "execution_count": null,
      "metadata": {
        "id": "Xer8X3GIYngB"
      },
      "outputs": [],
      "source": []
    }
  ]
}