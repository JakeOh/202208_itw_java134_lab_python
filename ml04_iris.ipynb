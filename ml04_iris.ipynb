{
  "nbformat": 4,
  "nbformat_minor": 0,
  "metadata": {
    "colab": {
      "provenance": [],
      "toc_visible": true,
      "authorship_tag": "ABX9TyMb4UKnY8Jtbpg3CvPYl3hD",
      "include_colab_link": true
    },
    "kernelspec": {
      "name": "python3",
      "display_name": "Python 3"
    },
    "language_info": {
      "name": "python"
    }
  },
  "cells": [
    {
      "cell_type": "markdown",
      "metadata": {
        "id": "view-in-github",
        "colab_type": "text"
      },
      "source": [
        "<a href=\"https://colab.research.google.com/github/JakeOh/202208_itw_java134_lab_python/blob/main/ml04_iris.ipynb\" target=\"_parent\"><img src=\"https://colab.research.google.com/assets/colab-badge.svg\" alt=\"Open In Colab\"/></a>"
      ]
    },
    {
      "cell_type": "markdown",
      "source": [
        "# Imports\n",
        "\n",
        "필요한 모듈, 클래스, 함수 이름들을 import\n"
      ],
      "metadata": {
        "id": "a3FK8dqv38Se"
      }
    },
    {
      "cell_type": "code",
      "execution_count": 1,
      "metadata": {
        "id": "rI5kb8Y43zNz"
      },
      "outputs": [],
      "source": [
        "from sklearn import datasets"
      ]
    },
    {
      "cell_type": "markdown",
      "source": [
        "# 데이터 셋 준비"
      ],
      "metadata": {
        "id": "X0Lg9Mlq4RsG"
      }
    },
    {
      "cell_type": "code",
      "source": [
        "iris = datasets.load_iris()  #> Bunch 클래스 타입 - Python의 dict와 비슷."
      ],
      "metadata": {
        "id": "Igm17lOg4JuN"
      },
      "execution_count": 2,
      "outputs": []
    },
    {
      "cell_type": "code",
      "source": [
        "iris.keys()"
      ],
      "metadata": {
        "colab": {
          "base_uri": "https://localhost:8080/"
        },
        "id": "AM0SkugF4jCm",
        "outputId": "85d3c21e-e394-41b6-a627-606f2ee5a52b"
      },
      "execution_count": 5,
      "outputs": [
        {
          "output_type": "execute_result",
          "data": {
            "text/plain": [
              "dict_keys(['data', 'target', 'frame', 'target_names', 'DESCR', 'feature_names', 'filename', 'data_module'])"
            ]
          },
          "metadata": {},
          "execution_count": 5
        }
      ]
    },
    {
      "cell_type": "code",
      "source": [
        "X = iris['data']  # 특성 배열(2d-array)\n",
        "y = iris['target']  # 타겟 배열(1d-array)"
      ],
      "metadata": {
        "id": "uEuOrPwp4kak"
      },
      "execution_count": 6,
      "outputs": []
    },
    {
      "cell_type": "code",
      "source": [
        "X[:5]"
      ],
      "metadata": {
        "colab": {
          "base_uri": "https://localhost:8080/"
        },
        "id": "h4eB6Zkt5YH-",
        "outputId": "01695d40-dcfe-4055-c2df-c583413939ba"
      },
      "execution_count": 8,
      "outputs": [
        {
          "output_type": "execute_result",
          "data": {
            "text/plain": [
              "array([[5.1, 3.5, 1.4, 0.2],\n",
              "       [4.9, 3. , 1.4, 0.2],\n",
              "       [4.7, 3.2, 1.3, 0.2],\n",
              "       [4.6, 3.1, 1.5, 0.2],\n",
              "       [5. , 3.6, 1.4, 0.2]])"
            ]
          },
          "metadata": {},
          "execution_count": 8
        }
      ]
    },
    {
      "cell_type": "code",
      "source": [
        "iris['feature_names']"
      ],
      "metadata": {
        "colab": {
          "base_uri": "https://localhost:8080/"
        },
        "id": "vbuyLw7L6nHG",
        "outputId": "a00a0856-f048-4fdb-bf0a-54b9457dd276"
      },
      "execution_count": 11,
      "outputs": [
        {
          "output_type": "execute_result",
          "data": {
            "text/plain": [
              "['sepal length (cm)',\n",
              " 'sepal width (cm)',\n",
              " 'petal length (cm)',\n",
              " 'petal width (cm)']"
            ]
          },
          "metadata": {},
          "execution_count": 11
        }
      ]
    },
    {
      "cell_type": "code",
      "source": [
        "y[:5]"
      ],
      "metadata": {
        "colab": {
          "base_uri": "https://localhost:8080/"
        },
        "id": "W6XDgr2X6Xq2",
        "outputId": "ab282a57-6266-44fd-954f-d8e412ee545d"
      },
      "execution_count": 9,
      "outputs": [
        {
          "output_type": "execute_result",
          "data": {
            "text/plain": [
              "array([0, 0, 0, 0, 0])"
            ]
          },
          "metadata": {},
          "execution_count": 9
        }
      ]
    },
    {
      "cell_type": "code",
      "source": [
        "iris['target_names']"
      ],
      "metadata": {
        "colab": {
          "base_uri": "https://localhost:8080/"
        },
        "id": "kJGomy1p6d-Z",
        "outputId": "3587d8ca-3905-4faa-bc39-27dbeb787a93"
      },
      "execution_count": 10,
      "outputs": [
        {
          "output_type": "execute_result",
          "data": {
            "text/plain": [
              "array(['setosa', 'versicolor', 'virginica'], dtype='<U10')"
            ]
          },
          "metadata": {},
          "execution_count": 10
        }
      ]
    },
    {
      "cell_type": "markdown",
      "source": [
        "# Train/Test split"
      ],
      "metadata": {
        "id": "NTVaVWKI64Qw"
      }
    },
    {
      "cell_type": "markdown",
      "source": [
        "# StandardScaler - 특성 스케일 변환"
      ],
      "metadata": {
        "id": "aGTOnsib7AiX"
      }
    },
    {
      "cell_type": "markdown",
      "source": [
        "# KNN 모델 생성, 훈련, 평가\n",
        "\n",
        "* confusion_matrix\n",
        "* classification_report\n"
      ],
      "metadata": {
        "id": "V938G2ko7I33"
      }
    },
    {
      "cell_type": "markdown",
      "source": [
        "# k값 변화에 따른 정확도 변화"
      ],
      "metadata": {
        "id": "8NINaLQo7fwu"
      }
    }
  ]
}