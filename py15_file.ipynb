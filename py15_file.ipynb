{
  "nbformat": 4,
  "nbformat_minor": 0,
  "metadata": {
    "colab": {
      "provenance": [],
      "authorship_tag": "ABX9TyPyP7p1m4G4vR28bq+mYx3z",
      "include_colab_link": true
    },
    "kernelspec": {
      "name": "python3",
      "display_name": "Python 3"
    },
    "language_info": {
      "name": "python"
    }
  },
  "cells": [
    {
      "cell_type": "markdown",
      "metadata": {
        "id": "view-in-github",
        "colab_type": "text"
      },
      "source": [
        "<a href=\"https://colab.research.google.com/github/JakeOh/202208_itw_java134_lab_python/blob/main/py15_file.ipynb\" target=\"_parent\"><img src=\"https://colab.research.google.com/assets/colab-badge.svg\" alt=\"Open In Colab\"/></a>"
      ]
    },
    {
      "cell_type": "markdown",
      "source": [
        "# 파일 쓰기(write)"
      ],
      "metadata": {
        "id": "OVQkeMsDuDUp"
      }
    },
    {
      "cell_type": "markdown",
      "source": [
        "1. 파일 열기(open)\n",
        "1. 파일 내용 쓰기(write)\n",
        "1. 파일 닫기(close)\n",
        "\n",
        "```\n",
        "open(file, mode='rt', ...)\n",
        "```\n",
        "\n",
        "* file: 폴더(디렉토리)를 포함한 파일 이름.\n",
        "* mode: 파일을 여는 방법(모드).\n",
        "    * r(read): 읽기. 기본값.\n",
        "    * w(write): 쓰기. 파일이 없으면 새로운 파일을 생성하고, 파일이 있으면 기존 내용이 모두 삭제되고 파일의 처음부터 다시 쓰기 시작.\n",
        "    * a(append): 이어쓰기. 기존 내용 이후부터 이어서 쓰기.\n",
        "    * t(text): 텍스트 (읽기/쓰기). 기본값.\n",
        "    * b(binary): 이진 데이터 (읽기/쓰기). (예) 이미지, 동영상, ...\n"
      ],
      "metadata": {
        "id": "OhtRdEdbuIpY"
      }
    },
    {
      "cell_type": "code",
      "execution_count": null,
      "metadata": {
        "id": "K6dv_qSat3lz"
      },
      "outputs": [],
      "source": []
    }
  ]
}