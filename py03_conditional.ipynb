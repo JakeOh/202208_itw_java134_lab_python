{
  "nbformat": 4,
  "nbformat_minor": 0,
  "metadata": {
    "colab": {
      "provenance": [],
      "authorship_tag": "ABX9TyOASZvmTGaH8E+yPRK1H/B/",
      "include_colab_link": true
    },
    "kernelspec": {
      "name": "python3",
      "display_name": "Python 3"
    },
    "language_info": {
      "name": "python"
    }
  },
  "cells": [
    {
      "cell_type": "markdown",
      "metadata": {
        "id": "view-in-github",
        "colab_type": "text"
      },
      "source": [
        "<a href=\"https://colab.research.google.com/github/JakeOh/202208_itw_java134_lab_python/blob/main/py03_conditional.ipynb\" target=\"_parent\"><img src=\"https://colab.research.google.com/assets/colab-badge.svg\" alt=\"Open In Colab\"/></a>"
      ]
    },
    {
      "cell_type": "markdown",
      "source": [
        "# else가 없는 조건문\n",
        "\n",
        "```\n",
        "if 조건식:\n",
        "    조건식이 참일 때 실행할 코드(블록)\n",
        "```\n",
        "\n",
        "* `if 조건식` 뒤에는 반드시 콜론(:)을 사용해야 함.\n",
        "* `if` 블록(조건식이 참일 때 실행하는 문장들)은 반드시 **같은 크기로** 들여쓰기(indentation)를 해야 함.\n"
      ],
      "metadata": {
        "id": "4L3eXv-j52I-"
      }
    },
    {
      "cell_type": "code",
      "execution_count": 9,
      "metadata": {
        "id": "y2-PALKX5mDp"
      },
      "outputs": [],
      "source": [
        "n = -100"
      ]
    },
    {
      "cell_type": "code",
      "source": [
        "if n > 0:\n",
        "    print('양수')\n",
        "    print('if 블록 끝')\n",
        "\n",
        "print('if 바깥')"
      ],
      "metadata": {
        "colab": {
          "base_uri": "https://localhost:8080/"
        },
        "id": "UvDeafKF7r_v",
        "outputId": "19351d4a-c4b4-4abd-944e-0ad76007b443"
      },
      "execution_count": 10,
      "outputs": [
        {
          "output_type": "stream",
          "name": "stdout",
          "text": [
            "if 블록 끝\n",
            "if 바깥\n"
          ]
        }
      ]
    },
    {
      "cell_type": "markdown",
      "source": [
        "# else가 있는 조건문\n",
        "\n",
        "```\n",
        "if 조건식:\n",
        "    조건식이 참일 때 실행할 코드 블록\n",
        "else:\n",
        "    조건식이 거짓을 때 실행할 코드 블록\n",
        "```\n"
      ],
      "metadata": {
        "id": "1xzbv1eg9PHd"
      }
    },
    {
      "cell_type": "code",
      "source": [
        "n = int(input('정수 입력>>> '))\n",
        "if n % 2:  # 정수 n을 2로 나눈 나머지가 있으면(나머지가 0이 아니면)\n",
        "    print('홀수')\n",
        "else:\n",
        "    print('짝수')"
      ],
      "metadata": {
        "colab": {
          "base_uri": "https://localhost:8080/"
        },
        "id": "zCll8vdh9phl",
        "outputId": "f5a7334e-c4aa-4f05-fe4e-08465bcb4270"
      },
      "execution_count": 12,
      "outputs": [
        {
          "output_type": "stream",
          "name": "stdout",
          "text": [
            "정수 입력>>> 100\n",
            "짝수\n"
          ]
        }
      ]
    },
    {
      "cell_type": "markdown",
      "source": [
        "Python에서 참(True)으로 취급하는 것들:\n",
        "\n",
        "* 0이 아닌 숫자들\n",
        "* 1개 이상의 글자를 가지고 있는 문자열\n",
        "* 1개 이상의 원소를 가지고 있는 리스트, ...\n"
      ],
      "metadata": {
        "id": "o0nu6rMm_BuV"
      }
    },
    {
      "cell_type": "markdown",
      "source": [
        "# chained conditional\n",
        "\n",
        "```\n",
        "if 조건식1:\n",
        "    조건식1이 참일 때 실행할 코드 블록\n",
        "elif 조건식2:\n",
        "    조건식2가 참일 때 실행할 코드 블록\n",
        "...\n",
        "else:\n",
        "    위의 모든 조건식들을 만족하지 못할 때 실행할 코드 블록\n",
        "```\n"
      ],
      "metadata": {
        "id": "YoCU6ghw_ntc"
      }
    },
    {
      "cell_type": "code",
      "source": [
        "x = int(input('정수 입력>>> '))\n",
        "y = int(input('정수 입력>>> '))\n",
        "z = int(input('정수 입력>>> '))\n",
        "\n",
        "avg = (x + y + z) / 3;\n",
        "print(f'평균 = {avg}')\n",
        "\n",
        "if avg >= 90:\n",
        "    print('A')\n",
        "elif avg >= 80:\n",
        "    print('B')\n",
        "elif avg >= 70:\n",
        "    print('C')\n",
        "else:\n",
        "    print('F')"
      ],
      "metadata": {
        "colab": {
          "base_uri": "https://localhost:8080/"
        },
        "id": "jVi6_mDmAPxE",
        "outputId": "057dadfb-9e30-46a8-fe3f-1588c4dc4a5b"
      },
      "execution_count": 14,
      "outputs": [
        {
          "output_type": "stream",
          "name": "stdout",
          "text": [
            "정수 입력>>> 80\n",
            "정수 입력>>> 82\n",
            "정수 입력>>> 91\n",
            "평균 = 84.33333333333333\n",
            "B\n"
          ]
        }
      ]
    }
  ]
}