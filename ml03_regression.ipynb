{
  "nbformat": 4,
  "nbformat_minor": 0,
  "metadata": {
    "colab": {
      "provenance": [],
      "authorship_tag": "ABX9TyPWKUmUTG+jGopl9jlHkexc",
      "include_colab_link": true
    },
    "kernelspec": {
      "name": "python3",
      "display_name": "Python 3"
    },
    "language_info": {
      "name": "python"
    }
  },
  "cells": [
    {
      "cell_type": "markdown",
      "metadata": {
        "id": "view-in-github",
        "colab_type": "text"
      },
      "source": [
        "<a href=\"https://colab.research.google.com/github/JakeOh/202208_itw_java134_lab_python/blob/main/ml03_regression.ipynb\" target=\"_parent\"><img src=\"https://colab.research.google.com/assets/colab-badge.svg\" alt=\"Open In Colab\"/></a>"
      ]
    },
    {
      "cell_type": "markdown",
      "source": [
        "\n",
        "* Machine Learning(기계 학습)\n",
        "    * 지도 학습(supervised learning): 레이블이 있는 데이터를 학습.\n",
        "        * 분류(classification): 클래스를 분류.\n",
        "        * 회귀(regression): 숫자를 예측.\n",
        "    * 비지도 학습(unsupervised learning): 레이블이 없는 데이터를 학습.\n"
      ],
      "metadata": {
        "id": "V0w5iPy4QYhr"
      }
    },
    {
      "cell_type": "markdown",
      "source": [
        "# 문제 정의 \n",
        "\n",
        "fish 데이터 셋에서 물고기의 무게(Weight)를 다른 변수(특성)들을 사용해서 예측.\n",
        "\n",
        "* Perch(농어)의 무게를 길이만으로 예측.\n",
        "    * Weight(관심변수, 종속변수, 타겟, 레이블) ~ Length(독립변수, 특성)\n",
        "* Perch의 무게를 다른 모든 특성들을 사용해서 예측.\n",
        "    * Weight ~ Length + Diagonal + Height + Width\n"
      ],
      "metadata": {
        "id": "1SLHsK8xRZzC"
      }
    },
    {
      "cell_type": "code",
      "execution_count": null,
      "metadata": {
        "id": "k4s-xR7lQOnw"
      },
      "outputs": [],
      "source": []
    }
  ]
}