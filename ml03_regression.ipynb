{
  "nbformat": 4,
  "nbformat_minor": 0,
  "metadata": {
    "colab": {
      "provenance": [],
      "authorship_tag": "ABX9TyNi/MAWvMtsVc7oZf01drtg",
      "include_colab_link": true
    },
    "kernelspec": {
      "name": "python3",
      "display_name": "Python 3"
    },
    "language_info": {
      "name": "python"
    }
  },
  "cells": [
    {
      "cell_type": "markdown",
      "metadata": {
        "id": "view-in-github",
        "colab_type": "text"
      },
      "source": [
        "<a href=\"https://colab.research.google.com/github/JakeOh/202208_itw_java134_lab_python/blob/main/ml03_regression.ipynb\" target=\"_parent\"><img src=\"https://colab.research.google.com/assets/colab-badge.svg\" alt=\"Open In Colab\"/></a>"
      ]
    },
    {
      "cell_type": "markdown",
      "source": [
        "\n",
        "* Machine Learning(기계 학습)\n",
        "    * 지도 학습(supervised learning): 레이블이 있는 데이터를 학습.\n",
        "        * 분류(classification): 클래스를 분류.\n",
        "        * 회귀(regression): 숫자를 예측.\n",
        "    * 비지도 학습(unsupervised learning): 레이블이 없는 데이터를 학습.\n"
      ],
      "metadata": {
        "id": "V0w5iPy4QYhr"
      }
    },
    {
      "cell_type": "markdown",
      "source": [
        "# 문제 정의 \n",
        "\n",
        "fish 데이터 셋에서 물고기의 무게(Weight)를 다른 변수(특성)들을 사용해서 예측.\n",
        "\n",
        "* Perch(농어)의 무게를 길이만으로 예측.\n",
        "    * Weight(관심변수, 종속변수, 타겟, 레이블) ~ Length(독립변수, 특성)\n",
        "* Perch의 무게를 다른 모든 특성들을 사용해서 예측.\n",
        "    * Weight ~ Length + Diagonal + Height + Width\n"
      ],
      "metadata": {
        "id": "1SLHsK8xRZzC"
      }
    },
    {
      "cell_type": "markdown",
      "source": [
        "# Imports"
      ],
      "metadata": {
        "id": "7vBatBjOWMdJ"
      }
    },
    {
      "cell_type": "code",
      "execution_count": 1,
      "metadata": {
        "id": "k4s-xR7lQOnw"
      },
      "outputs": [],
      "source": [
        "import numpy as np\n",
        "import pandas as pd\n",
        "import matplotlib.pyplot as plt\n",
        "import seaborn as sns\n",
        "\n",
        "from sklearn.model_selection import train_test_split  # 훈련/테스트 셋 분리\n",
        "from sklearn.preprocessing import StandardScaler  # 특성 스케일링(표준화)\n",
        "from sklearn.preprocessing import PolynomialFeatures  # 다차항을 추가해주는 변환기\n",
        "from sklearn.pipeline import Pipeline  # 변환기와 예측기를 연결해주는 클래스\n",
        "from sklearn.neighbors import KNeighborsRegressor  # KNN 알고리즘을 사용한 숫자 예측\n",
        "from sklearn.linear_model import LinearRegression  # 선형 회귀를 사용한 숫자 예측\n",
        "from sklearn.metrics import mean_absolute_error, mean_squared_error, r2_score  # 회귀 평가 지표들"
      ]
    },
    {
      "cell_type": "markdown",
      "source": [
        "# 데이터 준비"
      ],
      "metadata": {
        "id": "sa78vf9KYQCz"
      }
    },
    {
      "cell_type": "code",
      "source": [
        "# CSV 파일 경로\n",
        "fish_csv = 'https://github.com/JakeOh/202208_itw_java134_lab_python/raw/main/fish.csv'"
      ],
      "metadata": {
        "id": "v5bFLPqCYOPs"
      },
      "execution_count": 2,
      "outputs": []
    },
    {
      "cell_type": "code",
      "source": [
        "# DataFrame 생성\n",
        "fish_df = pd.read_csv(fish_csv)"
      ],
      "metadata": {
        "id": "BveQD5zZYeUD"
      },
      "execution_count": 3,
      "outputs": []
    },
    {
      "cell_type": "code",
      "source": [
        "fish_df.head()"
      ],
      "metadata": {
        "colab": {
          "base_uri": "https://localhost:8080/",
          "height": 206
        },
        "id": "69mVFv-xYmTZ",
        "outputId": "b12e78de-9d48-4005-d72b-8ae9d7df3dfa"
      },
      "execution_count": 4,
      "outputs": [
        {
          "output_type": "execute_result",
          "data": {
            "text/plain": [
              "  Species  Weight  Length  Diagonal   Height   Width\n",
              "0   Bream   242.0    25.4      30.0  11.5200  4.0200\n",
              "1   Bream   290.0    26.3      31.2  12.4800  4.3056\n",
              "2   Bream   340.0    26.5      31.1  12.3778  4.6961\n",
              "3   Bream   363.0    29.0      33.5  12.7300  4.4555\n",
              "4   Bream   430.0    29.0      34.0  12.4440  5.1340"
            ],
            "text/html": [
              "\n",
              "  <div id=\"df-fe7a1237-1062-4c32-83ac-781922b8087e\">\n",
              "    <div class=\"colab-df-container\">\n",
              "      <div>\n",
              "<style scoped>\n",
              "    .dataframe tbody tr th:only-of-type {\n",
              "        vertical-align: middle;\n",
              "    }\n",
              "\n",
              "    .dataframe tbody tr th {\n",
              "        vertical-align: top;\n",
              "    }\n",
              "\n",
              "    .dataframe thead th {\n",
              "        text-align: right;\n",
              "    }\n",
              "</style>\n",
              "<table border=\"1\" class=\"dataframe\">\n",
              "  <thead>\n",
              "    <tr style=\"text-align: right;\">\n",
              "      <th></th>\n",
              "      <th>Species</th>\n",
              "      <th>Weight</th>\n",
              "      <th>Length</th>\n",
              "      <th>Diagonal</th>\n",
              "      <th>Height</th>\n",
              "      <th>Width</th>\n",
              "    </tr>\n",
              "  </thead>\n",
              "  <tbody>\n",
              "    <tr>\n",
              "      <th>0</th>\n",
              "      <td>Bream</td>\n",
              "      <td>242.0</td>\n",
              "      <td>25.4</td>\n",
              "      <td>30.0</td>\n",
              "      <td>11.5200</td>\n",
              "      <td>4.0200</td>\n",
              "    </tr>\n",
              "    <tr>\n",
              "      <th>1</th>\n",
              "      <td>Bream</td>\n",
              "      <td>290.0</td>\n",
              "      <td>26.3</td>\n",
              "      <td>31.2</td>\n",
              "      <td>12.4800</td>\n",
              "      <td>4.3056</td>\n",
              "    </tr>\n",
              "    <tr>\n",
              "      <th>2</th>\n",
              "      <td>Bream</td>\n",
              "      <td>340.0</td>\n",
              "      <td>26.5</td>\n",
              "      <td>31.1</td>\n",
              "      <td>12.3778</td>\n",
              "      <td>4.6961</td>\n",
              "    </tr>\n",
              "    <tr>\n",
              "      <th>3</th>\n",
              "      <td>Bream</td>\n",
              "      <td>363.0</td>\n",
              "      <td>29.0</td>\n",
              "      <td>33.5</td>\n",
              "      <td>12.7300</td>\n",
              "      <td>4.4555</td>\n",
              "    </tr>\n",
              "    <tr>\n",
              "      <th>4</th>\n",
              "      <td>Bream</td>\n",
              "      <td>430.0</td>\n",
              "      <td>29.0</td>\n",
              "      <td>34.0</td>\n",
              "      <td>12.4440</td>\n",
              "      <td>5.1340</td>\n",
              "    </tr>\n",
              "  </tbody>\n",
              "</table>\n",
              "</div>\n",
              "      <button class=\"colab-df-convert\" onclick=\"convertToInteractive('df-fe7a1237-1062-4c32-83ac-781922b8087e')\"\n",
              "              title=\"Convert this dataframe to an interactive table.\"\n",
              "              style=\"display:none;\">\n",
              "        \n",
              "  <svg xmlns=\"http://www.w3.org/2000/svg\" height=\"24px\"viewBox=\"0 0 24 24\"\n",
              "       width=\"24px\">\n",
              "    <path d=\"M0 0h24v24H0V0z\" fill=\"none\"/>\n",
              "    <path d=\"M18.56 5.44l.94 2.06.94-2.06 2.06-.94-2.06-.94-.94-2.06-.94 2.06-2.06.94zm-11 1L8.5 8.5l.94-2.06 2.06-.94-2.06-.94L8.5 2.5l-.94 2.06-2.06.94zm10 10l.94 2.06.94-2.06 2.06-.94-2.06-.94-.94-2.06-.94 2.06-2.06.94z\"/><path d=\"M17.41 7.96l-1.37-1.37c-.4-.4-.92-.59-1.43-.59-.52 0-1.04.2-1.43.59L10.3 9.45l-7.72 7.72c-.78.78-.78 2.05 0 2.83L4 21.41c.39.39.9.59 1.41.59.51 0 1.02-.2 1.41-.59l7.78-7.78 2.81-2.81c.8-.78.8-2.07 0-2.86zM5.41 20L4 18.59l7.72-7.72 1.47 1.35L5.41 20z\"/>\n",
              "  </svg>\n",
              "      </button>\n",
              "      \n",
              "  <style>\n",
              "    .colab-df-container {\n",
              "      display:flex;\n",
              "      flex-wrap:wrap;\n",
              "      gap: 12px;\n",
              "    }\n",
              "\n",
              "    .colab-df-convert {\n",
              "      background-color: #E8F0FE;\n",
              "      border: none;\n",
              "      border-radius: 50%;\n",
              "      cursor: pointer;\n",
              "      display: none;\n",
              "      fill: #1967D2;\n",
              "      height: 32px;\n",
              "      padding: 0 0 0 0;\n",
              "      width: 32px;\n",
              "    }\n",
              "\n",
              "    .colab-df-convert:hover {\n",
              "      background-color: #E2EBFA;\n",
              "      box-shadow: 0px 1px 2px rgba(60, 64, 67, 0.3), 0px 1px 3px 1px rgba(60, 64, 67, 0.15);\n",
              "      fill: #174EA6;\n",
              "    }\n",
              "\n",
              "    [theme=dark] .colab-df-convert {\n",
              "      background-color: #3B4455;\n",
              "      fill: #D2E3FC;\n",
              "    }\n",
              "\n",
              "    [theme=dark] .colab-df-convert:hover {\n",
              "      background-color: #434B5C;\n",
              "      box-shadow: 0px 1px 3px 1px rgba(0, 0, 0, 0.15);\n",
              "      filter: drop-shadow(0px 1px 2px rgba(0, 0, 0, 0.3));\n",
              "      fill: #FFFFFF;\n",
              "    }\n",
              "  </style>\n",
              "\n",
              "      <script>\n",
              "        const buttonEl =\n",
              "          document.querySelector('#df-fe7a1237-1062-4c32-83ac-781922b8087e button.colab-df-convert');\n",
              "        buttonEl.style.display =\n",
              "          google.colab.kernel.accessAllowed ? 'block' : 'none';\n",
              "\n",
              "        async function convertToInteractive(key) {\n",
              "          const element = document.querySelector('#df-fe7a1237-1062-4c32-83ac-781922b8087e');\n",
              "          const dataTable =\n",
              "            await google.colab.kernel.invokeFunction('convertToInteractive',\n",
              "                                                     [key], {});\n",
              "          if (!dataTable) return;\n",
              "\n",
              "          const docLinkHtml = 'Like what you see? Visit the ' +\n",
              "            '<a target=\"_blank\" href=https://colab.research.google.com/notebooks/data_table.ipynb>data table notebook</a>'\n",
              "            + ' to learn more about interactive tables.';\n",
              "          element.innerHTML = '';\n",
              "          dataTable['output_type'] = 'display_data';\n",
              "          await google.colab.output.renderOutput(dataTable, element);\n",
              "          const docLink = document.createElement('div');\n",
              "          docLink.innerHTML = docLinkHtml;\n",
              "          element.appendChild(docLink);\n",
              "        }\n",
              "      </script>\n",
              "    </div>\n",
              "  </div>\n",
              "  "
            ]
          },
          "metadata": {},
          "execution_count": 4
        }
      ]
    },
    {
      "cell_type": "code",
      "source": [
        "fish_df.Species.value_counts()"
      ],
      "metadata": {
        "colab": {
          "base_uri": "https://localhost:8080/"
        },
        "id": "AdYmfkuFYpDJ",
        "outputId": "b6a05331-fd4a-46b7-ad5e-b2116bac62f9"
      },
      "execution_count": 5,
      "outputs": [
        {
          "output_type": "execute_result",
          "data": {
            "text/plain": [
              "Perch        56\n",
              "Bream        35\n",
              "Roach        20\n",
              "Pike         17\n",
              "Smelt        14\n",
              "Parkki       11\n",
              "Whitefish     6\n",
              "Name: Species, dtype: int64"
            ]
          },
          "metadata": {},
          "execution_count": 5
        }
      ]
    },
    {
      "cell_type": "markdown",
      "source": [
        "# Perch의 Weight를 Length로 예측"
      ],
      "metadata": {
        "id": "ZAYzXccgZtRz"
      }
    },
    {
      "cell_type": "code",
      "source": [
        "perch = fish_df[fish_df.Species == 'Perch']  # 농어(perch)들의 부분집합\n",
        "perch.head()"
      ],
      "metadata": {
        "colab": {
          "base_uri": "https://localhost:8080/",
          "height": 206
        },
        "id": "hqhnea4fZ2BS",
        "outputId": "ec82dc65-35ff-4be0-a9b8-f206cfcbad7a"
      },
      "execution_count": 6,
      "outputs": [
        {
          "output_type": "execute_result",
          "data": {
            "text/plain": [
              "   Species  Weight  Length  Diagonal  Height   Width\n",
              "72   Perch     5.9     8.4       8.8  2.1120  1.4080\n",
              "73   Perch    32.0    13.7      14.7  3.5280  1.9992\n",
              "74   Perch    40.0    15.0      16.0  3.8240  2.4320\n",
              "75   Perch    51.5    16.2      17.2  4.5924  2.6316\n",
              "76   Perch    70.0    17.4      18.5  4.5880  2.9415"
            ],
            "text/html": [
              "\n",
              "  <div id=\"df-36576129-0fcc-4001-ae0d-c1ef36bb7a01\">\n",
              "    <div class=\"colab-df-container\">\n",
              "      <div>\n",
              "<style scoped>\n",
              "    .dataframe tbody tr th:only-of-type {\n",
              "        vertical-align: middle;\n",
              "    }\n",
              "\n",
              "    .dataframe tbody tr th {\n",
              "        vertical-align: top;\n",
              "    }\n",
              "\n",
              "    .dataframe thead th {\n",
              "        text-align: right;\n",
              "    }\n",
              "</style>\n",
              "<table border=\"1\" class=\"dataframe\">\n",
              "  <thead>\n",
              "    <tr style=\"text-align: right;\">\n",
              "      <th></th>\n",
              "      <th>Species</th>\n",
              "      <th>Weight</th>\n",
              "      <th>Length</th>\n",
              "      <th>Diagonal</th>\n",
              "      <th>Height</th>\n",
              "      <th>Width</th>\n",
              "    </tr>\n",
              "  </thead>\n",
              "  <tbody>\n",
              "    <tr>\n",
              "      <th>72</th>\n",
              "      <td>Perch</td>\n",
              "      <td>5.9</td>\n",
              "      <td>8.4</td>\n",
              "      <td>8.8</td>\n",
              "      <td>2.1120</td>\n",
              "      <td>1.4080</td>\n",
              "    </tr>\n",
              "    <tr>\n",
              "      <th>73</th>\n",
              "      <td>Perch</td>\n",
              "      <td>32.0</td>\n",
              "      <td>13.7</td>\n",
              "      <td>14.7</td>\n",
              "      <td>3.5280</td>\n",
              "      <td>1.9992</td>\n",
              "    </tr>\n",
              "    <tr>\n",
              "      <th>74</th>\n",
              "      <td>Perch</td>\n",
              "      <td>40.0</td>\n",
              "      <td>15.0</td>\n",
              "      <td>16.0</td>\n",
              "      <td>3.8240</td>\n",
              "      <td>2.4320</td>\n",
              "    </tr>\n",
              "    <tr>\n",
              "      <th>75</th>\n",
              "      <td>Perch</td>\n",
              "      <td>51.5</td>\n",
              "      <td>16.2</td>\n",
              "      <td>17.2</td>\n",
              "      <td>4.5924</td>\n",
              "      <td>2.6316</td>\n",
              "    </tr>\n",
              "    <tr>\n",
              "      <th>76</th>\n",
              "      <td>Perch</td>\n",
              "      <td>70.0</td>\n",
              "      <td>17.4</td>\n",
              "      <td>18.5</td>\n",
              "      <td>4.5880</td>\n",
              "      <td>2.9415</td>\n",
              "    </tr>\n",
              "  </tbody>\n",
              "</table>\n",
              "</div>\n",
              "      <button class=\"colab-df-convert\" onclick=\"convertToInteractive('df-36576129-0fcc-4001-ae0d-c1ef36bb7a01')\"\n",
              "              title=\"Convert this dataframe to an interactive table.\"\n",
              "              style=\"display:none;\">\n",
              "        \n",
              "  <svg xmlns=\"http://www.w3.org/2000/svg\" height=\"24px\"viewBox=\"0 0 24 24\"\n",
              "       width=\"24px\">\n",
              "    <path d=\"M0 0h24v24H0V0z\" fill=\"none\"/>\n",
              "    <path d=\"M18.56 5.44l.94 2.06.94-2.06 2.06-.94-2.06-.94-.94-2.06-.94 2.06-2.06.94zm-11 1L8.5 8.5l.94-2.06 2.06-.94-2.06-.94L8.5 2.5l-.94 2.06-2.06.94zm10 10l.94 2.06.94-2.06 2.06-.94-2.06-.94-.94-2.06-.94 2.06-2.06.94z\"/><path d=\"M17.41 7.96l-1.37-1.37c-.4-.4-.92-.59-1.43-.59-.52 0-1.04.2-1.43.59L10.3 9.45l-7.72 7.72c-.78.78-.78 2.05 0 2.83L4 21.41c.39.39.9.59 1.41.59.51 0 1.02-.2 1.41-.59l7.78-7.78 2.81-2.81c.8-.78.8-2.07 0-2.86zM5.41 20L4 18.59l7.72-7.72 1.47 1.35L5.41 20z\"/>\n",
              "  </svg>\n",
              "      </button>\n",
              "      \n",
              "  <style>\n",
              "    .colab-df-container {\n",
              "      display:flex;\n",
              "      flex-wrap:wrap;\n",
              "      gap: 12px;\n",
              "    }\n",
              "\n",
              "    .colab-df-convert {\n",
              "      background-color: #E8F0FE;\n",
              "      border: none;\n",
              "      border-radius: 50%;\n",
              "      cursor: pointer;\n",
              "      display: none;\n",
              "      fill: #1967D2;\n",
              "      height: 32px;\n",
              "      padding: 0 0 0 0;\n",
              "      width: 32px;\n",
              "    }\n",
              "\n",
              "    .colab-df-convert:hover {\n",
              "      background-color: #E2EBFA;\n",
              "      box-shadow: 0px 1px 2px rgba(60, 64, 67, 0.3), 0px 1px 3px 1px rgba(60, 64, 67, 0.15);\n",
              "      fill: #174EA6;\n",
              "    }\n",
              "\n",
              "    [theme=dark] .colab-df-convert {\n",
              "      background-color: #3B4455;\n",
              "      fill: #D2E3FC;\n",
              "    }\n",
              "\n",
              "    [theme=dark] .colab-df-convert:hover {\n",
              "      background-color: #434B5C;\n",
              "      box-shadow: 0px 1px 3px 1px rgba(0, 0, 0, 0.15);\n",
              "      filter: drop-shadow(0px 1px 2px rgba(0, 0, 0, 0.3));\n",
              "      fill: #FFFFFF;\n",
              "    }\n",
              "  </style>\n",
              "\n",
              "      <script>\n",
              "        const buttonEl =\n",
              "          document.querySelector('#df-36576129-0fcc-4001-ae0d-c1ef36bb7a01 button.colab-df-convert');\n",
              "        buttonEl.style.display =\n",
              "          google.colab.kernel.accessAllowed ? 'block' : 'none';\n",
              "\n",
              "        async function convertToInteractive(key) {\n",
              "          const element = document.querySelector('#df-36576129-0fcc-4001-ae0d-c1ef36bb7a01');\n",
              "          const dataTable =\n",
              "            await google.colab.kernel.invokeFunction('convertToInteractive',\n",
              "                                                     [key], {});\n",
              "          if (!dataTable) return;\n",
              "\n",
              "          const docLinkHtml = 'Like what you see? Visit the ' +\n",
              "            '<a target=\"_blank\" href=https://colab.research.google.com/notebooks/data_table.ipynb>data table notebook</a>'\n",
              "            + ' to learn more about interactive tables.';\n",
              "          element.innerHTML = '';\n",
              "          dataTable['output_type'] = 'display_data';\n",
              "          await google.colab.output.renderOutput(dataTable, element);\n",
              "          const docLink = document.createElement('div');\n",
              "          docLink.innerHTML = docLinkHtml;\n",
              "          element.appendChild(docLink);\n",
              "        }\n",
              "      </script>\n",
              "    </div>\n",
              "  </div>\n",
              "  "
            ]
          },
          "metadata": {},
          "execution_count": 6
        }
      ]
    },
    {
      "cell_type": "code",
      "source": [
        "# X: 특성 배열(2d-array), y: 타겟 배열(1d-array)\n",
        "X = perch[['Length']].values  #> (56, 1) shape의 2d-array\n",
        "y = perch['Weight'].values  #> (56,) shape의 1d-array"
      ],
      "metadata": {
        "id": "6CuefvftY0z5"
      },
      "execution_count": 7,
      "outputs": []
    },
    {
      "cell_type": "code",
      "source": [
        "X.shape, y.shape"
      ],
      "metadata": {
        "colab": {
          "base_uri": "https://localhost:8080/"
        },
        "id": "CFDtH_m9a6S7",
        "outputId": "56d6573f-3414-4671-e2bd-c6e3392d1eda"
      },
      "execution_count": 8,
      "outputs": [
        {
          "output_type": "execute_result",
          "data": {
            "text/plain": [
              "((56, 1), (56,))"
            ]
          },
          "metadata": {},
          "execution_count": 8
        }
      ]
    },
    {
      "cell_type": "markdown",
      "source": [
        "## train/test split"
      ],
      "metadata": {
        "id": "TjUyUXjibJr8"
      }
    },
    {
      "cell_type": "code",
      "source": [
        "X_tr, X_te, y_tr, y_te = train_test_split(X, y,\n",
        "                                          test_size=0.25,\n",
        "                                          random_state=42)"
      ],
      "metadata": {
        "id": "NPjcQKLHa9cZ"
      },
      "execution_count": 9,
      "outputs": []
    },
    {
      "cell_type": "code",
      "source": [
        "X_tr.shape, X_te.shape, y_tr.shape, y_te.shape"
      ],
      "metadata": {
        "colab": {
          "base_uri": "https://localhost:8080/"
        },
        "id": "oM5FuyemcQCr",
        "outputId": "a86651ba-f106-4ac7-d7f7-38870b4dbecd"
      },
      "execution_count": 10,
      "outputs": [
        {
          "output_type": "execute_result",
          "data": {
            "text/plain": [
              "((42, 1), (14, 1), (42,), (14,))"
            ]
          },
          "metadata": {},
          "execution_count": 10
        }
      ]
    },
    {
      "cell_type": "code",
      "source": [
        "# Weight ~ Length 시각화. 훈련/테스트 셋의 색깔을 다르게 표현.\n",
        "plt.scatter(X_tr.ravel(), y_tr, alpha=0.5, label='Train set')\n",
        "plt.scatter(X_te.ravel(), y_te, alpha=0.5, label='Test set')\n",
        "\n",
        "plt.legend()\n",
        "plt.xlabel('Length(cm)')\n",
        "plt.ylabel('Weight(g)')\n",
        "plt.grid()\n",
        "plt.show()"
      ],
      "metadata": {
        "colab": {
          "base_uri": "https://localhost:8080/",
          "height": 279
        },
        "id": "Kf1El06tcWWC",
        "outputId": "dafc497e-5044-4872-a3a3-fe3f19ed8efb"
      },
      "execution_count": 11,
      "outputs": [
        {
          "output_type": "display_data",
          "data": {
            "text/plain": [
              "<Figure size 432x288 with 1 Axes>"
            ],
            "image/png": "[encoded data removed]"
          },
          "metadata": {
            "needs_background": "light"
          }
        }
      ]
    },
    {
      "cell_type": "markdown",
      "source": [
        "## KNN Regressor 모델 훈련, 평가\n",
        "\n",
        "1. KNN 모델 생성\n",
        "1. KNN 모델을 훈련 셋으로 훈련\n",
        "1. 평가\n",
        "    * 훈련 셋 평가\n",
        "    * 테스트 셋 평가\n"
      ],
      "metadata": {
        "id": "eWIw7K1WelFt"
      }
    },
    {
      "cell_type": "code",
      "source": [
        "knn_reg = KNeighborsRegressor()  # ML 모델 생성"
      ],
      "metadata": {
        "id": "qMWhPxhHeqrr"
      },
      "execution_count": 12,
      "outputs": []
    },
    {
      "cell_type": "code",
      "source": [
        "knn_reg.fit(X_tr, y_tr)  # 모델 훈련 - 지도 학습"
      ],
      "metadata": {
        "colab": {
          "base_uri": "https://localhost:8080/"
        },
        "id": "gNAkTnpSfFy7",
        "outputId": "a7c01dd1-301c-4c60-88a3-489d225e8726"
      },
      "execution_count": 13,
      "outputs": [
        {
          "output_type": "execute_result",
          "data": {
            "text/plain": [
              "KNeighborsRegressor()"
            ]
          },
          "metadata": {},
          "execution_count": 13
        }
      ]
    },
    {
      "cell_type": "code",
      "source": [
        "y_tr_pred = knn_reg.predict(X_tr)  # 훈련 셋의 (무게) 예측값\n",
        "print(y_tr_pred)"
      ],
      "metadata": {
        "colab": {
          "base_uri": "https://localhost:8080/"
        },
        "id": "qggoMtRnfNpq",
        "outputId": "8229d8b0-8564-4375-811d-7366ef94c92a"
      },
      "execution_count": 14,
      "outputs": [
        {
          "output_type": "stream",
          "name": "stdout",
          "text": [
            "[  88.6  123.    79.6   70.6  723.   193.   847.   847.  1010.   123.\n",
            "   95.   123.   174.   248.  1010.   847.   174.   113.   248.   847.\n",
            "  659.   224.   723.    60.   140.    60.   719.   694.2  248.   167.\n",
            "  847.   113.   168.   123.  1010.   136.    79.6  719.   123.   193.\n",
            "  990.   659. ]\n"
          ]
        }
      ]
    },
    {
      "cell_type": "code",
      "source": [
        "print(y_tr)  # 훈련 셋의 (무게) 실젯값"
      ],
      "metadata": {
        "colab": {
          "base_uri": "https://localhost:8080/"
        },
        "id": "3BkQNp8jfd7j",
        "outputId": "34da23d0-b29d-4eeb-e8d0-2f73c9110866"
      },
      "execution_count": 15,
      "outputs": [
        {
          "output_type": "stream",
          "name": "stdout",
          "text": [
            "[  85.  135.   78.   70.  700.  180.  850.  820. 1000.  120.   85.  130.\n",
            "  225.  260. 1100.  900.  145.  115.  265. 1015.  514.  218.  685.   32.\n",
            "  145.   40.  690.  840.  300.  170.  650.  110.  150.  110. 1000.  150.\n",
            "   80.  700.  120.  197. 1100.  556.]\n"
          ]
        }
      ]
    },
    {
      "cell_type": "markdown",
      "source": [
        "KNN(K-Nearest Neighbors) Regressor는 샘플에서 가장 가까운 k개의 훈련 셋의 레이블(타겟)들의 평균으로 숫자를 예측하는 ML 모델."
      ],
      "metadata": {
        "id": "l25YfXP_lkI9"
      }
    },
    {
      "cell_type": "code",
      "source": [
        "# 첫번째 훈련 샘플에서 가장 가까운 이웃 5개의 인덱스\n",
        "indices = knn_reg.kneighbors(X_tr[0].reshape((1, -1)), return_distance=False)\n",
        "print(indices)"
      ],
      "metadata": {
        "colab": {
          "base_uri": "https://localhost:8080/"
        },
        "id": "qxepC59ffm-L",
        "outputId": "d41ea0c8-5dca-4edf-fe01-cb9f7f9093aa"
      },
      "execution_count": 16,
      "outputs": [
        {
          "output_type": "stream",
          "name": "stdout",
          "text": [
            "[[ 0 10 36  2 17]]\n"
          ]
        }
      ]
    },
    {
      "cell_type": "code",
      "source": [
        "y_tr[indices[0]].mean()  # 가장 가까운 이웃 5개의 무게(타겟)들의 평균"
      ],
      "metadata": {
        "colab": {
          "base_uri": "https://localhost:8080/"
        },
        "id": "5F17EEmcmX7t",
        "outputId": "1816eac3-fd9e-4cba-90d4-6d42790c8f6e"
      },
      "execution_count": 17,
      "outputs": [
        {
          "output_type": "execute_result",
          "data": {
            "text/plain": [
              "88.6"
            ]
          },
          "metadata": {},
          "execution_count": 17
        }
      ]
    },
    {
      "cell_type": "code",
      "source": [
        "# 테스트 셋의 예측값\n",
        "y_te_pred = knn_reg.predict(X_te)\n",
        "print(y_te_pred)"
      ],
      "metadata": {
        "colab": {
          "base_uri": "https://localhost:8080/"
        },
        "id": "1H90ZpugnEnt",
        "outputId": "8853ea24-7ebc-4795-b5a1-dbfbb7d4be2e"
      },
      "execution_count": 18,
      "outputs": [
        {
          "output_type": "stream",
          "name": "stdout",
          "text": [
            "[  60.    79.6  248.   122.   136.   847.   311.4  183.4  847.   113.\n",
            " 1010.    60.   248.   248. ]\n"
          ]
        }
      ]
    },
    {
      "cell_type": "code",
      "source": [
        "print(y_te)  # 테스트 셋의 실젯값"
      ],
      "metadata": {
        "colab": {
          "base_uri": "https://localhost:8080/"
        },
        "id": "n7uLlqevnmqr",
        "outputId": "67f8242c-81c4-4600-d9e3-65125eba6da6"
      },
      "execution_count": 19,
      "outputs": [
        {
          "output_type": "stream",
          "name": "stdout",
          "text": [
            "[   5.9  100.   250.   130.   130.   820.   320.   188.   900.   125.\n",
            " 1000.    51.5  250.   300. ]\n"
          ]
        }
      ]
    },
    {
      "cell_type": "markdown",
      "source": [
        "## 회귀 모델 평가 지표\n",
        "\n",
        "* MAE(Mean Absolute Error): 오차들의 절대값의 평균.\n",
        "* MSE(Mean Squared Error): 오차들의 제곱의 평균.\n",
        "* RMSE(Root Mean Squared Error): MSE의 제곱근.\n",
        "* MAE, MSE, RMSE는 값이 작을 수록 좋은 점수. 값이 작을 수록 더 좋은 회귀 모델.\n",
        "    * 평가 지표는 일반적으로 값이 클 수록 좋은 점수, 값이 작을 수록 나쁜 점수로 생각.\n",
        "    * 회귀에서도 오차가 작을 수록 점수가 높아지고, 오차가 클 수록 점수가 낮아지는 평가 지표를 개발 -> R2 score(결정계수)\n",
        "    * R2 score는 1에 가까울 수록 오차가 작은 모델, 작을 수록 오차가 큰 모델.\n"
      ],
      "metadata": {
        "id": "n9KtUK0rodAO"
      }
    },
    {
      "cell_type": "markdown",
      "source": [
        "* $ y_i $ : $i$번째 샘플의 실젯값(label)\n",
        "* $ \\hat{y_i} $ : $i$번째 샘플의 예측값\n",
        "* $ \\bar{y} $ : 타겟의 평균값\n",
        "* $ n $ : 샘플 개수\n",
        "\n",
        "* MAE(Mean Absolute Errors)\n",
        "$$\n",
        "MAE = \\frac{1}{n} \\sum_{i=1}^{n} \\lvert y_i - \\hat{y_i} \\rvert\n",
        "$$\n",
        "\n",
        "* MSE(Mean Squared Errors)\n",
        "$$\n",
        "MSE = \\frac{1}{n} \\sum_{i=1}^{n} ( y_i - \\hat{y_i} )^2\n",
        "$$\n",
        "\n",
        "* RMSE(Root Mean Squared Errors)\n",
        "$$\n",
        "RMSE = \\sqrt{ \\frac{1}{n} \\sum_{i=1}^{n} ( y_i - \\hat{y_i} )^2 }\n",
        "$$\n",
        "\n",
        "* $ R^2 $ score(Coefficient of determinant, 결정 계수)\n",
        "$$\n",
        "R^2 = 1 - \\dfrac{\\text{MSE}}{\\text{Variance}} \n",
        "    = 1 - \\dfrac{ \\sum_{i=1}^{n} (y_i - \\hat{y_i})^2 }\n",
        "                { \\sum_{i=1}^{n} (y_i - \\bar{y})^2 }\n",
        "$$\n",
        "    * 결정 계수는 최댓값이 1이 되도록 만든 평가 지표.\n",
        "    * 모델이 타겟을 오차없이 정확하게 예측하면, 실제값 - 예측값 = 0 이므로, 결정 계수는 최댓값 1이 됨.\n",
        "    * 모델이 타겟을 매우 비슷하게 예측하면, 오차가 매우 작으면 분자가 0에 가까운 값이 되므로, 결정 계수는 1보다는 작지만 1에 가까운 값이 됨.\n",
        "    * 모델이 타겟의 평균으로만 예측하는 정도라면, (분자) = (분모) 이므로, 결정 계수는 0이 됨.\n",
        "    * 모델이 타겟의 평균 정도도 예측하지 못하면(오차가 매우 크면), (분자) > (분모)일 수 있고, 그런 경우 결정 계수는 음수가 될 수 있음."
      ],
      "metadata": {
        "id": "2SbzIwnZti0w"
      }
    },
    {
      "cell_type": "code",
      "source": [
        "# 훈련 셋 평가 지표들\n",
        "print('MAE:', mean_absolute_error(y_tr, y_tr_pred))\n",
        "print('MSE:', mean_squared_error(y_tr, y_tr_pred))\n",
        "print('RMSE:', np.sqrt(mean_squared_error(y_tr, y_tr_pred)))\n",
        "print('R2 score:', r2_score(y_tr, y_tr_pred))"
      ],
      "metadata": {
        "colab": {
          "base_uri": "https://localhost:8080/"
        },
        "id": "ZpRQxmg7nrjL",
        "outputId": "1688dcc9-18a6-4875-e868-daa8d846c23f"
      },
      "execution_count": 20,
      "outputs": [
        {
          "output_type": "stream",
          "name": "stdout",
          "text": [
            "MAE: 35.76190476190476\n",
            "MSE: 3716.5161904761903\n",
            "RMSE: 60.96323638453089\n",
            "R2 score: 0.9698823289099254\n"
          ]
        }
      ]
    },
    {
      "cell_type": "code",
      "source": [
        "# 테스트 셋 평가 지표들\n",
        "print('MAE:', mean_absolute_error(y_te, y_te_pred))\n",
        "print('MSE:', mean_squared_error(y_te, y_te_pred))\n",
        "print('RMSE:', np.sqrt(mean_squared_error(y_te, y_te_pred)))\n",
        "print('R2 score:', r2_score(y_te, y_te_pred))"
      ],
      "metadata": {
        "colab": {
          "base_uri": "https://localhost:8080/"
        },
        "id": "rkesnm14sTLU",
        "outputId": "192d69c8-9737-43d8-f65d-516667175459"
      },
      "execution_count": 21,
      "outputs": [
        {
          "output_type": "stream",
          "name": "stdout",
          "text": [
            "MAE: 19.157142857142862\n",
            "MSE: 721.7385714285714\n",
            "RMSE: 26.865192562655704\n",
            "R2 score: 0.992809406101064\n"
          ]
        }
      ]
    },
    {
      "cell_type": "code",
      "source": [
        "knn_reg.score(X_tr, y_tr)  # 훈련 셋 점수 - KNN Regressor의 score 메서드는 결정계수를 리턴."
      ],
      "metadata": {
        "colab": {
          "base_uri": "https://localhost:8080/"
        },
        "id": "_RFVnpSS-CRw",
        "outputId": "836226bd-f838-4b2c-de0b-83b1a1232acf"
      },
      "execution_count": 23,
      "outputs": [
        {
          "output_type": "execute_result",
          "data": {
            "text/plain": [
              "0.9698823289099254"
            ]
          },
          "metadata": {},
          "execution_count": 23
        }
      ]
    },
    {
      "cell_type": "code",
      "source": [
        "knn_reg.score(X_te, y_te)  # 결정 계수(R2 score)"
      ],
      "metadata": {
        "colab": {
          "base_uri": "https://localhost:8080/"
        },
        "id": "upGeV26x-rgx",
        "outputId": "ee8ca0fe-69a1-4ee4-cec5-ff3fedeaaf72"
      },
      "execution_count": 25,
      "outputs": [
        {
          "output_type": "execute_result",
          "data": {
            "text/plain": [
              "0.992809406101064"
            ]
          },
          "metadata": {},
          "execution_count": 25
        }
      ]
    },
    {
      "cell_type": "markdown",
      "source": [
        "## 선형 회귀(Linear Regression)"
      ],
      "metadata": {
        "id": "WARi1Q9DQPt2"
      }
    },
    {
      "cell_type": "markdown",
      "source": [
        "머신 러닝 알고리즘:\n",
        "\n",
        "* 사례 기반 학습(instance-based learning):\n",
        "    * KNN, ...\n",
        "    * 수학적인 모델을 만들지 않고, 훈련 셋 데이터의 특징들을 사용해서 예측.\n",
        "    * outlier(이상치)들이 많은 경우에는 성능이 나빠질 수 있음.\n",
        "* 모델 기반 학습(model-based learning):\n",
        "    * Linear Regression, LogisticRegression, ...\n",
        "    * 훈련 셋을 사용해서 수학적인 모델을 만들고, 모델을 사용해서 예측.\n"
      ],
      "metadata": {
        "id": "UC6AXwFrQV38"
      }
    },
    {
      "cell_type": "code",
      "source": [
        "lin_reg = LinearRegression()  # ML 모델 생성"
      ],
      "metadata": {
        "id": "9QlhUJmw-vNG"
      },
      "execution_count": 26,
      "outputs": []
    },
    {
      "cell_type": "code",
      "source": [
        "lin_reg.fit(X_tr, y_tr)  # ML 모델 훈련 셋으로 학습시킴"
      ],
      "metadata": {
        "colab": {
          "base_uri": "https://localhost:8080/"
        },
        "id": "CVQsZcwXSRTk",
        "outputId": "f55649f3-5527-4407-82c3-742c9d7487fe"
      },
      "execution_count": 27,
      "outputs": [
        {
          "output_type": "execute_result",
          "data": {
            "text/plain": [
              "LinearRegression()"
            ]
          },
          "metadata": {},
          "execution_count": 27
        }
      ]
    },
    {
      "cell_type": "markdown",
      "source": [
        "선형 회귀에서 학습이란 \n",
        "$$ \n",
        "y = a \\times x + b \n",
        "$$ \n",
        "수학 모델에서 직선의 기울기(계수) a와 직선의 y절편 b를 찾는 과정."
      ],
      "metadata": {
        "id": "4O753631UFNF"
      }
    },
    {
      "cell_type": "code",
      "source": [
        "lin_reg.coef_  # coefficient: 독립변수 x에 곱해주는 계수(상수)"
      ],
      "metadata": {
        "colab": {
          "base_uri": "https://localhost:8080/"
        },
        "id": "LNbmjnX1SgFD",
        "outputId": "1a5e69eb-2766-4f88-c56b-830eed43acde"
      },
      "execution_count": 28,
      "outputs": [
        {
          "output_type": "execute_result",
          "data": {
            "text/plain": [
              "array([39.01714496])"
            ]
          },
          "metadata": {},
          "execution_count": 28
        }
      ]
    },
    {
      "cell_type": "code",
      "source": [
        "lin_reg.intercept_  # y절편:"
      ],
      "metadata": {
        "colab": {
          "base_uri": "https://localhost:8080/"
        },
        "id": "cZjSAXhTSwMr",
        "outputId": "ae607331-573f-42ce-d840-098ffe9cca44"
      },
      "execution_count": 29,
      "outputs": [
        {
          "output_type": "execute_result",
          "data": {
            "text/plain": [
              "-709.0186449535477"
            ]
          },
          "metadata": {},
          "execution_count": 29
        }
      ]
    },
    {
      "cell_type": "markdown",
      "source": [
        "$$\n",
        "Weight = 39 \\times Length -709\n",
        "$$"
      ],
      "metadata": {
        "id": "KG49DszwVQPN"
      }
    },
    {
      "cell_type": "code",
      "source": [
        "y_tr_pred = lin_reg.predict(X_tr)\n",
        "print(y_tr_pred)"
      ],
      "metadata": {
        "colab": {
          "base_uri": "https://localhost:8080/"
        },
        "id": "4yyrmVmSSyrL",
        "outputId": "0088ebb7-c914-468c-c8ba-47647e342f8f"
      },
      "execution_count": 30,
      "outputs": [
        {
          "output_type": "stream",
          "name": "stdout",
          "text": [
            "[  55.71739633  149.35854425   20.60196587  -30.12032259  695.59857374\n",
            "  266.40997914  851.66715359  812.65000863  968.71858848  149.35854425\n",
            "   71.32425432  149.35854425  227.39283417  363.95284155  968.71858848\n",
            "  851.66715359  227.39283417  110.34139928  363.95284155  851.66715359\n",
            "  570.74370985  324.93569658  715.10714622 -174.48375895  176.67054572\n",
            " -123.7614705   734.6157187   656.58142877  410.7734155   207.88426169\n",
            "  812.65000863  110.34139928  188.37568921  149.35854425 1007.73573345\n",
            "  168.86711673   32.30710936  734.6157187   149.35854425  289.82026612\n",
            "  929.70144352  637.07285629]\n"
          ]
        }
      ]
    },
    {
      "cell_type": "code",
      "source": [
        "39 * X_tr[:5] - 709"
      ],
      "metadata": {
        "colab": {
          "base_uri": "https://localhost:8080/"
        },
        "id": "MF351MQvW7hn",
        "outputId": "74021bf1-b6c6-4809-a011-d6d103f93d83"
      },
      "execution_count": 34,
      "outputs": [
        {
          "output_type": "execute_result",
          "data": {
            "text/plain": [
              "array([[ 55.4],\n",
              "       [149. ],\n",
              "       [ 20.3],\n",
              "       [-30.4],\n",
              "       [695. ]])"
            ]
          },
          "metadata": {},
          "execution_count": 34
        }
      ]
    },
    {
      "cell_type": "code",
      "source": [
        "print(y_tr)"
      ],
      "metadata": {
        "colab": {
          "base_uri": "https://localhost:8080/"
        },
        "id": "Be2Gz9sgVnIs",
        "outputId": "450325e6-68e9-45b0-c934-55e8b0c59da0"
      },
      "execution_count": 31,
      "outputs": [
        {
          "output_type": "stream",
          "name": "stdout",
          "text": [
            "[  85.  135.   78.   70.  700.  180.  850.  820. 1000.  120.   85.  130.\n",
            "  225.  260. 1100.  900.  145.  115.  265. 1015.  514.  218.  685.   32.\n",
            "  145.   40.  690.  840.  300.  170.  650.  110.  150.  110. 1000.  150.\n",
            "   80.  700.  120.  197. 1100.  556.]\n"
          ]
        }
      ]
    },
    {
      "cell_type": "code",
      "source": [
        "mse = mean_squared_error(y_tr, y_tr_pred)\n",
        "print(mse)\n",
        "print(np.sqrt(mse))\n",
        "print(r2_score(y_tr, y_tr_pred))\n",
        "#> KNN의 결과보다 평균적으로 오차가 더 크다."
      ],
      "metadata": {
        "colab": {
          "base_uri": "https://localhost:8080/"
        },
        "id": "o9GMmWg4VqqD",
        "outputId": "8a315917-fdf0-4bfc-df2a-b49859e53936"
      },
      "execution_count": 33,
      "outputs": [
        {
          "output_type": "stream",
          "name": "stdout",
          "text": [
            "7422.953552609781\n",
            "86.1565641875869\n",
            "0.939846333997604\n"
          ]
        }
      ]
    },
    {
      "cell_type": "code",
      "source": [
        "y_te_pred = lin_reg.predict(X_te)  # 테스트 셋에서의 예측값\n",
        "print(y_te_pred)"
      ],
      "metadata": {
        "colab": {
          "base_uri": "https://localhost:8080/"
        },
        "id": "buNkCDNkXdm2",
        "outputId": "37fe3902-fed8-4973-9ac4-d69715cee720"
      },
      "execution_count": 35,
      "outputs": [
        {
          "output_type": "stream",
          "name": "stdout",
          "text": [
            "[-381.27462726   -6.71003561  363.95284155  122.04654277  168.86711673\n",
            "  851.66715359  461.49570396  250.80312115  812.65000863  110.34139928\n",
            "  988.22716096  -76.94089654  383.46141403  356.14941255]\n"
          ]
        }
      ]
    },
    {
      "cell_type": "code",
      "source": [
        "print(y_te)  # 테스트 셋 실젯값(무게)"
      ],
      "metadata": {
        "colab": {
          "base_uri": "https://localhost:8080/"
        },
        "id": "A5viMKbFXqHe",
        "outputId": "c1c43975-e11a-4e73-8225-4119549db737"
      },
      "execution_count": 36,
      "outputs": [
        {
          "output_type": "stream",
          "name": "stdout",
          "text": [
            "[   5.9  100.   250.   130.   130.   820.   320.   188.   900.   125.\n",
            " 1000.    51.5  250.   300. ]\n"
          ]
        }
      ]
    },
    {
      "cell_type": "code",
      "source": [
        "mse = mean_squared_error(y_te, y_te_pred)\n",
        "print(mse)  # MSE\n",
        "print(np.sqrt(mse))  # RMSE\n",
        "print(r2_score(y_te, y_te_pred))"
      ],
      "metadata": {
        "colab": {
          "base_uri": "https://localhost:8080/"
        },
        "id": "lswy_xQBXth8",
        "outputId": "9f8579e0-eb6d-4833-d8fd-1dfccffcf36f"
      },
      "execution_count": 37,
      "outputs": [
        {
          "output_type": "stream",
          "name": "stdout",
          "text": [
            "17590.265977889187\n",
            "132.6283000640858\n",
            "0.8247503123313558\n"
          ]
        }
      ]
    },
    {
      "cell_type": "code",
      "source": [
        "# 훈련 셋 산점도\n",
        "plt.scatter(X_tr.ravel(), y_tr, alpha=0.5, label='Train set')\n",
        "# 테스트 셋 산점도\n",
        "plt.scatter(X_te.ravel(), y_te, alpha=0.5, label='Test set')\n",
        "\n",
        "# 선형 회귀 모델(직선 y = ax + b) 시각화\n",
        "xs = np.arange(0, 50, 0.01)\n",
        "a = lin_reg.coef_[0]\n",
        "b = lin_reg.intercept_\n",
        "ys = a * xs + b\n",
        "plt.plot(xs, ys, 'r-', label='Linear regression')\n",
        "\n",
        "plt.legend()\n",
        "plt.grid()\n",
        "plt.xlabel('Length(cm)')\n",
        "plt.ylabel('Weigth(g)')\n",
        "plt.show()"
      ],
      "metadata": {
        "colab": {
          "base_uri": "https://localhost:8080/",
          "height": 279
        },
        "id": "-tL76kdbYDJ0",
        "outputId": "1ee9156d-5b39-4361-d080-5f16d123ac0b"
      },
      "execution_count": 41,
      "outputs": [
        {
          "output_type": "display_data",
          "data": {
            "text/plain": [
              "<Figure size 432x288 with 1 Axes>"
            ],
            "image/png": "[encoded data removed]"
          },
          "metadata": {
            "needs_background": "light"
          }
        }
      ]
    }
  ]
}